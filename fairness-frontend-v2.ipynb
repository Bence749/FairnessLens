{
 "cells": [
  {
   "cell_type": "code",
   "id": "initial_id",
   "metadata": {
    "ExecuteTime": {
     "end_time": "2025-02-26T14:22:39.098173Z",
     "start_time": "2025-02-26T14:22:39.063313Z"
    }
   },
   "source": [
    "import seaborn as sns\n",
    "from autobahn.wamp.message import check_or_raise_realm_name\n",
    "from great_tables import GT, loc, style\n",
    "import mercury as mr\n",
    "import pandas as pd\n",
    "import polars as pl\n",
    "import plotly.graph_objects as go\n",
    "from plotly.subplots import make_subplots\n",
    "from IPython.display import HTML\n",
    "from copy import deepcopy\n",
    "\n",
    "sns.set()\n",
    "\n",
    "show_code = mr.Checkbox(value=False, label=\"Show source code\")\n",
    "app = mr.App(title=\"PER2024–030: FairnessLens\", description=\"Fairness in Machine Learning Models\", show_code=show_code.value, continuous_update=False)"
   ],
   "outputs": [
    {
     "data": {
      "application/vnd.jupyter.widget-view+json": {
       "version_major": 2,
       "version_minor": 0,
       "model_id": "8d24c2333a4949018d01c1bdfeb46be2"
      },
      "application/mercury+json": "{\n    \"widget\": \"Checkbox\",\n    \"value\": false,\n    \"label\": \"Show source code\",\n    \"model_id\": \"8d24c2333a4949018d01c1bdfeb46be2\",\n    \"code_uid\": \"Checkbox.0.50.70.14-rand14fd31ef\",\n    \"url_key\": \"\",\n    \"disabled\": false,\n    \"hidden\": false\n}",
      "text/plain": [
       "mercury.Checkbox"
      ]
     },
     "metadata": {},
     "output_type": "display_data"
    },
    {
     "data": {
      "text/plain": [
       "mercury.App"
      ],
      "text/html": [
       "<h3>Mercury Application</h3><small>This output won't appear in the web app.</small>"
      ],
      "application/mercury+json": "{\n    \"widget\": \"App\",\n    \"title\": \"PER2024\\u2013030: FairnessLens\",\n    \"description\": \"Fairness in Machine Learning Models\",\n    \"show_code\": false,\n    \"show_prompt\": false,\n    \"output\": \"app\",\n    \"schedule\": \"\",\n    \"notify\": \"{}\",\n    \"continuous_update\": false,\n    \"static_notebook\": false,\n    \"show_sidebar\": true,\n    \"full_screen\": true,\n    \"allow_download\": true,\n    \"allow_share\": true,\n    \"stop_on_error\": false,\n    \"model_id\": \"mercury-app\",\n    \"code_uid\": \"App.0.50.110.15-rand3f7301e8\"\n}"
     },
     "metadata": {},
     "output_type": "display_data"
    }
   ],
   "execution_count": 226
  },
  {
   "metadata": {
    "ExecuteTime": {
     "end_time": "2025-02-26T14:22:39.204604Z",
     "start_time": "2025-02-26T14:22:39.107053Z"
    }
   },
   "cell_type": "code",
   "source": [
    "data_file = None\n",
    "\n",
    "# File upload\n",
    "\"\"\"data_file = mr.File(label=\"Upload dataset (CSV)\", max_file_size=\"20MB\")\n",
    "if not data_file.filepath:\n",
    "    _ = mr.Note(text=\"After successful upload click the green _Run_ button below.\")\n",
    "    mr.Stop()\"\"\"\n",
    "\n",
    "# emp_df = pd.read_csv(data_file.filepath)\n",
    "emp_df = pd.read_csv('GermanCredit.csv')\n",
    "column_names = emp_df.columns.tolist()\n",
    "_ = mr.Note(text=\"Please select all attributes from the uploaded dataset according to the characteristics. Click the green _Run_ button below to continue the execution.\")\n",
    "\n",
    "# MultiSelect widgets for column classification\n",
    "_ = mr.Note(text=\"---\")\n",
    "# print(emp_df)\n",
    "numerical_columns = mr.MultiSelect(\n",
    "    label=\"Select All Numerical Attributes*\",\n",
    "    choices=column_names,\n",
    "    value=[\"duration\", \"amount\", \"installment_rate\", \"age\", \"number_credits\", \"people_liable\", \"present_residence\"]\n",
    ")\n",
    "\n",
    "categorical_columns = mr.MultiSelect(\n",
    "    label=\"Select All Categorical Attributes*\",\n",
    "    choices=column_names,\n",
    "    value=[\"status\", \"credit_history\", \"purpose\", \"savings\", \"employment_duration\",\n",
    "           \"personal_status_sex\", \"other_debtors\", \"property\",\n",
    "           \"other_installment_plans\", \"housing\", \"job\", \"telephone\", \"foreign_worker\"]\n",
    ")\n",
    "prediction_column = mr.Select(label=\"Select The Prediction Attribute*\", choices=column_names, value='credit_risk')\n",
    "\n",
    "_ = mr.Note(text=\"---\")\n",
    "protected_columns = mr.MultiSelect(label=\"Select Protected Attributes\", choices=column_names, value=['age', 'personal_status_sex'])\n",
    "_ = mr.Note(text=\"Not necessary to provide any protected attribute. Later, you can choose to rerun the tool.\")\n",
    "\n",
    "\"\"\"print(\"Numerical attributes:\", numerical_columns.value)\n",
    "print(\"Categorical attributes:\", categorical_columns.value)\n",
    "print(\"Prediction attribute:\", prediction_column.value)\n",
    "print(\"Protected attributes:\", protected_columns.value)\"\"\"\n",
    "\n",
    "# Check: Ensure no column is selected in both numerical and categorical\n",
    "overlap_numerical_categorical = set(numerical_columns.value) & set(categorical_columns.value)\n",
    "error_message = \"\"\n",
    "\n",
    "if overlap_numerical_categorical:\n",
    "    overlap_str = \", \".join(overlap_numerical_categorical)  # Convert set to comma-separated string\n",
    "    error_message += f\"**Warning:** The following columns are selected as both numerical and categorical: {overlap_str}<br>\"\n",
    "\n",
    "if not prediction_column.value:\n",
    "    error_message += \"**Warning:** No columns selected for prediction.<br>\"\n",
    "\n",
    "if not protected_columns.value:\n",
    "    mr.Markdown(text=f'##**Info:** No protected attributes selected.')\n",
    "\n",
    "if not error_message:\n",
    "    # Convert selected columns to appropriate types\n",
    "    emp_df[numerical_columns.value] = emp_df[numerical_columns.value].apply(pd.to_numeric, errors='coerce')\n",
    "    emp_df[categorical_columns.value] = emp_df[categorical_columns.value].astype('category')\n",
    "\n",
    "numerical_data = emp_df[numerical_columns.value]\n",
    "categorical_data = emp_df[categorical_columns.value]"
   ],
   "id": "5e528c0c970e0f2d",
   "outputs": [
    {
     "data": {
      "application/mercury+json": "{\n    \"widget\": \"Note\",\n    \"value\": \"Please select all attributes from the uploaded dataset according to the characteristics. Click the green _Run_ button below to continue the execution.\",\n    \"model_id\": \"Note.0.50.45.12-randc3d92c47\",\n    \"code_uid\": \"Note.0.50.45.12-randc3d92c47\"\n}",
      "text/markdown": "Please select all attributes from the uploaded dataset according to the characteristics. Click the green _Run_ button below to continue the execution.",
      "text/plain": [
       "mercury.Note"
      ]
     },
     "metadata": {},
     "output_type": "display_data"
    },
    {
     "data": {
      "application/mercury+json": "{\n    \"widget\": \"Note\",\n    \"value\": \"---\",\n    \"model_id\": \"Note.0.50.45.15-rand1f234935\",\n    \"code_uid\": \"Note.0.50.45.15-rand1f234935\"\n}",
      "text/markdown": "---",
      "text/plain": [
       "mercury.Note"
      ]
     },
     "metadata": {},
     "output_type": "display_data"
    },
    {
     "data": {
      "application/vnd.jupyter.widget-view+json": {
       "version_major": 2,
       "version_minor": 0,
       "model_id": "7f7517c330fd4db0a2aca068ba3d6a36"
      },
      "application/mercury+json": "{\n    \"widget\": \"MultiSelect\",\n    \"value\": [\n        \"duration\",\n        \"amount\",\n        \"installment_rate\",\n        \"age\",\n        \"number_credits\",\n        \"people_liable\",\n        \"present_residence\"\n    ],\n    \"choices\": [\n        \"status\",\n        \"duration\",\n        \"credit_history\",\n        \"purpose\",\n        \"amount\",\n        \"savings\",\n        \"employment_duration\",\n        \"installment_rate\",\n        \"personal_status_sex\",\n        \"other_debtors\",\n        \"present_residence\",\n        \"property\",\n        \"age\",\n        \"other_installment_plans\",\n        \"housing\",\n        \"number_credits\",\n        \"job\",\n        \"people_liable\",\n        \"telephone\",\n        \"foreign_worker\",\n        \"credit_risk\"\n    ],\n    \"label\": \"Select All Numerical Attributes*\",\n    \"model_id\": \"7f7517c330fd4db0a2aca068ba3d6a36\",\n    \"code_uid\": \"MultiSelect.0.50.91.17-rand554745db\",\n    \"url_key\": \"\",\n    \"disabled\": false,\n    \"hidden\": false\n}",
      "text/plain": [
       "mercury.MultiSelect"
      ]
     },
     "metadata": {},
     "output_type": "display_data"
    },
    {
     "data": {
      "application/vnd.jupyter.widget-view+json": {
       "version_major": 2,
       "version_minor": 0,
       "model_id": "6aeaf412694f439ea8ea0b865155cfb2"
      },
      "application/mercury+json": "{\n    \"widget\": \"MultiSelect\",\n    \"value\": [\n        \"status\",\n        \"credit_history\",\n        \"purpose\",\n        \"savings\",\n        \"employment_duration\",\n        \"personal_status_sex\",\n        \"other_debtors\",\n        \"property\",\n        \"other_installment_plans\",\n        \"housing\",\n        \"job\",\n        \"telephone\",\n        \"foreign_worker\"\n    ],\n    \"choices\": [\n        \"status\",\n        \"duration\",\n        \"credit_history\",\n        \"purpose\",\n        \"amount\",\n        \"savings\",\n        \"employment_duration\",\n        \"installment_rate\",\n        \"personal_status_sex\",\n        \"other_debtors\",\n        \"present_residence\",\n        \"property\",\n        \"age\",\n        \"other_installment_plans\",\n        \"housing\",\n        \"number_credits\",\n        \"job\",\n        \"people_liable\",\n        \"telephone\",\n        \"foreign_worker\",\n        \"credit_risk\"\n    ],\n    \"label\": \"Select All Categorical Attributes*\",\n    \"model_id\": \"6aeaf412694f439ea8ea0b865155cfb2\",\n    \"code_uid\": \"MultiSelect.0.50.91.23-rand020837be\",\n    \"url_key\": \"\",\n    \"disabled\": false,\n    \"hidden\": false\n}",
      "text/plain": [
       "mercury.MultiSelect"
      ]
     },
     "metadata": {},
     "output_type": "display_data"
    },
    {
     "data": {
      "application/vnd.jupyter.widget-view+json": {
       "version_major": 2,
       "version_minor": 0,
       "model_id": "c7921768def5494b89b49e82e9acd769"
      },
      "application/mercury+json": "{\n    \"widget\": \"Select\",\n    \"value\": \"credit_risk\",\n    \"choices\": [\n        \"status\",\n        \"duration\",\n        \"credit_history\",\n        \"purpose\",\n        \"amount\",\n        \"savings\",\n        \"employment_duration\",\n        \"installment_rate\",\n        \"personal_status_sex\",\n        \"other_debtors\",\n        \"present_residence\",\n        \"property\",\n        \"age\",\n        \"other_installment_plans\",\n        \"housing\",\n        \"number_credits\",\n        \"job\",\n        \"people_liable\",\n        \"telephone\",\n        \"foreign_worker\",\n        \"credit_risk\"\n    ],\n    \"label\": \"Select The Prediction Attribute*\",\n    \"model_id\": \"c7921768def5494b89b49e82e9acd769\",\n    \"code_uid\": \"Select.0.50.104.30-rand898e165b\",\n    \"url_key\": \"\",\n    \"disabled\": false,\n    \"hidden\": false\n}",
      "text/plain": [
       "mercury.Select"
      ]
     },
     "metadata": {},
     "output_type": "display_data"
    },
    {
     "data": {
      "application/mercury+json": "{\n    \"widget\": \"Note\",\n    \"value\": \"---\",\n    \"model_id\": \"Note.0.50.45.32-rand2c285a6e\",\n    \"code_uid\": \"Note.0.50.45.32-rand2c285a6e\"\n}",
      "text/markdown": "---",
      "text/plain": [
       "mercury.Note"
      ]
     },
     "metadata": {},
     "output_type": "display_data"
    },
    {
     "data": {
      "application/vnd.jupyter.widget-view+json": {
       "version_major": 2,
       "version_minor": 0,
       "model_id": "debb480835f245abb947eb33297094a3"
      },
      "application/mercury+json": "{\n    \"widget\": \"MultiSelect\",\n    \"value\": [\n        \"age\",\n        \"personal_status_sex\"\n    ],\n    \"choices\": [\n        \"status\",\n        \"duration\",\n        \"credit_history\",\n        \"purpose\",\n        \"amount\",\n        \"savings\",\n        \"employment_duration\",\n        \"installment_rate\",\n        \"personal_status_sex\",\n        \"other_debtors\",\n        \"present_residence\",\n        \"property\",\n        \"age\",\n        \"other_installment_plans\",\n        \"housing\",\n        \"number_credits\",\n        \"job\",\n        \"people_liable\",\n        \"telephone\",\n        \"foreign_worker\",\n        \"credit_risk\"\n    ],\n    \"label\": \"Select Protected Attributes\",\n    \"model_id\": \"debb480835f245abb947eb33297094a3\",\n    \"code_uid\": \"MultiSelect.0.50.91.33-randa33da4f6\",\n    \"url_key\": \"\",\n    \"disabled\": false,\n    \"hidden\": false\n}",
      "text/plain": [
       "mercury.MultiSelect"
      ]
     },
     "metadata": {},
     "output_type": "display_data"
    },
    {
     "data": {
      "application/mercury+json": "{\n    \"widget\": \"Note\",\n    \"value\": \"Not necessary to provide any protected attribute. Later, you can choose to rerun the tool.\",\n    \"model_id\": \"Note.0.50.45.34-rand528a066a\",\n    \"code_uid\": \"Note.0.50.45.34-rand528a066a\"\n}",
      "text/markdown": "Not necessary to provide any protected attribute. Later, you can choose to rerun the tool.",
      "text/plain": [
       "mercury.Note"
      ]
     },
     "metadata": {},
     "output_type": "display_data"
    }
   ],
   "execution_count": 227
  },
  {
   "metadata": {
    "ExecuteTime": {
     "end_time": "2025-02-26T14:22:39.273653Z",
     "start_time": "2025-02-26T14:22:39.271082Z"
    }
   },
   "cell_type": "code",
   "source": [
    "from sklearn.model_selection import train_test_split, GridSearchCV\n",
    "from sklearn.linear_model import SGDClassifier\n",
    "from sklearn.preprocessing import OneHotEncoder, Normalizer\n",
    "import pandas as pd\n",
    "import numpy as np\n",
    "import matplotlib.pyplot as plt\n",
    "import seaborn as sns\n",
    "\n",
    "\n",
    "import warnings\n",
    "from copy import deepcopy"
   ],
   "id": "47b791106c0fbbac",
   "outputs": [],
   "execution_count": 228
  },
  {
   "metadata": {
    "ExecuteTime": {
     "end_time": "2025-02-26T14:22:39.345978Z",
     "start_time": "2025-02-26T14:22:39.340880Z"
    }
   },
   "cell_type": "code",
   "source": [
    "X = deepcopy(emp_df).drop(prediction_column.value, axis=1).dropna()\n",
    "y = emp_df[prediction_column.value].dropna()\n",
    "\n",
    "X_train, X_test, y_train, y_test = train_test_split(X, y, test_size=0.2, random_state=0)"
   ],
   "id": "dedd18939691f2c5",
   "outputs": [],
   "execution_count": 229
  },
  {
   "metadata": {
    "ExecuteTime": {
     "end_time": "2025-02-26T14:22:39.424007Z",
     "start_time": "2025-02-26T14:22:39.412469Z"
    }
   },
   "cell_type": "code",
   "source": [
    "\n",
    "X = deepcopy(emp_df).drop(prediction_column.value, axis=1).dropna()\n",
    "y = emp_df[prediction_column.value].dropna()\n",
    "\n",
    "common_idx = X.index.intersection(y.index)\n",
    "X = X.loc[common_idx]\n",
    "y = y.loc[common_idx]\n",
    "\n",
    "def correlation_ratio(categories, values):\n",
    "    categories = pd.factorize(categories)[0]\n",
    "    n = len(values)\n",
    "    ss_total = np.var(values, ddof=0) * n\n",
    "    ss_between = np.array([np.mean(values[categories == i])**2 *\n",
    "                          np.sum(categories == i) for i in np.unique(categories)]).sum()\n",
    "    ss_between -= (np.mean(values)**2 * n)\n",
    "    return np.sqrt(ss_between / ss_total) if ss_total != 0 else 0\n",
    "\n",
    "numeric_features = X.select_dtypes(include=np.number).columns\n",
    "categorical_features = X.select_dtypes(exclude=np.number).columns\n",
    "\n",
    "correlations = {}\n",
    "\n",
    "if not numeric_features.empty:\n",
    "    num_corr = X[numeric_features].corrwith(y, method='pearson')\n",
    "    correlations.update(num_corr)\n",
    "\n",
    "if not categorical_features.empty:\n",
    "    cat_corr = {}\n",
    "    for col in categorical_features:\n",
    "        cat_corr[col] = correlation_ratio(X[col], y)\n",
    "    correlations.update(cat_corr)\n",
    "\n",
    "corr_series = pd.Series(correlations).sort_values(ascending=False)"
   ],
   "id": "3a8f4347e008bad2",
   "outputs": [],
   "execution_count": 230
  },
  {
   "metadata": {
    "ExecuteTime": {
     "end_time": "2025-02-26T14:22:39.492939Z",
     "start_time": "2025-02-26T14:22:39.482815Z"
    }
   },
   "cell_type": "code",
   "source": [
    "X_train_num, X_test_num = X_train[numerical_columns.value], X_test[numerical_columns.value]\n",
    "X_train_cat, X_test_cat = X_train[deepcopy(list(categorical_columns.value))], X_test[deepcopy(list(categorical_columns.value))]\n",
    "\n",
    "scaler = Normalizer()\n",
    "X_train_scaled_tmp = scaler.fit_transform(X_train_num)\n",
    "X_test_scaled_tmp = scaler.transform(X_test_num)\n",
    "\n",
    "encoder = OneHotEncoder(handle_unknown='ignore', sparse_output=False)\n",
    "X_train_encoded_tmp = encoder.fit_transform(X_train_cat)\n",
    "X_test_encoded_tmp = encoder.transform(X_test_cat)\n",
    "\n",
    "X_train_scaled = pd.DataFrame(X_train_scaled_tmp, columns=X_train_num.columns, index=X_train_num.index)\n",
    "X_test_scaled = pd.DataFrame(X_test_scaled_tmp, columns=X_test_num.columns, index=X_test_num.index)\n",
    "\n",
    "encoded_feature_names = encoder.get_feature_names_out(X_train_cat.columns)\n",
    "X_train_encoded = pd.DataFrame(X_train_encoded_tmp, columns=encoded_feature_names, index=X_train_cat.index)\n",
    "X_test_encoded = pd.DataFrame(X_test_encoded_tmp, columns=encoded_feature_names, index=X_test_cat.index)\n",
    "\n",
    "X_train_processed = pd.concat([X_train_scaled, X_train_encoded], axis=1)\n",
    "X_test_processed = pd.concat([X_test_scaled, X_test_encoded], axis=1)"
   ],
   "id": "2bf7023ecaa65d8d",
   "outputs": [],
   "execution_count": 231
  },
  {
   "metadata": {
    "ExecuteTime": {
     "end_time": "2025-02-26T14:22:44.808712Z",
     "start_time": "2025-02-26T14:22:39.553446Z"
    }
   },
   "cell_type": "code",
   "source": [
    "import time\n",
    "\n",
    "classifier = SGDClassifier(random_state=42)\n",
    "param_grid = {\n",
    "    'loss': ['hinge', 'log_loss', 'modified_huber'],\n",
    "    'learning_rate': ['constant', 'invscaling', 'adaptive', 'optimal'],\n",
    "    'alpha': [1e-4, 1e-3, 1e-2, 1e-1],\n",
    "    'penalty': ['l2', 'l1', 'elasticnet'],\n",
    "    'max_iter': [1000, 2000],\n",
    "    'eta0': [1e-2, 1e-3, 1e-4, 1e-5]\n",
    "}\n",
    "\n",
    "\n",
    "grid_search = GridSearchCV(\n",
    "    estimator=classifier,\n",
    "    param_grid=param_grid,\n",
    "    cv=5,\n",
    "    n_jobs=-1,\n",
    "    scoring='accuracy'\n",
    ")\n",
    "\n",
    "# Start timer\n",
    "start_time = time.time()\n",
    "\n",
    "with warnings.catch_warnings():\n",
    "    warnings.filterwarnings(\"ignore\", category=RuntimeWarning)\n",
    "    grid_search.fit(X_train_processed, y_train)  # Training happens here\n",
    "\n",
    "# Calculate duration\n",
    "training_time = time.time() - start_time\n",
    "print(f\"Grid search training completed in {training_time:.2f} seconds\")\n",
    "\n",
    "# Get best params (unchanged)\n",
    "best_params = grid_search.best_params_"
   ],
   "id": "bdab7beb46e25a52",
   "outputs": [
    {
     "name": "stdout",
     "output_type": "stream",
     "text": [
      "Grid search training completed in 5.25 seconds\n"
     ]
    }
   ],
   "execution_count": 232
  },
  {
   "metadata": {
    "ExecuteTime": {
     "end_time": "2025-02-26T14:22:44.911083Z",
     "start_time": "2025-02-26T14:22:44.868843Z"
    }
   },
   "cell_type": "code",
   "source": [
    "model = SGDClassifier(**best_params)\n",
    "model.fit(X_train_processed, y_train)\n",
    "\n",
    "y_pred = model.predict(X_test_processed)\n",
    "\n",
    "import plotly.graph_objects as go\n",
    "from sklearn.metrics import confusion_matrix, precision_recall_fscore_support\n",
    "from plotly.subplots import make_subplots\n",
    "\n",
    "# Calculate metrics\n",
    "conf_matrix = confusion_matrix(y_test, y_pred)\n",
    "precision, recall, f1, _ = precision_recall_fscore_support(y_test, y_pred, average=None)\n",
    "classes = sorted(y_test.unique())\n",
    "\n",
    "# Create confusion matrix heatmap\n",
    "conf_fig = go.Figure(go.Heatmap(\n",
    "    z=conf_matrix,\n",
    "    colorbar=dict(\n",
    "        x=0.45,  # Positions between subplots\n",
    "        y=0.5,\n",
    "        len=0.7\n",
    "    ),\n",
    "    x=[f'Predicted {'false' if c == 0 else 'true'}' for c in classes],\n",
    "    y=[f'Actual {'false' if c == 0 else 'true'}' for c in classes],\n",
    "    colorscale='Blues',\n",
    "    text=conf_matrix,\n",
    "    texttemplate=\"%{text}\",\n",
    "    hovertemplate=\"Actual: %{y}<br>Predicted: %{x}<br>Count: %{z}<extra></extra>\"\n",
    "))\n",
    "conf_fig.update_layout(\n",
    "    title='Prediction Distribution',\n",
    "    width=500,\n",
    "    height=500\n",
    ")\n",
    "\n",
    "# Create metrics radar chart\n",
    "metrics_fig = go.Figure()\n",
    "for i, c in enumerate(classes):\n",
    "    metrics_fig.add_trace(go.Scatterpolar(\n",
    "        r=[precision[i], recall[i], f1[i]],\n",
    "        theta=['Precision', 'Recall', 'F1-Score'],\n",
    "        fill='toself',\n",
    "        name=f'{'False' if c == 0 else 'True'}'\n",
    "    ))\n",
    "metrics_fig.update_layout(\n",
    "    polar=dict(\n",
    "        radialaxis=dict(\n",
    "            visible=True,\n",
    "            range=[0, 1]\n",
    "        )),\n",
    "    showlegend=True,\n",
    "    title='Class Performance Metrics',\n",
    "    width=600,\n",
    "    height=400\n",
    ")\n",
    "\n",
    "print('')"
   ],
   "id": "5b2b85ab5c7057e3",
   "outputs": [
    {
     "name": "stdout",
     "output_type": "stream",
     "text": [
      "\n"
     ]
    }
   ],
   "execution_count": 233
  },
  {
   "metadata": {
    "ExecuteTime": {
     "end_time": "2025-02-26T14:22:45.196754Z",
     "start_time": "2025-02-26T14:22:45.095098Z"
    }
   },
   "cell_type": "code",
   "source": [
    "from src.metric_calculation import FairnessMetrics\n",
    "\n",
    "# Assuming model, y_test, and X_test_processed are already defined\n",
    "metrics = FairnessMetrics(model, y_test, X_test_processed, num_columns=numerical_columns, cat_columns=categorical_columns, protected_columns=protected_columns)\n",
    "\n",
    "# Fetch false negative and false positive rates for job categories\n",
    "false_negative_rates = metrics.false_negative_rate()\n",
    "false_positive_rates = metrics.false_positive_rate()\n",
    "\n",
    "# Calculate complementary rates (True Positive/Negative Rates)\n",
    "tpr = {cat: 1 - fnr for cat, fnr in false_positive_rates[protected_columns.value[0]].items()}\n",
    "tnr = {cat: 1 - fpr for cat, fpr in false_negative_rates[protected_columns.value[0]].items()}\n",
    "\n",
    "# Create subplot grid (vertical stack)\n",
    "fig = make_subplots(\n",
    "    rows=len(protected_columns.value),\n",
    "    cols=1,\n",
    "    subplot_titles=[f\"<b>{attr}</b> protected attribute\" for attr in protected_columns.value],\n",
    "    vertical_spacing=0.15\n",
    ")\n",
    "\n",
    "# Color configuration\n",
    "COLORS = {'false': '#EF553B', 'true': '#00CC96'}\n",
    "\n",
    "# Create one plot per protected attribute\n",
    "for idx, attr in enumerate(protected_columns.value, 1):\n",
    "    # Get categories for current attribute\n",
    "    categories = list(false_negative_rates[attr].keys())\n",
    "\n",
    "    # Get metric values\n",
    "    false_negative_values = list(false_negative_rates[attr].values())\n",
    "    false_positive_values = [false_positive_rates[attr].get(cat, 0) for cat in categories]\n",
    "\n",
    "    # Calculate complementary rates\n",
    "    tpr = {cat: 1 - fnr for cat, fnr in false_positive_rates[attr].items()}\n",
    "    tnr = {cat: 1 - fpr for cat, fpr in false_negative_rates[attr].items()}\n",
    "\n",
    "    # Add traces for each subplot\n",
    "    fig.add_trace(go.Bar(\n",
    "        y=categories,\n",
    "        x=false_positive_values,\n",
    "        name='False',\n",
    "        legendgroup='False',\n",
    "        orientation='h',\n",
    "        marker_color=COLORS['false'],\n",
    "        text=[f'{val:.1%}' for val in false_positive_values],\n",
    "        textposition='inside',\n",
    "        textfont=dict(color='white'),\n",
    "        offsetgroup=1,\n",
    "        showlegend=(idx == 1)  # Only show legend once\n",
    "    ), row=idx, col=1)\n",
    "\n",
    "    fig.add_trace(go.Bar(\n",
    "        y=categories,\n",
    "        x=[tpr[cat] for cat in categories],\n",
    "        name='True',\n",
    "        legendgroup='True',\n",
    "        orientation='h',\n",
    "        marker_color=COLORS['true'],\n",
    "        text=[f'{tpr[cat]:.1%}' for cat in categories],\n",
    "        textposition='inside',\n",
    "        textfont=dict(color='white'),\n",
    "        offsetgroup=1,\n",
    "        base=false_positive_values,\n",
    "        showlegend=(idx == 1)\n",
    "    ), row=idx, col=1)\n",
    "\n",
    "    fig.add_trace(go.Bar(\n",
    "        y=categories,\n",
    "        x=false_negative_values,\n",
    "        name='False',\n",
    "        legendgroup='False',\n",
    "        orientation='h',\n",
    "        marker_color=COLORS['false'],\n",
    "        text=[f'{val:.1%}' for val in false_negative_values],\n",
    "        textposition='inside',\n",
    "        textfont=dict(color='white'),\n",
    "        offsetgroup=2,\n",
    "        showlegend=False\n",
    "    ), row=idx, col=1)\n",
    "\n",
    "    fig.add_trace(go.Bar(\n",
    "        y=categories,\n",
    "        x=[tnr[cat] for cat in categories],\n",
    "        name='True',\n",
    "        legendgroup='True',\n",
    "        orientation='h',\n",
    "        marker_color=COLORS['true'],\n",
    "        text=[f'{tnr[cat]:.1%}' for cat in categories],\n",
    "        textposition='inside',\n",
    "        textfont=dict(color='white'),\n",
    "        offsetgroup=2,\n",
    "        base=false_negative_values,\n",
    "        showlegend=False\n",
    "    ), row=idx, col=1)\n",
    "\n",
    "    # Add category labels\n",
    "    for cat_idx, category in enumerate(categories):\n",
    "        fig.add_annotation(\n",
    "            x=1.01,\n",
    "            y=cat_idx+0.15,\n",
    "            text=\"<b>Class 1</b>\",\n",
    "            showarrow=False,\n",
    "            xref=\"x\"+str(idx),\n",
    "            yref=\"y\"+str(idx),\n",
    "            xanchor=\"left\",\n",
    "            font=dict(size=10)\n",
    "        )\n",
    "        fig.add_annotation(\n",
    "            x=1.01,\n",
    "            y=cat_idx-0.15,\n",
    "            text=\"<b>Class 0</b>\",\n",
    "            showarrow=False,\n",
    "            xref=\"x\"+str(idx),\n",
    "            yref=\"y\"+str(idx),\n",
    "            xanchor=\"left\",\n",
    "            font=dict(size=10)\n",
    "        )\n",
    "\n",
    "# Update unified layout\n",
    "fig.update_layout(\n",
    "    barmode='group',\n",
    "    title_text='True/False Positive/Negative rates by Protected Attribute',\n",
    "    height=400 * len(protected_columns.value),\n",
    "    plot_bgcolor='white',\n",
    "    bargap=0.4,\n",
    "    bargroupgap=0.18,\n",
    "    legend=dict(\n",
    "        title='Classification Accuracy:',\n",
    "        orientation='h',\n",
    "        yanchor='bottom',\n",
    "        y=1.02,\n",
    "        xanchor='right',\n",
    "        x=1\n",
    "    ),\n",
    "    margin=dict(l=150, r=150)\n",
    ")\n",
    "\n",
    "# Update axis properties for all subplots\n",
    "for i in range(1, len(protected_columns.value)+1):\n",
    "    fig.update_xaxes(\n",
    "        range=[0, 1],\n",
    "        tickformat=\".0%\",\n",
    "        showgrid=False,\n",
    "        row=i,\n",
    "        col=1\n",
    "    )\n",
    "    fig.update_yaxes(\n",
    "        showgrid=False,\n",
    "        tickfont_size=12,\n",
    "        row=i,\n",
    "        col=1\n",
    "    )\n",
    "\n",
    "tprtnr_fig = fig\n",
    "\n",
    "print()"
   ],
   "id": "d751fc05078a8561",
   "outputs": [
    {
     "name": "stdout",
     "output_type": "stream",
     "text": [
      "\n"
     ]
    }
   ],
   "execution_count": 234
  },
  {
   "metadata": {
    "ExecuteTime": {
     "end_time": "2025-02-26T14:22:45.386757Z",
     "start_time": "2025-02-26T14:22:45.346635Z"
    }
   },
   "cell_type": "code",
   "source": [
    "# Get correlations as a pandas Series\n",
    "correlation_series = pd.Series(metrics.correlation_to_prediction())\n",
    "\n",
    "# Get top 3 categories with highest absolute correlation\n",
    "correlations = (\n",
    "    correlation_series.abs()\n",
    "    .sort_values(ascending=False)\n",
    ")\n",
    "\n",
    "# Separate categories and their correlation values\n",
    "categories = correlations.index.tolist()\n",
    "correlations = correlations.values.tolist()\n",
    "\n",
    "# Create visualization with enhanced elements\n",
    "corr_fig = go.Figure()\n",
    "\n",
    "# Main correlation bars\n",
    "corr_fig.add_trace(go.Bar(\n",
    "    x=categories,\n",
    "    y=correlations,\n",
    "    marker=dict(\n",
    "        color=correlations,\n",
    "        colorscale='Bluered',\n",
    "        line=dict(color='DarkSlateGrey', width=1.5)\n",
    "    ),\n",
    "    text=[f'Correlation: {val:.2f}' for val in correlations],\n",
    "    textposition='outside',\n",
    "    textfont=dict(color='black'),\n",
    "    hoverinfo='text+x'\n",
    "))\n",
    "\n",
    "# Reference lines and zones\n",
    "reference_lines = [\n",
    "    (0.0, \"green\", \"dash\", \"Neutral Correlation\"),\n",
    "    (0.5, \"orange\", \"dot\", \"Strong Positive\"),\n",
    "    (-0.5, \"purple\", \"dot\", \"Strong Negative\")\n",
    "]\n",
    "\n",
    "for value, color, dash, name in reference_lines:\n",
    "    corr_fig.add_hline(\n",
    "        y=value,\n",
    "        line=dict(color=color, dash=dash),\n",
    "        annotation_text=name,\n",
    "        annotation_position=\"right\"\n",
    "    )\n",
    "\n",
    "# Adjust the layout to make the bar plot smaller\n",
    "corr_fig.update_layout(\n",
    "    title=dict(\n",
    "        text=\"Top Correlations with Prediction Values\",\n",
    "        x=0.,\n",
    "        font=dict(size=20)\n",
    "    ),\n",
    "    xaxis=dict(\n",
    "        title=\"Categories\",\n",
    "        tickangle=45,\n",
    "        gridcolor='lightgray',\n",
    "        domain=[0.2, 0.8]  # Shrink the horizontal size of the bar plot\n",
    "    ),\n",
    "    yaxis=dict(\n",
    "        title=\"Correlation Strength\",\n",
    "        range=[-1.1, 1.1],\n",
    "        gridcolor='lightgray',\n",
    "        zerolinecolor='black',\n",
    "        domain=[0.1, 0.9]  # Shrink the vertical size of the bar plot\n",
    "    ),\n",
    "    plot_bgcolor='white',\n",
    "    hoverlabel=dict(\n",
    "        bgcolor=\"white\",\n",
    "        font_size=12\n",
    "    ),\n",
    "    margin=dict(l=50, r=50, t=50, b=100)  # Adjust margins to fit everything nicely\n",
    ")\n",
    "\n",
    "# Add explanatory annotation at bottom\n",
    "corr_fig.add_annotation(\n",
    "    text=\"Interpretation Guide:<br>\"\n",
    "         \"• Values near ±1 indicate strong relationships<br>\"\n",
    "         \"• Values near 0 suggest weak relationships, which is the target\",\n",
    "    xref=\"paper\", yref=\"paper\",\n",
    "    x=0.5,  # Center horizontally\n",
    "    y=-0.15,  # Position below plot\n",
    "    showarrow=False,\n",
    "    align=\"center\",\n",
    "    font=dict(color=\"#666666\"),\n",
    "    yanchor=\"top\"\n",
    ")\n",
    "\n",
    "print()"
   ],
   "id": "585e677f68dae571",
   "outputs": [
    {
     "name": "stdout",
     "output_type": "stream",
     "text": [
      "\n"
     ]
    }
   ],
   "execution_count": 235
  },
  {
   "metadata": {
    "ExecuteTime": {
     "end_time": "2025-02-26T14:23:54.008119Z",
     "start_time": "2025-02-26T14:23:53.969345Z"
    }
   },
   "cell_type": "code",
   "source": [
    "# Group categorical features using startswith\n",
    "original_features = deepcopy(list(categorical_columns.value))\n",
    "\n",
    "# Find all one-hot encoded columns matching original features\n",
    "categorical_cols = [\n",
    "    col for col in X_test_processed.columns\n",
    "    if any(col.startswith(f\"{feature}_\") for feature in original_features)\n",
    "]\n",
    "\n",
    "# Create categorical data with original encoded column names\n",
    "categorical_data_parities = X_test_processed[categorical_cols]\n",
    "\n",
    "# Collect results from your existing analysis\n",
    "features, parities = zip(*metrics.get_statistical_parity(\n",
    "    X_test_processed[numerical_columns.value],\n",
    "    categorical_data_parities\n",
    "))\n",
    "\n",
    "\n",
    "positive_parities = [p for p in parities if p > 0.1]\n",
    "negative_parities = [p for p in parities if p < -0.1]\n",
    "max_positive = max(positive_parities) if positive_parities else 0.1\n",
    "min_negative = min(negative_parities) if negative_parities else -0.1\n",
    "\n",
    "colors = []\n",
    "for p in parities:\n",
    "    if -0.1 <= p <= 0.1:\n",
    "        colors.append('#2ECC71')  # Pure green for fair range\n",
    "    elif p > 0.1:\n",
    "        # Red gradient for positive unfairness\n",
    "        intensity = (p - 0.1) / (max_positive - 0.1)\n",
    "        start = (128, 128, 0)   # #2ECC71 (green)\n",
    "        end = (255, 0, 0)      # #E74C3C (red)\n",
    "        r = int(start[0] + (end[0] - start[0]) * intensity)\n",
    "        g = int(start[1] + (end[1] - start[1]) * intensity)\n",
    "        b = int(start[2] + (end[2] - start[2]) * intensity)\n",
    "        colors.append(f'rgb({r}, {g}, {b})')\n",
    "    else:\n",
    "        # Blue gradient for negative unfairness\n",
    "        intensity = (p - (-0.1)) / (min_negative - (-0.1))\n",
    "        start = (0, 128, 128)   # #2ECC71 (green)\n",
    "        end = (0, 0, 255)     # #3498DB (blue)\n",
    "        r = int(start[0] + (end[0] - start[0]) * intensity)\n",
    "        g = int(start[1] + (end[1] - start[1]) * intensity)\n",
    "        b = int(start[2] + (end[2] - start[2]) * intensity)\n",
    "        colors.append(f'rgb({r}, {g}, {b})')\n",
    "# Create interactive bar chart\n",
    "parity_fig = go.Figure()\n",
    "\n",
    "parity_fig.add_trace(go.Bar(\n",
    "    y=features,\n",
    "    x=parities,\n",
    "    orientation='h',\n",
    "    marker_color=colors,\n",
    "    hovertemplate=\"<b>%{y}</b><br>Parity: %{x:.4f}<extra></extra>\"\n",
    "))\n",
    "\n",
    "# Add fairness target reference lines\n",
    "parity_fig.add_vline(\n",
    "    x=0,\n",
    "    line=dict(color=\"green\", dash=\"dash\", width=2),\n",
    "    annotation_text=\"Optimal value\",\n",
    "    annotation_position=\"top right\"\n",
    ")\n",
    "\n",
    "# Add threshold area for acceptable range\n",
    "parity_fig.add_vrect(\n",
    "    x0=-0.1, x1=0.1,\n",
    "    fillcolor=\"lightgreen\", opacity=0.2,\n",
    "    layer=\"below\", line_width=0\n",
    ")\n",
    "\n",
    "# Customize layout\n",
    "parity_fig.update_layout(\n",
    "    title=\"Fairness Analysis: Statistical Parity Differences\",\n",
    "    xaxis_title=\"Statistical Parity Difference<br>(<span style='color:#E74C3C'>↑ Favors Privileged</span> / <span style='color:#3498DB'>↓ Disfavors Privileged</span>)\",\n",
    "    yaxis_title=\"Features\",\n",
    "    hoverlabel=dict(bgcolor=\"white\", font_size=12),\n",
    "    height=600 + 20*len(features),  # Dynamic height based on features\n",
    "    margin=dict(l=150, r=50, b=100),  # Adjust margins for long feature names\n",
    "    showlegend=False\n",
    ")\n",
    "\n",
    "# Add explanatory annotations\n",
    "parity_fig.add_annotation(\n",
    "    text=\"Ideal fairness occurs at 0 (green line)<br>Values between -0.1 and 0.1 (green area) are generally considered acceptable\",\n",
    "    xref=\"paper\", yref=\"paper\",\n",
    "    x=0.5, y=-0.2, showarrow=False,\n",
    "    font=dict(color=\"gray\", size=12)\n",
    ")\n",
    "\n",
    "print()"
   ],
   "id": "e90272e43c721d0f",
   "outputs": [
    {
     "name": "stdout",
     "output_type": "stream",
     "text": [
      "(0.22499999999999998, 0.0)\n"
     ]
    }
   ],
   "execution_count": 245
  },
  {
   "metadata": {},
   "cell_type": "markdown",
   "source": [
    "# FairnessLens: A Guide for Users on Detecting Bias and Fairness in Datasets and Models ⚖️\n",
    "Welcome to FairnessLens! This guide will walk you through the process of using our tool to detect potential bias and fairness issues in your dataset and model. This tool focuses on analyzing your dataset in both pre- and post-processing stages of the machine learning lifecycle.\n",
    "\n",
    "---"
   ],
   "id": "7d9db4b0b12da7f9"
  },
  {
   "metadata": {
    "ExecuteTime": {
     "end_time": "2025-02-26T14:45:38.997847Z",
     "start_time": "2025-02-26T14:45:38.919878Z"
    }
   },
   "cell_type": "code",
   "source": [
    "from fairlearn.metrics import equalized_odds_ratio, equal_opportunity_difference\n",
    "\n",
    "equalized_odds = dict()\n",
    "for col in protected_columns.value:\n",
    "    equalized_odds[col] = equalized_odds_ratio(y_test, y_pred, sensitive_features=X_test[col])\n",
    "\n",
    "equal_opportunities = dict()\n",
    "for col in protected_columns.value:\n",
    "    equal_opportunities[col] = equal_opportunity_difference(y_test, y_pred, sensitive_features=X_test[col])\n",
    "\n",
    "\n",
    "summary_values = {'Correlation': np.average(correlations), 'Statistical parity': np.average(parities), 'Equalized odds': equalized_odds, 'Equal opportunity': equal_opportunities}\n",
    "\n",
    "\n",
    "table = (\n",
    "    GT(pd.DataFrame([summary_values]))\n",
    "    .tab_header(title=\"Fairness and Bias on Protected Attributes Overview\")\n",
    ")\n",
    "\n",
    "from IPython.display import display, HTML\n",
    "\n",
    "from IPython.display import display, HTML\n",
    "\n",
    "equalized_odds_keys = list(summary_values['Equalized odds'].keys())\n",
    "equalized_odds_values = list(summary_values['Equalized odds'].values())\n",
    "\n",
    "equal_opportunities_keys = list(summary_values['Equal opportunity'].keys())\n",
    "equal_opportunities_values = list(summary_values['Equal opportunity'].values())\n",
    "\n",
    "html_content = f\"\"\"\n",
    "<table border=\"1\" style=\"border-collapse: collapse; width: 100%; font-family: Arial, sans-serif;\">\n",
    "    <thead style=\"background-color: #2A5C7D; color: white; font-weight: bold;\">\n",
    "        <tr>\n",
    "            <th colspan=\"3\" style=\"padding: 10px; text-align: center;\">🎯 Fairness Metrics Summary</th>\n",
    "        </tr>\n",
    "        <tr>\n",
    "            <th style=\"padding: 8px; text-align: left;\">📊 Metric</th>\n",
    "            <th style=\"padding: 8px; text-align: center;\">Value 🔢</th>\n",
    "            <th style=\"padding: 8px;\">📝 Description</th>\n",
    "        </tr>\n",
    "    </thead>\n",
    "    <tbody>\n",
    "        <tr style=\"background-color: #F8F9FA; color: #2D3748;\">\n",
    "            <td style=\"padding: 8px; font-weight: bold; color: #2A5C7D; text-align: left;\">Correlation average</td>\n",
    "            <td style=\"padding: 8px; color: {'#E63946' if 0.3 < summary_values['Correlation'] else '#2ba64c'}; font-weight: bold; text-align: center;\">{summary_values['Correlation']:.4f}</td>\n",
    "            <td style=\"padding: 8px;\">Measures the correlation between protected attribute and model predictions</td>\n",
    "        </tr>\n",
    "        <tr>\n",
    "            <td style=\"padding: 8px; font-weight: bold; color: #2A5C7D; text-align: left;\">Statistical Parity average</td>\n",
    "            <td style=\"padding: 8px; color: {'#E63946' if 0.1 < summary_values['Statistical parity'] else '#2ba64c'}; font-weight: bold; text-align: center;\">{summary_values['Statistical parity']:.4f}</td>\n",
    "            <td style=\"padding: 8px;\">Ensures equal probability of positive outcome across groups</td>\n",
    "        </tr>\n",
    "        <tr style=\"background-color: #F8F9FA; color: #2D3748;\">\n",
    "            <td style=\"padding: 8px; font-weight: bold; color: #2A5C7D; text-align: left;\">Equalized Odds</td>\n",
    "            <td style=\"padding: 8px;\">\n",
    "                <table border=\"1\" style=\"border-collapse: collapse; width: 100%;\">\n",
    "                    <tr>\n",
    "                        {''.join([f'<td style=\"padding: 8px; font-weight: bold; text-align: center;\">{key}</td>'\n",
    "                               for key in equalized_odds_keys])}\n",
    "                    </tr>\n",
    "                    <tr>\n",
    "                        {''.join([f'<td style=\"background-color: #bfbfbf; padding: 8px; color: {'#E63946' if 0.1 < value else '#2ba64c'}; '\n",
    "                               f'font-weight: bold; text-align: center;\">{value:.4f}</td>'\n",
    "                               for value in equalized_odds_values])}\n",
    "                    </tr>\n",
    "                </table>\n",
    "            </td>\n",
    "            <td style=\"padding: 8px;\">Ensures equal true positive and false positive rates across groups</td>\n",
    "        </tr>\n",
    "\n",
    "        <!-- Dynamic Equal Opportunity Row -->\n",
    "        <tr>\n",
    "            <td style=\"padding: 8px; font-weight: bold; color: #2A5C7D; text-align: left;\">Equal Opportunity</td>\n",
    "            <td style=\"padding: 8px;\">\n",
    "                <table border=\"1\" style=\"border-collapse: collapse; width: 100%;\">\n",
    "                    <tr>\n",
    "                        {''.join([f'<td style=\"padding: 8px; font-weight: bold; text-align: center;\">{key}</td>'\n",
    "                               for key in equal_opportunities_keys])}\n",
    "                    </tr>\n",
    "                    <tr>\n",
    "                        {''.join([f'<td style=\"background-color: #bfbfbf; padding: 8px; color: {'#E63946' if 0.1 < value else '#2ba64c'}; '\n",
    "                               f'font-weight: bold; text-align: center;\">{value:.4f}</td>'\n",
    "                               for value in equal_opportunities_values])}\n",
    "                    </tr>\n",
    "                </table>\n",
    "            </td>\n",
    "            <td style=\"padding: 8px;\">Ensures equal true positive rates across groups for qualified individuals</td>\n",
    "        </tr>\n",
    "    </tbody>\n",
    "</table>\n",
    "\"\"\"\n",
    "\n",
    "display(HTML(html_content))"
   ],
   "id": "dd72bc2657567a68",
   "outputs": [
    {
     "data": {
      "text/plain": [
       "<IPython.core.display.HTML object>"
      ],
      "text/html": [
       "\n",
       "<table border=\"1\" style=\"border-collapse: collapse; width: 100%; font-family: Arial, sans-serif;\">\n",
       "    <thead style=\"background-color: #2A5C7D; color: white; font-weight: bold;\">\n",
       "        <tr>\n",
       "            <th colspan=\"3\" style=\"padding: 10px; text-align: center;\">🎯 Fairness Metrics Summary</th>\n",
       "        </tr>\n",
       "        <tr>\n",
       "            <th style=\"padding: 8px; text-align: left;\">📊 Metric</th>\n",
       "            <th style=\"padding: 8px; text-align: center;\">Value 🔢</th>\n",
       "            <th style=\"padding: 8px;\">📝 Description</th>\n",
       "        </tr>\n",
       "    </thead>\n",
       "    <tbody>\n",
       "        <tr style=\"background-color: #F8F9FA; color: #2D3748;\">\n",
       "            <td style=\"padding: 8px; font-weight: bold; color: #2A5C7D; text-align: left;\">Correlation average</td>\n",
       "            <td style=\"padding: 8px; color: #2ba64c; font-weight: bold; text-align: center;\">0.0884</td>\n",
       "            <td style=\"padding: 8px;\">Measures the correlation between protected attribute and model predictions</td>\n",
       "        </tr>\n",
       "        <tr>\n",
       "            <td style=\"padding: 8px; font-weight: bold; color: #2A5C7D; text-align: left;\">Statistical Parity average</td>\n",
       "            <td style=\"padding: 8px; color: #E63946; font-weight: bold; text-align: center;\">0.1125</td>\n",
       "            <td style=\"padding: 8px;\">Ensures equal probability of positive outcome across groups</td>\n",
       "        </tr>\n",
       "        <tr style=\"background-color: #F8F9FA; color: #2D3748;\">\n",
       "            <td style=\"padding: 8px; font-weight: bold; color: #2A5C7D; text-align: left;\">Equalized Odds</td>\n",
       "            <td style=\"padding: 8px;\">\n",
       "                <table border=\"1\" style=\"border-collapse: collapse; width: 100%;\">\n",
       "                    <tr>\n",
       "                        <td style=\"padding: 8px; font-weight: bold; text-align: center;\">age</td><td style=\"padding: 8px; font-weight: bold; text-align: center;\">personal_status_sex</td>\n",
       "                    </tr>\n",
       "                    <tr>\n",
       "                        <td style=\"background-color: #bfbfbf; padding: 8px; color: #2ba64c; font-weight: bold; text-align: center;\">0.0000</td><td style=\"background-color: #bfbfbf; padding: 8px; color: #E63946; font-weight: bold; text-align: center;\">0.6400</td>\n",
       "                    </tr>\n",
       "                </table>\n",
       "            </td>\n",
       "            <td style=\"padding: 8px;\">Ensures equal true positive and false positive rates across groups</td>\n",
       "        </tr>\n",
       "\n",
       "        <!-- Dynamic Equal Opportunity Row -->\n",
       "        <tr>\n",
       "            <td style=\"padding: 8px; font-weight: bold; color: #2A5C7D; text-align: left;\">Equal Opportunity</td>\n",
       "            <td style=\"padding: 8px;\">\n",
       "                <table border=\"1\" style=\"border-collapse: collapse; width: 100%;\">\n",
       "                    <tr>\n",
       "                        <td style=\"padding: 8px; font-weight: bold; text-align: center;\">age</td><td style=\"padding: 8px; font-weight: bold; text-align: center;\">personal_status_sex</td>\n",
       "                    </tr>\n",
       "                    <tr>\n",
       "                        <td style=\"background-color: #bfbfbf; padding: 8px; color: #E63946; font-weight: bold; text-align: center;\">1.0000</td><td style=\"background-color: #bfbfbf; padding: 8px; color: #E63946; font-weight: bold; text-align: center;\">0.2471</td>\n",
       "                    </tr>\n",
       "                </table>\n",
       "            </td>\n",
       "            <td style=\"padding: 8px;\">Ensures equal true positive rates across groups for qualified individuals</td>\n",
       "        </tr>\n",
       "    </tbody>\n",
       "</table>\n"
      ]
     },
     "metadata": {},
     "output_type": "display_data"
    }
   ],
   "execution_count": 261
  },
  {
   "metadata": {},
   "cell_type": "markdown",
   "source": [
    "\n",
    "### Numerical Values Analysis\n",
    "This table summarizes the numerical attributes in the dataset. It includes minimum, maximum, average, standard deviation, and median for each column.\n",
    "\n",
    "##### What to look for & why:\n",
    "- Large variations between min and max → Extreme differences may indicate outliers, which can skew model predictions and affect fairness. If certain groups have significantly different values, the model may disproportionately favor one over another.\n",
    "- A high standard deviation → A wide spread of values suggests data inconsistency, which can make predictions less reliable, especially for underrepresented groups.\n",
    "- A median far from the average → A strong difference between these values suggests skewed data, meaning the dataset is not evenly distributed. This can lead to biased models that perform well on one subgroup but poorly on others.\n",
    "\n",
    "### Categorical Values Analysis\n",
    "This table displays categorical attributes, highlighting the most common and least common values along with their counts.\n",
    "\n",
    "##### What to look for & why:\n",
    "- Highly imbalanced categories → If one category appears far more often than others, the model may become biased toward that dominant category, leading to unfair predictions for less frequent groups.\n",
    "- Rare categories with very few instances → Underrepresented groups may not have enough data for the model to learn from, resulting in poor generalization and higher error rates for those groups.\n"
   ],
   "id": "2d1f0bcf958927f7"
  },
  {
   "metadata": {
    "ExecuteTime": {
     "end_time": "2025-02-26T14:22:45.690740Z",
     "start_time": "2025-02-26T14:22:45.643873Z"
    }
   },
   "cell_type": "code",
   "source": [
    "numerical_analysis_df = pd.DataFrame({\n",
    "    'feature': numerical_data.columns,\n",
    "    'mean': numerical_data.mean(),\n",
    "    'median': numerical_data.median(),\n",
    "    'std': numerical_data.std(),\n",
    "    'max': numerical_data.max(),\n",
    "    'min': numerical_data.min()\n",
    "})\n",
    "\n",
    "categorical_analysis = [{\n",
    "    'feature': col,\n",
    "    'most_rep': categorical_data[col].value_counts().idxmax(),\n",
    "    'most_rep_count': categorical_data[col].value_counts().max(),\n",
    "    'least_rep': categorical_data[col].value_counts().idxmin(),\n",
    "    'least_rep_count': categorical_data[col].value_counts().min(),\n",
    "} for col in categorical_data.columns]\n",
    "\n",
    "categorical_analysis_df = pd.DataFrame(categorical_analysis)\n",
    "categorical_analysis_df.reset_index(drop=True, inplace=True)\n",
    "\n",
    "numerical_analysis_df['mean'] = numerical_analysis_df['mean'].round(2)\n",
    "numerical_analysis_df['std'] = numerical_analysis_df['std'].round(2)\n",
    "\n",
    "numerical_analysis_df.reset_index(drop=True, inplace=True)\n",
    "\n",
    "numerical_analysis_polars = pl.from_pandas(\n",
    "    numerical_analysis_df,\n",
    "    schema_overrides={\n",
    "        \"values\": pl.List(pl.Float64)\n",
    "    }\n",
    ")\n",
    "categorical_analysis_polars = pl.from_pandas(categorical_analysis_df)\n",
    "\n",
    "# For numerical table\n",
    "num_row_count = len(numerical_analysis_polars)\n",
    "num_even_rows = [i % 2 == 0 for i in range(num_row_count)]\n",
    "\n",
    "distribution_table_num = (\n",
    "    GT(numerical_analysis_polars)\n",
    "    .tab_header('📈 Numerical Values Analysis')\n",
    "    .tab_spanner(label='Numerical Attributes', columns=['mean', 'std', 'median', 'max', 'min'])\n",
    "    .cols_label(\n",
    "        mean=\"Mean\",\n",
    "        std=\"Std Dev\",\n",
    "        median=\"Median 📏\",\n",
    "        max=\"Max ⬆\",\n",
    "        min=\"Min ⬇\"\n",
    "    )\n",
    "    .tab_style(\n",
    "        style=[style.fill(color=\"#2A5C7D\"), style.text(color=\"white\", weight=\"bold\")],\n",
    "        locations=loc.column_labels()\n",
    "    )\n",
    "    .tab_style(\n",
    "        style=[style.fill(color=\"#F8F9FA\"), style.text(color=\"#2D3748\")],\n",
    "        locations=loc.body(rows=num_even_rows)\n",
    "    )\n",
    "    .cols_align(align=\"center\", columns=['mean', 'std', 'median', 'max', 'min'])\n",
    "    .fmt_number(\n",
    "        columns=['mean', 'std'],\n",
    "        decimals=2,\n",
    "    )\n",
    "    .fmt_number(\n",
    "        columns=['median', 'max', 'min'],\n",
    "        decimals=0\n",
    "    )\n",
    "    .tab_options(\n",
    "        table_font_size=\"14px\",\n",
    "        column_labels_background_color=\"#2A5C7D\",\n",
    "        row_striping_background_color=\"#F7FAFC\",\n",
    "        data_row_padding=\"12px\",\n",
    "        table_border_top_style=\"solid\",\n",
    "        table_border_top_width=\"2px\"\n",
    "    )\n",
    ")\n",
    "\n",
    "from great_tables import GT, loc, style\n",
    "\n",
    "row_count = len(categorical_analysis_polars)\n",
    "even_rows = [i % 2 == 0 for i in range(row_count)]\n",
    "\n",
    "distribution_table_cat = (\n",
    "    GT(categorical_analysis_polars)\n",
    "    .tab_header('📊 Categorical Values Analysis')\n",
    "    .tab_spanner(\n",
    "        label='Categorical Attributes',\n",
    "        columns=['most_rep', 'most_rep_count', 'least_rep', 'least_rep_count']\n",
    "    )\n",
    "    .cols_label(\n",
    "        most_rep=\"⭐ Most Common\",\n",
    "        most_rep_count=\"Count 🔢\",\n",
    "        least_rep=\"⚠️ Least Common\",\n",
    "        least_rep_count=\"Count 🔢\",\n",
    "    )\n",
    "    .tab_style(\n",
    "        style=[style.fill(color=\"#2A5C7D\"), style.text(color=\"white\", weight=\"bold\")],\n",
    "        locations=loc.column_labels()\n",
    "    )\n",
    "    .tab_style(\n",
    "        style=[style.fill(color=\"#F8F9FA\"), style.text(color=\"#2D3748\")],\n",
    "        locations=loc.body(rows=even_rows)\n",
    "    )\n",
    "    .cols_align(align=\"right\", columns=[\"most_rep\", \"least_rep\"])\n",
    "    .cols_align(align=\"left\", columns=[\"most_rep_count\", \"least_rep_count\"])\n",
    "    .tab_style(\n",
    "        style=[style.text(color=\"#2A5C7D\", weight=\"bold\")],\n",
    "        locations=loc.body(columns=['most_rep'])\n",
    "    )\n",
    "    .tab_style(\n",
    "        style=[style.text(color=\"#E63946\", style=\"italic\")],\n",
    "        locations=loc.body(columns=['least_rep'])\n",
    "    )\n",
    "    .fmt_number(columns=['most_rep_count', 'least_rep_count'], decimals=0)\n",
    "    .tab_options(\n",
    "        table_font_size=\"14px\",\n",
    "        table_background_color=\"white\",\n",
    "        column_labels_background_color=\"#2A5C7D\",\n",
    "        row_striping_background_color=\"#F7FAFC\",\n",
    "        table_border_top_style=\"solid\",\n",
    "        data_row_padding=\"12px\",\n",
    "        table_font_color=\"#2D3748\"\n",
    "    )\n",
    ")\n",
    "\n",
    "distribution_table_num.show()\n",
    "distribution_table_cat.show()"
   ],
   "id": "7adbc7b94e74930a",
   "outputs": [
    {
     "data": {
      "text/html": [
       "<div id=\"remknffsmg\" style=\"padding-left:0px;padding-right:0px;padding-top:10px;padding-bottom:10px;overflow-x:auto;overflow-y:auto;width:auto;height:auto;\">\n",
       "<style>\n",
       "#remknffsmg table {\n",
       "          font-family: -apple-system, BlinkMacSystemFont, 'Segoe UI', Roboto, Oxygen, Ubuntu, Cantarell, 'Helvetica Neue', 'Fira Sans', 'Droid Sans', Arial, sans-serif;\n",
       "          -webkit-font-smoothing: antialiased;\n",
       "          -moz-osx-font-smoothing: grayscale;\n",
       "        }\n",
       "\n",
       "#remknffsmg thead, tbody, tfoot, tr, td, th { border-style: none; }\n",
       " tr { background-color: transparent; }\n",
       "#remknffsmg p { margin: 0; padding: 0; }\n",
       " #remknffsmg .gt_table { display: table; border-collapse: collapse; line-height: normal; margin-left: auto; margin-right: auto; color: #333333; font-size: 14px; font-weight: normal; font-style: normal; background-color: #FFFFFF; width: auto; border-top-style: solid; border-top-width: 2px; border-top-color: #A8A8A8; border-right-style: none; border-right-width: 2px; border-right-color: #D3D3D3; border-bottom-style: solid; border-bottom-width: 2px; border-bottom-color: #A8A8A8; border-left-style: none; border-left-width: 2px; border-left-color: #D3D3D3; }\n",
       " #remknffsmg .gt_caption { padding-top: 4px; padding-bottom: 4px; }\n",
       " #remknffsmg .gt_title { color: #333333; font-size: 125%; font-weight: initial; padding-top: 4px; padding-bottom: 4px; padding-left: 5px; padding-right: 5px; border-bottom-color: #FFFFFF; border-bottom-width: 0; }\n",
       " #remknffsmg .gt_subtitle { color: #333333; font-size: 85%; font-weight: initial; padding-top: 3px; padding-bottom: 5px; padding-left: 5px; padding-right: 5px; border-top-color: #FFFFFF; border-top-width: 0; }\n",
       " #remknffsmg .gt_heading { background-color: #FFFFFF; text-align: center; border-bottom-color: #FFFFFF; border-left-style: none; border-left-width: 1px; border-left-color: #D3D3D3; border-right-style: none; border-right-width: 1px; border-right-color: #D3D3D3; }\n",
       " #remknffsmg .gt_bottom_border { border-bottom-style: solid; border-bottom-width: 2px; border-bottom-color: #D3D3D3; }\n",
       " #remknffsmg .gt_col_headings { border-top-style: solid; border-top-width: 2px; border-top-color: #D3D3D3; border-bottom-style: solid; border-bottom-width: 2px; border-bottom-color: #D3D3D3; border-left-style: none; border-left-width: 1px; border-left-color: #D3D3D3; border-right-style: none; border-right-width: 1px; border-right-color: #D3D3D3; }\n",
       " #remknffsmg .gt_col_heading { color: #FFFFFF; background-color: #2A5C7D; font-size: 100%; font-weight: normal; text-transform: inherit; border-left-style: none; border-left-width: 1px; border-left-color: #D3D3D3; border-right-style: none; border-right-width: 1px; border-right-color: #D3D3D3; vertical-align: bottom; padding-top: 5px; padding-bottom: 5px; padding-left: 5px; padding-right: 5px; overflow-x: hidden; }\n",
       " #remknffsmg .gt_column_spanner_outer { color: #FFFFFF; background-color: #2A5C7D; font-size: 100%; font-weight: normal; text-transform: inherit; padding-top: 0; padding-bottom: 0; padding-left: 4px; padding-right: 4px; }\n",
       " #remknffsmg .gt_column_spanner_outer:first-child { padding-left: 0; }\n",
       " #remknffsmg .gt_column_spanner_outer:last-child { padding-right: 0; }\n",
       " #remknffsmg .gt_column_spanner { border-bottom-style: solid; border-bottom-width: 2px; border-bottom-color: #D3D3D3; vertical-align: bottom; padding-top: 5px; padding-bottom: 5px; overflow-x: hidden; display: inline-block; width: 100%; }\n",
       " #remknffsmg .gt_spanner_row { border-bottom-style: hidden; }\n",
       " #remknffsmg .gt_group_heading { padding-top: 8px; padding-bottom: 8px; padding-left: 5px; padding-right: 5px; color: #333333; background-color: #FFFFFF; font-size: 100%; font-weight: initial; text-transform: inherit; border-top-style: solid; border-top-width: 2px; border-top-color: #D3D3D3; border-bottom-style: solid; border-bottom-width: 2px; border-bottom-color: #D3D3D3; border-left-style: none; border-left-width: 1px; border-left-color: #D3D3D3; border-right-style: none; border-right-width: 1px; border-right-color: #D3D3D3; vertical-align: middle; text-align: left; }\n",
       " #remknffsmg .gt_empty_group_heading { padding: 0.5px; color: #333333; background-color: #FFFFFF; font-size: 100%; font-weight: initial; border-top-style: solid; border-top-width: 2px; border-top-color: #D3D3D3; border-bottom-style: solid; border-bottom-width: 2px; border-bottom-color: #D3D3D3; vertical-align: middle; }\n",
       " #remknffsmg .gt_from_md> :first-child { margin-top: 0; }\n",
       " #remknffsmg .gt_from_md> :last-child { margin-bottom: 0; }\n",
       " #remknffsmg .gt_row { padding-top: 12px; padding-bottom: 12px; padding-left: 5px; padding-right: 5px; margin: 10px; border-top-style: solid; border-top-width: 1px; border-top-color: #D3D3D3; border-left-style: none; border-left-width: 1px; border-left-color: #D3D3D3; border-right-style: none; border-right-width: 1px; border-right-color: #D3D3D3; vertical-align: middle; overflow-x: hidden; }\n",
       " #remknffsmg .gt_stub { color: #333333; background-color: #FFFFFF; font-size: 100%; font-weight: initial; text-transform: inherit; border-right-style: solid; border-right-width: 2px; border-right-color: #D3D3D3; padding-left: 5px; padding-right: 5px; }\n",
       " #remknffsmg .gt_stub_row_group { color: #333333; background-color: #FFFFFF; font-size: 100%; font-weight: initial; text-transform: inherit; border-right-style: solid; border-right-width: 2px; border-right-color: #D3D3D3; padding-left: 5px; padding-right: 5px; vertical-align: top; }\n",
       " #remknffsmg .gt_row_group_first td { border-top-width: 2px; }\n",
       " #remknffsmg .gt_row_group_first th { border-top-width: 2px; }\n",
       " #remknffsmg .gt_striped { background-color: #F7FAFC; }\n",
       " #remknffsmg .gt_table_body { border-top-style: solid; border-top-width: 2px; border-top-color: #D3D3D3; border-bottom-style: solid; border-bottom-width: 2px; border-bottom-color: #D3D3D3; }\n",
       " #remknffsmg .gt_sourcenotes { color: #333333; background-color: #FFFFFF; border-bottom-style: none; border-bottom-width: 2px; border-bottom-color: #D3D3D3; border-left-style: none; border-left-width: 2px; border-left-color: #D3D3D3; border-right-style: none; border-right-width: 2px; border-right-color: #D3D3D3; }\n",
       " #remknffsmg .gt_sourcenote { font-size: 90%; padding-top: 4px; padding-bottom: 4px; padding-left: 5px; padding-right: 5px; text-align: left; }\n",
       " #remknffsmg .gt_left { text-align: left; }\n",
       " #remknffsmg .gt_center { text-align: center; }\n",
       " #remknffsmg .gt_right { text-align: right; font-variant-numeric: tabular-nums; }\n",
       " #remknffsmg .gt_font_normal { font-weight: normal; }\n",
       " #remknffsmg .gt_font_bold { font-weight: bold; }\n",
       " #remknffsmg .gt_font_italic { font-style: italic; }\n",
       " #remknffsmg .gt_super { font-size: 65%; }\n",
       " #remknffsmg .gt_footnote_marks { font-size: 75%; vertical-align: 0.4em; position: initial; }\n",
       " #remknffsmg .gt_asterisk { font-size: 100%; vertical-align: 0; }\n",
       " \n",
       "</style>\n",
       "<table class=\"gt_table\" data-quarto-disable-processing=\"false\" data-quarto-bootstrap=\"false\">\n",
       "<thead>\n",
       "\n",
       "  <tr class=\"gt_heading\">\n",
       "    <td colspan=\"6\" class=\"gt_heading gt_title gt_font_normal\">📈 Numerical Values Analysis</td>\n",
       "  </tr>\n",
       "<tr class=\"gt_col_headings gt_spanner_row\">\n",
       "  <th class=\"gt_col_heading gt_columns_bottom_border gt_left\" rowspan=\"2\" colspan=\"1\" style=\"background-color: #2A5C7D; color: white;font-weight: bold;\" scope=\"col\" id=\"feature\">feature</th>\n",
       "  <th class=\"gt_center gt_columns_top_border gt_column_spanner_outer\" rowspan=\"1\" colspan=\"5\" scope=\"colgroup\" id=\"Numerical Attributes\">\n",
       "    <span class=\"gt_column_spanner\">Numerical Attributes</span>\n",
       "  </th>\n",
       "</tr>\n",
       "<tr class=\"gt_col_headings\">\n",
       "  <th class=\"gt_col_heading gt_columns_bottom_border gt_center\" rowspan=\"1\" colspan=\"1\" style=\"background-color: #2A5C7D; color: white;font-weight: bold;\" scope=\"col\" id=\"Mean\">Mean</th>\n",
       "  <th class=\"gt_col_heading gt_columns_bottom_border gt_center\" rowspan=\"1\" colspan=\"1\" style=\"background-color: #2A5C7D; color: white;font-weight: bold;\" scope=\"col\" id=\"Std Dev\">Std Dev</th>\n",
       "  <th class=\"gt_col_heading gt_columns_bottom_border gt_center\" rowspan=\"1\" colspan=\"1\" style=\"background-color: #2A5C7D; color: white;font-weight: bold;\" scope=\"col\" id=\"Median 📏\">Median 📏</th>\n",
       "  <th class=\"gt_col_heading gt_columns_bottom_border gt_center\" rowspan=\"1\" colspan=\"1\" style=\"background-color: #2A5C7D; color: white;font-weight: bold;\" scope=\"col\" id=\"Max ⬆\">Max ⬆</th>\n",
       "  <th class=\"gt_col_heading gt_columns_bottom_border gt_center\" rowspan=\"1\" colspan=\"1\" style=\"background-color: #2A5C7D; color: white;font-weight: bold;\" scope=\"col\" id=\"Min ⬇\">Min ⬇</th>\n",
       "</tr>\n",
       "</thead>\n",
       "<tbody class=\"gt_table_body\">\n",
       "  <tr>\n",
       "    <td style=\"background-color: #F8F9FA; color: #2D3748;\" class=\"gt_row gt_left\">duration</td>\n",
       "    <td style=\"background-color: #F8F9FA; color: #2D3748;\" class=\"gt_row gt_center\">20.90</td>\n",
       "    <td style=\"background-color: #F8F9FA; color: #2D3748;\" class=\"gt_row gt_center\">12.06</td>\n",
       "    <td style=\"background-color: #F8F9FA; color: #2D3748;\" class=\"gt_row gt_center\">18</td>\n",
       "    <td style=\"background-color: #F8F9FA; color: #2D3748;\" class=\"gt_row gt_center\">72</td>\n",
       "    <td style=\"background-color: #F8F9FA; color: #2D3748;\" class=\"gt_row gt_center\">4</td>\n",
       "  </tr>\n",
       "  <tr>\n",
       "    <td style=\"background-color: #F8F9FA; color: #2D3748;\" class=\"gt_row gt_left\">amount</td>\n",
       "    <td style=\"background-color: #F8F9FA; color: #2D3748;\" class=\"gt_row gt_center\">3,271.26</td>\n",
       "    <td style=\"background-color: #F8F9FA; color: #2D3748;\" class=\"gt_row gt_center\">2,822.74</td>\n",
       "    <td style=\"background-color: #F8F9FA; color: #2D3748;\" class=\"gt_row gt_center\">2,320</td>\n",
       "    <td style=\"background-color: #F8F9FA; color: #2D3748;\" class=\"gt_row gt_center\">18,424</td>\n",
       "    <td style=\"background-color: #F8F9FA; color: #2D3748;\" class=\"gt_row gt_center\">250</td>\n",
       "  </tr>\n",
       "  <tr>\n",
       "    <td class=\"gt_row gt_left\">installment_rate</td>\n",
       "    <td class=\"gt_row gt_center\">2.97</td>\n",
       "    <td class=\"gt_row gt_center\">1.12</td>\n",
       "    <td class=\"gt_row gt_center\">3</td>\n",
       "    <td class=\"gt_row gt_center\">4</td>\n",
       "    <td class=\"gt_row gt_center\">1</td>\n",
       "  </tr>\n",
       "  <tr>\n",
       "    <td class=\"gt_row gt_left\">age</td>\n",
       "    <td class=\"gt_row gt_center\">35.55</td>\n",
       "    <td class=\"gt_row gt_center\">11.38</td>\n",
       "    <td class=\"gt_row gt_center\">33</td>\n",
       "    <td class=\"gt_row gt_center\">75</td>\n",
       "    <td class=\"gt_row gt_center\">19</td>\n",
       "  </tr>\n",
       "  <tr>\n",
       "    <td class=\"gt_row gt_left\">number_credits</td>\n",
       "    <td class=\"gt_row gt_center\">1.41</td>\n",
       "    <td class=\"gt_row gt_center\">0.58</td>\n",
       "    <td class=\"gt_row gt_center\">1</td>\n",
       "    <td class=\"gt_row gt_center\">4</td>\n",
       "    <td class=\"gt_row gt_center\">1</td>\n",
       "  </tr>\n",
       "  <tr>\n",
       "    <td class=\"gt_row gt_left\">people_liable</td>\n",
       "    <td class=\"gt_row gt_center\">1.16</td>\n",
       "    <td class=\"gt_row gt_center\">0.36</td>\n",
       "    <td class=\"gt_row gt_center\">1</td>\n",
       "    <td class=\"gt_row gt_center\">2</td>\n",
       "    <td class=\"gt_row gt_center\">1</td>\n",
       "  </tr>\n",
       "  <tr>\n",
       "    <td class=\"gt_row gt_left\">present_residence</td>\n",
       "    <td class=\"gt_row gt_center\">2.84</td>\n",
       "    <td class=\"gt_row gt_center\">1.10</td>\n",
       "    <td class=\"gt_row gt_center\">3</td>\n",
       "    <td class=\"gt_row gt_center\">4</td>\n",
       "    <td class=\"gt_row gt_center\">1</td>\n",
       "  </tr>\n",
       "</tbody>\n",
       "\n",
       "\n",
       "</table>\n",
       "\n",
       "</div>\n",
       "        "
      ]
     },
     "metadata": {
      "text/html": {
       "text/html": {
        "isolated": true
       }
      }
     },
     "output_type": "display_data"
    },
    {
     "data": {
      "text/html": [
       "<div id=\"xdtihbodnn\" style=\"padding-left:0px;padding-right:0px;padding-top:10px;padding-bottom:10px;overflow-x:auto;overflow-y:auto;width:auto;height:auto;\">\n",
       "<style>\n",
       "#xdtihbodnn table {\n",
       "          font-family: -apple-system, BlinkMacSystemFont, 'Segoe UI', Roboto, Oxygen, Ubuntu, Cantarell, 'Helvetica Neue', 'Fira Sans', 'Droid Sans', Arial, sans-serif;\n",
       "          -webkit-font-smoothing: antialiased;\n",
       "          -moz-osx-font-smoothing: grayscale;\n",
       "        }\n",
       "\n",
       "#xdtihbodnn thead, tbody, tfoot, tr, td, th { border-style: none; }\n",
       " tr { background-color: transparent; }\n",
       "#xdtihbodnn p { margin: 0; padding: 0; }\n",
       " #xdtihbodnn .gt_table { display: table; border-collapse: collapse; line-height: normal; margin-left: auto; margin-right: auto; color: #2D3748; font-size: 14px; font-weight: normal; font-style: normal; background-color: white; width: auto; border-top-style: solid; border-top-width: 2px; border-top-color: #A8A8A8; border-right-style: none; border-right-width: 2px; border-right-color: #D3D3D3; border-bottom-style: solid; border-bottom-width: 2px; border-bottom-color: #A8A8A8; border-left-style: none; border-left-width: 2px; border-left-color: #D3D3D3; }\n",
       " #xdtihbodnn .gt_caption { padding-top: 4px; padding-bottom: 4px; }\n",
       " #xdtihbodnn .gt_title { color: #2D3748; font-size: 125%; font-weight: initial; padding-top: 4px; padding-bottom: 4px; padding-left: 5px; padding-right: 5px; border-bottom-color: white; border-bottom-width: 0; }\n",
       " #xdtihbodnn .gt_subtitle { color: #2D3748; font-size: 85%; font-weight: initial; padding-top: 3px; padding-bottom: 5px; padding-left: 5px; padding-right: 5px; border-top-color: white; border-top-width: 0; }\n",
       " #xdtihbodnn .gt_heading { background-color: white; text-align: center; border-bottom-color: white; border-left-style: none; border-left-width: 1px; border-left-color: #D3D3D3; border-right-style: none; border-right-width: 1px; border-right-color: #D3D3D3; }\n",
       " #xdtihbodnn .gt_bottom_border { border-bottom-style: solid; border-bottom-width: 2px; border-bottom-color: #D3D3D3; }\n",
       " #xdtihbodnn .gt_col_headings { border-top-style: solid; border-top-width: 2px; border-top-color: #D3D3D3; border-bottom-style: solid; border-bottom-width: 2px; border-bottom-color: #D3D3D3; border-left-style: none; border-left-width: 1px; border-left-color: #D3D3D3; border-right-style: none; border-right-width: 1px; border-right-color: #D3D3D3; }\n",
       " #xdtihbodnn .gt_col_heading { color: #FFFFFF; background-color: #2A5C7D; font-size: 100%; font-weight: normal; text-transform: inherit; border-left-style: none; border-left-width: 1px; border-left-color: #D3D3D3; border-right-style: none; border-right-width: 1px; border-right-color: #D3D3D3; vertical-align: bottom; padding-top: 5px; padding-bottom: 5px; padding-left: 5px; padding-right: 5px; overflow-x: hidden; }\n",
       " #xdtihbodnn .gt_column_spanner_outer { color: #FFFFFF; background-color: #2A5C7D; font-size: 100%; font-weight: normal; text-transform: inherit; padding-top: 0; padding-bottom: 0; padding-left: 4px; padding-right: 4px; }\n",
       " #xdtihbodnn .gt_column_spanner_outer:first-child { padding-left: 0; }\n",
       " #xdtihbodnn .gt_column_spanner_outer:last-child { padding-right: 0; }\n",
       " #xdtihbodnn .gt_column_spanner { border-bottom-style: solid; border-bottom-width: 2px; border-bottom-color: #D3D3D3; vertical-align: bottom; padding-top: 5px; padding-bottom: 5px; overflow-x: hidden; display: inline-block; width: 100%; }\n",
       " #xdtihbodnn .gt_spanner_row { border-bottom-style: hidden; }\n",
       " #xdtihbodnn .gt_group_heading { padding-top: 8px; padding-bottom: 8px; padding-left: 5px; padding-right: 5px; color: #2D3748; background-color: white; font-size: 100%; font-weight: initial; text-transform: inherit; border-top-style: solid; border-top-width: 2px; border-top-color: #D3D3D3; border-bottom-style: solid; border-bottom-width: 2px; border-bottom-color: #D3D3D3; border-left-style: none; border-left-width: 1px; border-left-color: #D3D3D3; border-right-style: none; border-right-width: 1px; border-right-color: #D3D3D3; vertical-align: middle; text-align: left; }\n",
       " #xdtihbodnn .gt_empty_group_heading { padding: 0.5px; color: #2D3748; background-color: white; font-size: 100%; font-weight: initial; border-top-style: solid; border-top-width: 2px; border-top-color: #D3D3D3; border-bottom-style: solid; border-bottom-width: 2px; border-bottom-color: #D3D3D3; vertical-align: middle; }\n",
       " #xdtihbodnn .gt_from_md> :first-child { margin-top: 0; }\n",
       " #xdtihbodnn .gt_from_md> :last-child { margin-bottom: 0; }\n",
       " #xdtihbodnn .gt_row { padding-top: 12px; padding-bottom: 12px; padding-left: 5px; padding-right: 5px; margin: 10px; border-top-style: solid; border-top-width: 1px; border-top-color: #D3D3D3; border-left-style: none; border-left-width: 1px; border-left-color: #D3D3D3; border-right-style: none; border-right-width: 1px; border-right-color: #D3D3D3; vertical-align: middle; overflow-x: hidden; }\n",
       " #xdtihbodnn .gt_stub { color: #2D3748; background-color: white; font-size: 100%; font-weight: initial; text-transform: inherit; border-right-style: solid; border-right-width: 2px; border-right-color: #D3D3D3; padding-left: 5px; padding-right: 5px; }\n",
       " #xdtihbodnn .gt_stub_row_group { color: #2D3748; background-color: white; font-size: 100%; font-weight: initial; text-transform: inherit; border-right-style: solid; border-right-width: 2px; border-right-color: #D3D3D3; padding-left: 5px; padding-right: 5px; vertical-align: top; }\n",
       " #xdtihbodnn .gt_row_group_first td { border-top-width: 2px; }\n",
       " #xdtihbodnn .gt_row_group_first th { border-top-width: 2px; }\n",
       " #xdtihbodnn .gt_striped { background-color: #F7FAFC; }\n",
       " #xdtihbodnn .gt_table_body { border-top-style: solid; border-top-width: 2px; border-top-color: #D3D3D3; border-bottom-style: solid; border-bottom-width: 2px; border-bottom-color: #D3D3D3; }\n",
       " #xdtihbodnn .gt_sourcenotes { color: #2D3748; background-color: white; border-bottom-style: none; border-bottom-width: 2px; border-bottom-color: #D3D3D3; border-left-style: none; border-left-width: 2px; border-left-color: #D3D3D3; border-right-style: none; border-right-width: 2px; border-right-color: #D3D3D3; }\n",
       " #xdtihbodnn .gt_sourcenote { font-size: 90%; padding-top: 4px; padding-bottom: 4px; padding-left: 5px; padding-right: 5px; text-align: left; }\n",
       " #xdtihbodnn .gt_left { text-align: left; }\n",
       " #xdtihbodnn .gt_center { text-align: center; }\n",
       " #xdtihbodnn .gt_right { text-align: right; font-variant-numeric: tabular-nums; }\n",
       " #xdtihbodnn .gt_font_normal { font-weight: normal; }\n",
       " #xdtihbodnn .gt_font_bold { font-weight: bold; }\n",
       " #xdtihbodnn .gt_font_italic { font-style: italic; }\n",
       " #xdtihbodnn .gt_super { font-size: 65%; }\n",
       " #xdtihbodnn .gt_footnote_marks { font-size: 75%; vertical-align: 0.4em; position: initial; }\n",
       " #xdtihbodnn .gt_asterisk { font-size: 100%; vertical-align: 0; }\n",
       " \n",
       "</style>\n",
       "<table class=\"gt_table\" data-quarto-disable-processing=\"false\" data-quarto-bootstrap=\"false\">\n",
       "<thead>\n",
       "\n",
       "  <tr class=\"gt_heading\">\n",
       "    <td colspan=\"5\" class=\"gt_heading gt_title gt_font_normal\">📊 Categorical Values Analysis</td>\n",
       "  </tr>\n",
       "<tr class=\"gt_col_headings gt_spanner_row\">\n",
       "  <th class=\"gt_col_heading gt_columns_bottom_border gt_left\" rowspan=\"2\" colspan=\"1\" style=\"background-color: #2A5C7D; color: white;font-weight: bold;\" scope=\"col\" id=\"feature\">feature</th>\n",
       "  <th class=\"gt_center gt_columns_top_border gt_column_spanner_outer\" rowspan=\"1\" colspan=\"4\" scope=\"colgroup\" id=\"Categorical Attributes\">\n",
       "    <span class=\"gt_column_spanner\">Categorical Attributes</span>\n",
       "  </th>\n",
       "</tr>\n",
       "<tr class=\"gt_col_headings\">\n",
       "  <th class=\"gt_col_heading gt_columns_bottom_border gt_right\" rowspan=\"1\" colspan=\"1\" style=\"background-color: #2A5C7D; color: white;font-weight: bold;\" scope=\"col\" id=\"⭐ Most Common\">⭐ Most Common</th>\n",
       "  <th class=\"gt_col_heading gt_columns_bottom_border gt_left\" rowspan=\"1\" colspan=\"1\" style=\"background-color: #2A5C7D; color: white;font-weight: bold;\" scope=\"col\" id=\"Count 🔢\">Count 🔢</th>\n",
       "  <th class=\"gt_col_heading gt_columns_bottom_border gt_right\" rowspan=\"1\" colspan=\"1\" style=\"background-color: #2A5C7D; color: white;font-weight: bold;\" scope=\"col\" id=\"⚠️ Least Common\">⚠️ Least Common</th>\n",
       "  <th class=\"gt_col_heading gt_columns_bottom_border gt_left\" rowspan=\"1\" colspan=\"1\" style=\"background-color: #2A5C7D; color: white;font-weight: bold;\" scope=\"col\" id=\"Count 🔢\">Count 🔢</th>\n",
       "</tr>\n",
       "</thead>\n",
       "<tbody class=\"gt_table_body\">\n",
       "  <tr>\n",
       "    <td style=\"background-color: #F8F9FA; color: #2D3748;\" class=\"gt_row gt_left\">status</td>\n",
       "    <td style=\"background-color: #F8F9FA; color: #2D3748; color: #2A5C7D;font-weight: bold;\" class=\"gt_row gt_right\">no checking account</td>\n",
       "    <td style=\"background-color: #F8F9FA; color: #2D3748;\" class=\"gt_row gt_left\">394</td>\n",
       "    <td style=\"background-color: #F8F9FA; color: #2D3748; color: #E63946;font-style: italic;\" class=\"gt_row gt_right\">... >= 200 DM / salary for at least 1 year</td>\n",
       "    <td style=\"background-color: #F8F9FA; color: #2D3748;\" class=\"gt_row gt_left\">63</td>\n",
       "  </tr>\n",
       "  <tr>\n",
       "    <td style=\"background-color: #F8F9FA; color: #2D3748;\" class=\"gt_row gt_left\">credit_history</td>\n",
       "    <td style=\"background-color: #F8F9FA; color: #2D3748; color: #2A5C7D;font-weight: bold;\" class=\"gt_row gt_right\">existing credits paid back duly till now</td>\n",
       "    <td style=\"background-color: #F8F9FA; color: #2D3748;\" class=\"gt_row gt_left\">530</td>\n",
       "    <td style=\"background-color: #F8F9FA; color: #2D3748; color: #E63946;font-style: italic;\" class=\"gt_row gt_right\">no credits taken/all credits paid back duly</td>\n",
       "    <td style=\"background-color: #F8F9FA; color: #2D3748;\" class=\"gt_row gt_left\">40</td>\n",
       "  </tr>\n",
       "  <tr>\n",
       "    <td class=\"gt_row gt_left\">purpose</td>\n",
       "    <td style=\"color: #2A5C7D;font-weight: bold;\" class=\"gt_row gt_right\">domestic appliances</td>\n",
       "    <td class=\"gt_row gt_left\">280</td>\n",
       "    <td style=\"color: #E63946;font-style: italic;\" class=\"gt_row gt_right\">business</td>\n",
       "    <td class=\"gt_row gt_left\">9</td>\n",
       "  </tr>\n",
       "  <tr>\n",
       "    <td class=\"gt_row gt_left\">savings</td>\n",
       "    <td style=\"color: #2A5C7D;font-weight: bold;\" class=\"gt_row gt_right\">... < 100 DM</td>\n",
       "    <td class=\"gt_row gt_left\">603</td>\n",
       "    <td style=\"color: #E63946;font-style: italic;\" class=\"gt_row gt_right\">... >= 1000 DM</td>\n",
       "    <td class=\"gt_row gt_left\">48</td>\n",
       "  </tr>\n",
       "  <tr>\n",
       "    <td class=\"gt_row gt_left\">employment_duration</td>\n",
       "    <td style=\"color: #2A5C7D;font-weight: bold;\" class=\"gt_row gt_right\">1 <= ... < 4 years</td>\n",
       "    <td class=\"gt_row gt_left\">339</td>\n",
       "    <td style=\"color: #E63946;font-style: italic;\" class=\"gt_row gt_right\">unemployed</td>\n",
       "    <td class=\"gt_row gt_left\">62</td>\n",
       "  </tr>\n",
       "  <tr>\n",
       "    <td class=\"gt_row gt_left\">personal_status_sex</td>\n",
       "    <td style=\"color: #2A5C7D;font-weight: bold;\" class=\"gt_row gt_right\">male : single</td>\n",
       "    <td class=\"gt_row gt_left\">548</td>\n",
       "    <td style=\"color: #E63946;font-style: italic;\" class=\"gt_row gt_right\">male : divorced/separated</td>\n",
       "    <td class=\"gt_row gt_left\">50</td>\n",
       "  </tr>\n",
       "  <tr>\n",
       "    <td class=\"gt_row gt_left\">other_debtors</td>\n",
       "    <td style=\"color: #2A5C7D;font-weight: bold;\" class=\"gt_row gt_right\">none</td>\n",
       "    <td class=\"gt_row gt_left\">907</td>\n",
       "    <td style=\"color: #E63946;font-style: italic;\" class=\"gt_row gt_right\">co-applicant</td>\n",
       "    <td class=\"gt_row gt_left\">41</td>\n",
       "  </tr>\n",
       "  <tr>\n",
       "    <td class=\"gt_row gt_left\">property</td>\n",
       "    <td style=\"color: #2A5C7D;font-weight: bold;\" class=\"gt_row gt_right\">car or other</td>\n",
       "    <td class=\"gt_row gt_left\">332</td>\n",
       "    <td style=\"color: #E63946;font-style: italic;\" class=\"gt_row gt_right\">unknown/no property</td>\n",
       "    <td class=\"gt_row gt_left\">154</td>\n",
       "  </tr>\n",
       "  <tr>\n",
       "    <td class=\"gt_row gt_left\">other_installment_plans</td>\n",
       "    <td style=\"color: #2A5C7D;font-weight: bold;\" class=\"gt_row gt_right\">none</td>\n",
       "    <td class=\"gt_row gt_left\">814</td>\n",
       "    <td style=\"color: #E63946;font-style: italic;\" class=\"gt_row gt_right\">stores</td>\n",
       "    <td class=\"gt_row gt_left\">47</td>\n",
       "  </tr>\n",
       "  <tr>\n",
       "    <td class=\"gt_row gt_left\">housing</td>\n",
       "    <td style=\"color: #2A5C7D;font-weight: bold;\" class=\"gt_row gt_right\">own</td>\n",
       "    <td class=\"gt_row gt_left\">713</td>\n",
       "    <td style=\"color: #E63946;font-style: italic;\" class=\"gt_row gt_right\">for free</td>\n",
       "    <td class=\"gt_row gt_left\">108</td>\n",
       "  </tr>\n",
       "  <tr>\n",
       "    <td class=\"gt_row gt_left\">job</td>\n",
       "    <td style=\"color: #2A5C7D;font-weight: bold;\" class=\"gt_row gt_right\">skilled employee/official</td>\n",
       "    <td class=\"gt_row gt_left\">630</td>\n",
       "    <td style=\"color: #E63946;font-style: italic;\" class=\"gt_row gt_right\">unemployed/unskilled - non-resident</td>\n",
       "    <td class=\"gt_row gt_left\">22</td>\n",
       "  </tr>\n",
       "  <tr>\n",
       "    <td class=\"gt_row gt_left\">telephone</td>\n",
       "    <td style=\"color: #2A5C7D;font-weight: bold;\" class=\"gt_row gt_right\">no</td>\n",
       "    <td class=\"gt_row gt_left\">596</td>\n",
       "    <td style=\"color: #E63946;font-style: italic;\" class=\"gt_row gt_right\">yes</td>\n",
       "    <td class=\"gt_row gt_left\">404</td>\n",
       "  </tr>\n",
       "  <tr>\n",
       "    <td class=\"gt_row gt_left\">foreign_worker</td>\n",
       "    <td style=\"color: #2A5C7D;font-weight: bold;\" class=\"gt_row gt_right\">yes</td>\n",
       "    <td class=\"gt_row gt_left\">963</td>\n",
       "    <td style=\"color: #E63946;font-style: italic;\" class=\"gt_row gt_right\">no</td>\n",
       "    <td class=\"gt_row gt_left\">37</td>\n",
       "  </tr>\n",
       "</tbody>\n",
       "\n",
       "\n",
       "</table>\n",
       "\n",
       "</div>\n",
       "        "
      ]
     },
     "metadata": {
      "text/html": {
       "text/html": {
        "isolated": true
       }
      }
     },
     "output_type": "display_data"
    }
   ],
   "execution_count": 238
  },
  {
   "metadata": {},
   "cell_type": "markdown",
   "source": [
    "### Attribute Distribution Plots\n",
    "The following bar plots represent the distribution of each dataset attribute. Hovering over the bars reveals additional details, such as count and attribute names.\n",
    "- Blue bars indicate a balanced distribution.\n",
    "- Red bars highlight significantly unbalanced attributes, which may affect fairness.\n",
    "##### What to look for & why:\n",
    "- Attributes with red bars → A strongly skewed distribution means the dataset may not represent all subgroups fairly. If a feature is used in prediction and is highly imbalanced, the model may favor majority groups.\n",
    "- Skewed distributions in sensitive attributes → If sensitive attributes like gender, race, or age show heavy imbalance, predictions may be unfairly biased. Addressing this through reweighting, balancing or additional data collection is recommended before training."
   ],
   "id": "a26dacf97a487819"
  },
  {
   "metadata": {
    "ExecuteTime": {
     "end_time": "2025-02-26T14:22:45.803371Z",
     "start_time": "2025-02-26T14:22:45.754206Z"
    }
   },
   "cell_type": "code",
   "source": [
    "from scipy.stats import skew, chisquare\n",
    "\n",
    "numerical_cols = numerical_columns.value\n",
    "categorical_cols = categorical_columns.value\n",
    "\n",
    "skewness_num = [skew(emp_df[col]) for col in numerical_cols]\n",
    "\n",
    "border_num = [False for _ in range(len(numerical_cols))]\n",
    "border_cat = [True for _ in range(len(categorical_cols))]\n",
    "\n",
    "num_rows = (len(numerical_cols) + 2) // 3\n",
    "fig_num = make_subplots(rows=num_rows, cols=3,\n",
    "                       subplot_titles=[f\"Distribution of {col}\" for col in numerical_cols])\n",
    "\n",
    "for idx, col in enumerate(numerical_cols):\n",
    "    row = (idx // 3) + 1\n",
    "    col_num = (idx % 3) + 1\n",
    "\n",
    "    fig_num.add_trace(\n",
    "        go.Histogram(\n",
    "            x=emp_df[col],\n",
    "            name=col,\n",
    "            nbinsx=25,\n",
    "            marker_color='#EF553B' if 0.3 < abs(skewness_num[idx]) else '#2A5C7D'\n",
    "        ),\n",
    "        row=row, col=col_num\n",
    "    )\n",
    "\n",
    "    median = emp_df[col].median()\n",
    "    fig_num.add_shape(\n",
    "        type=\"line\",\n",
    "        x0=median,\n",
    "        x1=median,\n",
    "        y0=0,\n",
    "        y1=1,\n",
    "        xref=f\"x{idx+1}\",\n",
    "        yref=f\"y{idx+1}\",\n",
    "        line=dict(color=\"red\", width=1, dash=\"dot\")\n",
    "    )\n",
    "\n",
    "\n",
    "fig_num.update_layout(\n",
    "    height=300*num_rows,\n",
    "    showlegend=False,\n",
    "    title_text=\"Numerical Feature Analysis\",\n",
    "    margin=dict(t=100)\n",
    ")\n",
    "\n",
    "\n",
    "chisqures_cat = [chisquare(emp_df[col].value_counts().values.tolist()).pvalue for col in categorical_cols]\n",
    "\n",
    "cat_rows = (len(categorical_cols) + 2) // 3\n",
    "fig_cat = make_subplots(rows=cat_rows, cols=3,\n",
    "                       subplot_titles=[f\"Distribution of {col}\" for col in categorical_cols])\n",
    "\n",
    "for idx, col in enumerate(categorical_cols):\n",
    "    row = (idx // 3) + 1\n",
    "    col_num = (idx % 3) + 1\n",
    "    counts = emp_df[col].value_counts().reset_index()\n",
    "\n",
    "    fig_cat.add_trace(\n",
    "        go.Bar(\n",
    "            x=counts[col],\n",
    "            y=counts['count'],\n",
    "            name=col,\n",
    "            marker_color='#EF553B' if chisqures_cat[idx] < 1e-50  else '#2A5C7D',\n",
    "            hovertemplate=\"<b>%{x}</b><br>Count: %{y}<extra></extra>\",\n",
    "        ),\n",
    "        row=row, col=col_num\n",
    "    )\n",
    "\n",
    "fig_cat.update_xaxes(showticklabels=False)\n",
    "\n",
    "fig_cat.update_layout(\n",
    "    height=300*cat_rows,\n",
    "    showlegend=False,\n",
    "    title_text=\"Categorical Feature Analysis\",\n",
    "    margin=dict(t=100)\n",
    ")\n",
    "\n",
    "\n",
    "fig_num.show()\n",
    "fig_cat.show()"
   ],
   "id": "ac36d0eb85d9ad02",
   "outputs": [
    {
     "data": {
      "application/vnd.plotly.v1+json": {
       "data": [
        {
         "marker": {
          "color": "#EF553B"
         },
         "name": "duration",
         "nbinsx": 25,
         "x": [
          6,
          48,
          12,
          42,
          24,
          36,
          24,
          36,
          12,
          30,
          12,
          48,
          12,
          24,
          15,
          24,
          24,
          30,
          24,
          24,
          9,
          6,
          10,
          12,
          10,
          6,
          6,
          12,
          7,
          60,
          18,
          24,
          18,
          12,
          12,
          45,
          48,
          18,
          10,
          9,
          30,
          12,
          18,
          30,
          48,
          11,
          36,
          6,
          11,
          12,
          24,
          27,
          12,
          18,
          36,
          6,
          12,
          36,
          18,
          36,
          9,
          15,
          36,
          48,
          24,
          27,
          12,
          12,
          36,
          36,
          36,
          7,
          8,
          42,
          36,
          12,
          42,
          11,
          54,
          30,
          24,
          15,
          18,
          24,
          10,
          12,
          18,
          36,
          18,
          12,
          12,
          12,
          12,
          24,
          12,
          54,
          12,
          18,
          36,
          20,
          24,
          36,
          6,
          9,
          12,
          24,
          18,
          12,
          24,
          14,
          6,
          15,
          18,
          36,
          12,
          48,
          42,
          10,
          33,
          12,
          21,
          24,
          12,
          10,
          18,
          12,
          12,
          12,
          12,
          12,
          48,
          36,
          15,
          18,
          60,
          12,
          27,
          12,
          15,
          12,
          6,
          36,
          27,
          18,
          21,
          48,
          6,
          12,
          36,
          18,
          6,
          10,
          36,
          24,
          24,
          12,
          9,
          12,
          24,
          6,
          24,
          18,
          15,
          10,
          36,
          6,
          18,
          11,
          24,
          24,
          15,
          12,
          24,
          8,
          21,
          30,
          12,
          6,
          12,
          21,
          36,
          36,
          21,
          24,
          18,
          15,
          9,
          16,
          12,
          18,
          24,
          48,
          27,
          6,
          45,
          9,
          6,
          12,
          24,
          18,
          9,
          12,
          27,
          12,
          12,
          30,
          12,
          12,
          24,
          12,
          9,
          36,
          27,
          30,
          36,
          6,
          18,
          36,
          24,
          10,
          12,
          12,
          12,
          24,
          15,
          36,
          48,
          12,
          9,
          24,
          36,
          9,
          12,
          18,
          4,
          24,
          6,
          21,
          12,
          30,
          24,
          6,
          48,
          12,
          12,
          24,
          12,
          6,
          24,
          18,
          6,
          12,
          30,
          24,
          9,
          60,
          24,
          12,
          15,
          11,
          12,
          24,
          18,
          12,
          10,
          15,
          36,
          24,
          14,
          24,
          18,
          12,
          48,
          48,
          30,
          9,
          18,
          12,
          6,
          24,
          15,
          12,
          18,
          15,
          24,
          47,
          48,
          48,
          12,
          24,
          12,
          36,
          24,
          42,
          48,
          48,
          12,
          10,
          18,
          21,
          6,
          36,
          24,
          10,
          48,
          6,
          30,
          12,
          8,
          9,
          48,
          24,
          24,
          12,
          4,
          36,
          12,
          24,
          12,
          15,
          30,
          24,
          24,
          18,
          18,
          8,
          12,
          24,
          36,
          6,
          24,
          18,
          60,
          48,
          24,
          6,
          13,
          15,
          24,
          10,
          24,
          21,
          18,
          18,
          10,
          15,
          13,
          24,
          6,
          9,
          9,
          9,
          18,
          12,
          10,
          24,
          12,
          36,
          12,
          30,
          18,
          12,
          12,
          6,
          18,
          12,
          18,
          18,
          36,
          18,
          36,
          18,
          10,
          60,
          60,
          48,
          18,
          7,
          36,
          6,
          20,
          18,
          22,
          12,
          30,
          18,
          18,
          18,
          15,
          9,
          18,
          12,
          36,
          6,
          9,
          39,
          12,
          36,
          12,
          24,
          18,
          18,
          24,
          14,
          18,
          24,
          24,
          15,
          24,
          12,
          24,
          33,
          12,
          10,
          24,
          36,
          12,
          18,
          21,
          18,
          15,
          12,
          12,
          21,
          12,
          18,
          28,
          18,
          9,
          18,
          5,
          24,
          6,
          24,
          9,
          12,
          6,
          24,
          42,
          12,
          12,
          12,
          20,
          12,
          48,
          9,
          36,
          7,
          12,
          15,
          36,
          6,
          12,
          24,
          24,
          24,
          11,
          12,
          6,
          18,
          36,
          15,
          12,
          12,
          18,
          24,
          24,
          48,
          33,
          24,
          24,
          6,
          9,
          6,
          18,
          18,
          39,
          24,
          12,
          15,
          12,
          24,
          30,
          15,
          12,
          6,
          12,
          24,
          10,
          6,
          12,
          27,
          6,
          6,
          12,
          24,
          36,
          24,
          18,
          6,
          24,
          36,
          9,
          24,
          24,
          10,
          15,
          15,
          24,
          39,
          12,
          36,
          15,
          12,
          24,
          6,
          6,
          36,
          6,
          6,
          24,
          18,
          48,
          24,
          18,
          26,
          15,
          4,
          36,
          6,
          36,
          15,
          12,
          24,
          24,
          21,
          6,
          18,
          48,
          18,
          12,
          24,
          30,
          18,
          12,
          24,
          24,
          24,
          12,
          48,
          12,
          6,
          48,
          12,
          9,
          12,
          18,
          21,
          24,
          18,
          24,
          24,
          6,
          36,
          24,
          24,
          12,
          24,
          48,
          48,
          24,
          30,
          24,
          15,
          9,
          15,
          12,
          24,
          36,
          24,
          18,
          12,
          9,
          36,
          12,
          18,
          9,
          12,
          18,
          12,
          12,
          24,
          21,
          24,
          24,
          6,
          24,
          24,
          18,
          24,
          7,
          9,
          24,
          36,
          10,
          24,
          24,
          36,
          18,
          15,
          12,
          10,
          21,
          24,
          18,
          48,
          60,
          6,
          30,
          12,
          21,
          18,
          48,
          12,
          18,
          15,
          6,
          9,
          42,
          9,
          24,
          18,
          15,
          9,
          24,
          12,
          24,
          60,
          12,
          42,
          18,
          15,
          15,
          24,
          18,
          36,
          30,
          12,
          24,
          12,
          48,
          12,
          24,
          36,
          24,
          14,
          12,
          48,
          30,
          18,
          12,
          12,
          21,
          6,
          6,
          24,
          30,
          48,
          12,
          30,
          24,
          36,
          60,
          6,
          21,
          30,
          24,
          72,
          24,
          18,
          6,
          12,
          15,
          24,
          36,
          60,
          10,
          36,
          9,
          12,
          15,
          15,
          24,
          6,
          24,
          6,
          12,
          12,
          18,
          15,
          12,
          48,
          24,
          30,
          27,
          15,
          48,
          12,
          9,
          9,
          18,
          6,
          21,
          9,
          60,
          30,
          30,
          18,
          24,
          20,
          9,
          6,
          12,
          9,
          27,
          6,
          15,
          18,
          48,
          24,
          24,
          24,
          8,
          24,
          4,
          36,
          24,
          18,
          6,
          30,
          24,
          10,
          21,
          24,
          39,
          13,
          15,
          12,
          21,
          15,
          6,
          18,
          12,
          30,
          12,
          24,
          6,
          15,
          24,
          12,
          15,
          18,
          12,
          21,
          24,
          12,
          30,
          10,
          12,
          12,
          24,
          36,
          21,
          24,
          12,
          24,
          36,
          18,
          36,
          18,
          39,
          24,
          12,
          12,
          20,
          18,
          22,
          48,
          48,
          40,
          21,
          24,
          6,
          24,
          24,
          9,
          18,
          12,
          24,
          9,
          24,
          18,
          20,
          12,
          12,
          36,
          6,
          12,
          42,
          15,
          8,
          6,
          36,
          48,
          48,
          36,
          6,
          6,
          36,
          18,
          12,
          12,
          36,
          8,
          18,
          21,
          18,
          18,
          36,
          48,
          24,
          18,
          45,
          24,
          15,
          12,
          12,
          4,
          24,
          24,
          36,
          21,
          18,
          24,
          18,
          21,
          18,
          24,
          9,
          12,
          20,
          24,
          15,
          18,
          36,
          24,
          10,
          15,
          15,
          9,
          24,
          18,
          24,
          27,
          10,
          15,
          18,
          12,
          36,
          12,
          36,
          6,
          24,
          15,
          12,
          11,
          18,
          36,
          9,
          30,
          24,
          24,
          30,
          18,
          24,
          12,
          24,
          48,
          36,
          28,
          27,
          15,
          12,
          36,
          18,
          36,
          21,
          12,
          15,
          18,
          16,
          20,
          36,
          15,
          24,
          12,
          21,
          36,
          15,
          9,
          36,
          24,
          30,
          11,
          24,
          48,
          10,
          6,
          24,
          24,
          18,
          48,
          9,
          12,
          24,
          12,
          18,
          48,
          30,
          12,
          24,
          9,
          9,
          12,
          12,
          30,
          9,
          6,
          60,
          24,
          12,
          10,
          24,
          4,
          15,
          48,
          24,
          12,
          18,
          24,
          18,
          36,
          24,
          36,
          12,
          24,
          30,
          9,
          28,
          24,
          6,
          21,
          15,
          24,
          6,
          30,
          27,
          15,
          42,
          11,
          15,
          24,
          24,
          60,
          30,
          24,
          6,
          18,
          24,
          15,
          30,
          48,
          21,
          36,
          24,
          15,
          42,
          13,
          24,
          24,
          12,
          15,
          18,
          36,
          12,
          12,
          30,
          12,
          45,
          45
         ],
         "type": "histogram",
         "xaxis": "x",
         "yaxis": "y"
        },
        {
         "marker": {
          "color": "#EF553B"
         },
         "name": "amount",
         "nbinsx": 25,
         "x": [
          1169,
          5951,
          2096,
          7882,
          4870,
          9055,
          2835,
          6948,
          3059,
          5234,
          1295,
          4308,
          1567,
          1199,
          1403,
          1282,
          2424,
          8072,
          12579,
          3430,
          2134,
          2647,
          2241,
          1804,
          2069,
          1374,
          426,
          409,
          2415,
          6836,
          1913,
          4020,
          5866,
          1264,
          1474,
          4746,
          6110,
          2100,
          1225,
          458,
          2333,
          1158,
          6204,
          6187,
          6143,
          1393,
          2299,
          1352,
          7228,
          2073,
          2333,
          5965,
          1262,
          3378,
          2225,
          783,
          6468,
          9566,
          1961,
          6229,
          1391,
          1537,
          1953,
          14421,
          3181,
          5190,
          2171,
          1007,
          1819,
          2394,
          8133,
          730,
          1164,
          5954,
          1977,
          1526,
          3965,
          4771,
          9436,
          3832,
          5943,
          1213,
          1568,
          1755,
          2315,
          1412,
          1295,
          12612,
          2249,
          1108,
          618,
          1409,
          797,
          3617,
          1318,
          15945,
          2012,
          2622,
          2337,
          7057,
          1469,
          2323,
          932,
          1919,
          2445,
          11938,
          6458,
          6078,
          7721,
          1410,
          1449,
          392,
          6260,
          7855,
          1680,
          3578,
          7174,
          2132,
          4281,
          2366,
          1835,
          3868,
          1768,
          781,
          1924,
          2121,
          701,
          639,
          1860,
          3499,
          8487,
          6887,
          2708,
          1984,
          10144,
          1240,
          8613,
          766,
          2728,
          1881,
          709,
          4795,
          3416,
          2462,
          2288,
          3566,
          860,
          682,
          5371,
          1582,
          1346,
          1924,
          5848,
          7758,
          6967,
          1282,
          1288,
          339,
          3512,
          1898,
          2872,
          1055,
          1262,
          7308,
          909,
          2978,
          1131,
          1577,
          3972,
          1935,
          950,
          763,
          2064,
          1414,
          3414,
          7485,
          2577,
          338,
          1963,
          571,
          9572,
          4455,
          1647,
          3777,
          884,
          1360,
          5129,
          1175,
          674,
          3244,
          4591,
          3844,
          3915,
          2108,
          3031,
          1501,
          1382,
          951,
          2760,
          4297,
          936,
          1168,
          5117,
          902,
          1495,
          10623,
          1935,
          1424,
          6568,
          1413,
          3074,
          3835,
          5293,
          1908,
          3342,
          932,
          3104,
          3913,
          3021,
          1364,
          625,
          1200,
          707,
          2978,
          4657,
          2613,
          10961,
          7865,
          1478,
          3149,
          4210,
          2507,
          2141,
          866,
          1544,
          1823,
          14555,
          2767,
          1291,
          2522,
          915,
          1595,
          4605,
          1185,
          3447,
          1258,
          717,
          1204,
          1925,
          433,
          666,
          2251,
          2150,
          4151,
          2030,
          7418,
          2684,
          2149,
          3812,
          1154,
          1657,
          1603,
          5302,
          2748,
          1231,
          802,
          6304,
          1533,
          8978,
          999,
          2662,
          1402,
          12169,
          3060,
          11998,
          2697,
          2404,
          1262,
          4611,
          1901,
          3368,
          1574,
          1445,
          1520,
          3878,
          10722,
          4788,
          7582,
          1092,
          1024,
          1076,
          9398,
          6419,
          4796,
          7629,
          9960,
          4675,
          1287,
          2515,
          2745,
          672,
          3804,
          1344,
          1038,
          10127,
          1543,
          4811,
          727,
          1237,
          276,
          5381,
          5511,
          3749,
          685,
          1494,
          2746,
          708,
          4351,
          701,
          3643,
          4249,
          1938,
          2910,
          2659,
          1028,
          3398,
          5801,
          1525,
          4473,
          1068,
          6615,
          1864,
          7408,
          11590,
          4110,
          3384,
          2101,
          1275,
          4169,
          1521,
          5743,
          3599,
          3213,
          4439,
          3949,
          1459,
          882,
          3758,
          1743,
          1136,
          1236,
          959,
          3229,
          6199,
          727,
          1246,
          2331,
          4463,
          776,
          2406,
          1239,
          3399,
          2247,
          1766,
          2473,
          1542,
          3850,
          3650,
          3446,
          3001,
          3079,
          6070,
          2146,
          13756,
          14782,
          7685,
          2320,
          846,
          14318,
          362,
          2212,
          12976,
          1283,
          1330,
          4272,
          2238,
          1126,
          7374,
          2326,
          1449,
          1820,
          983,
          3249,
          1957,
          2406,
          11760,
          2578,
          2348,
          1223,
          1516,
          1473,
          1887,
          8648,
          802,
          2899,
          2039,
          2197,
          1053,
          3235,
          939,
          1967,
          7253,
          2292,
          1597,
          1381,
          5842,
          2579,
          8471,
          2782,
          1042,
          3186,
          2028,
          958,
          1591,
          2762,
          2779,
          2743,
          1149,
          1313,
          1190,
          3448,
          11328,
          1872,
          2058,
          2136,
          1484,
          660,
          1287,
          3394,
          609,
          1884,
          1620,
          2629,
          719,
          5096,
          1244,
          1842,
          2576,
          1424,
          1512,
          11054,
          518,
          2759,
          2670,
          4817,
          2679,
          3905,
          3386,
          343,
          4594,
          3620,
          1721,
          3017,
          754,
          1950,
          2924,
          1659,
          7238,
          2764,
          4679,
          3092,
          448,
          654,
          1238,
          1245,
          3114,
          2569,
          5152,
          1037,
          1478,
          3573,
          1201,
          3622,
          960,
          1163,
          1209,
          3077,
          3757,
          1418,
          3518,
          1934,
          8318,
          1237,
          368,
          2122,
          2996,
          9034,
          1585,
          1301,
          1323,
          3123,
          5493,
          1126,
          1216,
          1207,
          1309,
          2360,
          6850,
          1413,
          8588,
          759,
          4686,
          2687,
          585,
          2255,
          609,
          1361,
          7127,
          1203,
          700,
          5507,
          3190,
          7119,
          3488,
          1113,
          7966,
          1532,
          1503,
          2302,
          662,
          2273,
          2631,
          1503,
          1311,
          3105,
          2319,
          1374,
          3612,
          7763,
          3049,
          1534,
          2032,
          6350,
          2864,
          1255,
          1333,
          2022,
          1552,
          626,
          8858,
          996,
          1750,
          6999,
          1995,
          1199,
          1331,
          2278,
          5003,
          3552,
          1928,
          2964,
          1546,
          683,
          12389,
          4712,
          1553,
          1372,
          2578,
          3979,
          6758,
          3234,
          5954,
          5433,
          806,
          1082,
          2788,
          2930,
          1927,
          2820,
          937,
          1056,
          3124,
          1388,
          2384,
          2133,
          2039,
          2799,
          1289,
          1217,
          2246,
          385,
          1965,
          1572,
          2718,
          1358,
          931,
          1442,
          4241,
          2775,
          3863,
          2329,
          918,
          1837,
          3349,
          1275,
          2828,
          4526,
          2671,
          2051,
          1300,
          741,
          1240,
          3357,
          3632,
          1808,
          12204,
          9157,
          3676,
          3441,
          640,
          3652,
          1530,
          3914,
          1858,
          2600,
          1979,
          2116,
          1437,
          4042,
          3832,
          3660,
          1553,
          1444,
          1980,
          1355,
          1393,
          1376,
          15653,
          1493,
          4370,
          750,
          1308,
          4623,
          1851,
          1880,
          7980,
          4583,
          1386,
          947,
          684,
          7476,
          1922,
          2303,
          8086,
          2346,
          3973,
          888,
          10222,
          4221,
          6361,
          1297,
          900,
          2241,
          1050,
          1047,
          6314,
          3496,
          3609,
          4843,
          3017,
          4139,
          5742,
          10366,
          2080,
          2580,
          4530,
          5150,
          5595,
          2384,
          1453,
          1538,
          2279,
          1478,
          5103,
          9857,
          6527,
          1347,
          2862,
          2753,
          3651,
          975,
          2631,
          2896,
          4716,
          2284,
          1236,
          1103,
          926,
          1800,
          1905,
          1123,
          6331,
          1377,
          2503,
          2528,
          5324,
          6560,
          2969,
          1206,
          2118,
          629,
          1198,
          2476,
          1138,
          14027,
          7596,
          3077,
          1505,
          3148,
          6148,
          1337,
          433,
          1228,
          790,
          2570,
          250,
          1316,
          1882,
          6416,
          1275,
          6403,
          1987,
          760,
          2603,
          3380,
          3990,
          11560,
          4380,
          6761,
          4280,
          2325,
          1048,
          3160,
          2483,
          14179,
          1797,
          2511,
          1274,
          5248,
          3029,
          428,
          976,
          841,
          5771,
          1555,
          1285,
          1299,
          1271,
          1393,
          691,
          5045,
          2124,
          2214,
          12680,
          2463,
          1155,
          3108,
          2901,
          3617,
          1655,
          2812,
          8065,
          3275,
          2223,
          1480,
          1371,
          3535,
          3509,
          5711,
          3872,
          4933,
          1940,
          1410,
          836,
          6468,
          1941,
          2675,
          2751,
          6224,
          5998,
          1188,
          6313,
          1221,
          2892,
          3062,
          2301,
          7511,
          1258,
          717,
          1549,
          1597,
          1795,
          4272,
          976,
          7472,
          9271,
          590,
          930,
          9283,
          1778,
          907,
          484,
          9629,
          3051,
          3931,
          7432,
          1338,
          1554,
          15857,
          1345,
          1101,
          3016,
          2712,
          731,
          3780,
          1602,
          3966,
          4165,
          8335,
          6681,
          2375,
          1216,
          11816,
          5084,
          2327,
          1082,
          886,
          601,
          2957,
          2611,
          5179,
          2993,
          1943,
          1559,
          3422,
          3976,
          6761,
          1249,
          1364,
          709,
          2235,
          4042,
          1471,
          1442,
          10875,
          1474,
          894,
          3343,
          3959,
          3577,
          5804,
          2169,
          2439,
          4526,
          2210,
          2221,
          2389,
          3331,
          7409,
          652,
          7678,
          1343,
          1382,
          874,
          3590,
          1322,
          1940,
          3595,
          1422,
          6742,
          7814,
          9277,
          2181,
          1098,
          4057,
          795,
          2825,
          15672,
          6614,
          7824,
          2442,
          1829,
          2171,
          5800,
          1169,
          8947,
          2606,
          1592,
          2186,
          4153,
          2625,
          3485,
          10477,
          1386,
          1278,
          1107,
          3763,
          3711,
          3594,
          3195,
          4454,
          4736,
          2991,
          2142,
          3161,
          18424,
          2848,
          14896,
          2359,
          3345,
          1817,
          12749,
          1366,
          2002,
          6872,
          697,
          1049,
          10297,
          1867,
          1344,
          1747,
          1670,
          1224,
          522,
          1498,
          1919,
          745,
          2063,
          6288,
          6842,
          3527,
          1546,
          929,
          1455,
          1845,
          8358,
          3349,
          2859,
          1533,
          3621,
          3590,
          2145,
          4113,
          10974,
          1893,
          1231,
          3656,
          1154,
          4006,
          3069,
          1740,
          2353,
          3556,
          2397,
          454,
          1715,
          2520,
          3568,
          7166,
          3939,
          1514,
          7393,
          1193,
          7297,
          2831,
          1258,
          753,
          2427,
          2538,
          1264,
          8386,
          4844,
          2923,
          8229,
          2028,
          1433,
          6289,
          1409,
          6579,
          1743,
          3565,
          1569,
          1936,
          3959,
          2390,
          1736,
          3857,
          804,
          1845,
          4576
         ],
         "type": "histogram",
         "xaxis": "x2",
         "yaxis": "y2"
        },
        {
         "marker": {
          "color": "#EF553B"
         },
         "name": "installment_rate",
         "nbinsx": 25,
         "x": [
          4,
          2,
          2,
          2,
          3,
          2,
          3,
          2,
          2,
          4,
          3,
          3,
          1,
          4,
          2,
          4,
          4,
          2,
          4,
          3,
          4,
          2,
          1,
          3,
          2,
          1,
          4,
          3,
          3,
          3,
          3,
          2,
          2,
          4,
          4,
          4,
          1,
          4,
          2,
          4,
          4,
          3,
          2,
          1,
          4,
          4,
          4,
          1,
          1,
          4,
          4,
          1,
          3,
          2,
          4,
          1,
          2,
          2,
          3,
          4,
          2,
          4,
          4,
          2,
          4,
          4,
          2,
          4,
          4,
          4,
          1,
          4,
          3,
          2,
          4,
          4,
          4,
          2,
          2,
          2,
          1,
          4,
          3,
          4,
          3,
          4,
          4,
          1,
          4,
          4,
          4,
          4,
          4,
          4,
          4,
          3,
          4,
          4,
          4,
          3,
          4,
          4,
          3,
          4,
          2,
          2,
          2,
          2,
          1,
          1,
          1,
          4,
          3,
          4,
          3,
          4,
          4,
          2,
          1,
          3,
          3,
          4,
          3,
          4,
          4,
          4,
          4,
          4,
          4,
          3,
          1,
          4,
          2,
          4,
          2,
          4,
          2,
          4,
          4,
          2,
          2,
          4,
          3,
          2,
          4,
          4,
          1,
          4,
          3,
          4,
          2,
          1,
          4,
          2,
          4,
          2,
          3,
          4,
          2,
          1,
          3,
          4,
          4,
          2,
          4,
          1,
          4,
          4,
          2,
          4,
          4,
          4,
          3,
          4,
          2,
          4,
          2,
          4,
          4,
          4,
          1,
          2,
          4,
          4,
          4,
          4,
          2,
          2,
          4,
          1,
          2,
          4,
          4,
          2,
          4,
          2,
          1,
          4,
          4,
          4,
          4,
          4,
          3,
          4,
          4,
          3,
          4,
          4,
          2,
          3,
          1,
          2,
          2,
          4,
          4,
          1,
          3,
          2,
          2,
          2,
          4,
          4,
          4,
          4,
          3,
          4,
          1,
          4,
          4,
          4,
          4,
          2,
          3,
          4,
          2,
          4,
          1,
          4,
          4,
          1,
          4,
          3,
          3,
          3,
          4,
          4,
          4,
          4,
          2,
          3,
          3,
          1,
          4,
          2,
          2,
          1,
          4,
          4,
          1,
          4,
          2,
          4,
          2,
          2,
          3,
          4,
          4,
          4,
          1,
          4,
          4,
          3,
          4,
          4,
          1,
          1,
          2,
          2,
          1,
          4,
          3,
          4,
          4,
          4,
          4,
          1,
          4,
          2,
          4,
          4,
          2,
          1,
          2,
          4,
          4,
          1,
          1,
          4,
          3,
          3,
          1,
          4,
          4,
          4,
          2,
          4,
          2,
          4,
          3,
          4,
          3,
          4,
          2,
          2,
          1,
          4,
          2,
          1,
          4,
          1,
          4,
          4,
          2,
          4,
          4,
          1,
          2,
          4,
          4,
          4,
          2,
          4,
          4,
          2,
          3,
          1,
          2,
          4,
          4,
          4,
          2,
          1,
          1,
          1,
          1,
          4,
          4,
          1,
          1,
          4,
          1,
          1,
          2,
          4,
          4,
          4,
          1,
          4,
          4,
          4,
          4,
          2,
          2,
          1,
          4,
          2,
          3,
          1,
          4,
          2,
          4,
          3,
          1,
          2,
          3,
          2,
          2,
          3,
          4,
          4,
          4,
          3,
          4,
          4,
          2,
          2,
          4,
          4,
          2,
          3,
          2,
          1,
          2,
          1,
          2,
          2,
          3,
          3,
          1,
          4,
          3,
          4,
          2,
          4,
          4,
          1,
          4,
          4,
          3,
          4,
          4,
          3,
          4,
          3,
          4,
          2,
          4,
          1,
          1,
          4,
          2,
          4,
          2,
          4,
          1,
          1,
          4,
          4,
          1,
          2,
          1,
          2,
          4,
          4,
          3,
          2,
          2,
          4,
          4,
          4,
          4,
          2,
          2,
          4,
          2,
          4,
          4,
          2,
          3,
          3,
          4,
          3,
          2,
          4,
          2,
          4,
          2,
          3,
          4,
          3,
          1,
          2,
          3,
          4,
          4,
          3,
          4,
          3,
          2,
          3,
          3,
          4,
          4,
          4,
          4,
          1,
          4,
          4,
          3,
          4,
          1,
          4,
          4,
          3,
          4,
          4,
          2,
          4,
          3,
          2,
          2,
          2,
          1,
          4,
          3,
          2,
          4,
          4,
          4,
          2,
          4,
          2,
          2,
          4,
          4,
          4,
          2,
          1,
          4,
          4,
          4,
          2,
          2,
          4,
          4,
          4,
          2,
          2,
          3,
          4,
          3,
          2,
          3,
          3,
          4,
          2,
          4,
          2,
          4,
          3,
          3,
          2,
          4,
          4,
          4,
          2,
          4,
          3,
          4,
          1,
          1,
          4,
          4,
          2,
          4,
          4,
          4,
          3,
          4,
          2,
          4,
          2,
          1,
          4,
          4,
          2,
          3,
          1,
          3,
          2,
          4,
          4,
          2,
          1,
          4,
          3,
          2,
          2,
          4,
          3,
          4,
          3,
          2,
          4,
          4,
          2,
          2,
          3,
          4,
          4,
          3,
          1,
          4,
          4,
          4,
          1,
          2,
          4,
          4,
          3,
          4,
          4,
          4,
          3,
          4,
          1,
          4,
          1,
          2,
          1,
          1,
          4,
          4,
          4,
          4,
          4,
          3,
          4,
          4,
          4,
          4,
          1,
          4,
          1,
          4,
          2,
          2,
          1,
          2,
          4,
          2,
          3,
          4,
          4,
          4,
          4,
          2,
          2,
          4,
          1,
          2,
          4,
          4,
          2,
          3,
          4,
          4,
          2,
          4,
          3,
          4,
          4,
          3,
          4,
          4,
          4,
          2,
          2,
          4,
          4,
          4,
          4,
          4,
          2,
          4,
          1,
          4,
          4,
          2,
          2,
          3,
          4,
          4,
          4,
          2,
          4,
          4,
          1,
          3,
          4,
          3,
          2,
          2,
          1,
          4,
          4,
          4,
          2,
          4,
          3,
          1,
          4,
          4,
          3,
          1,
          4,
          4,
          4,
          3,
          1,
          2,
          3,
          2,
          1,
          4,
          2,
          4,
          1,
          4,
          4,
          4,
          4,
          4,
          4,
          4,
          1,
          3,
          4,
          4,
          2,
          4,
          4,
          4,
          4,
          4,
          1,
          3,
          4,
          3,
          3,
          4,
          4,
          4,
          4,
          3,
          2,
          2,
          4,
          4,
          2,
          1,
          2,
          4,
          2,
          1,
          3,
          1,
          3,
          1,
          4,
          2,
          4,
          4,
          4,
          4,
          3,
          1,
          3,
          1,
          2,
          2,
          1,
          2,
          4,
          4,
          4,
          1,
          3,
          2,
          4,
          1,
          4,
          4,
          4,
          4,
          3,
          2,
          1,
          1,
          2,
          2,
          3,
          1,
          4,
          2,
          4,
          4,
          4,
          4,
          2,
          2,
          4,
          2,
          4,
          1,
          4,
          3,
          4,
          4,
          4,
          2,
          3,
          1,
          3,
          4,
          2,
          1,
          2,
          4,
          4,
          4,
          3,
          1,
          4,
          1,
          2,
          3,
          4,
          1,
          2,
          3,
          3,
          4,
          3,
          4,
          2,
          1,
          1,
          2,
          4,
          3,
          3,
          2,
          4,
          3,
          4,
          1,
          2,
          3,
          4,
          4,
          4,
          2,
          2,
          2,
          4,
          4,
          1,
          4,
          4,
          4,
          3,
          4,
          4,
          4,
          2,
          2,
          4,
          3,
          4,
          4,
          3,
          4,
          4,
          2,
          4,
          4,
          4,
          3,
          1,
          4,
          4,
          4,
          4,
          2,
          2,
          4,
          2,
          3,
          4,
          2,
          1,
          4,
          4,
          2,
          4,
          3,
          4,
          3,
          2,
          3,
          2,
          4,
          4,
          3,
          4,
          4,
          2,
          4,
          3,
          4,
          4,
          4,
          3,
          4,
          3,
          4,
          3,
          1,
          2,
          2,
          2,
          2,
          4,
          4,
          2,
          2,
          2,
          1,
          1,
          4,
          2,
          2,
          1,
          4,
          1,
          1,
          1,
          1,
          4,
          4,
          4,
          3,
          3,
          2,
          4,
          4,
          4,
          4,
          4,
          4,
          4,
          3,
          4,
          4,
          4,
          3,
          4,
          4,
          2,
          2,
          3,
          4,
          2,
          4,
          1,
          4,
          4,
          4,
          2,
          3,
          2,
          3,
          4,
          4,
          4,
          4,
          2,
          3,
          4,
          2,
          1,
          3,
          3,
          3,
          4,
          4,
          4,
          2,
          1,
          4,
          1,
          1,
          4,
          4,
          3,
          2,
          4,
          4,
          2,
          2,
          3,
          1,
          2,
          2,
          4,
          2,
          2,
          4,
          4,
          2,
          4,
          2,
          4,
          4,
          3,
          4,
          4,
          4,
          3
         ],
         "type": "histogram",
         "xaxis": "x3",
         "yaxis": "y3"
        },
        {
         "marker": {
          "color": "#EF553B"
         },
         "name": "age",
         "nbinsx": 25,
         "x": [
          67,
          22,
          49,
          45,
          53,
          35,
          53,
          35,
          61,
          28,
          25,
          24,
          22,
          60,
          28,
          32,
          53,
          25,
          44,
          31,
          48,
          44,
          48,
          44,
          26,
          36,
          39,
          42,
          34,
          63,
          36,
          27,
          30,
          57,
          33,
          25,
          31,
          37,
          37,
          24,
          30,
          26,
          44,
          24,
          58,
          35,
          39,
          23,
          39,
          28,
          29,
          30,
          25,
          31,
          57,
          26,
          52,
          31,
          23,
          23,
          27,
          50,
          61,
          25,
          26,
          48,
          29,
          22,
          37,
          25,
          30,
          46,
          51,
          41,
          40,
          66,
          34,
          51,
          39,
          22,
          44,
          47,
          24,
          58,
          52,
          29,
          27,
          47,
          30,
          28,
          56,
          54,
          33,
          20,
          54,
          58,
          61,
          34,
          36,
          36,
          41,
          24,
          24,
          35,
          26,
          39,
          39,
          32,
          30,
          35,
          31,
          23,
          28,
          25,
          35,
          47,
          30,
          27,
          23,
          36,
          25,
          41,
          24,
          63,
          27,
          30,
          40,
          30,
          34,
          29,
          24,
          29,
          27,
          47,
          21,
          38,
          27,
          66,
          35,
          44,
          27,
          30,
          27,
          22,
          23,
          30,
          39,
          51,
          28,
          46,
          42,
          38,
          24,
          29,
          36,
          20,
          48,
          45,
          38,
          34,
          36,
          30,
          36,
          70,
          36,
          32,
          33,
          20,
          25,
          31,
          33,
          26,
          34,
          33,
          26,
          53,
          42,
          52,
          31,
          65,
          28,
          30,
          40,
          50,
          36,
          31,
          74,
          68,
          20,
          33,
          54,
          34,
          36,
          29,
          21,
          34,
          28,
          27,
          36,
          40,
          52,
          27,
          26,
          21,
          38,
          38,
          43,
          26,
          21,
          55,
          33,
          45,
          50,
          66,
          51,
          39,
          31,
          23,
          24,
          64,
          26,
          23,
          30,
          32,
          30,
          27,
          27,
          53,
          22,
          22,
          26,
          51,
          35,
          25,
          42,
          30,
          23,
          61,
          35,
          39,
          29,
          51,
          24,
          27,
          35,
          25,
          52,
          35,
          26,
          22,
          39,
          46,
          24,
          35,
          24,
          27,
          35,
          29,
          23,
          57,
          27,
          55,
          36,
          57,
          32,
          37,
          36,
          38,
          45,
          25,
          32,
          37,
          36,
          28,
          34,
          32,
          26,
          49,
          32,
          29,
          23,
          50,
          49,
          63,
          37,
          35,
          26,
          31,
          49,
          48,
          26,
          28,
          44,
          56,
          46,
          26,
          20,
          45,
          43,
          32,
          54,
          42,
          37,
          49,
          44,
          33,
          24,
          33,
          24,
          22,
          40,
          25,
          26,
          25,
          29,
          31,
          38,
          48,
          32,
          27,
          28,
          32,
          34,
          28,
          36,
          39,
          49,
          34,
          31,
          28,
          75,
          30,
          24,
          24,
          23,
          44,
          23,
          24,
          28,
          31,
          24,
          26,
          25,
          33,
          37,
          43,
          23,
          23,
          34,
          32,
          23,
          29,
          38,
          28,
          46,
          23,
          49,
          26,
          28,
          23,
          61,
          37,
          36,
          21,
          25,
          36,
          27,
          22,
          42,
          40,
          36,
          33,
          23,
          63,
          60,
          37,
          34,
          36,
          57,
          52,
          39,
          38,
          25,
          26,
          26,
          25,
          21,
          40,
          27,
          27,
          30,
          19,
          39,
          31,
          31,
          32,
          55,
          46,
          46,
          43,
          39,
          28,
          27,
          27,
          43,
          22,
          43,
          27,
          26,
          28,
          20,
          35,
          42,
          40,
          35,
          35,
          33,
          23,
          31,
          33,
          20,
          30,
          47,
          34,
          25,
          21,
          29,
          46,
          20,
          55,
          74,
          29,
          36,
          33,
          25,
          25,
          23,
          37,
          65,
          26,
          39,
          30,
          29,
          41,
          30,
          41,
          34,
          35,
          55,
          61,
          30,
          29,
          34,
          35,
          31,
          29,
          36,
          35,
          27,
          32,
          37,
          36,
          34,
          38,
          34,
          63,
          29,
          32,
          26,
          35,
          22,
          23,
          28,
          36,
          33,
          26,
          24,
          25,
          39,
          44,
          23,
          26,
          57,
          30,
          44,
          47,
          52,
          62,
          35,
          26,
          26,
          42,
          27,
          38,
          39,
          20,
          29,
          40,
          32,
          28,
          27,
          42,
          49,
          38,
          24,
          27,
          36,
          34,
          28,
          45,
          26,
          32,
          26,
          20,
          54,
          37,
          40,
          23,
          43,
          36,
          44,
          24,
          53,
          23,
          26,
          30,
          31,
          42,
          31,
          41,
          32,
          28,
          41,
          26,
          25,
          33,
          75,
          37,
          42,
          45,
          23,
          60,
          31,
          34,
          61,
          43,
          37,
          32,
          24,
          35,
          23,
          45,
          34,
          27,
          67,
          22,
          28,
          29,
          27,
          31,
          49,
          24,
          29,
          37,
          37,
          23,
          36,
          34,
          41,
          31,
          23,
          38,
          26,
          22,
          27,
          24,
          27,
          33,
          27,
          27,
          30,
          49,
          26,
          33,
          52,
          20,
          36,
          21,
          47,
          60,
          58,
          42,
          36,
          20,
          40,
          32,
          23,
          36,
          31,
          32,
          45,
          30,
          34,
          28,
          23,
          22,
          74,
          50,
          33,
          45,
          22,
          48,
          29,
          22,
          22,
          48,
          27,
          37,
          21,
          49,
          27,
          32,
          38,
          22,
          65,
          35,
          41,
          29,
          36,
          64,
          28,
          44,
          23,
          19,
          25,
          47,
          28,
          21,
          34,
          26,
          27,
          38,
          40,
          33,
          32,
          27,
          32,
          26,
          38,
          40,
          50,
          37,
          45,
          42,
          35,
          22,
          41,
          37,
          28,
          41,
          23,
          23,
          50,
          35,
          50,
          27,
          34,
          27,
          43,
          47,
          27,
          31,
          42,
          24,
          41,
          26,
          33,
          24,
          64,
          26,
          56,
          37,
          33,
          47,
          31,
          34,
          27,
          30,
          35,
          31,
          25,
          25,
          29,
          44,
          28,
          50,
          29,
          38,
          24,
          40,
          29,
          46,
          47,
          41,
          32,
          35,
          24,
          25,
          25,
          37,
          32,
          35,
          46,
          25,
          27,
          63,
          40,
          32,
          31,
          31,
          34,
          24,
          24,
          66,
          21,
          41,
          47,
          25,
          59,
          36,
          33,
          21,
          44,
          28,
          37,
          29,
          23,
          35,
          45,
          26,
          32,
          23,
          41,
          22,
          30,
          28,
          23,
          37,
          26,
          33,
          49,
          23,
          23,
          25,
          55,
          32,
          74,
          39,
          31,
          35,
          59,
          24,
          24,
          30,
          27,
          40,
          31,
          31,
          28,
          63,
          26,
          25,
          36,
          52,
          66,
          25,
          37,
          25,
          38,
          67,
          25,
          60,
          31,
          23,
          60,
          35,
          40,
          38,
          50,
          27,
          39,
          41,
          27,
          51,
          32,
          22,
          51,
          22,
          54,
          35,
          54,
          48,
          24,
          35,
          24,
          24,
          26,
          65,
          55,
          26,
          26,
          28,
          24,
          54,
          46,
          54,
          62,
          24,
          43,
          26,
          27,
          24,
          41,
          47,
          35,
          30,
          33,
          36,
          47,
          38,
          44,
          23,
          29,
          42,
          25,
          48,
          21,
          23,
          63,
          46,
          29,
          28,
          23,
          50,
          47,
          35,
          68,
          28,
          59,
          57,
          33,
          43,
          35,
          32,
          45,
          33,
          40,
          28,
          29,
          26,
          27,
          28,
          35,
          32,
          25,
          20,
          27,
          42,
          37,
          24,
          40,
          46,
          26,
          24,
          29,
          40,
          36,
          28,
          27,
          36,
          38,
          48,
          36,
          65,
          43,
          53,
          34,
          23,
          34,
          40,
          43,
          46,
          38,
          34,
          29,
          31,
          28,
          35,
          33,
          42,
          43,
          44,
          42,
          40,
          36,
          20,
          24,
          27,
          46,
          33,
          34,
          25,
          25,
          28,
          31,
          32,
          32,
          68,
          33,
          39,
          28,
          37,
          22,
          30,
          55,
          46,
          21,
          39,
          58,
          43,
          24,
          22,
          30,
          42,
          23,
          30,
          28,
          30,
          42,
          46,
          45,
          31,
          31,
          42,
          46,
          30,
          30,
          38,
          43,
          31,
          40,
          24,
          28,
          26,
          29,
          57,
          49,
          37,
          45,
          30,
          30,
          47,
          29,
          35,
          22,
          26,
          23,
          54,
          29,
          40,
          22,
          43,
          29,
          36,
          33,
          57,
          64,
          42,
          47,
          25,
          49,
          33,
          28,
          26,
          30,
          25,
          33,
          64,
          29,
          48,
          37,
          34,
          23,
          30,
          50,
          31,
          40,
          38,
          23,
          27
         ],
         "type": "histogram",
         "xaxis": "x4",
         "yaxis": "y4"
        },
        {
         "marker": {
          "color": "#EF553B"
         },
         "name": "number_credits",
         "nbinsx": 25,
         "x": [
          2,
          1,
          1,
          1,
          2,
          1,
          1,
          1,
          1,
          2,
          1,
          1,
          1,
          2,
          1,
          1,
          2,
          3,
          1,
          1,
          3,
          1,
          2,
          1,
          2,
          1,
          1,
          2,
          1,
          2,
          1,
          1,
          2,
          1,
          1,
          2,
          1,
          1,
          1,
          1,
          1,
          1,
          1,
          2,
          2,
          2,
          1,
          1,
          2,
          1,
          1,
          2,
          1,
          1,
          2,
          1,
          1,
          2,
          1,
          2,
          1,
          2,
          1,
          1,
          1,
          4,
          1,
          1,
          1,
          1,
          1,
          2,
          2,
          2,
          1,
          2,
          1,
          1,
          1,
          1,
          2,
          1,
          1,
          1,
          1,
          2,
          2,
          1,
          1,
          2,
          1,
          1,
          1,
          2,
          1,
          1,
          1,
          1,
          1,
          2,
          1,
          1,
          1,
          1,
          1,
          2,
          2,
          1,
          1,
          1,
          2,
          1,
          1,
          2,
          1,
          1,
          1,
          2,
          2,
          1,
          2,
          2,
          1,
          2,
          1,
          2,
          1,
          1,
          2,
          2,
          1,
          1,
          2,
          2,
          1,
          2,
          2,
          1,
          3,
          1,
          1,
          1,
          1,
          1,
          1,
          1,
          2,
          2,
          2,
          2,
          1,
          1,
          1,
          1,
          1,
          1,
          2,
          1,
          2,
          2,
          1,
          2,
          2,
          1,
          1,
          1,
          1,
          1,
          1,
          2,
          2,
          1,
          1,
          1,
          2,
          1,
          1,
          2,
          2,
          2,
          2,
          2,
          2,
          1,
          1,
          2,
          1,
          3,
          1,
          2,
          3,
          1,
          1,
          1,
          1,
          2,
          2,
          4,
          1,
          1,
          2,
          1,
          2,
          1,
          2,
          3,
          3,
          1,
          1,
          1,
          2,
          1,
          2,
          1,
          1,
          2,
          1,
          1,
          1,
          1,
          1,
          1,
          2,
          2,
          1,
          2,
          2,
          1,
          1,
          1,
          1,
          1,
          1,
          1,
          3,
          1,
          1,
          2,
          2,
          1,
          1,
          1,
          2,
          2,
          1,
          1,
          3,
          1,
          1,
          1,
          2,
          1,
          1,
          2,
          1,
          1,
          2,
          1,
          1,
          3,
          1,
          1,
          3,
          3,
          2,
          1,
          2,
          1,
          1,
          2,
          1,
          1,
          1,
          2,
          1,
          1,
          2,
          1,
          1,
          1,
          2,
          1,
          1,
          1,
          1,
          1,
          1,
          1,
          2,
          1,
          1,
          1,
          2,
          1,
          2,
          1,
          1,
          1,
          1,
          2,
          1,
          1,
          2,
          2,
          1,
          1,
          1,
          1,
          1,
          1,
          1,
          1,
          1,
          1,
          1,
          1,
          1,
          1,
          2,
          2,
          2,
          1,
          1,
          1,
          2,
          2,
          1,
          1,
          1,
          1,
          2,
          2,
          1,
          2,
          2,
          1,
          1,
          1,
          1,
          1,
          2,
          1,
          1,
          1,
          1,
          1,
          2,
          1,
          2,
          2,
          1,
          1,
          1,
          2,
          1,
          1,
          1,
          2,
          1,
          1,
          1,
          1,
          2,
          1,
          1,
          1,
          2,
          1,
          1,
          1,
          1,
          2,
          2,
          1,
          2,
          1,
          2,
          1,
          1,
          2,
          1,
          1,
          1,
          1,
          2,
          2,
          1,
          2,
          1,
          2,
          1,
          1,
          1,
          1,
          1,
          1,
          1,
          2,
          2,
          2,
          1,
          2,
          2,
          2,
          1,
          1,
          2,
          1,
          1,
          3,
          1,
          2,
          2,
          1,
          1,
          2,
          1,
          2,
          1,
          1,
          1,
          1,
          2,
          2,
          1,
          1,
          2,
          2,
          1,
          3,
          1,
          2,
          3,
          2,
          1,
          1,
          1,
          2,
          2,
          1,
          1,
          1,
          2,
          1,
          1,
          2,
          1,
          1,
          1,
          2,
          1,
          1,
          2,
          1,
          1,
          1,
          2,
          1,
          1,
          1,
          1,
          1,
          1,
          2,
          2,
          1,
          1,
          2,
          2,
          2,
          1,
          1,
          1,
          1,
          1,
          1,
          1,
          1,
          1,
          2,
          1,
          1,
          2,
          2,
          1,
          1,
          1,
          1,
          1,
          1,
          2,
          2,
          2,
          1,
          2,
          1,
          1,
          2,
          1,
          2,
          1,
          1,
          1,
          2,
          1,
          1,
          1,
          1,
          1,
          1,
          1,
          1,
          1,
          2,
          1,
          2,
          1,
          2,
          1,
          2,
          2,
          1,
          2,
          1,
          1,
          2,
          1,
          2,
          1,
          1,
          2,
          2,
          1,
          1,
          2,
          1,
          1,
          1,
          1,
          1,
          1,
          2,
          1,
          1,
          2,
          2,
          1,
          1,
          1,
          2,
          2,
          1,
          2,
          1,
          2,
          1,
          2,
          2,
          1,
          2,
          1,
          1,
          1,
          1,
          2,
          2,
          1,
          1,
          2,
          1,
          1,
          1,
          1,
          1,
          2,
          2,
          1,
          2,
          2,
          2,
          2,
          2,
          1,
          1,
          1,
          1,
          2,
          1,
          1,
          2,
          4,
          2,
          1,
          1,
          1,
          1,
          2,
          3,
          2,
          1,
          1,
          1,
          1,
          1,
          1,
          1,
          1,
          1,
          1,
          1,
          1,
          1,
          1,
          1,
          1,
          1,
          1,
          3,
          1,
          1,
          2,
          2,
          1,
          1,
          2,
          1,
          1,
          1,
          2,
          1,
          1,
          1,
          1,
          2,
          1,
          3,
          1,
          2,
          1,
          2,
          1,
          2,
          1,
          2,
          2,
          2,
          2,
          1,
          1,
          1,
          1,
          1,
          1,
          4,
          2,
          1,
          1,
          1,
          2,
          1,
          1,
          1,
          2,
          2,
          1,
          2,
          1,
          1,
          2,
          1,
          2,
          2,
          1,
          1,
          1,
          1,
          1,
          1,
          1,
          1,
          1,
          1,
          2,
          3,
          2,
          1,
          2,
          1,
          1,
          1,
          2,
          1,
          1,
          2,
          1,
          1,
          2,
          1,
          2,
          1,
          1,
          2,
          1,
          2,
          1,
          1,
          1,
          2,
          1,
          1,
          2,
          1,
          1,
          2,
          1,
          2,
          2,
          1,
          2,
          2,
          2,
          1,
          1,
          1,
          1,
          2,
          2,
          2,
          1,
          2,
          1,
          1,
          1,
          1,
          1,
          1,
          2,
          1,
          2,
          2,
          1,
          1,
          1,
          1,
          2,
          2,
          1,
          1,
          1,
          1,
          1,
          1,
          1,
          2,
          2,
          1,
          3,
          2,
          1,
          2,
          1,
          2,
          1,
          1,
          2,
          2,
          1,
          1,
          3,
          2,
          1,
          2,
          1,
          2,
          3,
          1,
          2,
          1,
          2,
          1,
          2,
          1,
          1,
          1,
          1,
          1,
          1,
          2,
          1,
          1,
          1,
          1,
          2,
          1,
          1,
          1,
          1,
          2,
          2,
          1,
          2,
          2,
          2,
          2,
          1,
          1,
          1,
          4,
          1,
          2,
          1,
          1,
          2,
          1,
          1,
          1,
          1,
          2,
          1,
          1,
          2,
          1,
          1,
          2,
          2,
          2,
          3,
          2,
          1,
          1,
          2,
          1,
          2,
          1,
          1,
          2,
          1,
          1,
          2,
          2,
          1,
          2,
          1,
          1,
          3,
          1,
          2,
          1,
          1,
          1,
          2,
          2,
          2,
          2,
          2,
          1,
          1,
          1,
          1,
          1,
          2,
          1,
          1,
          2,
          1,
          1,
          1,
          1,
          2,
          1,
          2,
          2,
          2,
          1,
          1,
          2,
          1,
          1,
          1,
          2,
          1,
          1,
          2,
          2,
          1,
          1,
          2,
          1,
          2,
          2,
          4,
          2,
          2,
          2,
          2,
          1,
          1,
          1,
          1,
          1,
          1,
          2,
          2,
          1,
          1,
          1,
          1,
          1,
          2,
          1,
          2,
          1,
          1,
          1,
          1,
          1,
          1,
          1,
          1,
          1,
          2,
          1,
          1,
          1,
          1,
          2,
          1,
          3,
          1,
          2,
          1,
          1,
          2,
          2,
          1,
          2,
          1,
          1,
          1,
          2,
          1,
          1,
          1,
          3,
          1,
          2,
          1,
          1,
          1,
          2,
          3,
          2,
          1,
          2,
          1,
          2,
          2,
          3,
          1,
          1,
          2,
          2,
          1,
          2,
          1,
          1,
          2,
          1,
          1,
          2,
          1,
          1,
          2,
          1,
          1,
          1,
          1,
          2,
          2,
          1,
          1,
          1,
          1,
          1,
          2,
          2,
          2,
          1,
          1,
          2,
          2,
          1,
          2,
          1,
          1,
          1,
          1,
          1,
          1,
          1
         ],
         "type": "histogram",
         "xaxis": "x5",
         "yaxis": "y5"
        },
        {
         "marker": {
          "color": "#EF553B"
         },
         "name": "people_liable",
         "nbinsx": 25,
         "x": [
          1,
          1,
          2,
          2,
          2,
          2,
          1,
          1,
          1,
          1,
          1,
          1,
          1,
          1,
          1,
          1,
          1,
          1,
          1,
          2,
          1,
          2,
          2,
          1,
          1,
          1,
          1,
          1,
          1,
          1,
          1,
          1,
          1,
          1,
          1,
          1,
          1,
          1,
          1,
          1,
          1,
          1,
          2,
          1,
          1,
          1,
          1,
          1,
          1,
          1,
          1,
          1,
          1,
          1,
          1,
          2,
          1,
          1,
          1,
          1,
          1,
          1,
          1,
          1,
          1,
          2,
          1,
          1,
          1,
          1,
          1,
          1,
          2,
          1,
          1,
          1,
          1,
          1,
          2,
          1,
          1,
          1,
          1,
          1,
          1,
          1,
          1,
          2,
          2,
          1,
          1,
          1,
          2,
          1,
          1,
          1,
          1,
          1,
          1,
          2,
          1,
          1,
          1,
          1,
          1,
          2,
          2,
          1,
          1,
          1,
          2,
          1,
          1,
          1,
          1,
          1,
          1,
          1,
          1,
          1,
          1,
          1,
          1,
          1,
          1,
          1,
          1,
          1,
          1,
          1,
          1,
          1,
          1,
          1,
          1,
          1,
          1,
          1,
          1,
          1,
          1,
          1,
          1,
          1,
          1,
          1,
          1,
          1,
          1,
          1,
          2,
          1,
          1,
          1,
          1,
          1,
          2,
          1,
          1,
          2,
          2,
          1,
          1,
          1,
          1,
          1,
          1,
          1,
          1,
          1,
          2,
          1,
          1,
          1,
          1,
          1,
          1,
          1,
          2,
          1,
          1,
          1,
          2,
          1,
          2,
          1,
          2,
          1,
          1,
          1,
          1,
          2,
          2,
          1,
          1,
          1,
          1,
          1,
          1,
          1,
          1,
          1,
          1,
          1,
          2,
          2,
          1,
          1,
          1,
          1,
          2,
          1,
          1,
          1,
          1,
          1,
          1,
          1,
          1,
          1,
          1,
          1,
          1,
          2,
          1,
          1,
          1,
          1,
          1,
          1,
          1,
          1,
          1,
          1,
          2,
          2,
          1,
          1,
          1,
          2,
          1,
          2,
          2,
          1,
          2,
          1,
          1,
          1,
          1,
          1,
          1,
          1,
          1,
          1,
          1,
          1,
          1,
          1,
          1,
          1,
          1,
          1,
          1,
          1,
          2,
          2,
          1,
          1,
          1,
          1,
          1,
          1,
          1,
          1,
          1,
          2,
          1,
          1,
          1,
          1,
          1,
          1,
          1,
          1,
          1,
          1,
          2,
          1,
          1,
          1,
          1,
          1,
          2,
          1,
          2,
          1,
          1,
          1,
          1,
          1,
          1,
          1,
          2,
          1,
          1,
          1,
          1,
          1,
          1,
          1,
          1,
          1,
          1,
          1,
          2,
          1,
          2,
          1,
          1,
          1,
          1,
          1,
          1,
          1,
          1,
          1,
          1,
          2,
          1,
          2,
          1,
          1,
          1,
          1,
          2,
          1,
          1,
          1,
          1,
          1,
          1,
          1,
          1,
          1,
          2,
          1,
          1,
          1,
          1,
          2,
          1,
          1,
          1,
          1,
          1,
          1,
          1,
          1,
          1,
          1,
          1,
          1,
          1,
          1,
          1,
          1,
          1,
          1,
          2,
          1,
          1,
          1,
          1,
          1,
          1,
          1,
          1,
          1,
          1,
          1,
          1,
          1,
          1,
          1,
          1,
          1,
          1,
          1,
          1,
          1,
          1,
          1,
          2,
          1,
          1,
          1,
          1,
          1,
          1,
          1,
          1,
          1,
          1,
          1,
          2,
          1,
          2,
          1,
          1,
          1,
          1,
          1,
          1,
          2,
          1,
          2,
          2,
          1,
          1,
          1,
          1,
          1,
          2,
          1,
          1,
          1,
          1,
          1,
          1,
          2,
          1,
          1,
          1,
          1,
          1,
          1,
          1,
          1,
          1,
          1,
          1,
          1,
          1,
          2,
          1,
          1,
          1,
          1,
          1,
          1,
          1,
          1,
          1,
          1,
          1,
          1,
          2,
          1,
          1,
          1,
          2,
          1,
          1,
          1,
          1,
          2,
          1,
          2,
          1,
          1,
          1,
          1,
          1,
          2,
          1,
          1,
          1,
          1,
          1,
          2,
          1,
          1,
          1,
          1,
          1,
          1,
          1,
          1,
          1,
          1,
          1,
          1,
          1,
          1,
          2,
          1,
          1,
          1,
          1,
          2,
          1,
          2,
          1,
          2,
          1,
          1,
          1,
          2,
          1,
          1,
          1,
          1,
          1,
          1,
          1,
          1,
          2,
          1,
          1,
          1,
          1,
          1,
          2,
          1,
          2,
          1,
          1,
          2,
          1,
          2,
          2,
          1,
          1,
          1,
          1,
          1,
          1,
          1,
          1,
          1,
          1,
          1,
          1,
          2,
          1,
          2,
          1,
          2,
          1,
          1,
          1,
          2,
          1,
          1,
          1,
          1,
          1,
          1,
          1,
          1,
          2,
          1,
          1,
          1,
          1,
          1,
          1,
          1,
          2,
          1,
          1,
          1,
          1,
          1,
          1,
          1,
          1,
          1,
          1,
          1,
          1,
          2,
          1,
          1,
          1,
          1,
          2,
          1,
          1,
          1,
          1,
          1,
          1,
          1,
          1,
          1,
          1,
          1,
          1,
          1,
          1,
          1,
          1,
          1,
          1,
          1,
          1,
          1,
          1,
          2,
          1,
          2,
          1,
          1,
          1,
          1,
          1,
          2,
          1,
          1,
          1,
          1,
          1,
          1,
          1,
          1,
          1,
          1,
          1,
          1,
          1,
          1,
          1,
          1,
          1,
          2,
          1,
          1,
          2,
          2,
          1,
          1,
          1,
          1,
          1,
          1,
          1,
          1,
          2,
          2,
          1,
          1,
          1,
          1,
          1,
          1,
          2,
          1,
          1,
          1,
          1,
          1,
          1,
          1,
          1,
          1,
          2,
          1,
          1,
          1,
          1,
          1,
          1,
          1,
          2,
          1,
          1,
          1,
          1,
          1,
          1,
          1,
          1,
          1,
          2,
          2,
          1,
          1,
          1,
          2,
          1,
          1,
          1,
          2,
          1,
          1,
          1,
          1,
          1,
          1,
          1,
          1,
          1,
          1,
          2,
          1,
          1,
          1,
          1,
          2,
          1,
          1,
          1,
          1,
          1,
          1,
          2,
          1,
          1,
          1,
          1,
          2,
          1,
          1,
          1,
          1,
          1,
          1,
          1,
          1,
          1,
          2,
          1,
          1,
          2,
          1,
          1,
          2,
          2,
          1,
          1,
          1,
          1,
          1,
          1,
          1,
          1,
          1,
          1,
          1,
          1,
          1,
          1,
          1,
          2,
          1,
          2,
          1,
          1,
          1,
          1,
          1,
          1,
          1,
          1,
          1,
          1,
          1,
          1,
          1,
          1,
          1,
          1,
          1,
          1,
          1,
          1,
          1,
          1,
          1,
          1,
          1,
          1,
          1,
          1,
          1,
          1,
          2,
          1,
          1,
          2,
          2,
          1,
          1,
          1,
          1,
          2,
          1,
          1,
          1,
          2,
          1,
          1,
          1,
          1,
          1,
          1,
          1,
          1,
          1,
          1,
          1,
          1,
          1,
          2,
          1,
          1,
          1,
          1,
          1,
          1,
          1,
          2,
          1,
          1,
          1,
          1,
          2,
          1,
          2,
          2,
          1,
          1,
          1,
          1,
          1,
          1,
          2,
          1,
          1,
          1,
          1,
          1,
          1,
          2,
          1,
          1,
          1,
          1,
          1,
          1,
          1,
          1,
          2,
          2,
          1,
          1,
          1,
          1,
          2,
          1,
          1,
          1,
          2,
          1,
          1,
          1,
          1,
          1,
          1,
          1,
          2,
          1,
          1,
          2,
          1,
          1,
          1,
          1,
          1,
          1,
          1,
          1,
          1,
          1,
          1,
          2,
          1,
          1,
          2,
          2,
          1,
          1,
          1,
          1,
          2,
          1,
          1,
          1,
          1,
          1,
          1,
          1,
          1,
          1,
          2,
          1,
          1,
          1,
          1,
          1,
          1,
          1,
          1,
          1,
          1,
          2,
          1,
          1,
          1,
          1,
          1,
          1,
          2,
          1,
          1,
          1,
          2,
          1,
          2,
          1,
          1,
          1,
          2,
          1,
          1,
          1,
          1,
          1,
          2,
          2,
          2,
          1,
          2,
          1,
          1,
          2,
          1,
          2,
          1,
          2,
          1,
          1,
          1,
          1,
          1,
          1,
          1,
          1,
          1,
          1,
          1,
          1,
          1,
          1,
          1,
          1,
          1,
          1,
          2,
          1,
          2,
          1,
          1,
          1,
          1,
          1,
          1,
          2,
          1,
          1,
          1,
          1,
          2,
          1,
          1,
          1,
          1,
          1,
          1,
          2,
          2,
          1,
          1,
          1,
          1,
          1,
          1,
          1,
          1
         ],
         "type": "histogram",
         "xaxis": "x6",
         "yaxis": "y6"
        },
        {
         "marker": {
          "color": "#2A5C7D"
         },
         "name": "present_residence",
         "nbinsx": 25,
         "x": [
          4,
          2,
          3,
          4,
          4,
          4,
          4,
          2,
          4,
          2,
          1,
          4,
          1,
          4,
          4,
          2,
          4,
          3,
          2,
          2,
          4,
          3,
          3,
          4,
          1,
          2,
          4,
          3,
          2,
          4,
          3,
          2,
          2,
          4,
          1,
          2,
          3,
          2,
          2,
          3,
          2,
          1,
          4,
          4,
          4,
          4,
          4,
          2,
          4,
          2,
          2,
          2,
          2,
          1,
          4,
          2,
          1,
          2,
          2,
          4,
          1,
          4,
          4,
          2,
          4,
          4,
          2,
          1,
          4,
          4,
          2,
          2,
          4,
          1,
          4,
          4,
          3,
          4,
          2,
          1,
          1,
          3,
          4,
          4,
          4,
          2,
          1,
          4,
          3,
          3,
          4,
          3,
          3,
          4,
          4,
          4,
          2,
          4,
          4,
          4,
          4,
          4,
          2,
          3,
          4,
          3,
          4,
          2,
          2,
          2,
          2,
          4,
          3,
          2,
          1,
          1,
          3,
          3,
          4,
          3,
          2,
          2,
          2,
          4,
          3,
          2,
          2,
          2,
          2,
          2,
          2,
          3,
          3,
          4,
          4,
          2,
          2,
          3,
          2,
          2,
          2,
          1,
          2,
          2,
          4,
          2,
          4,
          3,
          2,
          4,
          4,
          4,
          1,
          4,
          4,
          4,
          4,
          1,
          3,
          2,
          4,
          1,
          3,
          4,
          4,
          2,
          2,
          1,
          4,
          4,
          3,
          1,
          2,
          2,
          1,
          1,
          1,
          4,
          2,
          4,
          1,
          2,
          2,
          4,
          4,
          2,
          4,
          3,
          1,
          4,
          3,
          4,
          2,
          2,
          4,
          3,
          1,
          4,
          4,
          3,
          2,
          3,
          4,
          4,
          1,
          4,
          4,
          3,
          2,
          2,
          2,
          4,
          4,
          4,
          2,
          3,
          1,
          2,
          2,
          4,
          1,
          4,
          2,
          4,
          2,
          2,
          2,
          4,
          2,
          1,
          2,
          4,
          1,
          2,
          1,
          2,
          2,
          2,
          2,
          3,
          2,
          2,
          4,
          2,
          3,
          1,
          4,
          1,
          2,
          4,
          4,
          2,
          2,
          3,
          1,
          1,
          2,
          1,
          4,
          4,
          2,
          4,
          4,
          4,
          4,
          3,
          4,
          3,
          4,
          2,
          3,
          4,
          4,
          4,
          1,
          2,
          2,
          4,
          4,
          4,
          4,
          2,
          4,
          4,
          2,
          1,
          3,
          4,
          4,
          4,
          2,
          4,
          4,
          4,
          2,
          2,
          4,
          2,
          4,
          2,
          4,
          1,
          2,
          3,
          2,
          2,
          4,
          3,
          4,
          4,
          4,
          1,
          4,
          3,
          2,
          4,
          3,
          4,
          2,
          4,
          2,
          3,
          1,
          2,
          3,
          4,
          4,
          3,
          2,
          4,
          4,
          2,
          2,
          4,
          4,
          4,
          4,
          2,
          4,
          2,
          4,
          4,
          3,
          1,
          1,
          2,
          4,
          4,
          2,
          3,
          4,
          2,
          4,
          2,
          4,
          2,
          4,
          2,
          2,
          4,
          4,
          3,
          2,
          2,
          1,
          4,
          1,
          4,
          2,
          4,
          4,
          4,
          3,
          4,
          4,
          4,
          3,
          4,
          2,
          4,
          4,
          4,
          4,
          1,
          2,
          1,
          2,
          4,
          4,
          2,
          2,
          4,
          4,
          4,
          3,
          3,
          4,
          2,
          1,
          1,
          4,
          4,
          2,
          2,
          4,
          1,
          4,
          2,
          2,
          2,
          4,
          2,
          2,
          2,
          2,
          2,
          1,
          2,
          2,
          2,
          3,
          2,
          3,
          3,
          2,
          3,
          2,
          3,
          4,
          4,
          4,
          3,
          4,
          2,
          2,
          1,
          4,
          4,
          4,
          1,
          4,
          3,
          3,
          4,
          3,
          4,
          4,
          2,
          4,
          3,
          2,
          1,
          4,
          4,
          3,
          1,
          2,
          4,
          1,
          2,
          2,
          3,
          1,
          4,
          1,
          4,
          2,
          3,
          2,
          3,
          2,
          4,
          3,
          4,
          2,
          4,
          4,
          2,
          4,
          4,
          1,
          1,
          4,
          2,
          4,
          4,
          4,
          4,
          2,
          3,
          2,
          4,
          1,
          4,
          2,
          4,
          1,
          3,
          2,
          4,
          1,
          4,
          4,
          4,
          4,
          4,
          2,
          2,
          2,
          2,
          2,
          2,
          4,
          4,
          1,
          3,
          4,
          4,
          2,
          4,
          4,
          2,
          4,
          4,
          4,
          3,
          3,
          1,
          4,
          4,
          1,
          4,
          4,
          3,
          2,
          1,
          3,
          4,
          4,
          1,
          1,
          4,
          4,
          1,
          4,
          2,
          4,
          1,
          4,
          1,
          4,
          4,
          1,
          1,
          4,
          1,
          3,
          4,
          4,
          2,
          4,
          4,
          1,
          4,
          2,
          2,
          3,
          2,
          1,
          2,
          4,
          2,
          4,
          4,
          4,
          3,
          1,
          2,
          4,
          3,
          3,
          3,
          2,
          1,
          4,
          4,
          2,
          1,
          3,
          3,
          3,
          4,
          4,
          4,
          3,
          1,
          4,
          4,
          2,
          2,
          1,
          1,
          4,
          2,
          2,
          4,
          2,
          4,
          1,
          4,
          3,
          4,
          2,
          4,
          1,
          2,
          2,
          3,
          4,
          2,
          3,
          2,
          2,
          1,
          4,
          2,
          2,
          3,
          4,
          4,
          4,
          3,
          1,
          2,
          4,
          4,
          1,
          4,
          3,
          2,
          1,
          4,
          2,
          2,
          1,
          4,
          2,
          2,
          3,
          4,
          1,
          2,
          1,
          4,
          3,
          4,
          4,
          3,
          1,
          1,
          4,
          2,
          2,
          1,
          4,
          2,
          2,
          1,
          4,
          4,
          3,
          2,
          4,
          2,
          2,
          4,
          4,
          2,
          4,
          1,
          2,
          4,
          3,
          3,
          3,
          4,
          2,
          3,
          4,
          3,
          3,
          2,
          1,
          3,
          2,
          4,
          3,
          2,
          2,
          4,
          4,
          4,
          2,
          2,
          1,
          4,
          2,
          3,
          4,
          2,
          3,
          4,
          4,
          4,
          2,
          4,
          2,
          2,
          2,
          4,
          2,
          2,
          2,
          3,
          3,
          2,
          2,
          4,
          3,
          4,
          2,
          4,
          2,
          4,
          1,
          2,
          4,
          4,
          3,
          4,
          3,
          4,
          3,
          4,
          4,
          1,
          4,
          1,
          3,
          2,
          1,
          2,
          4,
          2,
          4,
          4,
          1,
          4,
          2,
          3,
          4,
          4,
          3,
          4,
          3,
          3,
          4,
          4,
          4,
          4,
          4,
          2,
          4,
          4,
          4,
          4,
          4,
          1,
          2,
          4,
          2,
          4,
          2,
          2,
          4,
          2,
          4,
          3,
          4,
          3,
          4,
          4,
          2,
          4,
          3,
          4,
          4,
          4,
          4,
          2,
          4,
          4,
          4,
          4,
          2,
          1,
          3,
          4,
          2,
          1,
          2,
          3,
          4,
          4,
          4,
          2,
          4,
          2,
          3,
          3,
          2,
          1,
          2,
          4,
          2,
          3,
          4,
          2,
          4,
          4,
          2,
          3,
          4,
          4,
          3,
          4,
          2,
          3,
          4,
          3,
          2,
          2,
          4,
          4,
          4,
          3,
          4,
          2,
          4,
          4,
          2,
          4,
          4,
          4,
          2,
          3,
          3,
          2,
          2,
          2,
          2,
          2,
          4,
          2,
          2,
          4,
          1,
          4,
          2,
          4,
          4,
          4,
          1,
          1,
          2,
          4,
          4,
          2,
          2,
          3,
          3,
          4,
          4,
          4,
          3,
          4,
          3,
          2,
          4,
          4,
          4,
          4,
          4,
          4,
          3,
          2,
          4,
          2,
          4,
          3,
          4,
          4,
          4,
          2,
          1,
          2,
          2,
          2,
          2,
          2,
          4,
          4,
          4,
          2,
          2,
          2,
          2,
          4,
          1,
          2,
          2,
          1,
          4,
          4,
          1,
          2,
          4,
          4,
          4,
          2,
          1,
          2,
          1,
          4,
          1,
          3,
          2,
          3,
          4,
          4,
          3,
          2,
          2,
          1,
          1,
          1,
          4,
          4,
          1,
          4,
          3,
          1,
          4,
          2,
          4,
          4,
          4,
          4,
          2,
          4,
          2,
          4,
          2,
          2,
          1,
          1,
          2,
          2,
          4,
          2,
          2,
          4,
          4,
          4,
          2,
          3,
          3,
          2,
          4,
          2,
          2,
          2,
          1,
          2,
          2,
          3,
          1,
          4,
          2,
          2,
          1,
          4,
          4,
          3,
          3,
          4,
          4,
          4,
          4,
          4
         ],
         "type": "histogram",
         "xaxis": "x7",
         "yaxis": "y7"
        }
       ],
       "layout": {
        "template": {
         "data": {
          "histogram2dcontour": [
           {
            "type": "histogram2dcontour",
            "colorbar": {
             "outlinewidth": 0,
             "ticks": ""
            },
            "colorscale": [
             [
              0.0,
              "#0d0887"
             ],
             [
              0.1111111111111111,
              "#46039f"
             ],
             [
              0.2222222222222222,
              "#7201a8"
             ],
             [
              0.3333333333333333,
              "#9c179e"
             ],
             [
              0.4444444444444444,
              "#bd3786"
             ],
             [
              0.5555555555555556,
              "#d8576b"
             ],
             [
              0.6666666666666666,
              "#ed7953"
             ],
             [
              0.7777777777777778,
              "#fb9f3a"
             ],
             [
              0.8888888888888888,
              "#fdca26"
             ],
             [
              1.0,
              "#f0f921"
             ]
            ]
           }
          ],
          "choropleth": [
           {
            "type": "choropleth",
            "colorbar": {
             "outlinewidth": 0,
             "ticks": ""
            }
           }
          ],
          "histogram2d": [
           {
            "type": "histogram2d",
            "colorbar": {
             "outlinewidth": 0,
             "ticks": ""
            },
            "colorscale": [
             [
              0.0,
              "#0d0887"
             ],
             [
              0.1111111111111111,
              "#46039f"
             ],
             [
              0.2222222222222222,
              "#7201a8"
             ],
             [
              0.3333333333333333,
              "#9c179e"
             ],
             [
              0.4444444444444444,
              "#bd3786"
             ],
             [
              0.5555555555555556,
              "#d8576b"
             ],
             [
              0.6666666666666666,
              "#ed7953"
             ],
             [
              0.7777777777777778,
              "#fb9f3a"
             ],
             [
              0.8888888888888888,
              "#fdca26"
             ],
             [
              1.0,
              "#f0f921"
             ]
            ]
           }
          ],
          "heatmap": [
           {
            "type": "heatmap",
            "colorbar": {
             "outlinewidth": 0,
             "ticks": ""
            },
            "colorscale": [
             [
              0.0,
              "#0d0887"
             ],
             [
              0.1111111111111111,
              "#46039f"
             ],
             [
              0.2222222222222222,
              "#7201a8"
             ],
             [
              0.3333333333333333,
              "#9c179e"
             ],
             [
              0.4444444444444444,
              "#bd3786"
             ],
             [
              0.5555555555555556,
              "#d8576b"
             ],
             [
              0.6666666666666666,
              "#ed7953"
             ],
             [
              0.7777777777777778,
              "#fb9f3a"
             ],
             [
              0.8888888888888888,
              "#fdca26"
             ],
             [
              1.0,
              "#f0f921"
             ]
            ]
           }
          ],
          "heatmapgl": [
           {
            "type": "heatmapgl",
            "colorbar": {
             "outlinewidth": 0,
             "ticks": ""
            },
            "colorscale": [
             [
              0.0,
              "#0d0887"
             ],
             [
              0.1111111111111111,
              "#46039f"
             ],
             [
              0.2222222222222222,
              "#7201a8"
             ],
             [
              0.3333333333333333,
              "#9c179e"
             ],
             [
              0.4444444444444444,
              "#bd3786"
             ],
             [
              0.5555555555555556,
              "#d8576b"
             ],
             [
              0.6666666666666666,
              "#ed7953"
             ],
             [
              0.7777777777777778,
              "#fb9f3a"
             ],
             [
              0.8888888888888888,
              "#fdca26"
             ],
             [
              1.0,
              "#f0f921"
             ]
            ]
           }
          ],
          "contourcarpet": [
           {
            "type": "contourcarpet",
            "colorbar": {
             "outlinewidth": 0,
             "ticks": ""
            }
           }
          ],
          "contour": [
           {
            "type": "contour",
            "colorbar": {
             "outlinewidth": 0,
             "ticks": ""
            },
            "colorscale": [
             [
              0.0,
              "#0d0887"
             ],
             [
              0.1111111111111111,
              "#46039f"
             ],
             [
              0.2222222222222222,
              "#7201a8"
             ],
             [
              0.3333333333333333,
              "#9c179e"
             ],
             [
              0.4444444444444444,
              "#bd3786"
             ],
             [
              0.5555555555555556,
              "#d8576b"
             ],
             [
              0.6666666666666666,
              "#ed7953"
             ],
             [
              0.7777777777777778,
              "#fb9f3a"
             ],
             [
              0.8888888888888888,
              "#fdca26"
             ],
             [
              1.0,
              "#f0f921"
             ]
            ]
           }
          ],
          "surface": [
           {
            "type": "surface",
            "colorbar": {
             "outlinewidth": 0,
             "ticks": ""
            },
            "colorscale": [
             [
              0.0,
              "#0d0887"
             ],
             [
              0.1111111111111111,
              "#46039f"
             ],
             [
              0.2222222222222222,
              "#7201a8"
             ],
             [
              0.3333333333333333,
              "#9c179e"
             ],
             [
              0.4444444444444444,
              "#bd3786"
             ],
             [
              0.5555555555555556,
              "#d8576b"
             ],
             [
              0.6666666666666666,
              "#ed7953"
             ],
             [
              0.7777777777777778,
              "#fb9f3a"
             ],
             [
              0.8888888888888888,
              "#fdca26"
             ],
             [
              1.0,
              "#f0f921"
             ]
            ]
           }
          ],
          "mesh3d": [
           {
            "type": "mesh3d",
            "colorbar": {
             "outlinewidth": 0,
             "ticks": ""
            }
           }
          ],
          "scatter": [
           {
            "marker": {
             "line": {
              "color": "#283442"
             }
            },
            "type": "scatter"
           }
          ],
          "parcoords": [
           {
            "type": "parcoords",
            "line": {
             "colorbar": {
              "outlinewidth": 0,
              "ticks": ""
             }
            }
           }
          ],
          "scatterpolargl": [
           {
            "type": "scatterpolargl",
            "marker": {
             "colorbar": {
              "outlinewidth": 0,
              "ticks": ""
             }
            }
           }
          ],
          "bar": [
           {
            "error_x": {
             "color": "#f2f5fa"
            },
            "error_y": {
             "color": "#f2f5fa"
            },
            "marker": {
             "line": {
              "color": "rgb(17,17,17)",
              "width": 0.5
             },
             "pattern": {
              "fillmode": "overlay",
              "size": 10,
              "solidity": 0.2
             }
            },
            "type": "bar"
           }
          ],
          "scattergeo": [
           {
            "type": "scattergeo",
            "marker": {
             "colorbar": {
              "outlinewidth": 0,
              "ticks": ""
             }
            }
           }
          ],
          "scatterpolar": [
           {
            "type": "scatterpolar",
            "marker": {
             "colorbar": {
              "outlinewidth": 0,
              "ticks": ""
             }
            }
           }
          ],
          "histogram": [
           {
            "marker": {
             "pattern": {
              "fillmode": "overlay",
              "size": 10,
              "solidity": 0.2
             }
            },
            "type": "histogram"
           }
          ],
          "scattergl": [
           {
            "marker": {
             "line": {
              "color": "#283442"
             }
            },
            "type": "scattergl"
           }
          ],
          "scatter3d": [
           {
            "type": "scatter3d",
            "line": {
             "colorbar": {
              "outlinewidth": 0,
              "ticks": ""
             }
            },
            "marker": {
             "colorbar": {
              "outlinewidth": 0,
              "ticks": ""
             }
            }
           }
          ],
          "scattermapbox": [
           {
            "type": "scattermapbox",
            "marker": {
             "colorbar": {
              "outlinewidth": 0,
              "ticks": ""
             }
            }
           }
          ],
          "scatterternary": [
           {
            "type": "scatterternary",
            "marker": {
             "colorbar": {
              "outlinewidth": 0,
              "ticks": ""
             }
            }
           }
          ],
          "scattercarpet": [
           {
            "type": "scattercarpet",
            "marker": {
             "colorbar": {
              "outlinewidth": 0,
              "ticks": ""
             }
            }
           }
          ],
          "carpet": [
           {
            "aaxis": {
             "endlinecolor": "#A2B1C6",
             "gridcolor": "#506784",
             "linecolor": "#506784",
             "minorgridcolor": "#506784",
             "startlinecolor": "#A2B1C6"
            },
            "baxis": {
             "endlinecolor": "#A2B1C6",
             "gridcolor": "#506784",
             "linecolor": "#506784",
             "minorgridcolor": "#506784",
             "startlinecolor": "#A2B1C6"
            },
            "type": "carpet"
           }
          ],
          "table": [
           {
            "cells": {
             "fill": {
              "color": "#506784"
             },
             "line": {
              "color": "rgb(17,17,17)"
             }
            },
            "header": {
             "fill": {
              "color": "#2a3f5f"
             },
             "line": {
              "color": "rgb(17,17,17)"
             }
            },
            "type": "table"
           }
          ],
          "barpolar": [
           {
            "marker": {
             "line": {
              "color": "rgb(17,17,17)",
              "width": 0.5
             },
             "pattern": {
              "fillmode": "overlay",
              "size": 10,
              "solidity": 0.2
             }
            },
            "type": "barpolar"
           }
          ],
          "pie": [
           {
            "automargin": true,
            "type": "pie"
           }
          ]
         },
         "layout": {
          "autotypenumbers": "strict",
          "colorway": [
           "#636efa",
           "#EF553B",
           "#00cc96",
           "#ab63fa",
           "#FFA15A",
           "#19d3f3",
           "#FF6692",
           "#B6E880",
           "#FF97FF",
           "#FECB52"
          ],
          "font": {
           "color": "#f2f5fa"
          },
          "hovermode": "closest",
          "hoverlabel": {
           "align": "left"
          },
          "paper_bgcolor": "rgb(17,17,17)",
          "plot_bgcolor": "rgb(17,17,17)",
          "polar": {
           "bgcolor": "rgb(17,17,17)",
           "angularaxis": {
            "gridcolor": "#506784",
            "linecolor": "#506784",
            "ticks": ""
           },
           "radialaxis": {
            "gridcolor": "#506784",
            "linecolor": "#506784",
            "ticks": ""
           }
          },
          "ternary": {
           "bgcolor": "rgb(17,17,17)",
           "aaxis": {
            "gridcolor": "#506784",
            "linecolor": "#506784",
            "ticks": ""
           },
           "baxis": {
            "gridcolor": "#506784",
            "linecolor": "#506784",
            "ticks": ""
           },
           "caxis": {
            "gridcolor": "#506784",
            "linecolor": "#506784",
            "ticks": ""
           }
          },
          "coloraxis": {
           "colorbar": {
            "outlinewidth": 0,
            "ticks": ""
           }
          },
          "colorscale": {
           "sequential": [
            [
             0.0,
             "#0d0887"
            ],
            [
             0.1111111111111111,
             "#46039f"
            ],
            [
             0.2222222222222222,
             "#7201a8"
            ],
            [
             0.3333333333333333,
             "#9c179e"
            ],
            [
             0.4444444444444444,
             "#bd3786"
            ],
            [
             0.5555555555555556,
             "#d8576b"
            ],
            [
             0.6666666666666666,
             "#ed7953"
            ],
            [
             0.7777777777777778,
             "#fb9f3a"
            ],
            [
             0.8888888888888888,
             "#fdca26"
            ],
            [
             1.0,
             "#f0f921"
            ]
           ],
           "sequentialminus": [
            [
             0.0,
             "#0d0887"
            ],
            [
             0.1111111111111111,
             "#46039f"
            ],
            [
             0.2222222222222222,
             "#7201a8"
            ],
            [
             0.3333333333333333,
             "#9c179e"
            ],
            [
             0.4444444444444444,
             "#bd3786"
            ],
            [
             0.5555555555555556,
             "#d8576b"
            ],
            [
             0.6666666666666666,
             "#ed7953"
            ],
            [
             0.7777777777777778,
             "#fb9f3a"
            ],
            [
             0.8888888888888888,
             "#fdca26"
            ],
            [
             1.0,
             "#f0f921"
            ]
           ],
           "diverging": [
            [
             0,
             "#8e0152"
            ],
            [
             0.1,
             "#c51b7d"
            ],
            [
             0.2,
             "#de77ae"
            ],
            [
             0.3,
             "#f1b6da"
            ],
            [
             0.4,
             "#fde0ef"
            ],
            [
             0.5,
             "#f7f7f7"
            ],
            [
             0.6,
             "#e6f5d0"
            ],
            [
             0.7,
             "#b8e186"
            ],
            [
             0.8,
             "#7fbc41"
            ],
            [
             0.9,
             "#4d9221"
            ],
            [
             1,
             "#276419"
            ]
           ]
          },
          "xaxis": {
           "gridcolor": "#283442",
           "linecolor": "#506784",
           "ticks": "",
           "title": {
            "standoff": 15
           },
           "zerolinecolor": "#283442",
           "automargin": true,
           "zerolinewidth": 2
          },
          "yaxis": {
           "gridcolor": "#283442",
           "linecolor": "#506784",
           "ticks": "",
           "title": {
            "standoff": 15
           },
           "zerolinecolor": "#283442",
           "automargin": true,
           "zerolinewidth": 2
          },
          "scene": {
           "xaxis": {
            "backgroundcolor": "rgb(17,17,17)",
            "gridcolor": "#506784",
            "linecolor": "#506784",
            "showbackground": true,
            "ticks": "",
            "zerolinecolor": "#C8D4E3",
            "gridwidth": 2
           },
           "yaxis": {
            "backgroundcolor": "rgb(17,17,17)",
            "gridcolor": "#506784",
            "linecolor": "#506784",
            "showbackground": true,
            "ticks": "",
            "zerolinecolor": "#C8D4E3",
            "gridwidth": 2
           },
           "zaxis": {
            "backgroundcolor": "rgb(17,17,17)",
            "gridcolor": "#506784",
            "linecolor": "#506784",
            "showbackground": true,
            "ticks": "",
            "zerolinecolor": "#C8D4E3",
            "gridwidth": 2
           }
          },
          "shapedefaults": {
           "line": {
            "color": "#f2f5fa"
           }
          },
          "annotationdefaults": {
           "arrowcolor": "#f2f5fa",
           "arrowhead": 0,
           "arrowwidth": 1
          },
          "geo": {
           "bgcolor": "rgb(17,17,17)",
           "landcolor": "rgb(17,17,17)",
           "subunitcolor": "#506784",
           "showland": true,
           "showlakes": true,
           "lakecolor": "rgb(17,17,17)"
          },
          "title": {
           "x": 0.05
          },
          "updatemenudefaults": {
           "bgcolor": "#506784",
           "borderwidth": 0
          },
          "sliderdefaults": {
           "bgcolor": "#C8D4E3",
           "borderwidth": 1,
           "bordercolor": "rgb(17,17,17)",
           "tickwidth": 0
          },
          "mapbox": {
           "style": "dark"
          }
         }
        },
        "xaxis": {
         "anchor": "y",
         "domain": [
          0.0,
          0.2888888888888889
         ]
        },
        "yaxis": {
         "anchor": "x",
         "domain": [
          0.7777777777777778,
          1.0
         ]
        },
        "xaxis2": {
         "anchor": "y2",
         "domain": [
          0.35555555555555557,
          0.6444444444444445
         ]
        },
        "yaxis2": {
         "anchor": "x2",
         "domain": [
          0.7777777777777778,
          1.0
         ]
        },
        "xaxis3": {
         "anchor": "y3",
         "domain": [
          0.7111111111111111,
          1.0
         ]
        },
        "yaxis3": {
         "anchor": "x3",
         "domain": [
          0.7777777777777778,
          1.0
         ]
        },
        "xaxis4": {
         "anchor": "y4",
         "domain": [
          0.0,
          0.2888888888888889
         ]
        },
        "yaxis4": {
         "anchor": "x4",
         "domain": [
          0.3888888888888889,
          0.6111111111111112
         ]
        },
        "xaxis5": {
         "anchor": "y5",
         "domain": [
          0.35555555555555557,
          0.6444444444444445
         ]
        },
        "yaxis5": {
         "anchor": "x5",
         "domain": [
          0.3888888888888889,
          0.6111111111111112
         ]
        },
        "xaxis6": {
         "anchor": "y6",
         "domain": [
          0.7111111111111111,
          1.0
         ]
        },
        "yaxis6": {
         "anchor": "x6",
         "domain": [
          0.3888888888888889,
          0.6111111111111112
         ]
        },
        "xaxis7": {
         "anchor": "y7",
         "domain": [
          0.0,
          0.2888888888888889
         ]
        },
        "yaxis7": {
         "anchor": "x7",
         "domain": [
          0.0,
          0.22222222222222224
         ]
        },
        "xaxis8": {
         "anchor": "y8",
         "domain": [
          0.35555555555555557,
          0.6444444444444445
         ]
        },
        "yaxis8": {
         "anchor": "x8",
         "domain": [
          0.0,
          0.22222222222222224
         ]
        },
        "xaxis9": {
         "anchor": "y9",
         "domain": [
          0.7111111111111111,
          1.0
         ]
        },
        "yaxis9": {
         "anchor": "x9",
         "domain": [
          0.0,
          0.22222222222222224
         ]
        },
        "annotations": [
         {
          "font": {
           "size": 16
          },
          "showarrow": false,
          "text": "Distribution of duration",
          "x": 0.14444444444444446,
          "xanchor": "center",
          "xref": "paper",
          "y": 1.0,
          "yanchor": "bottom",
          "yref": "paper"
         },
         {
          "font": {
           "size": 16
          },
          "showarrow": false,
          "text": "Distribution of amount",
          "x": 0.5,
          "xanchor": "center",
          "xref": "paper",
          "y": 1.0,
          "yanchor": "bottom",
          "yref": "paper"
         },
         {
          "font": {
           "size": 16
          },
          "showarrow": false,
          "text": "Distribution of installment_rate",
          "x": 0.8555555555555556,
          "xanchor": "center",
          "xref": "paper",
          "y": 1.0,
          "yanchor": "bottom",
          "yref": "paper"
         },
         {
          "font": {
           "size": 16
          },
          "showarrow": false,
          "text": "Distribution of age",
          "x": 0.14444444444444446,
          "xanchor": "center",
          "xref": "paper",
          "y": 0.6111111111111112,
          "yanchor": "bottom",
          "yref": "paper"
         },
         {
          "font": {
           "size": 16
          },
          "showarrow": false,
          "text": "Distribution of number_credits",
          "x": 0.5,
          "xanchor": "center",
          "xref": "paper",
          "y": 0.6111111111111112,
          "yanchor": "bottom",
          "yref": "paper"
         },
         {
          "font": {
           "size": 16
          },
          "showarrow": false,
          "text": "Distribution of people_liable",
          "x": 0.8555555555555556,
          "xanchor": "center",
          "xref": "paper",
          "y": 0.6111111111111112,
          "yanchor": "bottom",
          "yref": "paper"
         },
         {
          "font": {
           "size": 16
          },
          "showarrow": false,
          "text": "Distribution of present_residence",
          "x": 0.14444444444444446,
          "xanchor": "center",
          "xref": "paper",
          "y": 0.22222222222222224,
          "yanchor": "bottom",
          "yref": "paper"
         }
        ],
        "shapes": [
         {
          "line": {
           "color": "red",
           "dash": "dot",
           "width": 1
          },
          "type": "line",
          "x0": 18.0,
          "x1": 18.0,
          "xref": "x",
          "y0": 0,
          "y1": 1,
          "yref": "y"
         },
         {
          "line": {
           "color": "red",
           "dash": "dot",
           "width": 1
          },
          "type": "line",
          "x0": 2319.5,
          "x1": 2319.5,
          "xref": "x2",
          "y0": 0,
          "y1": 1,
          "yref": "y2"
         },
         {
          "line": {
           "color": "red",
           "dash": "dot",
           "width": 1
          },
          "type": "line",
          "x0": 3.0,
          "x1": 3.0,
          "xref": "x3",
          "y0": 0,
          "y1": 1,
          "yref": "y3"
         },
         {
          "line": {
           "color": "red",
           "dash": "dot",
           "width": 1
          },
          "type": "line",
          "x0": 33.0,
          "x1": 33.0,
          "xref": "x4",
          "y0": 0,
          "y1": 1,
          "yref": "y4"
         },
         {
          "line": {
           "color": "red",
           "dash": "dot",
           "width": 1
          },
          "type": "line",
          "x0": 1.0,
          "x1": 1.0,
          "xref": "x5",
          "y0": 0,
          "y1": 1,
          "yref": "y5"
         },
         {
          "line": {
           "color": "red",
           "dash": "dot",
           "width": 1
          },
          "type": "line",
          "x0": 1.0,
          "x1": 1.0,
          "xref": "x6",
          "y0": 0,
          "y1": 1,
          "yref": "y6"
         },
         {
          "line": {
           "color": "red",
           "dash": "dot",
           "width": 1
          },
          "type": "line",
          "x0": 3.0,
          "x1": 3.0,
          "xref": "x7",
          "y0": 0,
          "y1": 1,
          "yref": "y7"
         }
        ],
        "title": {
         "text": "Numerical Feature Analysis"
        },
        "margin": {
         "t": 100
        },
        "height": 900,
        "showlegend": false
       },
       "config": {
        "plotlyServerURL": "https://plot.ly"
       }
      },
      "text/html": [
       "<div>                            <div id=\"3fc7564a-d55a-4bab-97a9-781c1cc466a2\" class=\"plotly-graph-div\" style=\"height:900px; width:100%;\"></div>            <script type=\"text/javascript\">                require([\"plotly\"], function(Plotly) {                    window.PLOTLYENV=window.PLOTLYENV || {};                                    if (document.getElementById(\"3fc7564a-d55a-4bab-97a9-781c1cc466a2\")) {                    Plotly.newPlot(                        \"3fc7564a-d55a-4bab-97a9-781c1cc466a2\",                        [{\"marker\":{\"color\":\"#EF553B\"},\"name\":\"duration\",\"nbinsx\":25,\"x\":[6,48,12,42,24,36,24,36,12,30,12,48,12,24,15,24,24,30,24,24,9,6,10,12,10,6,6,12,7,60,18,24,18,12,12,45,48,18,10,9,30,12,18,30,48,11,36,6,11,12,24,27,12,18,36,6,12,36,18,36,9,15,36,48,24,27,12,12,36,36,36,7,8,42,36,12,42,11,54,30,24,15,18,24,10,12,18,36,18,12,12,12,12,24,12,54,12,18,36,20,24,36,6,9,12,24,18,12,24,14,6,15,18,36,12,48,42,10,33,12,21,24,12,10,18,12,12,12,12,12,48,36,15,18,60,12,27,12,15,12,6,36,27,18,21,48,6,12,36,18,6,10,36,24,24,12,9,12,24,6,24,18,15,10,36,6,18,11,24,24,15,12,24,8,21,30,12,6,12,21,36,36,21,24,18,15,9,16,12,18,24,48,27,6,45,9,6,12,24,18,9,12,27,12,12,30,12,12,24,12,9,36,27,30,36,6,18,36,24,10,12,12,12,24,15,36,48,12,9,24,36,9,12,18,4,24,6,21,12,30,24,6,48,12,12,24,12,6,24,18,6,12,30,24,9,60,24,12,15,11,12,24,18,12,10,15,36,24,14,24,18,12,48,48,30,9,18,12,6,24,15,12,18,15,24,47,48,48,12,24,12,36,24,42,48,48,12,10,18,21,6,36,24,10,48,6,30,12,8,9,48,24,24,12,4,36,12,24,12,15,30,24,24,18,18,8,12,24,36,6,24,18,60,48,24,6,13,15,24,10,24,21,18,18,10,15,13,24,6,9,9,9,18,12,10,24,12,36,12,30,18,12,12,6,18,12,18,18,36,18,36,18,10,60,60,48,18,7,36,6,20,18,22,12,30,18,18,18,15,9,18,12,36,6,9,39,12,36,12,24,18,18,24,14,18,24,24,15,24,12,24,33,12,10,24,36,12,18,21,18,15,12,12,21,12,18,28,18,9,18,5,24,6,24,9,12,6,24,42,12,12,12,20,12,48,9,36,7,12,15,36,6,12,24,24,24,11,12,6,18,36,15,12,12,18,24,24,48,33,24,24,6,9,6,18,18,39,24,12,15,12,24,30,15,12,6,12,24,10,6,12,27,6,6,12,24,36,24,18,6,24,36,9,24,24,10,15,15,24,39,12,36,15,12,24,6,6,36,6,6,24,18,48,24,18,26,15,4,36,6,36,15,12,24,24,21,6,18,48,18,12,24,30,18,12,24,24,24,12,48,12,6,48,12,9,12,18,21,24,18,24,24,6,36,24,24,12,24,48,48,24,30,24,15,9,15,12,24,36,24,18,12,9,36,12,18,9,12,18,12,12,24,21,24,24,6,24,24,18,24,7,9,24,36,10,24,24,36,18,15,12,10,21,24,18,48,60,6,30,12,21,18,48,12,18,15,6,9,42,9,24,18,15,9,24,12,24,60,12,42,18,15,15,24,18,36,30,12,24,12,48,12,24,36,24,14,12,48,30,18,12,12,21,6,6,24,30,48,12,30,24,36,60,6,21,30,24,72,24,18,6,12,15,24,36,60,10,36,9,12,15,15,24,6,24,6,12,12,18,15,12,48,24,30,27,15,48,12,9,9,18,6,21,9,60,30,30,18,24,20,9,6,12,9,27,6,15,18,48,24,24,24,8,24,4,36,24,18,6,30,24,10,21,24,39,13,15,12,21,15,6,18,12,30,12,24,6,15,24,12,15,18,12,21,24,12,30,10,12,12,24,36,21,24,12,24,36,18,36,18,39,24,12,12,20,18,22,48,48,40,21,24,6,24,24,9,18,12,24,9,24,18,20,12,12,36,6,12,42,15,8,6,36,48,48,36,6,6,36,18,12,12,36,8,18,21,18,18,36,48,24,18,45,24,15,12,12,4,24,24,36,21,18,24,18,21,18,24,9,12,20,24,15,18,36,24,10,15,15,9,24,18,24,27,10,15,18,12,36,12,36,6,24,15,12,11,18,36,9,30,24,24,30,18,24,12,24,48,36,28,27,15,12,36,18,36,21,12,15,18,16,20,36,15,24,12,21,36,15,9,36,24,30,11,24,48,10,6,24,24,18,48,9,12,24,12,18,48,30,12,24,9,9,12,12,30,9,6,60,24,12,10,24,4,15,48,24,12,18,24,18,36,24,36,12,24,30,9,28,24,6,21,15,24,6,30,27,15,42,11,15,24,24,60,30,24,6,18,24,15,30,48,21,36,24,15,42,13,24,24,12,15,18,36,12,12,30,12,45,45],\"type\":\"histogram\",\"xaxis\":\"x\",\"yaxis\":\"y\"},{\"marker\":{\"color\":\"#EF553B\"},\"name\":\"amount\",\"nbinsx\":25,\"x\":[1169,5951,2096,7882,4870,9055,2835,6948,3059,5234,1295,4308,1567,1199,1403,1282,2424,8072,12579,3430,2134,2647,2241,1804,2069,1374,426,409,2415,6836,1913,4020,5866,1264,1474,4746,6110,2100,1225,458,2333,1158,6204,6187,6143,1393,2299,1352,7228,2073,2333,5965,1262,3378,2225,783,6468,9566,1961,6229,1391,1537,1953,14421,3181,5190,2171,1007,1819,2394,8133,730,1164,5954,1977,1526,3965,4771,9436,3832,5943,1213,1568,1755,2315,1412,1295,12612,2249,1108,618,1409,797,3617,1318,15945,2012,2622,2337,7057,1469,2323,932,1919,2445,11938,6458,6078,7721,1410,1449,392,6260,7855,1680,3578,7174,2132,4281,2366,1835,3868,1768,781,1924,2121,701,639,1860,3499,8487,6887,2708,1984,10144,1240,8613,766,2728,1881,709,4795,3416,2462,2288,3566,860,682,5371,1582,1346,1924,5848,7758,6967,1282,1288,339,3512,1898,2872,1055,1262,7308,909,2978,1131,1577,3972,1935,950,763,2064,1414,3414,7485,2577,338,1963,571,9572,4455,1647,3777,884,1360,5129,1175,674,3244,4591,3844,3915,2108,3031,1501,1382,951,2760,4297,936,1168,5117,902,1495,10623,1935,1424,6568,1413,3074,3835,5293,1908,3342,932,3104,3913,3021,1364,625,1200,707,2978,4657,2613,10961,7865,1478,3149,4210,2507,2141,866,1544,1823,14555,2767,1291,2522,915,1595,4605,1185,3447,1258,717,1204,1925,433,666,2251,2150,4151,2030,7418,2684,2149,3812,1154,1657,1603,5302,2748,1231,802,6304,1533,8978,999,2662,1402,12169,3060,11998,2697,2404,1262,4611,1901,3368,1574,1445,1520,3878,10722,4788,7582,1092,1024,1076,9398,6419,4796,7629,9960,4675,1287,2515,2745,672,3804,1344,1038,10127,1543,4811,727,1237,276,5381,5511,3749,685,1494,2746,708,4351,701,3643,4249,1938,2910,2659,1028,3398,5801,1525,4473,1068,6615,1864,7408,11590,4110,3384,2101,1275,4169,1521,5743,3599,3213,4439,3949,1459,882,3758,1743,1136,1236,959,3229,6199,727,1246,2331,4463,776,2406,1239,3399,2247,1766,2473,1542,3850,3650,3446,3001,3079,6070,2146,13756,14782,7685,2320,846,14318,362,2212,12976,1283,1330,4272,2238,1126,7374,2326,1449,1820,983,3249,1957,2406,11760,2578,2348,1223,1516,1473,1887,8648,802,2899,2039,2197,1053,3235,939,1967,7253,2292,1597,1381,5842,2579,8471,2782,1042,3186,2028,958,1591,2762,2779,2743,1149,1313,1190,3448,11328,1872,2058,2136,1484,660,1287,3394,609,1884,1620,2629,719,5096,1244,1842,2576,1424,1512,11054,518,2759,2670,4817,2679,3905,3386,343,4594,3620,1721,3017,754,1950,2924,1659,7238,2764,4679,3092,448,654,1238,1245,3114,2569,5152,1037,1478,3573,1201,3622,960,1163,1209,3077,3757,1418,3518,1934,8318,1237,368,2122,2996,9034,1585,1301,1323,3123,5493,1126,1216,1207,1309,2360,6850,1413,8588,759,4686,2687,585,2255,609,1361,7127,1203,700,5507,3190,7119,3488,1113,7966,1532,1503,2302,662,2273,2631,1503,1311,3105,2319,1374,3612,7763,3049,1534,2032,6350,2864,1255,1333,2022,1552,626,8858,996,1750,6999,1995,1199,1331,2278,5003,3552,1928,2964,1546,683,12389,4712,1553,1372,2578,3979,6758,3234,5954,5433,806,1082,2788,2930,1927,2820,937,1056,3124,1388,2384,2133,2039,2799,1289,1217,2246,385,1965,1572,2718,1358,931,1442,4241,2775,3863,2329,918,1837,3349,1275,2828,4526,2671,2051,1300,741,1240,3357,3632,1808,12204,9157,3676,3441,640,3652,1530,3914,1858,2600,1979,2116,1437,4042,3832,3660,1553,1444,1980,1355,1393,1376,15653,1493,4370,750,1308,4623,1851,1880,7980,4583,1386,947,684,7476,1922,2303,8086,2346,3973,888,10222,4221,6361,1297,900,2241,1050,1047,6314,3496,3609,4843,3017,4139,5742,10366,2080,2580,4530,5150,5595,2384,1453,1538,2279,1478,5103,9857,6527,1347,2862,2753,3651,975,2631,2896,4716,2284,1236,1103,926,1800,1905,1123,6331,1377,2503,2528,5324,6560,2969,1206,2118,629,1198,2476,1138,14027,7596,3077,1505,3148,6148,1337,433,1228,790,2570,250,1316,1882,6416,1275,6403,1987,760,2603,3380,3990,11560,4380,6761,4280,2325,1048,3160,2483,14179,1797,2511,1274,5248,3029,428,976,841,5771,1555,1285,1299,1271,1393,691,5045,2124,2214,12680,2463,1155,3108,2901,3617,1655,2812,8065,3275,2223,1480,1371,3535,3509,5711,3872,4933,1940,1410,836,6468,1941,2675,2751,6224,5998,1188,6313,1221,2892,3062,2301,7511,1258,717,1549,1597,1795,4272,976,7472,9271,590,930,9283,1778,907,484,9629,3051,3931,7432,1338,1554,15857,1345,1101,3016,2712,731,3780,1602,3966,4165,8335,6681,2375,1216,11816,5084,2327,1082,886,601,2957,2611,5179,2993,1943,1559,3422,3976,6761,1249,1364,709,2235,4042,1471,1442,10875,1474,894,3343,3959,3577,5804,2169,2439,4526,2210,2221,2389,3331,7409,652,7678,1343,1382,874,3590,1322,1940,3595,1422,6742,7814,9277,2181,1098,4057,795,2825,15672,6614,7824,2442,1829,2171,5800,1169,8947,2606,1592,2186,4153,2625,3485,10477,1386,1278,1107,3763,3711,3594,3195,4454,4736,2991,2142,3161,18424,2848,14896,2359,3345,1817,12749,1366,2002,6872,697,1049,10297,1867,1344,1747,1670,1224,522,1498,1919,745,2063,6288,6842,3527,1546,929,1455,1845,8358,3349,2859,1533,3621,3590,2145,4113,10974,1893,1231,3656,1154,4006,3069,1740,2353,3556,2397,454,1715,2520,3568,7166,3939,1514,7393,1193,7297,2831,1258,753,2427,2538,1264,8386,4844,2923,8229,2028,1433,6289,1409,6579,1743,3565,1569,1936,3959,2390,1736,3857,804,1845,4576],\"type\":\"histogram\",\"xaxis\":\"x2\",\"yaxis\":\"y2\"},{\"marker\":{\"color\":\"#EF553B\"},\"name\":\"installment_rate\",\"nbinsx\":25,\"x\":[4,2,2,2,3,2,3,2,2,4,3,3,1,4,2,4,4,2,4,3,4,2,1,3,2,1,4,3,3,3,3,2,2,4,4,4,1,4,2,4,4,3,2,1,4,4,4,1,1,4,4,1,3,2,4,1,2,2,3,4,2,4,4,2,4,4,2,4,4,4,1,4,3,2,4,4,4,2,2,2,1,4,3,4,3,4,4,1,4,4,4,4,4,4,4,3,4,4,4,3,4,4,3,4,2,2,2,2,1,1,1,4,3,4,3,4,4,2,1,3,3,4,3,4,4,4,4,4,4,3,1,4,2,4,2,4,2,4,4,2,2,4,3,2,4,4,1,4,3,4,2,1,4,2,4,2,3,4,2,1,3,4,4,2,4,1,4,4,2,4,4,4,3,4,2,4,2,4,4,4,1,2,4,4,4,4,2,2,4,1,2,4,4,2,4,2,1,4,4,4,4,4,3,4,4,3,4,4,2,3,1,2,2,4,4,1,3,2,2,2,4,4,4,4,3,4,1,4,4,4,4,2,3,4,2,4,1,4,4,1,4,3,3,3,4,4,4,4,2,3,3,1,4,2,2,1,4,4,1,4,2,4,2,2,3,4,4,4,1,4,4,3,4,4,1,1,2,2,1,4,3,4,4,4,4,1,4,2,4,4,2,1,2,4,4,1,1,4,3,3,1,4,4,4,2,4,2,4,3,4,3,4,2,2,1,4,2,1,4,1,4,4,2,4,4,1,2,4,4,4,2,4,4,2,3,1,2,4,4,4,2,1,1,1,1,4,4,1,1,4,1,1,2,4,4,4,1,4,4,4,4,2,2,1,4,2,3,1,4,2,4,3,1,2,3,2,2,3,4,4,4,3,4,4,2,2,4,4,2,3,2,1,2,1,2,2,3,3,1,4,3,4,2,4,4,1,4,4,3,4,4,3,4,3,4,2,4,1,1,4,2,4,2,4,1,1,4,4,1,2,1,2,4,4,3,2,2,4,4,4,4,2,2,4,2,4,4,2,3,3,4,3,2,4,2,4,2,3,4,3,1,2,3,4,4,3,4,3,2,3,3,4,4,4,4,1,4,4,3,4,1,4,4,3,4,4,2,4,3,2,2,2,1,4,3,2,4,4,4,2,4,2,2,4,4,4,2,1,4,4,4,2,2,4,4,4,2,2,3,4,3,2,3,3,4,2,4,2,4,3,3,2,4,4,4,2,4,3,4,1,1,4,4,2,4,4,4,3,4,2,4,2,1,4,4,2,3,1,3,2,4,4,2,1,4,3,2,2,4,3,4,3,2,4,4,2,2,3,4,4,3,1,4,4,4,1,2,4,4,3,4,4,4,3,4,1,4,1,2,1,1,4,4,4,4,4,3,4,4,4,4,1,4,1,4,2,2,1,2,4,2,3,4,4,4,4,2,2,4,1,2,4,4,2,3,4,4,2,4,3,4,4,3,4,4,4,2,2,4,4,4,4,4,2,4,1,4,4,2,2,3,4,4,4,2,4,4,1,3,4,3,2,2,1,4,4,4,2,4,3,1,4,4,3,1,4,4,4,3,1,2,3,2,1,4,2,4,1,4,4,4,4,4,4,4,1,3,4,4,2,4,4,4,4,4,1,3,4,3,3,4,4,4,4,3,2,2,4,4,2,1,2,4,2,1,3,1,3,1,4,2,4,4,4,4,3,1,3,1,2,2,1,2,4,4,4,1,3,2,4,1,4,4,4,4,3,2,1,1,2,2,3,1,4,2,4,4,4,4,2,2,4,2,4,1,4,3,4,4,4,2,3,1,3,4,2,1,2,4,4,4,3,1,4,1,2,3,4,1,2,3,3,4,3,4,2,1,1,2,4,3,3,2,4,3,4,1,2,3,4,4,4,2,2,2,4,4,1,4,4,4,3,4,4,4,2,2,4,3,4,4,3,4,4,2,4,4,4,3,1,4,4,4,4,2,2,4,2,3,4,2,1,4,4,2,4,3,4,3,2,3,2,4,4,3,4,4,2,4,3,4,4,4,3,4,3,4,3,1,2,2,2,2,4,4,2,2,2,1,1,4,2,2,1,4,1,1,1,1,4,4,4,3,3,2,4,4,4,4,4,4,4,3,4,4,4,3,4,4,2,2,3,4,2,4,1,4,4,4,2,3,2,3,4,4,4,4,2,3,4,2,1,3,3,3,4,4,4,2,1,4,1,1,4,4,3,2,4,4,2,2,3,1,2,2,4,2,2,4,4,2,4,2,4,4,3,4,4,4,3],\"type\":\"histogram\",\"xaxis\":\"x3\",\"yaxis\":\"y3\"},{\"marker\":{\"color\":\"#EF553B\"},\"name\":\"age\",\"nbinsx\":25,\"x\":[67,22,49,45,53,35,53,35,61,28,25,24,22,60,28,32,53,25,44,31,48,44,48,44,26,36,39,42,34,63,36,27,30,57,33,25,31,37,37,24,30,26,44,24,58,35,39,23,39,28,29,30,25,31,57,26,52,31,23,23,27,50,61,25,26,48,29,22,37,25,30,46,51,41,40,66,34,51,39,22,44,47,24,58,52,29,27,47,30,28,56,54,33,20,54,58,61,34,36,36,41,24,24,35,26,39,39,32,30,35,31,23,28,25,35,47,30,27,23,36,25,41,24,63,27,30,40,30,34,29,24,29,27,47,21,38,27,66,35,44,27,30,27,22,23,30,39,51,28,46,42,38,24,29,36,20,48,45,38,34,36,30,36,70,36,32,33,20,25,31,33,26,34,33,26,53,42,52,31,65,28,30,40,50,36,31,74,68,20,33,54,34,36,29,21,34,28,27,36,40,52,27,26,21,38,38,43,26,21,55,33,45,50,66,51,39,31,23,24,64,26,23,30,32,30,27,27,53,22,22,26,51,35,25,42,30,23,61,35,39,29,51,24,27,35,25,52,35,26,22,39,46,24,35,24,27,35,29,23,57,27,55,36,57,32,37,36,38,45,25,32,37,36,28,34,32,26,49,32,29,23,50,49,63,37,35,26,31,49,48,26,28,44,56,46,26,20,45,43,32,54,42,37,49,44,33,24,33,24,22,40,25,26,25,29,31,38,48,32,27,28,32,34,28,36,39,49,34,31,28,75,30,24,24,23,44,23,24,28,31,24,26,25,33,37,43,23,23,34,32,23,29,38,28,46,23,49,26,28,23,61,37,36,21,25,36,27,22,42,40,36,33,23,63,60,37,34,36,57,52,39,38,25,26,26,25,21,40,27,27,30,19,39,31,31,32,55,46,46,43,39,28,27,27,43,22,43,27,26,28,20,35,42,40,35,35,33,23,31,33,20,30,47,34,25,21,29,46,20,55,74,29,36,33,25,25,23,37,65,26,39,30,29,41,30,41,34,35,55,61,30,29,34,35,31,29,36,35,27,32,37,36,34,38,34,63,29,32,26,35,22,23,28,36,33,26,24,25,39,44,23,26,57,30,44,47,52,62,35,26,26,42,27,38,39,20,29,40,32,28,27,42,49,38,24,27,36,34,28,45,26,32,26,20,54,37,40,23,43,36,44,24,53,23,26,30,31,42,31,41,32,28,41,26,25,33,75,37,42,45,23,60,31,34,61,43,37,32,24,35,23,45,34,27,67,22,28,29,27,31,49,24,29,37,37,23,36,34,41,31,23,38,26,22,27,24,27,33,27,27,30,49,26,33,52,20,36,21,47,60,58,42,36,20,40,32,23,36,31,32,45,30,34,28,23,22,74,50,33,45,22,48,29,22,22,48,27,37,21,49,27,32,38,22,65,35,41,29,36,64,28,44,23,19,25,47,28,21,34,26,27,38,40,33,32,27,32,26,38,40,50,37,45,42,35,22,41,37,28,41,23,23,50,35,50,27,34,27,43,47,27,31,42,24,41,26,33,24,64,26,56,37,33,47,31,34,27,30,35,31,25,25,29,44,28,50,29,38,24,40,29,46,47,41,32,35,24,25,25,37,32,35,46,25,27,63,40,32,31,31,34,24,24,66,21,41,47,25,59,36,33,21,44,28,37,29,23,35,45,26,32,23,41,22,30,28,23,37,26,33,49,23,23,25,55,32,74,39,31,35,59,24,24,30,27,40,31,31,28,63,26,25,36,52,66,25,37,25,38,67,25,60,31,23,60,35,40,38,50,27,39,41,27,51,32,22,51,22,54,35,54,48,24,35,24,24,26,65,55,26,26,28,24,54,46,54,62,24,43,26,27,24,41,47,35,30,33,36,47,38,44,23,29,42,25,48,21,23,63,46,29,28,23,50,47,35,68,28,59,57,33,43,35,32,45,33,40,28,29,26,27,28,35,32,25,20,27,42,37,24,40,46,26,24,29,40,36,28,27,36,38,48,36,65,43,53,34,23,34,40,43,46,38,34,29,31,28,35,33,42,43,44,42,40,36,20,24,27,46,33,34,25,25,28,31,32,32,68,33,39,28,37,22,30,55,46,21,39,58,43,24,22,30,42,23,30,28,30,42,46,45,31,31,42,46,30,30,38,43,31,40,24,28,26,29,57,49,37,45,30,30,47,29,35,22,26,23,54,29,40,22,43,29,36,33,57,64,42,47,25,49,33,28,26,30,25,33,64,29,48,37,34,23,30,50,31,40,38,23,27],\"type\":\"histogram\",\"xaxis\":\"x4\",\"yaxis\":\"y4\"},{\"marker\":{\"color\":\"#EF553B\"},\"name\":\"number_credits\",\"nbinsx\":25,\"x\":[2,1,1,1,2,1,1,1,1,2,1,1,1,2,1,1,2,3,1,1,3,1,2,1,2,1,1,2,1,2,1,1,2,1,1,2,1,1,1,1,1,1,1,2,2,2,1,1,2,1,1,2,1,1,2,1,1,2,1,2,1,2,1,1,1,4,1,1,1,1,1,2,2,2,1,2,1,1,1,1,2,1,1,1,1,2,2,1,1,2,1,1,1,2,1,1,1,1,1,2,1,1,1,1,1,2,2,1,1,1,2,1,1,2,1,1,1,2,2,1,2,2,1,2,1,2,1,1,2,2,1,1,2,2,1,2,2,1,3,1,1,1,1,1,1,1,2,2,2,2,1,1,1,1,1,1,2,1,2,2,1,2,2,1,1,1,1,1,1,2,2,1,1,1,2,1,1,2,2,2,2,2,2,1,1,2,1,3,1,2,3,1,1,1,1,2,2,4,1,1,2,1,2,1,2,3,3,1,1,1,2,1,2,1,1,2,1,1,1,1,1,1,2,2,1,2,2,1,1,1,1,1,1,1,3,1,1,2,2,1,1,1,2,2,1,1,3,1,1,1,2,1,1,2,1,1,2,1,1,3,1,1,3,3,2,1,2,1,1,2,1,1,1,2,1,1,2,1,1,1,2,1,1,1,1,1,1,1,2,1,1,1,2,1,2,1,1,1,1,2,1,1,2,2,1,1,1,1,1,1,1,1,1,1,1,1,1,1,2,2,2,1,1,1,2,2,1,1,1,1,2,2,1,2,2,1,1,1,1,1,2,1,1,1,1,1,2,1,2,2,1,1,1,2,1,1,1,2,1,1,1,1,2,1,1,1,2,1,1,1,1,2,2,1,2,1,2,1,1,2,1,1,1,1,2,2,1,2,1,2,1,1,1,1,1,1,1,2,2,2,1,2,2,2,1,1,2,1,1,3,1,2,2,1,1,2,1,2,1,1,1,1,2,2,1,1,2,2,1,3,1,2,3,2,1,1,1,2,2,1,1,1,2,1,1,2,1,1,1,2,1,1,2,1,1,1,2,1,1,1,1,1,1,2,2,1,1,2,2,2,1,1,1,1,1,1,1,1,1,2,1,1,2,2,1,1,1,1,1,1,2,2,2,1,2,1,1,2,1,2,1,1,1,2,1,1,1,1,1,1,1,1,1,2,1,2,1,2,1,2,2,1,2,1,1,2,1,2,1,1,2,2,1,1,2,1,1,1,1,1,1,2,1,1,2,2,1,1,1,2,2,1,2,1,2,1,2,2,1,2,1,1,1,1,2,2,1,1,2,1,1,1,1,1,2,2,1,2,2,2,2,2,1,1,1,1,2,1,1,2,4,2,1,1,1,1,2,3,2,1,1,1,1,1,1,1,1,1,1,1,1,1,1,1,1,1,1,3,1,1,2,2,1,1,2,1,1,1,2,1,1,1,1,2,1,3,1,2,1,2,1,2,1,2,2,2,2,1,1,1,1,1,1,4,2,1,1,1,2,1,1,1,2,2,1,2,1,1,2,1,2,2,1,1,1,1,1,1,1,1,1,1,2,3,2,1,2,1,1,1,2,1,1,2,1,1,2,1,2,1,1,2,1,2,1,1,1,2,1,1,2,1,1,2,1,2,2,1,2,2,2,1,1,1,1,2,2,2,1,2,1,1,1,1,1,1,2,1,2,2,1,1,1,1,2,2,1,1,1,1,1,1,1,2,2,1,3,2,1,2,1,2,1,1,2,2,1,1,3,2,1,2,1,2,3,1,2,1,2,1,2,1,1,1,1,1,1,2,1,1,1,1,2,1,1,1,1,2,2,1,2,2,2,2,1,1,1,4,1,2,1,1,2,1,1,1,1,2,1,1,2,1,1,2,2,2,3,2,1,1,2,1,2,1,1,2,1,1,2,2,1,2,1,1,3,1,2,1,1,1,2,2,2,2,2,1,1,1,1,1,2,1,1,2,1,1,1,1,2,1,2,2,2,1,1,2,1,1,1,2,1,1,2,2,1,1,2,1,2,2,4,2,2,2,2,1,1,1,1,1,1,2,2,1,1,1,1,1,2,1,2,1,1,1,1,1,1,1,1,1,2,1,1,1,1,2,1,3,1,2,1,1,2,2,1,2,1,1,1,2,1,1,1,3,1,2,1,1,1,2,3,2,1,2,1,2,2,3,1,1,2,2,1,2,1,1,2,1,1,2,1,1,2,1,1,1,1,2,2,1,1,1,1,1,2,2,2,1,1,2,2,1,2,1,1,1,1,1,1,1],\"type\":\"histogram\",\"xaxis\":\"x5\",\"yaxis\":\"y5\"},{\"marker\":{\"color\":\"#EF553B\"},\"name\":\"people_liable\",\"nbinsx\":25,\"x\":[1,1,2,2,2,2,1,1,1,1,1,1,1,1,1,1,1,1,1,2,1,2,2,1,1,1,1,1,1,1,1,1,1,1,1,1,1,1,1,1,1,1,2,1,1,1,1,1,1,1,1,1,1,1,1,2,1,1,1,1,1,1,1,1,1,2,1,1,1,1,1,1,2,1,1,1,1,1,2,1,1,1,1,1,1,1,1,2,2,1,1,1,2,1,1,1,1,1,1,2,1,1,1,1,1,2,2,1,1,1,2,1,1,1,1,1,1,1,1,1,1,1,1,1,1,1,1,1,1,1,1,1,1,1,1,1,1,1,1,1,1,1,1,1,1,1,1,1,1,1,2,1,1,1,1,1,2,1,1,2,2,1,1,1,1,1,1,1,1,1,2,1,1,1,1,1,1,1,2,1,1,1,2,1,2,1,2,1,1,1,1,2,2,1,1,1,1,1,1,1,1,1,1,1,2,2,1,1,1,1,2,1,1,1,1,1,1,1,1,1,1,1,1,2,1,1,1,1,1,1,1,1,1,1,2,2,1,1,1,2,1,2,2,1,2,1,1,1,1,1,1,1,1,1,1,1,1,1,1,1,1,1,1,1,2,2,1,1,1,1,1,1,1,1,1,2,1,1,1,1,1,1,1,1,1,1,2,1,1,1,1,1,2,1,2,1,1,1,1,1,1,1,2,1,1,1,1,1,1,1,1,1,1,1,2,1,2,1,1,1,1,1,1,1,1,1,1,2,1,2,1,1,1,1,2,1,1,1,1,1,1,1,1,1,2,1,1,1,1,2,1,1,1,1,1,1,1,1,1,1,1,1,1,1,1,1,1,1,2,1,1,1,1,1,1,1,1,1,1,1,1,1,1,1,1,1,1,1,1,1,1,1,2,1,1,1,1,1,1,1,1,1,1,1,2,1,2,1,1,1,1,1,1,2,1,2,2,1,1,1,1,1,2,1,1,1,1,1,1,2,1,1,1,1,1,1,1,1,1,1,1,1,1,2,1,1,1,1,1,1,1,1,1,1,1,1,2,1,1,1,2,1,1,1,1,2,1,2,1,1,1,1,1,2,1,1,1,1,1,2,1,1,1,1,1,1,1,1,1,1,1,1,1,1,2,1,1,1,1,2,1,2,1,2,1,1,1,2,1,1,1,1,1,1,1,1,2,1,1,1,1,1,2,1,2,1,1,2,1,2,2,1,1,1,1,1,1,1,1,1,1,1,1,2,1,2,1,2,1,1,1,2,1,1,1,1,1,1,1,1,2,1,1,1,1,1,1,1,2,1,1,1,1,1,1,1,1,1,1,1,1,2,1,1,1,1,2,1,1,1,1,1,1,1,1,1,1,1,1,1,1,1,1,1,1,1,1,1,1,2,1,2,1,1,1,1,1,2,1,1,1,1,1,1,1,1,1,1,1,1,1,1,1,1,1,2,1,1,2,2,1,1,1,1,1,1,1,1,2,2,1,1,1,1,1,1,2,1,1,1,1,1,1,1,1,1,2,1,1,1,1,1,1,1,2,1,1,1,1,1,1,1,1,1,2,2,1,1,1,2,1,1,1,2,1,1,1,1,1,1,1,1,1,1,2,1,1,1,1,2,1,1,1,1,1,1,2,1,1,1,1,2,1,1,1,1,1,1,1,1,1,2,1,1,2,1,1,2,2,1,1,1,1,1,1,1,1,1,1,1,1,1,1,1,2,1,2,1,1,1,1,1,1,1,1,1,1,1,1,1,1,1,1,1,1,1,1,1,1,1,1,1,1,1,1,1,1,2,1,1,2,2,1,1,1,1,2,1,1,1,2,1,1,1,1,1,1,1,1,1,1,1,1,1,2,1,1,1,1,1,1,1,2,1,1,1,1,2,1,2,2,1,1,1,1,1,1,2,1,1,1,1,1,1,2,1,1,1,1,1,1,1,1,2,2,1,1,1,1,2,1,1,1,2,1,1,1,1,1,1,1,2,1,1,2,1,1,1,1,1,1,1,1,1,1,1,2,1,1,2,2,1,1,1,1,2,1,1,1,1,1,1,1,1,1,2,1,1,1,1,1,1,1,1,1,1,2,1,1,1,1,1,1,2,1,1,1,2,1,2,1,1,1,2,1,1,1,1,1,2,2,2,1,2,1,1,2,1,2,1,2,1,1,1,1,1,1,1,1,1,1,1,1,1,1,1,1,1,1,2,1,2,1,1,1,1,1,1,2,1,1,1,1,2,1,1,1,1,1,1,2,2,1,1,1,1,1,1,1,1],\"type\":\"histogram\",\"xaxis\":\"x6\",\"yaxis\":\"y6\"},{\"marker\":{\"color\":\"#2A5C7D\"},\"name\":\"present_residence\",\"nbinsx\":25,\"x\":[4,2,3,4,4,4,4,2,4,2,1,4,1,4,4,2,4,3,2,2,4,3,3,4,1,2,4,3,2,4,3,2,2,4,1,2,3,2,2,3,2,1,4,4,4,4,4,2,4,2,2,2,2,1,4,2,1,2,2,4,1,4,4,2,4,4,2,1,4,4,2,2,4,1,4,4,3,4,2,1,1,3,4,4,4,2,1,4,3,3,4,3,3,4,4,4,2,4,4,4,4,4,2,3,4,3,4,2,2,2,2,4,3,2,1,1,3,3,4,3,2,2,2,4,3,2,2,2,2,2,2,3,3,4,4,2,2,3,2,2,2,1,2,2,4,2,4,3,2,4,4,4,1,4,4,4,4,1,3,2,4,1,3,4,4,2,2,1,4,4,3,1,2,2,1,1,1,4,2,4,1,2,2,4,4,2,4,3,1,4,3,4,2,2,4,3,1,4,4,3,2,3,4,4,1,4,4,3,2,2,2,4,4,4,2,3,1,2,2,4,1,4,2,4,2,2,2,4,2,1,2,4,1,2,1,2,2,2,2,3,2,2,4,2,3,1,4,1,2,4,4,2,2,3,1,1,2,1,4,4,2,4,4,4,4,3,4,3,4,2,3,4,4,4,1,2,2,4,4,4,4,2,4,4,2,1,3,4,4,4,2,4,4,4,2,2,4,2,4,2,4,1,2,3,2,2,4,3,4,4,4,1,4,3,2,4,3,4,2,4,2,3,1,2,3,4,4,3,2,4,4,2,2,4,4,4,4,2,4,2,4,4,3,1,1,2,4,4,2,3,4,2,4,2,4,2,4,2,2,4,4,3,2,2,1,4,1,4,2,4,4,4,3,4,4,4,3,4,2,4,4,4,4,1,2,1,2,4,4,2,2,4,4,4,3,3,4,2,1,1,4,4,2,2,4,1,4,2,2,2,4,2,2,2,2,2,1,2,2,2,3,2,3,3,2,3,2,3,4,4,4,3,4,2,2,1,4,4,4,1,4,3,3,4,3,4,4,2,4,3,2,1,4,4,3,1,2,4,1,2,2,3,1,4,1,4,2,3,2,3,2,4,3,4,2,4,4,2,4,4,1,1,4,2,4,4,4,4,2,3,2,4,1,4,2,4,1,3,2,4,1,4,4,4,4,4,2,2,2,2,2,2,4,4,1,3,4,4,2,4,4,2,4,4,4,3,3,1,4,4,1,4,4,3,2,1,3,4,4,1,1,4,4,1,4,2,4,1,4,1,4,4,1,1,4,1,3,4,4,2,4,4,1,4,2,2,3,2,1,2,4,2,4,4,4,3,1,2,4,3,3,3,2,1,4,4,2,1,3,3,3,4,4,4,3,1,4,4,2,2,1,1,4,2,2,4,2,4,1,4,3,4,2,4,1,2,2,3,4,2,3,2,2,1,4,2,2,3,4,4,4,3,1,2,4,4,1,4,3,2,1,4,2,2,1,4,2,2,3,4,1,2,1,4,3,4,4,3,1,1,4,2,2,1,4,2,2,1,4,4,3,2,4,2,2,4,4,2,4,1,2,4,3,3,3,4,2,3,4,3,3,2,1,3,2,4,3,2,2,4,4,4,2,2,1,4,2,3,4,2,3,4,4,4,2,4,2,2,2,4,2,2,2,3,3,2,2,4,3,4,2,4,2,4,1,2,4,4,3,4,3,4,3,4,4,1,4,1,3,2,1,2,4,2,4,4,1,4,2,3,4,4,3,4,3,3,4,4,4,4,4,2,4,4,4,4,4,1,2,4,2,4,2,2,4,2,4,3,4,3,4,4,2,4,3,4,4,4,4,2,4,4,4,4,2,1,3,4,2,1,2,3,4,4,4,2,4,2,3,3,2,1,2,4,2,3,4,2,4,4,2,3,4,4,3,4,2,3,4,3,2,2,4,4,4,3,4,2,4,4,2,4,4,4,2,3,3,2,2,2,2,2,4,2,2,4,1,4,2,4,4,4,1,1,2,4,4,2,2,3,3,4,4,4,3,4,3,2,4,4,4,4,4,4,3,2,4,2,4,3,4,4,4,2,1,2,2,2,2,2,4,4,4,2,2,2,2,4,1,2,2,1,4,4,1,2,4,4,4,2,1,2,1,4,1,3,2,3,4,4,3,2,2,1,1,1,4,4,1,4,3,1,4,2,4,4,4,4,2,4,2,4,2,2,1,1,2,2,4,2,2,4,4,4,2,3,3,2,4,2,2,2,1,2,2,3,1,4,2,2,1,4,4,3,3,4,4,4,4,4],\"type\":\"histogram\",\"xaxis\":\"x7\",\"yaxis\":\"y7\"}],                        {\"template\":{\"data\":{\"histogram2dcontour\":[{\"type\":\"histogram2dcontour\",\"colorbar\":{\"outlinewidth\":0,\"ticks\":\"\"},\"colorscale\":[[0.0,\"#0d0887\"],[0.1111111111111111,\"#46039f\"],[0.2222222222222222,\"#7201a8\"],[0.3333333333333333,\"#9c179e\"],[0.4444444444444444,\"#bd3786\"],[0.5555555555555556,\"#d8576b\"],[0.6666666666666666,\"#ed7953\"],[0.7777777777777778,\"#fb9f3a\"],[0.8888888888888888,\"#fdca26\"],[1.0,\"#f0f921\"]]}],\"choropleth\":[{\"type\":\"choropleth\",\"colorbar\":{\"outlinewidth\":0,\"ticks\":\"\"}}],\"histogram2d\":[{\"type\":\"histogram2d\",\"colorbar\":{\"outlinewidth\":0,\"ticks\":\"\"},\"colorscale\":[[0.0,\"#0d0887\"],[0.1111111111111111,\"#46039f\"],[0.2222222222222222,\"#7201a8\"],[0.3333333333333333,\"#9c179e\"],[0.4444444444444444,\"#bd3786\"],[0.5555555555555556,\"#d8576b\"],[0.6666666666666666,\"#ed7953\"],[0.7777777777777778,\"#fb9f3a\"],[0.8888888888888888,\"#fdca26\"],[1.0,\"#f0f921\"]]}],\"heatmap\":[{\"type\":\"heatmap\",\"colorbar\":{\"outlinewidth\":0,\"ticks\":\"\"},\"colorscale\":[[0.0,\"#0d0887\"],[0.1111111111111111,\"#46039f\"],[0.2222222222222222,\"#7201a8\"],[0.3333333333333333,\"#9c179e\"],[0.4444444444444444,\"#bd3786\"],[0.5555555555555556,\"#d8576b\"],[0.6666666666666666,\"#ed7953\"],[0.7777777777777778,\"#fb9f3a\"],[0.8888888888888888,\"#fdca26\"],[1.0,\"#f0f921\"]]}],\"heatmapgl\":[{\"type\":\"heatmapgl\",\"colorbar\":{\"outlinewidth\":0,\"ticks\":\"\"},\"colorscale\":[[0.0,\"#0d0887\"],[0.1111111111111111,\"#46039f\"],[0.2222222222222222,\"#7201a8\"],[0.3333333333333333,\"#9c179e\"],[0.4444444444444444,\"#bd3786\"],[0.5555555555555556,\"#d8576b\"],[0.6666666666666666,\"#ed7953\"],[0.7777777777777778,\"#fb9f3a\"],[0.8888888888888888,\"#fdca26\"],[1.0,\"#f0f921\"]]}],\"contourcarpet\":[{\"type\":\"contourcarpet\",\"colorbar\":{\"outlinewidth\":0,\"ticks\":\"\"}}],\"contour\":[{\"type\":\"contour\",\"colorbar\":{\"outlinewidth\":0,\"ticks\":\"\"},\"colorscale\":[[0.0,\"#0d0887\"],[0.1111111111111111,\"#46039f\"],[0.2222222222222222,\"#7201a8\"],[0.3333333333333333,\"#9c179e\"],[0.4444444444444444,\"#bd3786\"],[0.5555555555555556,\"#d8576b\"],[0.6666666666666666,\"#ed7953\"],[0.7777777777777778,\"#fb9f3a\"],[0.8888888888888888,\"#fdca26\"],[1.0,\"#f0f921\"]]}],\"surface\":[{\"type\":\"surface\",\"colorbar\":{\"outlinewidth\":0,\"ticks\":\"\"},\"colorscale\":[[0.0,\"#0d0887\"],[0.1111111111111111,\"#46039f\"],[0.2222222222222222,\"#7201a8\"],[0.3333333333333333,\"#9c179e\"],[0.4444444444444444,\"#bd3786\"],[0.5555555555555556,\"#d8576b\"],[0.6666666666666666,\"#ed7953\"],[0.7777777777777778,\"#fb9f3a\"],[0.8888888888888888,\"#fdca26\"],[1.0,\"#f0f921\"]]}],\"mesh3d\":[{\"type\":\"mesh3d\",\"colorbar\":{\"outlinewidth\":0,\"ticks\":\"\"}}],\"scatter\":[{\"marker\":{\"line\":{\"color\":\"#283442\"}},\"type\":\"scatter\"}],\"parcoords\":[{\"type\":\"parcoords\",\"line\":{\"colorbar\":{\"outlinewidth\":0,\"ticks\":\"\"}}}],\"scatterpolargl\":[{\"type\":\"scatterpolargl\",\"marker\":{\"colorbar\":{\"outlinewidth\":0,\"ticks\":\"\"}}}],\"bar\":[{\"error_x\":{\"color\":\"#f2f5fa\"},\"error_y\":{\"color\":\"#f2f5fa\"},\"marker\":{\"line\":{\"color\":\"rgb(17,17,17)\",\"width\":0.5},\"pattern\":{\"fillmode\":\"overlay\",\"size\":10,\"solidity\":0.2}},\"type\":\"bar\"}],\"scattergeo\":[{\"type\":\"scattergeo\",\"marker\":{\"colorbar\":{\"outlinewidth\":0,\"ticks\":\"\"}}}],\"scatterpolar\":[{\"type\":\"scatterpolar\",\"marker\":{\"colorbar\":{\"outlinewidth\":0,\"ticks\":\"\"}}}],\"histogram\":[{\"marker\":{\"pattern\":{\"fillmode\":\"overlay\",\"size\":10,\"solidity\":0.2}},\"type\":\"histogram\"}],\"scattergl\":[{\"marker\":{\"line\":{\"color\":\"#283442\"}},\"type\":\"scattergl\"}],\"scatter3d\":[{\"type\":\"scatter3d\",\"line\":{\"colorbar\":{\"outlinewidth\":0,\"ticks\":\"\"}},\"marker\":{\"colorbar\":{\"outlinewidth\":0,\"ticks\":\"\"}}}],\"scattermapbox\":[{\"type\":\"scattermapbox\",\"marker\":{\"colorbar\":{\"outlinewidth\":0,\"ticks\":\"\"}}}],\"scatterternary\":[{\"type\":\"scatterternary\",\"marker\":{\"colorbar\":{\"outlinewidth\":0,\"ticks\":\"\"}}}],\"scattercarpet\":[{\"type\":\"scattercarpet\",\"marker\":{\"colorbar\":{\"outlinewidth\":0,\"ticks\":\"\"}}}],\"carpet\":[{\"aaxis\":{\"endlinecolor\":\"#A2B1C6\",\"gridcolor\":\"#506784\",\"linecolor\":\"#506784\",\"minorgridcolor\":\"#506784\",\"startlinecolor\":\"#A2B1C6\"},\"baxis\":{\"endlinecolor\":\"#A2B1C6\",\"gridcolor\":\"#506784\",\"linecolor\":\"#506784\",\"minorgridcolor\":\"#506784\",\"startlinecolor\":\"#A2B1C6\"},\"type\":\"carpet\"}],\"table\":[{\"cells\":{\"fill\":{\"color\":\"#506784\"},\"line\":{\"color\":\"rgb(17,17,17)\"}},\"header\":{\"fill\":{\"color\":\"#2a3f5f\"},\"line\":{\"color\":\"rgb(17,17,17)\"}},\"type\":\"table\"}],\"barpolar\":[{\"marker\":{\"line\":{\"color\":\"rgb(17,17,17)\",\"width\":0.5},\"pattern\":{\"fillmode\":\"overlay\",\"size\":10,\"solidity\":0.2}},\"type\":\"barpolar\"}],\"pie\":[{\"automargin\":true,\"type\":\"pie\"}]},\"layout\":{\"autotypenumbers\":\"strict\",\"colorway\":[\"#636efa\",\"#EF553B\",\"#00cc96\",\"#ab63fa\",\"#FFA15A\",\"#19d3f3\",\"#FF6692\",\"#B6E880\",\"#FF97FF\",\"#FECB52\"],\"font\":{\"color\":\"#f2f5fa\"},\"hovermode\":\"closest\",\"hoverlabel\":{\"align\":\"left\"},\"paper_bgcolor\":\"rgb(17,17,17)\",\"plot_bgcolor\":\"rgb(17,17,17)\",\"polar\":{\"bgcolor\":\"rgb(17,17,17)\",\"angularaxis\":{\"gridcolor\":\"#506784\",\"linecolor\":\"#506784\",\"ticks\":\"\"},\"radialaxis\":{\"gridcolor\":\"#506784\",\"linecolor\":\"#506784\",\"ticks\":\"\"}},\"ternary\":{\"bgcolor\":\"rgb(17,17,17)\",\"aaxis\":{\"gridcolor\":\"#506784\",\"linecolor\":\"#506784\",\"ticks\":\"\"},\"baxis\":{\"gridcolor\":\"#506784\",\"linecolor\":\"#506784\",\"ticks\":\"\"},\"caxis\":{\"gridcolor\":\"#506784\",\"linecolor\":\"#506784\",\"ticks\":\"\"}},\"coloraxis\":{\"colorbar\":{\"outlinewidth\":0,\"ticks\":\"\"}},\"colorscale\":{\"sequential\":[[0.0,\"#0d0887\"],[0.1111111111111111,\"#46039f\"],[0.2222222222222222,\"#7201a8\"],[0.3333333333333333,\"#9c179e\"],[0.4444444444444444,\"#bd3786\"],[0.5555555555555556,\"#d8576b\"],[0.6666666666666666,\"#ed7953\"],[0.7777777777777778,\"#fb9f3a\"],[0.8888888888888888,\"#fdca26\"],[1.0,\"#f0f921\"]],\"sequentialminus\":[[0.0,\"#0d0887\"],[0.1111111111111111,\"#46039f\"],[0.2222222222222222,\"#7201a8\"],[0.3333333333333333,\"#9c179e\"],[0.4444444444444444,\"#bd3786\"],[0.5555555555555556,\"#d8576b\"],[0.6666666666666666,\"#ed7953\"],[0.7777777777777778,\"#fb9f3a\"],[0.8888888888888888,\"#fdca26\"],[1.0,\"#f0f921\"]],\"diverging\":[[0,\"#8e0152\"],[0.1,\"#c51b7d\"],[0.2,\"#de77ae\"],[0.3,\"#f1b6da\"],[0.4,\"#fde0ef\"],[0.5,\"#f7f7f7\"],[0.6,\"#e6f5d0\"],[0.7,\"#b8e186\"],[0.8,\"#7fbc41\"],[0.9,\"#4d9221\"],[1,\"#276419\"]]},\"xaxis\":{\"gridcolor\":\"#283442\",\"linecolor\":\"#506784\",\"ticks\":\"\",\"title\":{\"standoff\":15},\"zerolinecolor\":\"#283442\",\"automargin\":true,\"zerolinewidth\":2},\"yaxis\":{\"gridcolor\":\"#283442\",\"linecolor\":\"#506784\",\"ticks\":\"\",\"title\":{\"standoff\":15},\"zerolinecolor\":\"#283442\",\"automargin\":true,\"zerolinewidth\":2},\"scene\":{\"xaxis\":{\"backgroundcolor\":\"rgb(17,17,17)\",\"gridcolor\":\"#506784\",\"linecolor\":\"#506784\",\"showbackground\":true,\"ticks\":\"\",\"zerolinecolor\":\"#C8D4E3\",\"gridwidth\":2},\"yaxis\":{\"backgroundcolor\":\"rgb(17,17,17)\",\"gridcolor\":\"#506784\",\"linecolor\":\"#506784\",\"showbackground\":true,\"ticks\":\"\",\"zerolinecolor\":\"#C8D4E3\",\"gridwidth\":2},\"zaxis\":{\"backgroundcolor\":\"rgb(17,17,17)\",\"gridcolor\":\"#506784\",\"linecolor\":\"#506784\",\"showbackground\":true,\"ticks\":\"\",\"zerolinecolor\":\"#C8D4E3\",\"gridwidth\":2}},\"shapedefaults\":{\"line\":{\"color\":\"#f2f5fa\"}},\"annotationdefaults\":{\"arrowcolor\":\"#f2f5fa\",\"arrowhead\":0,\"arrowwidth\":1},\"geo\":{\"bgcolor\":\"rgb(17,17,17)\",\"landcolor\":\"rgb(17,17,17)\",\"subunitcolor\":\"#506784\",\"showland\":true,\"showlakes\":true,\"lakecolor\":\"rgb(17,17,17)\"},\"title\":{\"x\":0.05},\"updatemenudefaults\":{\"bgcolor\":\"#506784\",\"borderwidth\":0},\"sliderdefaults\":{\"bgcolor\":\"#C8D4E3\",\"borderwidth\":1,\"bordercolor\":\"rgb(17,17,17)\",\"tickwidth\":0},\"mapbox\":{\"style\":\"dark\"}}},\"xaxis\":{\"anchor\":\"y\",\"domain\":[0.0,0.2888888888888889]},\"yaxis\":{\"anchor\":\"x\",\"domain\":[0.7777777777777778,1.0]},\"xaxis2\":{\"anchor\":\"y2\",\"domain\":[0.35555555555555557,0.6444444444444445]},\"yaxis2\":{\"anchor\":\"x2\",\"domain\":[0.7777777777777778,1.0]},\"xaxis3\":{\"anchor\":\"y3\",\"domain\":[0.7111111111111111,1.0]},\"yaxis3\":{\"anchor\":\"x3\",\"domain\":[0.7777777777777778,1.0]},\"xaxis4\":{\"anchor\":\"y4\",\"domain\":[0.0,0.2888888888888889]},\"yaxis4\":{\"anchor\":\"x4\",\"domain\":[0.3888888888888889,0.6111111111111112]},\"xaxis5\":{\"anchor\":\"y5\",\"domain\":[0.35555555555555557,0.6444444444444445]},\"yaxis5\":{\"anchor\":\"x5\",\"domain\":[0.3888888888888889,0.6111111111111112]},\"xaxis6\":{\"anchor\":\"y6\",\"domain\":[0.7111111111111111,1.0]},\"yaxis6\":{\"anchor\":\"x6\",\"domain\":[0.3888888888888889,0.6111111111111112]},\"xaxis7\":{\"anchor\":\"y7\",\"domain\":[0.0,0.2888888888888889]},\"yaxis7\":{\"anchor\":\"x7\",\"domain\":[0.0,0.22222222222222224]},\"xaxis8\":{\"anchor\":\"y8\",\"domain\":[0.35555555555555557,0.6444444444444445]},\"yaxis8\":{\"anchor\":\"x8\",\"domain\":[0.0,0.22222222222222224]},\"xaxis9\":{\"anchor\":\"y9\",\"domain\":[0.7111111111111111,1.0]},\"yaxis9\":{\"anchor\":\"x9\",\"domain\":[0.0,0.22222222222222224]},\"annotations\":[{\"font\":{\"size\":16},\"showarrow\":false,\"text\":\"Distribution of duration\",\"x\":0.14444444444444446,\"xanchor\":\"center\",\"xref\":\"paper\",\"y\":1.0,\"yanchor\":\"bottom\",\"yref\":\"paper\"},{\"font\":{\"size\":16},\"showarrow\":false,\"text\":\"Distribution of amount\",\"x\":0.5,\"xanchor\":\"center\",\"xref\":\"paper\",\"y\":1.0,\"yanchor\":\"bottom\",\"yref\":\"paper\"},{\"font\":{\"size\":16},\"showarrow\":false,\"text\":\"Distribution of installment_rate\",\"x\":0.8555555555555556,\"xanchor\":\"center\",\"xref\":\"paper\",\"y\":1.0,\"yanchor\":\"bottom\",\"yref\":\"paper\"},{\"font\":{\"size\":16},\"showarrow\":false,\"text\":\"Distribution of age\",\"x\":0.14444444444444446,\"xanchor\":\"center\",\"xref\":\"paper\",\"y\":0.6111111111111112,\"yanchor\":\"bottom\",\"yref\":\"paper\"},{\"font\":{\"size\":16},\"showarrow\":false,\"text\":\"Distribution of number_credits\",\"x\":0.5,\"xanchor\":\"center\",\"xref\":\"paper\",\"y\":0.6111111111111112,\"yanchor\":\"bottom\",\"yref\":\"paper\"},{\"font\":{\"size\":16},\"showarrow\":false,\"text\":\"Distribution of people_liable\",\"x\":0.8555555555555556,\"xanchor\":\"center\",\"xref\":\"paper\",\"y\":0.6111111111111112,\"yanchor\":\"bottom\",\"yref\":\"paper\"},{\"font\":{\"size\":16},\"showarrow\":false,\"text\":\"Distribution of present_residence\",\"x\":0.14444444444444446,\"xanchor\":\"center\",\"xref\":\"paper\",\"y\":0.22222222222222224,\"yanchor\":\"bottom\",\"yref\":\"paper\"}],\"shapes\":[{\"line\":{\"color\":\"red\",\"dash\":\"dot\",\"width\":1},\"type\":\"line\",\"x0\":18.0,\"x1\":18.0,\"xref\":\"x\",\"y0\":0,\"y1\":1,\"yref\":\"y\"},{\"line\":{\"color\":\"red\",\"dash\":\"dot\",\"width\":1},\"type\":\"line\",\"x0\":2319.5,\"x1\":2319.5,\"xref\":\"x2\",\"y0\":0,\"y1\":1,\"yref\":\"y2\"},{\"line\":{\"color\":\"red\",\"dash\":\"dot\",\"width\":1},\"type\":\"line\",\"x0\":3.0,\"x1\":3.0,\"xref\":\"x3\",\"y0\":0,\"y1\":1,\"yref\":\"y3\"},{\"line\":{\"color\":\"red\",\"dash\":\"dot\",\"width\":1},\"type\":\"line\",\"x0\":33.0,\"x1\":33.0,\"xref\":\"x4\",\"y0\":0,\"y1\":1,\"yref\":\"y4\"},{\"line\":{\"color\":\"red\",\"dash\":\"dot\",\"width\":1},\"type\":\"line\",\"x0\":1.0,\"x1\":1.0,\"xref\":\"x5\",\"y0\":0,\"y1\":1,\"yref\":\"y5\"},{\"line\":{\"color\":\"red\",\"dash\":\"dot\",\"width\":1},\"type\":\"line\",\"x0\":1.0,\"x1\":1.0,\"xref\":\"x6\",\"y0\":0,\"y1\":1,\"yref\":\"y6\"},{\"line\":{\"color\":\"red\",\"dash\":\"dot\",\"width\":1},\"type\":\"line\",\"x0\":3.0,\"x1\":3.0,\"xref\":\"x7\",\"y0\":0,\"y1\":1,\"yref\":\"y7\"}],\"title\":{\"text\":\"Numerical Feature Analysis\"},\"margin\":{\"t\":100},\"height\":900,\"showlegend\":false},                        {\"responsive\": true}                    ).then(function(){\n",
       "                            \n",
       "var gd = document.getElementById('3fc7564a-d55a-4bab-97a9-781c1cc466a2');\n",
       "var x = new MutationObserver(function (mutations, observer) {{\n",
       "        var display = window.getComputedStyle(gd).display;\n",
       "        if (!display || display === 'none') {{\n",
       "            console.log([gd, 'removed!']);\n",
       "            Plotly.purge(gd);\n",
       "            observer.disconnect();\n",
       "        }}\n",
       "}});\n",
       "\n",
       "// Listen for the removal of the full notebook cells\n",
       "var notebookContainer = gd.closest('#notebook-container');\n",
       "if (notebookContainer) {{\n",
       "    x.observe(notebookContainer, {childList: true});\n",
       "}}\n",
       "\n",
       "// Listen for the clearing of the current output cell\n",
       "var outputEl = gd.closest('.output');\n",
       "if (outputEl) {{\n",
       "    x.observe(outputEl, {childList: true});\n",
       "}}\n",
       "\n",
       "                        })                };                });            </script>        </div>"
      ]
     },
     "metadata": {},
     "output_type": "display_data"
    },
    {
     "data": {
      "application/vnd.plotly.v1+json": {
       "data": [
        {
         "hovertemplate": "<b>%{x}</b><br>Count: %{y}<extra></extra>",
         "marker": {
          "color": "#2A5C7D"
         },
         "name": "status",
         "x": [
          "no checking account",
          "... < 100 DM",
          "0 <= ... < 200 DM",
          "... >= 200 DM / salary for at least 1 year"
         ],
         "y": [
          394,
          274,
          269,
          63
         ],
         "type": "bar",
         "xaxis": "x",
         "yaxis": "y"
        },
        {
         "hovertemplate": "<b>%{x}</b><br>Count: %{y}<extra></extra>",
         "marker": {
          "color": "#EF553B"
         },
         "name": "credit_history",
         "x": [
          "existing credits paid back duly till now",
          "critical account/other credits existing",
          "delay in paying off in the past",
          "all credits at this bank paid back duly",
          "no credits taken/all credits paid back duly"
         ],
         "y": [
          530,
          293,
          88,
          49,
          40
         ],
         "type": "bar",
         "xaxis": "x2",
         "yaxis": "y2"
        },
        {
         "hovertemplate": "<b>%{x}</b><br>Count: %{y}<extra></extra>",
         "marker": {
          "color": "#EF553B"
         },
         "name": "purpose",
         "x": [
          "domestic appliances",
          "car (new)",
          "radio/television",
          "car (used)",
          "others",
          "retraining",
          "education",
          "furniture/equipment",
          "repairs",
          "business"
         ],
         "y": [
          280,
          234,
          181,
          103,
          97,
          50,
          22,
          12,
          12,
          9
         ],
         "type": "bar",
         "xaxis": "x3",
         "yaxis": "y3"
        },
        {
         "hovertemplate": "<b>%{x}</b><br>Count: %{y}<extra></extra>",
         "marker": {
          "color": "#EF553B"
         },
         "name": "savings",
         "x": [
          "... < 100 DM",
          "unknown/no savings account",
          "100 <= ... < 500 DM",
          "500 <= ... < 1000 DM",
          "... >= 1000 DM"
         ],
         "y": [
          603,
          183,
          103,
          63,
          48
         ],
         "type": "bar",
         "xaxis": "x4",
         "yaxis": "y4"
        },
        {
         "hovertemplate": "<b>%{x}</b><br>Count: %{y}<extra></extra>",
         "marker": {
          "color": "#2A5C7D"
         },
         "name": "employment_duration",
         "x": [
          "1 <= ... < 4 years",
          "... >= 7 years",
          "4 <= ... < 7 years",
          "... < 1 year",
          "unemployed"
         ],
         "y": [
          339,
          253,
          174,
          172,
          62
         ],
         "type": "bar",
         "xaxis": "x5",
         "yaxis": "y5"
        },
        {
         "hovertemplate": "<b>%{x}</b><br>Count: %{y}<extra></extra>",
         "marker": {
          "color": "#EF553B"
         },
         "name": "personal_status_sex",
         "x": [
          "male : single",
          "female : divorced/separated/married",
          "male : married/widowed",
          "male : divorced/separated"
         ],
         "y": [
          548,
          310,
          92,
          50
         ],
         "type": "bar",
         "xaxis": "x6",
         "yaxis": "y6"
        },
        {
         "hovertemplate": "<b>%{x}</b><br>Count: %{y}<extra></extra>",
         "marker": {
          "color": "#EF553B"
         },
         "name": "other_debtors",
         "x": [
          "none",
          "guarantor",
          "co-applicant"
         ],
         "y": [
          907,
          52,
          41
         ],
         "type": "bar",
         "xaxis": "x7",
         "yaxis": "y7"
        },
        {
         "hovertemplate": "<b>%{x}</b><br>Count: %{y}<extra></extra>",
         "marker": {
          "color": "#2A5C7D"
         },
         "name": "property",
         "x": [
          "car or other",
          "real estate",
          "building society savings agreement/life insurance",
          "unknown/no property"
         ],
         "y": [
          332,
          282,
          232,
          154
         ],
         "type": "bar",
         "xaxis": "x8",
         "yaxis": "y8"
        },
        {
         "hovertemplate": "<b>%{x}</b><br>Count: %{y}<extra></extra>",
         "marker": {
          "color": "#EF553B"
         },
         "name": "other_installment_plans",
         "x": [
          "none",
          "bank",
          "stores"
         ],
         "y": [
          814,
          139,
          47
         ],
         "type": "bar",
         "xaxis": "x9",
         "yaxis": "y9"
        },
        {
         "hovertemplate": "<b>%{x}</b><br>Count: %{y}<extra></extra>",
         "marker": {
          "color": "#EF553B"
         },
         "name": "housing",
         "x": [
          "own",
          "rent",
          "for free"
         ],
         "y": [
          713,
          179,
          108
         ],
         "type": "bar",
         "xaxis": "x10",
         "yaxis": "y10"
        },
        {
         "hovertemplate": "<b>%{x}</b><br>Count: %{y}<extra></extra>",
         "marker": {
          "color": "#EF553B"
         },
         "name": "job",
         "x": [
          "skilled employee/official",
          "unskilled - resident",
          "management/self-employed/highly qualified employee/officer",
          "unemployed/unskilled - non-resident"
         ],
         "y": [
          630,
          200,
          148,
          22
         ],
         "type": "bar",
         "xaxis": "x11",
         "yaxis": "y11"
        },
        {
         "hovertemplate": "<b>%{x}</b><br>Count: %{y}<extra></extra>",
         "marker": {
          "color": "#2A5C7D"
         },
         "name": "telephone",
         "x": [
          "no",
          "yes"
         ],
         "y": [
          596,
          404
         ],
         "type": "bar",
         "xaxis": "x12",
         "yaxis": "y12"
        },
        {
         "hovertemplate": "<b>%{x}</b><br>Count: %{y}<extra></extra>",
         "marker": {
          "color": "#EF553B"
         },
         "name": "foreign_worker",
         "x": [
          "yes",
          "no"
         ],
         "y": [
          963,
          37
         ],
         "type": "bar",
         "xaxis": "x13",
         "yaxis": "y13"
        }
       ],
       "layout": {
        "template": {
         "data": {
          "histogram2dcontour": [
           {
            "type": "histogram2dcontour",
            "colorbar": {
             "outlinewidth": 0,
             "ticks": ""
            },
            "colorscale": [
             [
              0.0,
              "#0d0887"
             ],
             [
              0.1111111111111111,
              "#46039f"
             ],
             [
              0.2222222222222222,
              "#7201a8"
             ],
             [
              0.3333333333333333,
              "#9c179e"
             ],
             [
              0.4444444444444444,
              "#bd3786"
             ],
             [
              0.5555555555555556,
              "#d8576b"
             ],
             [
              0.6666666666666666,
              "#ed7953"
             ],
             [
              0.7777777777777778,
              "#fb9f3a"
             ],
             [
              0.8888888888888888,
              "#fdca26"
             ],
             [
              1.0,
              "#f0f921"
             ]
            ]
           }
          ],
          "choropleth": [
           {
            "type": "choropleth",
            "colorbar": {
             "outlinewidth": 0,
             "ticks": ""
            }
           }
          ],
          "histogram2d": [
           {
            "type": "histogram2d",
            "colorbar": {
             "outlinewidth": 0,
             "ticks": ""
            },
            "colorscale": [
             [
              0.0,
              "#0d0887"
             ],
             [
              0.1111111111111111,
              "#46039f"
             ],
             [
              0.2222222222222222,
              "#7201a8"
             ],
             [
              0.3333333333333333,
              "#9c179e"
             ],
             [
              0.4444444444444444,
              "#bd3786"
             ],
             [
              0.5555555555555556,
              "#d8576b"
             ],
             [
              0.6666666666666666,
              "#ed7953"
             ],
             [
              0.7777777777777778,
              "#fb9f3a"
             ],
             [
              0.8888888888888888,
              "#fdca26"
             ],
             [
              1.0,
              "#f0f921"
             ]
            ]
           }
          ],
          "heatmap": [
           {
            "type": "heatmap",
            "colorbar": {
             "outlinewidth": 0,
             "ticks": ""
            },
            "colorscale": [
             [
              0.0,
              "#0d0887"
             ],
             [
              0.1111111111111111,
              "#46039f"
             ],
             [
              0.2222222222222222,
              "#7201a8"
             ],
             [
              0.3333333333333333,
              "#9c179e"
             ],
             [
              0.4444444444444444,
              "#bd3786"
             ],
             [
              0.5555555555555556,
              "#d8576b"
             ],
             [
              0.6666666666666666,
              "#ed7953"
             ],
             [
              0.7777777777777778,
              "#fb9f3a"
             ],
             [
              0.8888888888888888,
              "#fdca26"
             ],
             [
              1.0,
              "#f0f921"
             ]
            ]
           }
          ],
          "heatmapgl": [
           {
            "type": "heatmapgl",
            "colorbar": {
             "outlinewidth": 0,
             "ticks": ""
            },
            "colorscale": [
             [
              0.0,
              "#0d0887"
             ],
             [
              0.1111111111111111,
              "#46039f"
             ],
             [
              0.2222222222222222,
              "#7201a8"
             ],
             [
              0.3333333333333333,
              "#9c179e"
             ],
             [
              0.4444444444444444,
              "#bd3786"
             ],
             [
              0.5555555555555556,
              "#d8576b"
             ],
             [
              0.6666666666666666,
              "#ed7953"
             ],
             [
              0.7777777777777778,
              "#fb9f3a"
             ],
             [
              0.8888888888888888,
              "#fdca26"
             ],
             [
              1.0,
              "#f0f921"
             ]
            ]
           }
          ],
          "contourcarpet": [
           {
            "type": "contourcarpet",
            "colorbar": {
             "outlinewidth": 0,
             "ticks": ""
            }
           }
          ],
          "contour": [
           {
            "type": "contour",
            "colorbar": {
             "outlinewidth": 0,
             "ticks": ""
            },
            "colorscale": [
             [
              0.0,
              "#0d0887"
             ],
             [
              0.1111111111111111,
              "#46039f"
             ],
             [
              0.2222222222222222,
              "#7201a8"
             ],
             [
              0.3333333333333333,
              "#9c179e"
             ],
             [
              0.4444444444444444,
              "#bd3786"
             ],
             [
              0.5555555555555556,
              "#d8576b"
             ],
             [
              0.6666666666666666,
              "#ed7953"
             ],
             [
              0.7777777777777778,
              "#fb9f3a"
             ],
             [
              0.8888888888888888,
              "#fdca26"
             ],
             [
              1.0,
              "#f0f921"
             ]
            ]
           }
          ],
          "surface": [
           {
            "type": "surface",
            "colorbar": {
             "outlinewidth": 0,
             "ticks": ""
            },
            "colorscale": [
             [
              0.0,
              "#0d0887"
             ],
             [
              0.1111111111111111,
              "#46039f"
             ],
             [
              0.2222222222222222,
              "#7201a8"
             ],
             [
              0.3333333333333333,
              "#9c179e"
             ],
             [
              0.4444444444444444,
              "#bd3786"
             ],
             [
              0.5555555555555556,
              "#d8576b"
             ],
             [
              0.6666666666666666,
              "#ed7953"
             ],
             [
              0.7777777777777778,
              "#fb9f3a"
             ],
             [
              0.8888888888888888,
              "#fdca26"
             ],
             [
              1.0,
              "#f0f921"
             ]
            ]
           }
          ],
          "mesh3d": [
           {
            "type": "mesh3d",
            "colorbar": {
             "outlinewidth": 0,
             "ticks": ""
            }
           }
          ],
          "scatter": [
           {
            "marker": {
             "line": {
              "color": "#283442"
             }
            },
            "type": "scatter"
           }
          ],
          "parcoords": [
           {
            "type": "parcoords",
            "line": {
             "colorbar": {
              "outlinewidth": 0,
              "ticks": ""
             }
            }
           }
          ],
          "scatterpolargl": [
           {
            "type": "scatterpolargl",
            "marker": {
             "colorbar": {
              "outlinewidth": 0,
              "ticks": ""
             }
            }
           }
          ],
          "bar": [
           {
            "error_x": {
             "color": "#f2f5fa"
            },
            "error_y": {
             "color": "#f2f5fa"
            },
            "marker": {
             "line": {
              "color": "rgb(17,17,17)",
              "width": 0.5
             },
             "pattern": {
              "fillmode": "overlay",
              "size": 10,
              "solidity": 0.2
             }
            },
            "type": "bar"
           }
          ],
          "scattergeo": [
           {
            "type": "scattergeo",
            "marker": {
             "colorbar": {
              "outlinewidth": 0,
              "ticks": ""
             }
            }
           }
          ],
          "scatterpolar": [
           {
            "type": "scatterpolar",
            "marker": {
             "colorbar": {
              "outlinewidth": 0,
              "ticks": ""
             }
            }
           }
          ],
          "histogram": [
           {
            "marker": {
             "pattern": {
              "fillmode": "overlay",
              "size": 10,
              "solidity": 0.2
             }
            },
            "type": "histogram"
           }
          ],
          "scattergl": [
           {
            "marker": {
             "line": {
              "color": "#283442"
             }
            },
            "type": "scattergl"
           }
          ],
          "scatter3d": [
           {
            "type": "scatter3d",
            "line": {
             "colorbar": {
              "outlinewidth": 0,
              "ticks": ""
             }
            },
            "marker": {
             "colorbar": {
              "outlinewidth": 0,
              "ticks": ""
             }
            }
           }
          ],
          "scattermapbox": [
           {
            "type": "scattermapbox",
            "marker": {
             "colorbar": {
              "outlinewidth": 0,
              "ticks": ""
             }
            }
           }
          ],
          "scatterternary": [
           {
            "type": "scatterternary",
            "marker": {
             "colorbar": {
              "outlinewidth": 0,
              "ticks": ""
             }
            }
           }
          ],
          "scattercarpet": [
           {
            "type": "scattercarpet",
            "marker": {
             "colorbar": {
              "outlinewidth": 0,
              "ticks": ""
             }
            }
           }
          ],
          "carpet": [
           {
            "aaxis": {
             "endlinecolor": "#A2B1C6",
             "gridcolor": "#506784",
             "linecolor": "#506784",
             "minorgridcolor": "#506784",
             "startlinecolor": "#A2B1C6"
            },
            "baxis": {
             "endlinecolor": "#A2B1C6",
             "gridcolor": "#506784",
             "linecolor": "#506784",
             "minorgridcolor": "#506784",
             "startlinecolor": "#A2B1C6"
            },
            "type": "carpet"
           }
          ],
          "table": [
           {
            "cells": {
             "fill": {
              "color": "#506784"
             },
             "line": {
              "color": "rgb(17,17,17)"
             }
            },
            "header": {
             "fill": {
              "color": "#2a3f5f"
             },
             "line": {
              "color": "rgb(17,17,17)"
             }
            },
            "type": "table"
           }
          ],
          "barpolar": [
           {
            "marker": {
             "line": {
              "color": "rgb(17,17,17)",
              "width": 0.5
             },
             "pattern": {
              "fillmode": "overlay",
              "size": 10,
              "solidity": 0.2
             }
            },
            "type": "barpolar"
           }
          ],
          "pie": [
           {
            "automargin": true,
            "type": "pie"
           }
          ]
         },
         "layout": {
          "autotypenumbers": "strict",
          "colorway": [
           "#636efa",
           "#EF553B",
           "#00cc96",
           "#ab63fa",
           "#FFA15A",
           "#19d3f3",
           "#FF6692",
           "#B6E880",
           "#FF97FF",
           "#FECB52"
          ],
          "font": {
           "color": "#f2f5fa"
          },
          "hovermode": "closest",
          "hoverlabel": {
           "align": "left"
          },
          "paper_bgcolor": "rgb(17,17,17)",
          "plot_bgcolor": "rgb(17,17,17)",
          "polar": {
           "bgcolor": "rgb(17,17,17)",
           "angularaxis": {
            "gridcolor": "#506784",
            "linecolor": "#506784",
            "ticks": ""
           },
           "radialaxis": {
            "gridcolor": "#506784",
            "linecolor": "#506784",
            "ticks": ""
           }
          },
          "ternary": {
           "bgcolor": "rgb(17,17,17)",
           "aaxis": {
            "gridcolor": "#506784",
            "linecolor": "#506784",
            "ticks": ""
           },
           "baxis": {
            "gridcolor": "#506784",
            "linecolor": "#506784",
            "ticks": ""
           },
           "caxis": {
            "gridcolor": "#506784",
            "linecolor": "#506784",
            "ticks": ""
           }
          },
          "coloraxis": {
           "colorbar": {
            "outlinewidth": 0,
            "ticks": ""
           }
          },
          "colorscale": {
           "sequential": [
            [
             0.0,
             "#0d0887"
            ],
            [
             0.1111111111111111,
             "#46039f"
            ],
            [
             0.2222222222222222,
             "#7201a8"
            ],
            [
             0.3333333333333333,
             "#9c179e"
            ],
            [
             0.4444444444444444,
             "#bd3786"
            ],
            [
             0.5555555555555556,
             "#d8576b"
            ],
            [
             0.6666666666666666,
             "#ed7953"
            ],
            [
             0.7777777777777778,
             "#fb9f3a"
            ],
            [
             0.8888888888888888,
             "#fdca26"
            ],
            [
             1.0,
             "#f0f921"
            ]
           ],
           "sequentialminus": [
            [
             0.0,
             "#0d0887"
            ],
            [
             0.1111111111111111,
             "#46039f"
            ],
            [
             0.2222222222222222,
             "#7201a8"
            ],
            [
             0.3333333333333333,
             "#9c179e"
            ],
            [
             0.4444444444444444,
             "#bd3786"
            ],
            [
             0.5555555555555556,
             "#d8576b"
            ],
            [
             0.6666666666666666,
             "#ed7953"
            ],
            [
             0.7777777777777778,
             "#fb9f3a"
            ],
            [
             0.8888888888888888,
             "#fdca26"
            ],
            [
             1.0,
             "#f0f921"
            ]
           ],
           "diverging": [
            [
             0,
             "#8e0152"
            ],
            [
             0.1,
             "#c51b7d"
            ],
            [
             0.2,
             "#de77ae"
            ],
            [
             0.3,
             "#f1b6da"
            ],
            [
             0.4,
             "#fde0ef"
            ],
            [
             0.5,
             "#f7f7f7"
            ],
            [
             0.6,
             "#e6f5d0"
            ],
            [
             0.7,
             "#b8e186"
            ],
            [
             0.8,
             "#7fbc41"
            ],
            [
             0.9,
             "#4d9221"
            ],
            [
             1,
             "#276419"
            ]
           ]
          },
          "xaxis": {
           "gridcolor": "#283442",
           "linecolor": "#506784",
           "ticks": "",
           "title": {
            "standoff": 15
           },
           "zerolinecolor": "#283442",
           "automargin": true,
           "zerolinewidth": 2
          },
          "yaxis": {
           "gridcolor": "#283442",
           "linecolor": "#506784",
           "ticks": "",
           "title": {
            "standoff": 15
           },
           "zerolinecolor": "#283442",
           "automargin": true,
           "zerolinewidth": 2
          },
          "scene": {
           "xaxis": {
            "backgroundcolor": "rgb(17,17,17)",
            "gridcolor": "#506784",
            "linecolor": "#506784",
            "showbackground": true,
            "ticks": "",
            "zerolinecolor": "#C8D4E3",
            "gridwidth": 2
           },
           "yaxis": {
            "backgroundcolor": "rgb(17,17,17)",
            "gridcolor": "#506784",
            "linecolor": "#506784",
            "showbackground": true,
            "ticks": "",
            "zerolinecolor": "#C8D4E3",
            "gridwidth": 2
           },
           "zaxis": {
            "backgroundcolor": "rgb(17,17,17)",
            "gridcolor": "#506784",
            "linecolor": "#506784",
            "showbackground": true,
            "ticks": "",
            "zerolinecolor": "#C8D4E3",
            "gridwidth": 2
           }
          },
          "shapedefaults": {
           "line": {
            "color": "#f2f5fa"
           }
          },
          "annotationdefaults": {
           "arrowcolor": "#f2f5fa",
           "arrowhead": 0,
           "arrowwidth": 1
          },
          "geo": {
           "bgcolor": "rgb(17,17,17)",
           "landcolor": "rgb(17,17,17)",
           "subunitcolor": "#506784",
           "showland": true,
           "showlakes": true,
           "lakecolor": "rgb(17,17,17)"
          },
          "title": {
           "x": 0.05
          },
          "updatemenudefaults": {
           "bgcolor": "#506784",
           "borderwidth": 0
          },
          "sliderdefaults": {
           "bgcolor": "#C8D4E3",
           "borderwidth": 1,
           "bordercolor": "rgb(17,17,17)",
           "tickwidth": 0
          },
          "mapbox": {
           "style": "dark"
          }
         }
        },
        "xaxis": {
         "anchor": "y",
         "domain": [
          0.0,
          0.2888888888888889
         ],
         "showticklabels": false
        },
        "yaxis": {
         "anchor": "x",
         "domain": [
          0.88,
          1.0
         ]
        },
        "xaxis2": {
         "anchor": "y2",
         "domain": [
          0.35555555555555557,
          0.6444444444444445
         ],
         "showticklabels": false
        },
        "yaxis2": {
         "anchor": "x2",
         "domain": [
          0.88,
          1.0
         ]
        },
        "xaxis3": {
         "anchor": "y3",
         "domain": [
          0.7111111111111111,
          1.0
         ],
         "showticklabels": false
        },
        "yaxis3": {
         "anchor": "x3",
         "domain": [
          0.88,
          1.0
         ]
        },
        "xaxis4": {
         "anchor": "y4",
         "domain": [
          0.0,
          0.2888888888888889
         ],
         "showticklabels": false
        },
        "yaxis4": {
         "anchor": "x4",
         "domain": [
          0.66,
          0.78
         ]
        },
        "xaxis5": {
         "anchor": "y5",
         "domain": [
          0.35555555555555557,
          0.6444444444444445
         ],
         "showticklabels": false
        },
        "yaxis5": {
         "anchor": "x5",
         "domain": [
          0.66,
          0.78
         ]
        },
        "xaxis6": {
         "anchor": "y6",
         "domain": [
          0.7111111111111111,
          1.0
         ],
         "showticklabels": false
        },
        "yaxis6": {
         "anchor": "x6",
         "domain": [
          0.66,
          0.78
         ]
        },
        "xaxis7": {
         "anchor": "y7",
         "domain": [
          0.0,
          0.2888888888888889
         ],
         "showticklabels": false
        },
        "yaxis7": {
         "anchor": "x7",
         "domain": [
          0.44,
          0.56
         ]
        },
        "xaxis8": {
         "anchor": "y8",
         "domain": [
          0.35555555555555557,
          0.6444444444444445
         ],
         "showticklabels": false
        },
        "yaxis8": {
         "anchor": "x8",
         "domain": [
          0.44,
          0.56
         ]
        },
        "xaxis9": {
         "anchor": "y9",
         "domain": [
          0.7111111111111111,
          1.0
         ],
         "showticklabels": false
        },
        "yaxis9": {
         "anchor": "x9",
         "domain": [
          0.44,
          0.56
         ]
        },
        "xaxis10": {
         "anchor": "y10",
         "domain": [
          0.0,
          0.2888888888888889
         ],
         "showticklabels": false
        },
        "yaxis10": {
         "anchor": "x10",
         "domain": [
          0.22,
          0.33999999999999997
         ]
        },
        "xaxis11": {
         "anchor": "y11",
         "domain": [
          0.35555555555555557,
          0.6444444444444445
         ],
         "showticklabels": false
        },
        "yaxis11": {
         "anchor": "x11",
         "domain": [
          0.22,
          0.33999999999999997
         ]
        },
        "xaxis12": {
         "anchor": "y12",
         "domain": [
          0.7111111111111111,
          1.0
         ],
         "showticklabels": false
        },
        "yaxis12": {
         "anchor": "x12",
         "domain": [
          0.22,
          0.33999999999999997
         ]
        },
        "xaxis13": {
         "anchor": "y13",
         "domain": [
          0.0,
          0.2888888888888889
         ],
         "showticklabels": false
        },
        "yaxis13": {
         "anchor": "x13",
         "domain": [
          0.0,
          0.12
         ]
        },
        "xaxis14": {
         "anchor": "y14",
         "domain": [
          0.35555555555555557,
          0.6444444444444445
         ],
         "showticklabels": false
        },
        "yaxis14": {
         "anchor": "x14",
         "domain": [
          0.0,
          0.12
         ]
        },
        "xaxis15": {
         "anchor": "y15",
         "domain": [
          0.7111111111111111,
          1.0
         ],
         "showticklabels": false
        },
        "yaxis15": {
         "anchor": "x15",
         "domain": [
          0.0,
          0.12
         ]
        },
        "annotations": [
         {
          "font": {
           "size": 16
          },
          "showarrow": false,
          "text": "Distribution of status",
          "x": 0.14444444444444446,
          "xanchor": "center",
          "xref": "paper",
          "y": 1.0,
          "yanchor": "bottom",
          "yref": "paper"
         },
         {
          "font": {
           "size": 16
          },
          "showarrow": false,
          "text": "Distribution of credit_history",
          "x": 0.5,
          "xanchor": "center",
          "xref": "paper",
          "y": 1.0,
          "yanchor": "bottom",
          "yref": "paper"
         },
         {
          "font": {
           "size": 16
          },
          "showarrow": false,
          "text": "Distribution of purpose",
          "x": 0.8555555555555556,
          "xanchor": "center",
          "xref": "paper",
          "y": 1.0,
          "yanchor": "bottom",
          "yref": "paper"
         },
         {
          "font": {
           "size": 16
          },
          "showarrow": false,
          "text": "Distribution of savings",
          "x": 0.14444444444444446,
          "xanchor": "center",
          "xref": "paper",
          "y": 0.78,
          "yanchor": "bottom",
          "yref": "paper"
         },
         {
          "font": {
           "size": 16
          },
          "showarrow": false,
          "text": "Distribution of employment_duration",
          "x": 0.5,
          "xanchor": "center",
          "xref": "paper",
          "y": 0.78,
          "yanchor": "bottom",
          "yref": "paper"
         },
         {
          "font": {
           "size": 16
          },
          "showarrow": false,
          "text": "Distribution of personal_status_sex",
          "x": 0.8555555555555556,
          "xanchor": "center",
          "xref": "paper",
          "y": 0.78,
          "yanchor": "bottom",
          "yref": "paper"
         },
         {
          "font": {
           "size": 16
          },
          "showarrow": false,
          "text": "Distribution of other_debtors",
          "x": 0.14444444444444446,
          "xanchor": "center",
          "xref": "paper",
          "y": 0.56,
          "yanchor": "bottom",
          "yref": "paper"
         },
         {
          "font": {
           "size": 16
          },
          "showarrow": false,
          "text": "Distribution of property",
          "x": 0.5,
          "xanchor": "center",
          "xref": "paper",
          "y": 0.56,
          "yanchor": "bottom",
          "yref": "paper"
         },
         {
          "font": {
           "size": 16
          },
          "showarrow": false,
          "text": "Distribution of other_installment_plans",
          "x": 0.8555555555555556,
          "xanchor": "center",
          "xref": "paper",
          "y": 0.56,
          "yanchor": "bottom",
          "yref": "paper"
         },
         {
          "font": {
           "size": 16
          },
          "showarrow": false,
          "text": "Distribution of housing",
          "x": 0.14444444444444446,
          "xanchor": "center",
          "xref": "paper",
          "y": 0.33999999999999997,
          "yanchor": "bottom",
          "yref": "paper"
         },
         {
          "font": {
           "size": 16
          },
          "showarrow": false,
          "text": "Distribution of job",
          "x": 0.5,
          "xanchor": "center",
          "xref": "paper",
          "y": 0.33999999999999997,
          "yanchor": "bottom",
          "yref": "paper"
         },
         {
          "font": {
           "size": 16
          },
          "showarrow": false,
          "text": "Distribution of telephone",
          "x": 0.8555555555555556,
          "xanchor": "center",
          "xref": "paper",
          "y": 0.33999999999999997,
          "yanchor": "bottom",
          "yref": "paper"
         },
         {
          "font": {
           "size": 16
          },
          "showarrow": false,
          "text": "Distribution of foreign_worker",
          "x": 0.14444444444444446,
          "xanchor": "center",
          "xref": "paper",
          "y": 0.12,
          "yanchor": "bottom",
          "yref": "paper"
         }
        ],
        "title": {
         "text": "Categorical Feature Analysis"
        },
        "margin": {
         "t": 100
        },
        "height": 1500,
        "showlegend": false
       },
       "config": {
        "plotlyServerURL": "https://plot.ly"
       }
      },
      "text/html": [
       "<div>                            <div id=\"bd89f890-e6ce-4cf0-b859-2bd765890d4e\" class=\"plotly-graph-div\" style=\"height:1500px; width:100%;\"></div>            <script type=\"text/javascript\">                require([\"plotly\"], function(Plotly) {                    window.PLOTLYENV=window.PLOTLYENV || {};                                    if (document.getElementById(\"bd89f890-e6ce-4cf0-b859-2bd765890d4e\")) {                    Plotly.newPlot(                        \"bd89f890-e6ce-4cf0-b859-2bd765890d4e\",                        [{\"hovertemplate\":\"\\u003cb\\u003e%{x}\\u003c\\u002fb\\u003e\\u003cbr\\u003eCount: %{y}\\u003cextra\\u003e\\u003c\\u002fextra\\u003e\",\"marker\":{\"color\":\"#2A5C7D\"},\"name\":\"status\",\"x\":[\"no checking account\",\"... \\u003c 100 DM\",\"0 \\u003c= ... \\u003c 200 DM\",\"... \\u003e= 200 DM \\u002f salary for at least 1 year\"],\"y\":[394,274,269,63],\"type\":\"bar\",\"xaxis\":\"x\",\"yaxis\":\"y\"},{\"hovertemplate\":\"\\u003cb\\u003e%{x}\\u003c\\u002fb\\u003e\\u003cbr\\u003eCount: %{y}\\u003cextra\\u003e\\u003c\\u002fextra\\u003e\",\"marker\":{\"color\":\"#EF553B\"},\"name\":\"credit_history\",\"x\":[\"existing credits paid back duly till now\",\"critical account\\u002fother credits existing\",\"delay in paying off in the past\",\"all credits at this bank paid back duly\",\"no credits taken\\u002fall credits paid back duly\"],\"y\":[530,293,88,49,40],\"type\":\"bar\",\"xaxis\":\"x2\",\"yaxis\":\"y2\"},{\"hovertemplate\":\"\\u003cb\\u003e%{x}\\u003c\\u002fb\\u003e\\u003cbr\\u003eCount: %{y}\\u003cextra\\u003e\\u003c\\u002fextra\\u003e\",\"marker\":{\"color\":\"#EF553B\"},\"name\":\"purpose\",\"x\":[\"domestic appliances\",\"car (new)\",\"radio\\u002ftelevision\",\"car (used)\",\"others\",\"retraining\",\"education\",\"furniture\\u002fequipment\",\"repairs\",\"business\"],\"y\":[280,234,181,103,97,50,22,12,12,9],\"type\":\"bar\",\"xaxis\":\"x3\",\"yaxis\":\"y3\"},{\"hovertemplate\":\"\\u003cb\\u003e%{x}\\u003c\\u002fb\\u003e\\u003cbr\\u003eCount: %{y}\\u003cextra\\u003e\\u003c\\u002fextra\\u003e\",\"marker\":{\"color\":\"#EF553B\"},\"name\":\"savings\",\"x\":[\"... \\u003c 100 DM\",\"unknown\\u002fno savings account\",\"100 \\u003c= ... \\u003c 500 DM\",\"500 \\u003c= ... \\u003c 1000 DM\",\"... \\u003e= 1000 DM\"],\"y\":[603,183,103,63,48],\"type\":\"bar\",\"xaxis\":\"x4\",\"yaxis\":\"y4\"},{\"hovertemplate\":\"\\u003cb\\u003e%{x}\\u003c\\u002fb\\u003e\\u003cbr\\u003eCount: %{y}\\u003cextra\\u003e\\u003c\\u002fextra\\u003e\",\"marker\":{\"color\":\"#2A5C7D\"},\"name\":\"employment_duration\",\"x\":[\"1 \\u003c= ... \\u003c 4 years\",\"... \\u003e= 7 years\",\"4 \\u003c= ... \\u003c 7 years\",\"... \\u003c 1 year\",\"unemployed\"],\"y\":[339,253,174,172,62],\"type\":\"bar\",\"xaxis\":\"x5\",\"yaxis\":\"y5\"},{\"hovertemplate\":\"\\u003cb\\u003e%{x}\\u003c\\u002fb\\u003e\\u003cbr\\u003eCount: %{y}\\u003cextra\\u003e\\u003c\\u002fextra\\u003e\",\"marker\":{\"color\":\"#EF553B\"},\"name\":\"personal_status_sex\",\"x\":[\"male : single\",\"female : divorced\\u002fseparated\\u002fmarried\",\"male : married\\u002fwidowed\",\"male : divorced\\u002fseparated\"],\"y\":[548,310,92,50],\"type\":\"bar\",\"xaxis\":\"x6\",\"yaxis\":\"y6\"},{\"hovertemplate\":\"\\u003cb\\u003e%{x}\\u003c\\u002fb\\u003e\\u003cbr\\u003eCount: %{y}\\u003cextra\\u003e\\u003c\\u002fextra\\u003e\",\"marker\":{\"color\":\"#EF553B\"},\"name\":\"other_debtors\",\"x\":[\"none\",\"guarantor\",\"co-applicant\"],\"y\":[907,52,41],\"type\":\"bar\",\"xaxis\":\"x7\",\"yaxis\":\"y7\"},{\"hovertemplate\":\"\\u003cb\\u003e%{x}\\u003c\\u002fb\\u003e\\u003cbr\\u003eCount: %{y}\\u003cextra\\u003e\\u003c\\u002fextra\\u003e\",\"marker\":{\"color\":\"#2A5C7D\"},\"name\":\"property\",\"x\":[\"car or other\",\"real estate\",\"building society savings agreement\\u002flife insurance\",\"unknown\\u002fno property\"],\"y\":[332,282,232,154],\"type\":\"bar\",\"xaxis\":\"x8\",\"yaxis\":\"y8\"},{\"hovertemplate\":\"\\u003cb\\u003e%{x}\\u003c\\u002fb\\u003e\\u003cbr\\u003eCount: %{y}\\u003cextra\\u003e\\u003c\\u002fextra\\u003e\",\"marker\":{\"color\":\"#EF553B\"},\"name\":\"other_installment_plans\",\"x\":[\"none\",\"bank\",\"stores\"],\"y\":[814,139,47],\"type\":\"bar\",\"xaxis\":\"x9\",\"yaxis\":\"y9\"},{\"hovertemplate\":\"\\u003cb\\u003e%{x}\\u003c\\u002fb\\u003e\\u003cbr\\u003eCount: %{y}\\u003cextra\\u003e\\u003c\\u002fextra\\u003e\",\"marker\":{\"color\":\"#EF553B\"},\"name\":\"housing\",\"x\":[\"own\",\"rent\",\"for free\"],\"y\":[713,179,108],\"type\":\"bar\",\"xaxis\":\"x10\",\"yaxis\":\"y10\"},{\"hovertemplate\":\"\\u003cb\\u003e%{x}\\u003c\\u002fb\\u003e\\u003cbr\\u003eCount: %{y}\\u003cextra\\u003e\\u003c\\u002fextra\\u003e\",\"marker\":{\"color\":\"#EF553B\"},\"name\":\"job\",\"x\":[\"skilled employee\\u002fofficial\",\"unskilled - resident\",\"management\\u002fself-employed\\u002fhighly qualified employee\\u002fofficer\",\"unemployed\\u002funskilled - non-resident\"],\"y\":[630,200,148,22],\"type\":\"bar\",\"xaxis\":\"x11\",\"yaxis\":\"y11\"},{\"hovertemplate\":\"\\u003cb\\u003e%{x}\\u003c\\u002fb\\u003e\\u003cbr\\u003eCount: %{y}\\u003cextra\\u003e\\u003c\\u002fextra\\u003e\",\"marker\":{\"color\":\"#2A5C7D\"},\"name\":\"telephone\",\"x\":[\"no\",\"yes\"],\"y\":[596,404],\"type\":\"bar\",\"xaxis\":\"x12\",\"yaxis\":\"y12\"},{\"hovertemplate\":\"\\u003cb\\u003e%{x}\\u003c\\u002fb\\u003e\\u003cbr\\u003eCount: %{y}\\u003cextra\\u003e\\u003c\\u002fextra\\u003e\",\"marker\":{\"color\":\"#EF553B\"},\"name\":\"foreign_worker\",\"x\":[\"yes\",\"no\"],\"y\":[963,37],\"type\":\"bar\",\"xaxis\":\"x13\",\"yaxis\":\"y13\"}],                        {\"template\":{\"data\":{\"histogram2dcontour\":[{\"type\":\"histogram2dcontour\",\"colorbar\":{\"outlinewidth\":0,\"ticks\":\"\"},\"colorscale\":[[0.0,\"#0d0887\"],[0.1111111111111111,\"#46039f\"],[0.2222222222222222,\"#7201a8\"],[0.3333333333333333,\"#9c179e\"],[0.4444444444444444,\"#bd3786\"],[0.5555555555555556,\"#d8576b\"],[0.6666666666666666,\"#ed7953\"],[0.7777777777777778,\"#fb9f3a\"],[0.8888888888888888,\"#fdca26\"],[1.0,\"#f0f921\"]]}],\"choropleth\":[{\"type\":\"choropleth\",\"colorbar\":{\"outlinewidth\":0,\"ticks\":\"\"}}],\"histogram2d\":[{\"type\":\"histogram2d\",\"colorbar\":{\"outlinewidth\":0,\"ticks\":\"\"},\"colorscale\":[[0.0,\"#0d0887\"],[0.1111111111111111,\"#46039f\"],[0.2222222222222222,\"#7201a8\"],[0.3333333333333333,\"#9c179e\"],[0.4444444444444444,\"#bd3786\"],[0.5555555555555556,\"#d8576b\"],[0.6666666666666666,\"#ed7953\"],[0.7777777777777778,\"#fb9f3a\"],[0.8888888888888888,\"#fdca26\"],[1.0,\"#f0f921\"]]}],\"heatmap\":[{\"type\":\"heatmap\",\"colorbar\":{\"outlinewidth\":0,\"ticks\":\"\"},\"colorscale\":[[0.0,\"#0d0887\"],[0.1111111111111111,\"#46039f\"],[0.2222222222222222,\"#7201a8\"],[0.3333333333333333,\"#9c179e\"],[0.4444444444444444,\"#bd3786\"],[0.5555555555555556,\"#d8576b\"],[0.6666666666666666,\"#ed7953\"],[0.7777777777777778,\"#fb9f3a\"],[0.8888888888888888,\"#fdca26\"],[1.0,\"#f0f921\"]]}],\"heatmapgl\":[{\"type\":\"heatmapgl\",\"colorbar\":{\"outlinewidth\":0,\"ticks\":\"\"},\"colorscale\":[[0.0,\"#0d0887\"],[0.1111111111111111,\"#46039f\"],[0.2222222222222222,\"#7201a8\"],[0.3333333333333333,\"#9c179e\"],[0.4444444444444444,\"#bd3786\"],[0.5555555555555556,\"#d8576b\"],[0.6666666666666666,\"#ed7953\"],[0.7777777777777778,\"#fb9f3a\"],[0.8888888888888888,\"#fdca26\"],[1.0,\"#f0f921\"]]}],\"contourcarpet\":[{\"type\":\"contourcarpet\",\"colorbar\":{\"outlinewidth\":0,\"ticks\":\"\"}}],\"contour\":[{\"type\":\"contour\",\"colorbar\":{\"outlinewidth\":0,\"ticks\":\"\"},\"colorscale\":[[0.0,\"#0d0887\"],[0.1111111111111111,\"#46039f\"],[0.2222222222222222,\"#7201a8\"],[0.3333333333333333,\"#9c179e\"],[0.4444444444444444,\"#bd3786\"],[0.5555555555555556,\"#d8576b\"],[0.6666666666666666,\"#ed7953\"],[0.7777777777777778,\"#fb9f3a\"],[0.8888888888888888,\"#fdca26\"],[1.0,\"#f0f921\"]]}],\"surface\":[{\"type\":\"surface\",\"colorbar\":{\"outlinewidth\":0,\"ticks\":\"\"},\"colorscale\":[[0.0,\"#0d0887\"],[0.1111111111111111,\"#46039f\"],[0.2222222222222222,\"#7201a8\"],[0.3333333333333333,\"#9c179e\"],[0.4444444444444444,\"#bd3786\"],[0.5555555555555556,\"#d8576b\"],[0.6666666666666666,\"#ed7953\"],[0.7777777777777778,\"#fb9f3a\"],[0.8888888888888888,\"#fdca26\"],[1.0,\"#f0f921\"]]}],\"mesh3d\":[{\"type\":\"mesh3d\",\"colorbar\":{\"outlinewidth\":0,\"ticks\":\"\"}}],\"scatter\":[{\"marker\":{\"line\":{\"color\":\"#283442\"}},\"type\":\"scatter\"}],\"parcoords\":[{\"type\":\"parcoords\",\"line\":{\"colorbar\":{\"outlinewidth\":0,\"ticks\":\"\"}}}],\"scatterpolargl\":[{\"type\":\"scatterpolargl\",\"marker\":{\"colorbar\":{\"outlinewidth\":0,\"ticks\":\"\"}}}],\"bar\":[{\"error_x\":{\"color\":\"#f2f5fa\"},\"error_y\":{\"color\":\"#f2f5fa\"},\"marker\":{\"line\":{\"color\":\"rgb(17,17,17)\",\"width\":0.5},\"pattern\":{\"fillmode\":\"overlay\",\"size\":10,\"solidity\":0.2}},\"type\":\"bar\"}],\"scattergeo\":[{\"type\":\"scattergeo\",\"marker\":{\"colorbar\":{\"outlinewidth\":0,\"ticks\":\"\"}}}],\"scatterpolar\":[{\"type\":\"scatterpolar\",\"marker\":{\"colorbar\":{\"outlinewidth\":0,\"ticks\":\"\"}}}],\"histogram\":[{\"marker\":{\"pattern\":{\"fillmode\":\"overlay\",\"size\":10,\"solidity\":0.2}},\"type\":\"histogram\"}],\"scattergl\":[{\"marker\":{\"line\":{\"color\":\"#283442\"}},\"type\":\"scattergl\"}],\"scatter3d\":[{\"type\":\"scatter3d\",\"line\":{\"colorbar\":{\"outlinewidth\":0,\"ticks\":\"\"}},\"marker\":{\"colorbar\":{\"outlinewidth\":0,\"ticks\":\"\"}}}],\"scattermapbox\":[{\"type\":\"scattermapbox\",\"marker\":{\"colorbar\":{\"outlinewidth\":0,\"ticks\":\"\"}}}],\"scatterternary\":[{\"type\":\"scatterternary\",\"marker\":{\"colorbar\":{\"outlinewidth\":0,\"ticks\":\"\"}}}],\"scattercarpet\":[{\"type\":\"scattercarpet\",\"marker\":{\"colorbar\":{\"outlinewidth\":0,\"ticks\":\"\"}}}],\"carpet\":[{\"aaxis\":{\"endlinecolor\":\"#A2B1C6\",\"gridcolor\":\"#506784\",\"linecolor\":\"#506784\",\"minorgridcolor\":\"#506784\",\"startlinecolor\":\"#A2B1C6\"},\"baxis\":{\"endlinecolor\":\"#A2B1C6\",\"gridcolor\":\"#506784\",\"linecolor\":\"#506784\",\"minorgridcolor\":\"#506784\",\"startlinecolor\":\"#A2B1C6\"},\"type\":\"carpet\"}],\"table\":[{\"cells\":{\"fill\":{\"color\":\"#506784\"},\"line\":{\"color\":\"rgb(17,17,17)\"}},\"header\":{\"fill\":{\"color\":\"#2a3f5f\"},\"line\":{\"color\":\"rgb(17,17,17)\"}},\"type\":\"table\"}],\"barpolar\":[{\"marker\":{\"line\":{\"color\":\"rgb(17,17,17)\",\"width\":0.5},\"pattern\":{\"fillmode\":\"overlay\",\"size\":10,\"solidity\":0.2}},\"type\":\"barpolar\"}],\"pie\":[{\"automargin\":true,\"type\":\"pie\"}]},\"layout\":{\"autotypenumbers\":\"strict\",\"colorway\":[\"#636efa\",\"#EF553B\",\"#00cc96\",\"#ab63fa\",\"#FFA15A\",\"#19d3f3\",\"#FF6692\",\"#B6E880\",\"#FF97FF\",\"#FECB52\"],\"font\":{\"color\":\"#f2f5fa\"},\"hovermode\":\"closest\",\"hoverlabel\":{\"align\":\"left\"},\"paper_bgcolor\":\"rgb(17,17,17)\",\"plot_bgcolor\":\"rgb(17,17,17)\",\"polar\":{\"bgcolor\":\"rgb(17,17,17)\",\"angularaxis\":{\"gridcolor\":\"#506784\",\"linecolor\":\"#506784\",\"ticks\":\"\"},\"radialaxis\":{\"gridcolor\":\"#506784\",\"linecolor\":\"#506784\",\"ticks\":\"\"}},\"ternary\":{\"bgcolor\":\"rgb(17,17,17)\",\"aaxis\":{\"gridcolor\":\"#506784\",\"linecolor\":\"#506784\",\"ticks\":\"\"},\"baxis\":{\"gridcolor\":\"#506784\",\"linecolor\":\"#506784\",\"ticks\":\"\"},\"caxis\":{\"gridcolor\":\"#506784\",\"linecolor\":\"#506784\",\"ticks\":\"\"}},\"coloraxis\":{\"colorbar\":{\"outlinewidth\":0,\"ticks\":\"\"}},\"colorscale\":{\"sequential\":[[0.0,\"#0d0887\"],[0.1111111111111111,\"#46039f\"],[0.2222222222222222,\"#7201a8\"],[0.3333333333333333,\"#9c179e\"],[0.4444444444444444,\"#bd3786\"],[0.5555555555555556,\"#d8576b\"],[0.6666666666666666,\"#ed7953\"],[0.7777777777777778,\"#fb9f3a\"],[0.8888888888888888,\"#fdca26\"],[1.0,\"#f0f921\"]],\"sequentialminus\":[[0.0,\"#0d0887\"],[0.1111111111111111,\"#46039f\"],[0.2222222222222222,\"#7201a8\"],[0.3333333333333333,\"#9c179e\"],[0.4444444444444444,\"#bd3786\"],[0.5555555555555556,\"#d8576b\"],[0.6666666666666666,\"#ed7953\"],[0.7777777777777778,\"#fb9f3a\"],[0.8888888888888888,\"#fdca26\"],[1.0,\"#f0f921\"]],\"diverging\":[[0,\"#8e0152\"],[0.1,\"#c51b7d\"],[0.2,\"#de77ae\"],[0.3,\"#f1b6da\"],[0.4,\"#fde0ef\"],[0.5,\"#f7f7f7\"],[0.6,\"#e6f5d0\"],[0.7,\"#b8e186\"],[0.8,\"#7fbc41\"],[0.9,\"#4d9221\"],[1,\"#276419\"]]},\"xaxis\":{\"gridcolor\":\"#283442\",\"linecolor\":\"#506784\",\"ticks\":\"\",\"title\":{\"standoff\":15},\"zerolinecolor\":\"#283442\",\"automargin\":true,\"zerolinewidth\":2},\"yaxis\":{\"gridcolor\":\"#283442\",\"linecolor\":\"#506784\",\"ticks\":\"\",\"title\":{\"standoff\":15},\"zerolinecolor\":\"#283442\",\"automargin\":true,\"zerolinewidth\":2},\"scene\":{\"xaxis\":{\"backgroundcolor\":\"rgb(17,17,17)\",\"gridcolor\":\"#506784\",\"linecolor\":\"#506784\",\"showbackground\":true,\"ticks\":\"\",\"zerolinecolor\":\"#C8D4E3\",\"gridwidth\":2},\"yaxis\":{\"backgroundcolor\":\"rgb(17,17,17)\",\"gridcolor\":\"#506784\",\"linecolor\":\"#506784\",\"showbackground\":true,\"ticks\":\"\",\"zerolinecolor\":\"#C8D4E3\",\"gridwidth\":2},\"zaxis\":{\"backgroundcolor\":\"rgb(17,17,17)\",\"gridcolor\":\"#506784\",\"linecolor\":\"#506784\",\"showbackground\":true,\"ticks\":\"\",\"zerolinecolor\":\"#C8D4E3\",\"gridwidth\":2}},\"shapedefaults\":{\"line\":{\"color\":\"#f2f5fa\"}},\"annotationdefaults\":{\"arrowcolor\":\"#f2f5fa\",\"arrowhead\":0,\"arrowwidth\":1},\"geo\":{\"bgcolor\":\"rgb(17,17,17)\",\"landcolor\":\"rgb(17,17,17)\",\"subunitcolor\":\"#506784\",\"showland\":true,\"showlakes\":true,\"lakecolor\":\"rgb(17,17,17)\"},\"title\":{\"x\":0.05},\"updatemenudefaults\":{\"bgcolor\":\"#506784\",\"borderwidth\":0},\"sliderdefaults\":{\"bgcolor\":\"#C8D4E3\",\"borderwidth\":1,\"bordercolor\":\"rgb(17,17,17)\",\"tickwidth\":0},\"mapbox\":{\"style\":\"dark\"}}},\"xaxis\":{\"anchor\":\"y\",\"domain\":[0.0,0.2888888888888889],\"showticklabels\":false},\"yaxis\":{\"anchor\":\"x\",\"domain\":[0.88,1.0]},\"xaxis2\":{\"anchor\":\"y2\",\"domain\":[0.35555555555555557,0.6444444444444445],\"showticklabels\":false},\"yaxis2\":{\"anchor\":\"x2\",\"domain\":[0.88,1.0]},\"xaxis3\":{\"anchor\":\"y3\",\"domain\":[0.7111111111111111,1.0],\"showticklabels\":false},\"yaxis3\":{\"anchor\":\"x3\",\"domain\":[0.88,1.0]},\"xaxis4\":{\"anchor\":\"y4\",\"domain\":[0.0,0.2888888888888889],\"showticklabels\":false},\"yaxis4\":{\"anchor\":\"x4\",\"domain\":[0.66,0.78]},\"xaxis5\":{\"anchor\":\"y5\",\"domain\":[0.35555555555555557,0.6444444444444445],\"showticklabels\":false},\"yaxis5\":{\"anchor\":\"x5\",\"domain\":[0.66,0.78]},\"xaxis6\":{\"anchor\":\"y6\",\"domain\":[0.7111111111111111,1.0],\"showticklabels\":false},\"yaxis6\":{\"anchor\":\"x6\",\"domain\":[0.66,0.78]},\"xaxis7\":{\"anchor\":\"y7\",\"domain\":[0.0,0.2888888888888889],\"showticklabels\":false},\"yaxis7\":{\"anchor\":\"x7\",\"domain\":[0.44,0.56]},\"xaxis8\":{\"anchor\":\"y8\",\"domain\":[0.35555555555555557,0.6444444444444445],\"showticklabels\":false},\"yaxis8\":{\"anchor\":\"x8\",\"domain\":[0.44,0.56]},\"xaxis9\":{\"anchor\":\"y9\",\"domain\":[0.7111111111111111,1.0],\"showticklabels\":false},\"yaxis9\":{\"anchor\":\"x9\",\"domain\":[0.44,0.56]},\"xaxis10\":{\"anchor\":\"y10\",\"domain\":[0.0,0.2888888888888889],\"showticklabels\":false},\"yaxis10\":{\"anchor\":\"x10\",\"domain\":[0.22,0.33999999999999997]},\"xaxis11\":{\"anchor\":\"y11\",\"domain\":[0.35555555555555557,0.6444444444444445],\"showticklabels\":false},\"yaxis11\":{\"anchor\":\"x11\",\"domain\":[0.22,0.33999999999999997]},\"xaxis12\":{\"anchor\":\"y12\",\"domain\":[0.7111111111111111,1.0],\"showticklabels\":false},\"yaxis12\":{\"anchor\":\"x12\",\"domain\":[0.22,0.33999999999999997]},\"xaxis13\":{\"anchor\":\"y13\",\"domain\":[0.0,0.2888888888888889],\"showticklabels\":false},\"yaxis13\":{\"anchor\":\"x13\",\"domain\":[0.0,0.12]},\"xaxis14\":{\"anchor\":\"y14\",\"domain\":[0.35555555555555557,0.6444444444444445],\"showticklabels\":false},\"yaxis14\":{\"anchor\":\"x14\",\"domain\":[0.0,0.12]},\"xaxis15\":{\"anchor\":\"y15\",\"domain\":[0.7111111111111111,1.0],\"showticklabels\":false},\"yaxis15\":{\"anchor\":\"x15\",\"domain\":[0.0,0.12]},\"annotations\":[{\"font\":{\"size\":16},\"showarrow\":false,\"text\":\"Distribution of status\",\"x\":0.14444444444444446,\"xanchor\":\"center\",\"xref\":\"paper\",\"y\":1.0,\"yanchor\":\"bottom\",\"yref\":\"paper\"},{\"font\":{\"size\":16},\"showarrow\":false,\"text\":\"Distribution of credit_history\",\"x\":0.5,\"xanchor\":\"center\",\"xref\":\"paper\",\"y\":1.0,\"yanchor\":\"bottom\",\"yref\":\"paper\"},{\"font\":{\"size\":16},\"showarrow\":false,\"text\":\"Distribution of purpose\",\"x\":0.8555555555555556,\"xanchor\":\"center\",\"xref\":\"paper\",\"y\":1.0,\"yanchor\":\"bottom\",\"yref\":\"paper\"},{\"font\":{\"size\":16},\"showarrow\":false,\"text\":\"Distribution of savings\",\"x\":0.14444444444444446,\"xanchor\":\"center\",\"xref\":\"paper\",\"y\":0.78,\"yanchor\":\"bottom\",\"yref\":\"paper\"},{\"font\":{\"size\":16},\"showarrow\":false,\"text\":\"Distribution of employment_duration\",\"x\":0.5,\"xanchor\":\"center\",\"xref\":\"paper\",\"y\":0.78,\"yanchor\":\"bottom\",\"yref\":\"paper\"},{\"font\":{\"size\":16},\"showarrow\":false,\"text\":\"Distribution of personal_status_sex\",\"x\":0.8555555555555556,\"xanchor\":\"center\",\"xref\":\"paper\",\"y\":0.78,\"yanchor\":\"bottom\",\"yref\":\"paper\"},{\"font\":{\"size\":16},\"showarrow\":false,\"text\":\"Distribution of other_debtors\",\"x\":0.14444444444444446,\"xanchor\":\"center\",\"xref\":\"paper\",\"y\":0.56,\"yanchor\":\"bottom\",\"yref\":\"paper\"},{\"font\":{\"size\":16},\"showarrow\":false,\"text\":\"Distribution of property\",\"x\":0.5,\"xanchor\":\"center\",\"xref\":\"paper\",\"y\":0.56,\"yanchor\":\"bottom\",\"yref\":\"paper\"},{\"font\":{\"size\":16},\"showarrow\":false,\"text\":\"Distribution of other_installment_plans\",\"x\":0.8555555555555556,\"xanchor\":\"center\",\"xref\":\"paper\",\"y\":0.56,\"yanchor\":\"bottom\",\"yref\":\"paper\"},{\"font\":{\"size\":16},\"showarrow\":false,\"text\":\"Distribution of housing\",\"x\":0.14444444444444446,\"xanchor\":\"center\",\"xref\":\"paper\",\"y\":0.33999999999999997,\"yanchor\":\"bottom\",\"yref\":\"paper\"},{\"font\":{\"size\":16},\"showarrow\":false,\"text\":\"Distribution of job\",\"x\":0.5,\"xanchor\":\"center\",\"xref\":\"paper\",\"y\":0.33999999999999997,\"yanchor\":\"bottom\",\"yref\":\"paper\"},{\"font\":{\"size\":16},\"showarrow\":false,\"text\":\"Distribution of telephone\",\"x\":0.8555555555555556,\"xanchor\":\"center\",\"xref\":\"paper\",\"y\":0.33999999999999997,\"yanchor\":\"bottom\",\"yref\":\"paper\"},{\"font\":{\"size\":16},\"showarrow\":false,\"text\":\"Distribution of foreign_worker\",\"x\":0.14444444444444446,\"xanchor\":\"center\",\"xref\":\"paper\",\"y\":0.12,\"yanchor\":\"bottom\",\"yref\":\"paper\"}],\"title\":{\"text\":\"Categorical Feature Analysis\"},\"margin\":{\"t\":100},\"height\":1500,\"showlegend\":false},                        {\"responsive\": true}                    ).then(function(){\n",
       "                            \n",
       "var gd = document.getElementById('bd89f890-e6ce-4cf0-b859-2bd765890d4e');\n",
       "var x = new MutationObserver(function (mutations, observer) {{\n",
       "        var display = window.getComputedStyle(gd).display;\n",
       "        if (!display || display === 'none') {{\n",
       "            console.log([gd, 'removed!']);\n",
       "            Plotly.purge(gd);\n",
       "            observer.disconnect();\n",
       "        }}\n",
       "}});\n",
       "\n",
       "// Listen for the removal of the full notebook cells\n",
       "var notebookContainer = gd.closest('#notebook-container');\n",
       "if (notebookContainer) {{\n",
       "    x.observe(notebookContainer, {childList: true});\n",
       "}}\n",
       "\n",
       "// Listen for the clearing of the current output cell\n",
       "var outputEl = gd.closest('.output');\n",
       "if (outputEl) {{\n",
       "    x.observe(outputEl, {childList: true});\n",
       "}}\n",
       "\n",
       "                        })                };                });            </script>        </div>"
      ]
     },
     "metadata": {},
     "output_type": "display_data"
    }
   ],
   "execution_count": 239
  },
  {
   "metadata": {},
   "cell_type": "markdown",
   "source": [
    "## Model Performance Analysis\n",
    "After training a Grid Search model, additional graphs are generated to evaluate prediction patterns, class performance, and feature correlation. These insights help assess fairness and model behavior.\n",
    "\n",
    "---\n",
    "\n",
    "1. Prediction Patterns (Confusion Matrix)\n",
    "    This matrix visualizes actual vs. predicted outcomes, where:\n",
    "    - Rows represent actual values (true/false)\n",
    "    - Columns represent predicted values (true/false)\n",
    "    - Darker blue indicates higher values (closer to 100), meaning stronger concentration in that category\n",
    "    ##### What to look for & why:\n",
    "    - **More concentration on the diagonal (true positives & true negatives)** → Indicates good model performance, meaning correct predictions are frequent.\n",
    "    - **Off-diagonal values (false positives & false negatives) are high** → Suggests the model is making mistakes more often, which may lead to fairness issues.\n",
    "    - **More false positives (predicted true but actually false)** → If sensitive groups are affected, this could result in wrongful decisions (e.g., an unfair rejection or approval).\n",
    "    - **More false negatives (predicted false but actually true)** → Indicates missed opportunities, which may disproportionately impact underrepresented groups.\n",
    "    💡Takeaway: If false positives or false negatives are significantly imbalanced across different groups, fairness adjustments may be required, such as reweighting data or adjusting decision thresholds.\n",
    "2. Class Performance Radar (Recall, Precision, F1-Score)\n",
    "    This radar chart visualizes model performance metrics across different classes:\n",
    "    - **Recall** → Measures how well the model identifies actual positives (high recall means fewer false negatives).\n",
    "    - **Precision** → Measures how many of the predicted positives were actually correct (high precision means fewer false positives).\n",
    "    - **F1-Score** → Balances precision and recall for a combined assessment.\n",
    "    ##### What to look for & why:\n",
    "    - **Balanced scores across all three metrics** → Indicates a well-performing model with fair treatment across classes.\n",
    "    - **Low recall but high precision** → Means the model is very conservative, only predicting positives when it’s very confident but missing many actual positives. This could be unfair if it leads to exclusion of certain groups.\n",
    "    - **High recall but low precision** → Suggests the model predicts positives too often, leading to many false positives, which can also be problematic in fairness-sensitive applications.\n",
    "    - **One class performing significantly worse** → Could indicate dataset imbalance, where the model learns patterns favoring the majority class.\n",
    "    💡   Takeaway: If performance varies significantly between classes, balancing the dataset or adjusting model thresholds can help improve fairness."
   ],
   "id": "b4ab615c34331820"
  },
  {
   "metadata": {
    "ExecuteTime": {
     "end_time": "2025-02-26T14:22:45.891207Z",
     "start_time": "2025-02-26T14:22:45.881307Z"
    }
   },
   "cell_type": "code",
   "source": [
    "# Create combined visualization\n",
    "final_fig = make_subplots(\n",
    "    rows=1, cols=2,\n",
    "    specs=[[{\"type\": \"heatmap\"}, {\"type\": \"scatterpolar\"}]],\n",
    "    subplot_titles=('Prediction Patterns', 'Class Performance Radar')\n",
    ")\n",
    "\n",
    "for trace in conf_fig.data:\n",
    "    final_fig.add_trace(trace, row=1, col=1)\n",
    "\n",
    "for trace in metrics_fig.data:\n",
    "    final_fig.add_trace(trace, row=1, col=2)\n",
    "\n",
    "final_fig.update_layout(\n",
    "    height=500,\n",
    "    showlegend=True,\n",
    "    margin=dict(l=50, r=50, b=50, t=50)\n",
    ")\n",
    "\n",
    "final_fig.show()"
   ],
   "id": "b3face33e393dd1f",
   "outputs": [
    {
     "data": {
      "application/vnd.plotly.v1+json": {
       "data": [
        {
         "colorbar": {
          "len": 0.7,
          "x": 0.45,
          "y": 0.5
         },
         "colorscale": [
          [
           0.0,
           "rgb(247,251,255)"
          ],
          [
           0.125,
           "rgb(222,235,247)"
          ],
          [
           0.25,
           "rgb(198,219,239)"
          ],
          [
           0.375,
           "rgb(158,202,225)"
          ],
          [
           0.5,
           "rgb(107,174,214)"
          ],
          [
           0.625,
           "rgb(66,146,198)"
          ],
          [
           0.75,
           "rgb(33,113,181)"
          ],
          [
           0.875,
           "rgb(8,81,156)"
          ],
          [
           1.0,
           "rgb(8,48,107)"
          ]
         ],
         "hovertemplate": "Actual: %{y}<br>Predicted: %{x}<br>Count: %{z}<extra></extra>",
         "text": [
          [
           26,
           32
          ],
          [
           25,
           117
          ]
         ],
         "texttemplate": "%{text}",
         "x": [
          "Predicted false",
          "Predicted true"
         ],
         "y": [
          "Actual false",
          "Actual true"
         ],
         "z": [
          [
           26,
           32
          ],
          [
           25,
           117
          ]
         ],
         "type": "heatmap",
         "xaxis": "x",
         "yaxis": "y"
        },
        {
         "fill": "toself",
         "name": "False",
         "r": [
          0.5098039215686274,
          0.4482758620689655,
          0.47706422018348627
         ],
         "theta": [
          "Precision",
          "Recall",
          "F1-Score"
         ],
         "type": "scatterpolar",
         "subplot": "polar"
        },
        {
         "fill": "toself",
         "name": "True",
         "r": [
          0.785234899328859,
          0.823943661971831,
          0.8041237113402062
         ],
         "theta": [
          "Precision",
          "Recall",
          "F1-Score"
         ],
         "type": "scatterpolar",
         "subplot": "polar"
        }
       ],
       "layout": {
        "template": {
         "data": {
          "histogram2dcontour": [
           {
            "type": "histogram2dcontour",
            "colorbar": {
             "outlinewidth": 0,
             "ticks": ""
            },
            "colorscale": [
             [
              0.0,
              "#0d0887"
             ],
             [
              0.1111111111111111,
              "#46039f"
             ],
             [
              0.2222222222222222,
              "#7201a8"
             ],
             [
              0.3333333333333333,
              "#9c179e"
             ],
             [
              0.4444444444444444,
              "#bd3786"
             ],
             [
              0.5555555555555556,
              "#d8576b"
             ],
             [
              0.6666666666666666,
              "#ed7953"
             ],
             [
              0.7777777777777778,
              "#fb9f3a"
             ],
             [
              0.8888888888888888,
              "#fdca26"
             ],
             [
              1.0,
              "#f0f921"
             ]
            ]
           }
          ],
          "choropleth": [
           {
            "type": "choropleth",
            "colorbar": {
             "outlinewidth": 0,
             "ticks": ""
            }
           }
          ],
          "histogram2d": [
           {
            "type": "histogram2d",
            "colorbar": {
             "outlinewidth": 0,
             "ticks": ""
            },
            "colorscale": [
             [
              0.0,
              "#0d0887"
             ],
             [
              0.1111111111111111,
              "#46039f"
             ],
             [
              0.2222222222222222,
              "#7201a8"
             ],
             [
              0.3333333333333333,
              "#9c179e"
             ],
             [
              0.4444444444444444,
              "#bd3786"
             ],
             [
              0.5555555555555556,
              "#d8576b"
             ],
             [
              0.6666666666666666,
              "#ed7953"
             ],
             [
              0.7777777777777778,
              "#fb9f3a"
             ],
             [
              0.8888888888888888,
              "#fdca26"
             ],
             [
              1.0,
              "#f0f921"
             ]
            ]
           }
          ],
          "heatmap": [
           {
            "type": "heatmap",
            "colorbar": {
             "outlinewidth": 0,
             "ticks": ""
            },
            "colorscale": [
             [
              0.0,
              "#0d0887"
             ],
             [
              0.1111111111111111,
              "#46039f"
             ],
             [
              0.2222222222222222,
              "#7201a8"
             ],
             [
              0.3333333333333333,
              "#9c179e"
             ],
             [
              0.4444444444444444,
              "#bd3786"
             ],
             [
              0.5555555555555556,
              "#d8576b"
             ],
             [
              0.6666666666666666,
              "#ed7953"
             ],
             [
              0.7777777777777778,
              "#fb9f3a"
             ],
             [
              0.8888888888888888,
              "#fdca26"
             ],
             [
              1.0,
              "#f0f921"
             ]
            ]
           }
          ],
          "heatmapgl": [
           {
            "type": "heatmapgl",
            "colorbar": {
             "outlinewidth": 0,
             "ticks": ""
            },
            "colorscale": [
             [
              0.0,
              "#0d0887"
             ],
             [
              0.1111111111111111,
              "#46039f"
             ],
             [
              0.2222222222222222,
              "#7201a8"
             ],
             [
              0.3333333333333333,
              "#9c179e"
             ],
             [
              0.4444444444444444,
              "#bd3786"
             ],
             [
              0.5555555555555556,
              "#d8576b"
             ],
             [
              0.6666666666666666,
              "#ed7953"
             ],
             [
              0.7777777777777778,
              "#fb9f3a"
             ],
             [
              0.8888888888888888,
              "#fdca26"
             ],
             [
              1.0,
              "#f0f921"
             ]
            ]
           }
          ],
          "contourcarpet": [
           {
            "type": "contourcarpet",
            "colorbar": {
             "outlinewidth": 0,
             "ticks": ""
            }
           }
          ],
          "contour": [
           {
            "type": "contour",
            "colorbar": {
             "outlinewidth": 0,
             "ticks": ""
            },
            "colorscale": [
             [
              0.0,
              "#0d0887"
             ],
             [
              0.1111111111111111,
              "#46039f"
             ],
             [
              0.2222222222222222,
              "#7201a8"
             ],
             [
              0.3333333333333333,
              "#9c179e"
             ],
             [
              0.4444444444444444,
              "#bd3786"
             ],
             [
              0.5555555555555556,
              "#d8576b"
             ],
             [
              0.6666666666666666,
              "#ed7953"
             ],
             [
              0.7777777777777778,
              "#fb9f3a"
             ],
             [
              0.8888888888888888,
              "#fdca26"
             ],
             [
              1.0,
              "#f0f921"
             ]
            ]
           }
          ],
          "surface": [
           {
            "type": "surface",
            "colorbar": {
             "outlinewidth": 0,
             "ticks": ""
            },
            "colorscale": [
             [
              0.0,
              "#0d0887"
             ],
             [
              0.1111111111111111,
              "#46039f"
             ],
             [
              0.2222222222222222,
              "#7201a8"
             ],
             [
              0.3333333333333333,
              "#9c179e"
             ],
             [
              0.4444444444444444,
              "#bd3786"
             ],
             [
              0.5555555555555556,
              "#d8576b"
             ],
             [
              0.6666666666666666,
              "#ed7953"
             ],
             [
              0.7777777777777778,
              "#fb9f3a"
             ],
             [
              0.8888888888888888,
              "#fdca26"
             ],
             [
              1.0,
              "#f0f921"
             ]
            ]
           }
          ],
          "mesh3d": [
           {
            "type": "mesh3d",
            "colorbar": {
             "outlinewidth": 0,
             "ticks": ""
            }
           }
          ],
          "scatter": [
           {
            "marker": {
             "line": {
              "color": "#283442"
             }
            },
            "type": "scatter"
           }
          ],
          "parcoords": [
           {
            "type": "parcoords",
            "line": {
             "colorbar": {
              "outlinewidth": 0,
              "ticks": ""
             }
            }
           }
          ],
          "scatterpolargl": [
           {
            "type": "scatterpolargl",
            "marker": {
             "colorbar": {
              "outlinewidth": 0,
              "ticks": ""
             }
            }
           }
          ],
          "bar": [
           {
            "error_x": {
             "color": "#f2f5fa"
            },
            "error_y": {
             "color": "#f2f5fa"
            },
            "marker": {
             "line": {
              "color": "rgb(17,17,17)",
              "width": 0.5
             },
             "pattern": {
              "fillmode": "overlay",
              "size": 10,
              "solidity": 0.2
             }
            },
            "type": "bar"
           }
          ],
          "scattergeo": [
           {
            "type": "scattergeo",
            "marker": {
             "colorbar": {
              "outlinewidth": 0,
              "ticks": ""
             }
            }
           }
          ],
          "scatterpolar": [
           {
            "type": "scatterpolar",
            "marker": {
             "colorbar": {
              "outlinewidth": 0,
              "ticks": ""
             }
            }
           }
          ],
          "histogram": [
           {
            "marker": {
             "pattern": {
              "fillmode": "overlay",
              "size": 10,
              "solidity": 0.2
             }
            },
            "type": "histogram"
           }
          ],
          "scattergl": [
           {
            "marker": {
             "line": {
              "color": "#283442"
             }
            },
            "type": "scattergl"
           }
          ],
          "scatter3d": [
           {
            "type": "scatter3d",
            "line": {
             "colorbar": {
              "outlinewidth": 0,
              "ticks": ""
             }
            },
            "marker": {
             "colorbar": {
              "outlinewidth": 0,
              "ticks": ""
             }
            }
           }
          ],
          "scattermapbox": [
           {
            "type": "scattermapbox",
            "marker": {
             "colorbar": {
              "outlinewidth": 0,
              "ticks": ""
             }
            }
           }
          ],
          "scatterternary": [
           {
            "type": "scatterternary",
            "marker": {
             "colorbar": {
              "outlinewidth": 0,
              "ticks": ""
             }
            }
           }
          ],
          "scattercarpet": [
           {
            "type": "scattercarpet",
            "marker": {
             "colorbar": {
              "outlinewidth": 0,
              "ticks": ""
             }
            }
           }
          ],
          "carpet": [
           {
            "aaxis": {
             "endlinecolor": "#A2B1C6",
             "gridcolor": "#506784",
             "linecolor": "#506784",
             "minorgridcolor": "#506784",
             "startlinecolor": "#A2B1C6"
            },
            "baxis": {
             "endlinecolor": "#A2B1C6",
             "gridcolor": "#506784",
             "linecolor": "#506784",
             "minorgridcolor": "#506784",
             "startlinecolor": "#A2B1C6"
            },
            "type": "carpet"
           }
          ],
          "table": [
           {
            "cells": {
             "fill": {
              "color": "#506784"
             },
             "line": {
              "color": "rgb(17,17,17)"
             }
            },
            "header": {
             "fill": {
              "color": "#2a3f5f"
             },
             "line": {
              "color": "rgb(17,17,17)"
             }
            },
            "type": "table"
           }
          ],
          "barpolar": [
           {
            "marker": {
             "line": {
              "color": "rgb(17,17,17)",
              "width": 0.5
             },
             "pattern": {
              "fillmode": "overlay",
              "size": 10,
              "solidity": 0.2
             }
            },
            "type": "barpolar"
           }
          ],
          "pie": [
           {
            "automargin": true,
            "type": "pie"
           }
          ]
         },
         "layout": {
          "autotypenumbers": "strict",
          "colorway": [
           "#636efa",
           "#EF553B",
           "#00cc96",
           "#ab63fa",
           "#FFA15A",
           "#19d3f3",
           "#FF6692",
           "#B6E880",
           "#FF97FF",
           "#FECB52"
          ],
          "font": {
           "color": "#f2f5fa"
          },
          "hovermode": "closest",
          "hoverlabel": {
           "align": "left"
          },
          "paper_bgcolor": "rgb(17,17,17)",
          "plot_bgcolor": "rgb(17,17,17)",
          "polar": {
           "bgcolor": "rgb(17,17,17)",
           "angularaxis": {
            "gridcolor": "#506784",
            "linecolor": "#506784",
            "ticks": ""
           },
           "radialaxis": {
            "gridcolor": "#506784",
            "linecolor": "#506784",
            "ticks": ""
           }
          },
          "ternary": {
           "bgcolor": "rgb(17,17,17)",
           "aaxis": {
            "gridcolor": "#506784",
            "linecolor": "#506784",
            "ticks": ""
           },
           "baxis": {
            "gridcolor": "#506784",
            "linecolor": "#506784",
            "ticks": ""
           },
           "caxis": {
            "gridcolor": "#506784",
            "linecolor": "#506784",
            "ticks": ""
           }
          },
          "coloraxis": {
           "colorbar": {
            "outlinewidth": 0,
            "ticks": ""
           }
          },
          "colorscale": {
           "sequential": [
            [
             0.0,
             "#0d0887"
            ],
            [
             0.1111111111111111,
             "#46039f"
            ],
            [
             0.2222222222222222,
             "#7201a8"
            ],
            [
             0.3333333333333333,
             "#9c179e"
            ],
            [
             0.4444444444444444,
             "#bd3786"
            ],
            [
             0.5555555555555556,
             "#d8576b"
            ],
            [
             0.6666666666666666,
             "#ed7953"
            ],
            [
             0.7777777777777778,
             "#fb9f3a"
            ],
            [
             0.8888888888888888,
             "#fdca26"
            ],
            [
             1.0,
             "#f0f921"
            ]
           ],
           "sequentialminus": [
            [
             0.0,
             "#0d0887"
            ],
            [
             0.1111111111111111,
             "#46039f"
            ],
            [
             0.2222222222222222,
             "#7201a8"
            ],
            [
             0.3333333333333333,
             "#9c179e"
            ],
            [
             0.4444444444444444,
             "#bd3786"
            ],
            [
             0.5555555555555556,
             "#d8576b"
            ],
            [
             0.6666666666666666,
             "#ed7953"
            ],
            [
             0.7777777777777778,
             "#fb9f3a"
            ],
            [
             0.8888888888888888,
             "#fdca26"
            ],
            [
             1.0,
             "#f0f921"
            ]
           ],
           "diverging": [
            [
             0,
             "#8e0152"
            ],
            [
             0.1,
             "#c51b7d"
            ],
            [
             0.2,
             "#de77ae"
            ],
            [
             0.3,
             "#f1b6da"
            ],
            [
             0.4,
             "#fde0ef"
            ],
            [
             0.5,
             "#f7f7f7"
            ],
            [
             0.6,
             "#e6f5d0"
            ],
            [
             0.7,
             "#b8e186"
            ],
            [
             0.8,
             "#7fbc41"
            ],
            [
             0.9,
             "#4d9221"
            ],
            [
             1,
             "#276419"
            ]
           ]
          },
          "xaxis": {
           "gridcolor": "#283442",
           "linecolor": "#506784",
           "ticks": "",
           "title": {
            "standoff": 15
           },
           "zerolinecolor": "#283442",
           "automargin": true,
           "zerolinewidth": 2
          },
          "yaxis": {
           "gridcolor": "#283442",
           "linecolor": "#506784",
           "ticks": "",
           "title": {
            "standoff": 15
           },
           "zerolinecolor": "#283442",
           "automargin": true,
           "zerolinewidth": 2
          },
          "scene": {
           "xaxis": {
            "backgroundcolor": "rgb(17,17,17)",
            "gridcolor": "#506784",
            "linecolor": "#506784",
            "showbackground": true,
            "ticks": "",
            "zerolinecolor": "#C8D4E3",
            "gridwidth": 2
           },
           "yaxis": {
            "backgroundcolor": "rgb(17,17,17)",
            "gridcolor": "#506784",
            "linecolor": "#506784",
            "showbackground": true,
            "ticks": "",
            "zerolinecolor": "#C8D4E3",
            "gridwidth": 2
           },
           "zaxis": {
            "backgroundcolor": "rgb(17,17,17)",
            "gridcolor": "#506784",
            "linecolor": "#506784",
            "showbackground": true,
            "ticks": "",
            "zerolinecolor": "#C8D4E3",
            "gridwidth": 2
           }
          },
          "shapedefaults": {
           "line": {
            "color": "#f2f5fa"
           }
          },
          "annotationdefaults": {
           "arrowcolor": "#f2f5fa",
           "arrowhead": 0,
           "arrowwidth": 1
          },
          "geo": {
           "bgcolor": "rgb(17,17,17)",
           "landcolor": "rgb(17,17,17)",
           "subunitcolor": "#506784",
           "showland": true,
           "showlakes": true,
           "lakecolor": "rgb(17,17,17)"
          },
          "title": {
           "x": 0.05
          },
          "updatemenudefaults": {
           "bgcolor": "#506784",
           "borderwidth": 0
          },
          "sliderdefaults": {
           "bgcolor": "#C8D4E3",
           "borderwidth": 1,
           "bordercolor": "rgb(17,17,17)",
           "tickwidth": 0
          },
          "mapbox": {
           "style": "dark"
          }
         }
        },
        "xaxis": {
         "anchor": "y",
         "domain": [
          0.0,
          0.45
         ]
        },
        "yaxis": {
         "anchor": "x",
         "domain": [
          0.0,
          1.0
         ]
        },
        "polar": {
         "domain": {
          "x": [
           0.55,
           1.0
          ],
          "y": [
           0.0,
           1.0
          ]
         }
        },
        "annotations": [
         {
          "font": {
           "size": 16
          },
          "showarrow": false,
          "text": "Prediction Patterns",
          "x": 0.225,
          "xanchor": "center",
          "xref": "paper",
          "y": 1.0,
          "yanchor": "bottom",
          "yref": "paper"
         },
         {
          "font": {
           "size": 16
          },
          "showarrow": false,
          "text": "Class Performance Radar",
          "x": 0.775,
          "xanchor": "center",
          "xref": "paper",
          "y": 1.0,
          "yanchor": "bottom",
          "yref": "paper"
         }
        ],
        "margin": {
         "l": 50,
         "r": 50,
         "b": 50,
         "t": 50
        },
        "height": 500,
        "showlegend": true
       },
       "config": {
        "plotlyServerURL": "https://plot.ly"
       }
      },
      "text/html": [
       "<div>                            <div id=\"6f902c73-9b28-4984-9ba6-33ea42ec69b1\" class=\"plotly-graph-div\" style=\"height:500px; width:100%;\"></div>            <script type=\"text/javascript\">                require([\"plotly\"], function(Plotly) {                    window.PLOTLYENV=window.PLOTLYENV || {};                                    if (document.getElementById(\"6f902c73-9b28-4984-9ba6-33ea42ec69b1\")) {                    Plotly.newPlot(                        \"6f902c73-9b28-4984-9ba6-33ea42ec69b1\",                        [{\"colorbar\":{\"len\":0.7,\"x\":0.45,\"y\":0.5},\"colorscale\":[[0.0,\"rgb(247,251,255)\"],[0.125,\"rgb(222,235,247)\"],[0.25,\"rgb(198,219,239)\"],[0.375,\"rgb(158,202,225)\"],[0.5,\"rgb(107,174,214)\"],[0.625,\"rgb(66,146,198)\"],[0.75,\"rgb(33,113,181)\"],[0.875,\"rgb(8,81,156)\"],[1.0,\"rgb(8,48,107)\"]],\"hovertemplate\":\"Actual: %{y}\\u003cbr\\u003ePredicted: %{x}\\u003cbr\\u003eCount: %{z}\\u003cextra\\u003e\\u003c\\u002fextra\\u003e\",\"text\":[[26,32],[25,117]],\"texttemplate\":\"%{text}\",\"x\":[\"Predicted false\",\"Predicted true\"],\"y\":[\"Actual false\",\"Actual true\"],\"z\":[[26,32],[25,117]],\"type\":\"heatmap\",\"xaxis\":\"x\",\"yaxis\":\"y\"},{\"fill\":\"toself\",\"name\":\"False\",\"r\":[0.5098039215686274,0.4482758620689655,0.47706422018348627],\"theta\":[\"Precision\",\"Recall\",\"F1-Score\"],\"type\":\"scatterpolar\",\"subplot\":\"polar\"},{\"fill\":\"toself\",\"name\":\"True\",\"r\":[0.785234899328859,0.823943661971831,0.8041237113402062],\"theta\":[\"Precision\",\"Recall\",\"F1-Score\"],\"type\":\"scatterpolar\",\"subplot\":\"polar\"}],                        {\"template\":{\"data\":{\"histogram2dcontour\":[{\"type\":\"histogram2dcontour\",\"colorbar\":{\"outlinewidth\":0,\"ticks\":\"\"},\"colorscale\":[[0.0,\"#0d0887\"],[0.1111111111111111,\"#46039f\"],[0.2222222222222222,\"#7201a8\"],[0.3333333333333333,\"#9c179e\"],[0.4444444444444444,\"#bd3786\"],[0.5555555555555556,\"#d8576b\"],[0.6666666666666666,\"#ed7953\"],[0.7777777777777778,\"#fb9f3a\"],[0.8888888888888888,\"#fdca26\"],[1.0,\"#f0f921\"]]}],\"choropleth\":[{\"type\":\"choropleth\",\"colorbar\":{\"outlinewidth\":0,\"ticks\":\"\"}}],\"histogram2d\":[{\"type\":\"histogram2d\",\"colorbar\":{\"outlinewidth\":0,\"ticks\":\"\"},\"colorscale\":[[0.0,\"#0d0887\"],[0.1111111111111111,\"#46039f\"],[0.2222222222222222,\"#7201a8\"],[0.3333333333333333,\"#9c179e\"],[0.4444444444444444,\"#bd3786\"],[0.5555555555555556,\"#d8576b\"],[0.6666666666666666,\"#ed7953\"],[0.7777777777777778,\"#fb9f3a\"],[0.8888888888888888,\"#fdca26\"],[1.0,\"#f0f921\"]]}],\"heatmap\":[{\"type\":\"heatmap\",\"colorbar\":{\"outlinewidth\":0,\"ticks\":\"\"},\"colorscale\":[[0.0,\"#0d0887\"],[0.1111111111111111,\"#46039f\"],[0.2222222222222222,\"#7201a8\"],[0.3333333333333333,\"#9c179e\"],[0.4444444444444444,\"#bd3786\"],[0.5555555555555556,\"#d8576b\"],[0.6666666666666666,\"#ed7953\"],[0.7777777777777778,\"#fb9f3a\"],[0.8888888888888888,\"#fdca26\"],[1.0,\"#f0f921\"]]}],\"heatmapgl\":[{\"type\":\"heatmapgl\",\"colorbar\":{\"outlinewidth\":0,\"ticks\":\"\"},\"colorscale\":[[0.0,\"#0d0887\"],[0.1111111111111111,\"#46039f\"],[0.2222222222222222,\"#7201a8\"],[0.3333333333333333,\"#9c179e\"],[0.4444444444444444,\"#bd3786\"],[0.5555555555555556,\"#d8576b\"],[0.6666666666666666,\"#ed7953\"],[0.7777777777777778,\"#fb9f3a\"],[0.8888888888888888,\"#fdca26\"],[1.0,\"#f0f921\"]]}],\"contourcarpet\":[{\"type\":\"contourcarpet\",\"colorbar\":{\"outlinewidth\":0,\"ticks\":\"\"}}],\"contour\":[{\"type\":\"contour\",\"colorbar\":{\"outlinewidth\":0,\"ticks\":\"\"},\"colorscale\":[[0.0,\"#0d0887\"],[0.1111111111111111,\"#46039f\"],[0.2222222222222222,\"#7201a8\"],[0.3333333333333333,\"#9c179e\"],[0.4444444444444444,\"#bd3786\"],[0.5555555555555556,\"#d8576b\"],[0.6666666666666666,\"#ed7953\"],[0.7777777777777778,\"#fb9f3a\"],[0.8888888888888888,\"#fdca26\"],[1.0,\"#f0f921\"]]}],\"surface\":[{\"type\":\"surface\",\"colorbar\":{\"outlinewidth\":0,\"ticks\":\"\"},\"colorscale\":[[0.0,\"#0d0887\"],[0.1111111111111111,\"#46039f\"],[0.2222222222222222,\"#7201a8\"],[0.3333333333333333,\"#9c179e\"],[0.4444444444444444,\"#bd3786\"],[0.5555555555555556,\"#d8576b\"],[0.6666666666666666,\"#ed7953\"],[0.7777777777777778,\"#fb9f3a\"],[0.8888888888888888,\"#fdca26\"],[1.0,\"#f0f921\"]]}],\"mesh3d\":[{\"type\":\"mesh3d\",\"colorbar\":{\"outlinewidth\":0,\"ticks\":\"\"}}],\"scatter\":[{\"marker\":{\"line\":{\"color\":\"#283442\"}},\"type\":\"scatter\"}],\"parcoords\":[{\"type\":\"parcoords\",\"line\":{\"colorbar\":{\"outlinewidth\":0,\"ticks\":\"\"}}}],\"scatterpolargl\":[{\"type\":\"scatterpolargl\",\"marker\":{\"colorbar\":{\"outlinewidth\":0,\"ticks\":\"\"}}}],\"bar\":[{\"error_x\":{\"color\":\"#f2f5fa\"},\"error_y\":{\"color\":\"#f2f5fa\"},\"marker\":{\"line\":{\"color\":\"rgb(17,17,17)\",\"width\":0.5},\"pattern\":{\"fillmode\":\"overlay\",\"size\":10,\"solidity\":0.2}},\"type\":\"bar\"}],\"scattergeo\":[{\"type\":\"scattergeo\",\"marker\":{\"colorbar\":{\"outlinewidth\":0,\"ticks\":\"\"}}}],\"scatterpolar\":[{\"type\":\"scatterpolar\",\"marker\":{\"colorbar\":{\"outlinewidth\":0,\"ticks\":\"\"}}}],\"histogram\":[{\"marker\":{\"pattern\":{\"fillmode\":\"overlay\",\"size\":10,\"solidity\":0.2}},\"type\":\"histogram\"}],\"scattergl\":[{\"marker\":{\"line\":{\"color\":\"#283442\"}},\"type\":\"scattergl\"}],\"scatter3d\":[{\"type\":\"scatter3d\",\"line\":{\"colorbar\":{\"outlinewidth\":0,\"ticks\":\"\"}},\"marker\":{\"colorbar\":{\"outlinewidth\":0,\"ticks\":\"\"}}}],\"scattermapbox\":[{\"type\":\"scattermapbox\",\"marker\":{\"colorbar\":{\"outlinewidth\":0,\"ticks\":\"\"}}}],\"scatterternary\":[{\"type\":\"scatterternary\",\"marker\":{\"colorbar\":{\"outlinewidth\":0,\"ticks\":\"\"}}}],\"scattercarpet\":[{\"type\":\"scattercarpet\",\"marker\":{\"colorbar\":{\"outlinewidth\":0,\"ticks\":\"\"}}}],\"carpet\":[{\"aaxis\":{\"endlinecolor\":\"#A2B1C6\",\"gridcolor\":\"#506784\",\"linecolor\":\"#506784\",\"minorgridcolor\":\"#506784\",\"startlinecolor\":\"#A2B1C6\"},\"baxis\":{\"endlinecolor\":\"#A2B1C6\",\"gridcolor\":\"#506784\",\"linecolor\":\"#506784\",\"minorgridcolor\":\"#506784\",\"startlinecolor\":\"#A2B1C6\"},\"type\":\"carpet\"}],\"table\":[{\"cells\":{\"fill\":{\"color\":\"#506784\"},\"line\":{\"color\":\"rgb(17,17,17)\"}},\"header\":{\"fill\":{\"color\":\"#2a3f5f\"},\"line\":{\"color\":\"rgb(17,17,17)\"}},\"type\":\"table\"}],\"barpolar\":[{\"marker\":{\"line\":{\"color\":\"rgb(17,17,17)\",\"width\":0.5},\"pattern\":{\"fillmode\":\"overlay\",\"size\":10,\"solidity\":0.2}},\"type\":\"barpolar\"}],\"pie\":[{\"automargin\":true,\"type\":\"pie\"}]},\"layout\":{\"autotypenumbers\":\"strict\",\"colorway\":[\"#636efa\",\"#EF553B\",\"#00cc96\",\"#ab63fa\",\"#FFA15A\",\"#19d3f3\",\"#FF6692\",\"#B6E880\",\"#FF97FF\",\"#FECB52\"],\"font\":{\"color\":\"#f2f5fa\"},\"hovermode\":\"closest\",\"hoverlabel\":{\"align\":\"left\"},\"paper_bgcolor\":\"rgb(17,17,17)\",\"plot_bgcolor\":\"rgb(17,17,17)\",\"polar\":{\"bgcolor\":\"rgb(17,17,17)\",\"angularaxis\":{\"gridcolor\":\"#506784\",\"linecolor\":\"#506784\",\"ticks\":\"\"},\"radialaxis\":{\"gridcolor\":\"#506784\",\"linecolor\":\"#506784\",\"ticks\":\"\"}},\"ternary\":{\"bgcolor\":\"rgb(17,17,17)\",\"aaxis\":{\"gridcolor\":\"#506784\",\"linecolor\":\"#506784\",\"ticks\":\"\"},\"baxis\":{\"gridcolor\":\"#506784\",\"linecolor\":\"#506784\",\"ticks\":\"\"},\"caxis\":{\"gridcolor\":\"#506784\",\"linecolor\":\"#506784\",\"ticks\":\"\"}},\"coloraxis\":{\"colorbar\":{\"outlinewidth\":0,\"ticks\":\"\"}},\"colorscale\":{\"sequential\":[[0.0,\"#0d0887\"],[0.1111111111111111,\"#46039f\"],[0.2222222222222222,\"#7201a8\"],[0.3333333333333333,\"#9c179e\"],[0.4444444444444444,\"#bd3786\"],[0.5555555555555556,\"#d8576b\"],[0.6666666666666666,\"#ed7953\"],[0.7777777777777778,\"#fb9f3a\"],[0.8888888888888888,\"#fdca26\"],[1.0,\"#f0f921\"]],\"sequentialminus\":[[0.0,\"#0d0887\"],[0.1111111111111111,\"#46039f\"],[0.2222222222222222,\"#7201a8\"],[0.3333333333333333,\"#9c179e\"],[0.4444444444444444,\"#bd3786\"],[0.5555555555555556,\"#d8576b\"],[0.6666666666666666,\"#ed7953\"],[0.7777777777777778,\"#fb9f3a\"],[0.8888888888888888,\"#fdca26\"],[1.0,\"#f0f921\"]],\"diverging\":[[0,\"#8e0152\"],[0.1,\"#c51b7d\"],[0.2,\"#de77ae\"],[0.3,\"#f1b6da\"],[0.4,\"#fde0ef\"],[0.5,\"#f7f7f7\"],[0.6,\"#e6f5d0\"],[0.7,\"#b8e186\"],[0.8,\"#7fbc41\"],[0.9,\"#4d9221\"],[1,\"#276419\"]]},\"xaxis\":{\"gridcolor\":\"#283442\",\"linecolor\":\"#506784\",\"ticks\":\"\",\"title\":{\"standoff\":15},\"zerolinecolor\":\"#283442\",\"automargin\":true,\"zerolinewidth\":2},\"yaxis\":{\"gridcolor\":\"#283442\",\"linecolor\":\"#506784\",\"ticks\":\"\",\"title\":{\"standoff\":15},\"zerolinecolor\":\"#283442\",\"automargin\":true,\"zerolinewidth\":2},\"scene\":{\"xaxis\":{\"backgroundcolor\":\"rgb(17,17,17)\",\"gridcolor\":\"#506784\",\"linecolor\":\"#506784\",\"showbackground\":true,\"ticks\":\"\",\"zerolinecolor\":\"#C8D4E3\",\"gridwidth\":2},\"yaxis\":{\"backgroundcolor\":\"rgb(17,17,17)\",\"gridcolor\":\"#506784\",\"linecolor\":\"#506784\",\"showbackground\":true,\"ticks\":\"\",\"zerolinecolor\":\"#C8D4E3\",\"gridwidth\":2},\"zaxis\":{\"backgroundcolor\":\"rgb(17,17,17)\",\"gridcolor\":\"#506784\",\"linecolor\":\"#506784\",\"showbackground\":true,\"ticks\":\"\",\"zerolinecolor\":\"#C8D4E3\",\"gridwidth\":2}},\"shapedefaults\":{\"line\":{\"color\":\"#f2f5fa\"}},\"annotationdefaults\":{\"arrowcolor\":\"#f2f5fa\",\"arrowhead\":0,\"arrowwidth\":1},\"geo\":{\"bgcolor\":\"rgb(17,17,17)\",\"landcolor\":\"rgb(17,17,17)\",\"subunitcolor\":\"#506784\",\"showland\":true,\"showlakes\":true,\"lakecolor\":\"rgb(17,17,17)\"},\"title\":{\"x\":0.05},\"updatemenudefaults\":{\"bgcolor\":\"#506784\",\"borderwidth\":0},\"sliderdefaults\":{\"bgcolor\":\"#C8D4E3\",\"borderwidth\":1,\"bordercolor\":\"rgb(17,17,17)\",\"tickwidth\":0},\"mapbox\":{\"style\":\"dark\"}}},\"xaxis\":{\"anchor\":\"y\",\"domain\":[0.0,0.45]},\"yaxis\":{\"anchor\":\"x\",\"domain\":[0.0,1.0]},\"polar\":{\"domain\":{\"x\":[0.55,1.0],\"y\":[0.0,1.0]}},\"annotations\":[{\"font\":{\"size\":16},\"showarrow\":false,\"text\":\"Prediction Patterns\",\"x\":0.225,\"xanchor\":\"center\",\"xref\":\"paper\",\"y\":1.0,\"yanchor\":\"bottom\",\"yref\":\"paper\"},{\"font\":{\"size\":16},\"showarrow\":false,\"text\":\"Class Performance Radar\",\"x\":0.775,\"xanchor\":\"center\",\"xref\":\"paper\",\"y\":1.0,\"yanchor\":\"bottom\",\"yref\":\"paper\"}],\"margin\":{\"l\":50,\"r\":50,\"b\":50,\"t\":50},\"height\":500,\"showlegend\":true},                        {\"responsive\": true}                    ).then(function(){\n",
       "                            \n",
       "var gd = document.getElementById('6f902c73-9b28-4984-9ba6-33ea42ec69b1');\n",
       "var x = new MutationObserver(function (mutations, observer) {{\n",
       "        var display = window.getComputedStyle(gd).display;\n",
       "        if (!display || display === 'none') {{\n",
       "            console.log([gd, 'removed!']);\n",
       "            Plotly.purge(gd);\n",
       "            observer.disconnect();\n",
       "        }}\n",
       "}});\n",
       "\n",
       "// Listen for the removal of the full notebook cells\n",
       "var notebookContainer = gd.closest('#notebook-container');\n",
       "if (notebookContainer) {{\n",
       "    x.observe(notebookContainer, {childList: true});\n",
       "}}\n",
       "\n",
       "// Listen for the clearing of the current output cell\n",
       "var outputEl = gd.closest('.output');\n",
       "if (outputEl) {{\n",
       "    x.observe(outputEl, {childList: true});\n",
       "}}\n",
       "\n",
       "                        })                };                });            </script>        </div>"
      ]
     },
     "metadata": {},
     "output_type": "display_data"
    }
   ],
   "execution_count": 240
  },
  {
   "metadata": {},
   "cell_type": "markdown",
   "source": [
    "3. Feature Correlation (Prediction Attribute Impact)\n",
    "    This heatmap shows how strongly each attribute correlates with the prediction outcome:\n",
    "    - **Blue colors** → Indicate weak or negative correlation.\n",
    "    - **Red colors** → Indicate strong positive correlation.\n",
    "    - **Darker shades** → Represent stronger correlation strength.\n",
    "    ##### What to look for & why:\n",
    "    - **Features with extreme correlation (very red or very blue)** → May dominate predictions, potentially introducing bias. If a sensitive attribute (e.g., gender, race) has a high correlation, the model may be making unfair decisions based on it.\n",
    "    - **Low correlation for important attributes** → Suggests the model is not effectively using those features, possibly missing critical information.\n",
    "    - **Multiple highly correlated attributes** → Could indicate redundancy, where one feature indirectly represents another. This can cause fairness issues if an indirectly correlated sensitive feature influences decisions.\n",
    "    💡 Takeaway: If a sensitive attribute is highly correlated with the prediction, fairness interventions such as reweighting, debiasing techniques, or removing proxy variables may be necessary."
   ],
   "id": "872c36a129049660"
  },
  {
   "metadata": {
    "ExecuteTime": {
     "end_time": "2025-02-26T14:22:46.058754Z",
     "start_time": "2025-02-26T14:22:45.959931Z"
    }
   },
   "cell_type": "code",
   "source": [
    "plt.figure(figsize=(10, 0.25 * len(corr_series)))\n",
    "sns.heatmap(corr_series.to_frame().T,\n",
    "            annot=True,\n",
    "            cmap='coolwarm',\n",
    "            center=0,\n",
    "            fmt=\".2f\",\n",
    "            cbar_kws={'label': 'Correlation Strength'})\n",
    "\n",
    "plt.title(f\"Feature Correlations with {prediction_column.value}\")\n",
    "plt.yticks([])  # Remove redundant y-axis label\n",
    "plt.xticks(rotation=45, ha='right')\n",
    "plt.tight_layout()\n",
    "plt.show()"
   ],
   "id": "90589c62470ffb1b",
   "outputs": [
    {
     "data": {
      "text/plain": [
       "<Figure size 1000x500 with 2 Axes>"
      ],
      "image/png": "[encoded data removed]"
     },
     "metadata": {},
     "output_type": "display_data"
    }
   ],
   "execution_count": 241
  },
  {
   "metadata": {},
   "cell_type": "markdown",
   "source": [
    "## Fairness Analysis & Protected Attribute Impact\n",
    "These graphs focus on how fairness is distributed across protected attributes and whether the model exhibits bias toward specific groups.\n",
    "\n",
    "---\n",
    "\n",
    "1. Protected Attribute(s) Performance Breakdown\n",
    "This line graph represents classification accuracy across different protected attribute groups.\n",
    "- **Green areas indicate high accuracy** → The model performs well for those groups.\n",
    "- **Red areas indicate lower accuracy** → The model struggles with classification for those groups.\n",
    "##### What to look for & why:\n",
    "- **Uneven accuracy across groups** → If accuracy varies significantly, some groups receive less reliable predictions, which can lead to fairness concerns.\n",
    "- **Red-dominant sections** → Suggest that the model systematically underperforms for certain protected groups, potentially leading to discriminatory outcomes.\n",
    "- **More green overall** → Indicates a more equitable model, meaning predictions are consistent across groups.\n",
    "💡 Takeaway: If one group has significantly lower accuracy, consider balancing the dataset, adjusting model thresholds, or applying fairness-aware techniques to ensure fairer predictions."
   ],
   "id": "5e75bcb4636afd0c"
  },
  {
   "metadata": {
    "ExecuteTime": {
     "end_time": "2025-02-26T14:22:46.133021Z",
     "start_time": "2025-02-26T14:22:46.128743Z"
    }
   },
   "cell_type": "code",
   "source": "tprtnr_fig.show()",
   "id": "618cb982e3f983af",
   "outputs": [
    {
     "data": {
      "application/vnd.plotly.v1+json": {
       "data": [
        {
         "legendgroup": "False",
         "marker": {
          "color": "#EF553B"
         },
         "name": "False",
         "offsetgroup": "1",
         "orientation": "h",
         "showlegend": true,
         "text": [
          "55.2%"
         ],
         "textfont": {
          "color": "white"
         },
         "textposition": "inside",
         "x": [
          0.5517241379310345
         ],
         "y": [
          "age"
         ],
         "type": "bar",
         "xaxis": "x",
         "yaxis": "y"
        },
        {
         "base": [
          0.5517241379310345
         ],
         "legendgroup": "True",
         "marker": {
          "color": "#00CC96"
         },
         "name": "True",
         "offsetgroup": "1",
         "orientation": "h",
         "showlegend": true,
         "text": [
          "44.8%"
         ],
         "textfont": {
          "color": "white"
         },
         "textposition": "inside",
         "x": [
          0.4482758620689655
         ],
         "y": [
          "age"
         ],
         "type": "bar",
         "xaxis": "x",
         "yaxis": "y"
        },
        {
         "legendgroup": "False",
         "marker": {
          "color": "#EF553B"
         },
         "name": "False",
         "offsetgroup": "2",
         "orientation": "h",
         "showlegend": false,
         "text": [
          "17.6%"
         ],
         "textfont": {
          "color": "white"
         },
         "textposition": "inside",
         "x": [
          0.176056338028169
         ],
         "y": [
          "age"
         ],
         "type": "bar",
         "xaxis": "x",
         "yaxis": "y"
        },
        {
         "base": [
          0.176056338028169
         ],
         "legendgroup": "True",
         "marker": {
          "color": "#00CC96"
         },
         "name": "True",
         "offsetgroup": "2",
         "orientation": "h",
         "showlegend": false,
         "text": [
          "82.4%"
         ],
         "textfont": {
          "color": "white"
         },
         "textposition": "inside",
         "x": [
          0.823943661971831
         ],
         "y": [
          "age"
         ],
         "type": "bar",
         "xaxis": "x",
         "yaxis": "y"
        },
        {
         "legendgroup": "False",
         "marker": {
          "color": "#EF553B"
         },
         "name": "False",
         "offsetgroup": "1",
         "orientation": "h",
         "showlegend": false,
         "text": [
          "48.0%",
          "50.0%",
          "75.0%",
          "59.3%"
         ],
         "textfont": {
          "color": "white"
         },
         "textposition": "inside",
         "x": [
          0.48,
          0.5,
          0.75,
          0.5925925925925926
         ],
         "y": [
          "personal_status_sex_female : divorced/separated/married",
          "personal_status_sex_male : divorced/separated",
          "personal_status_sex_male : married/widowed",
          "personal_status_sex_male : single"
         ],
         "type": "bar",
         "xaxis": "x2",
         "yaxis": "y2"
        },
        {
         "base": [
          0.48,
          0.5,
          0.75,
          0.5925925925925926
         ],
         "legendgroup": "True",
         "marker": {
          "color": "#00CC96"
         },
         "name": "True",
         "offsetgroup": "1",
         "orientation": "h",
         "showlegend": false,
         "text": [
          "52.0%",
          "50.0%",
          "25.0%",
          "40.7%"
         ],
         "textfont": {
          "color": "white"
         },
         "textposition": "inside",
         "x": [
          0.52,
          0.5,
          0.25,
          0.40740740740740744
         ],
         "y": [
          "personal_status_sex_female : divorced/separated/married",
          "personal_status_sex_male : divorced/separated",
          "personal_status_sex_male : married/widowed",
          "personal_status_sex_male : single"
         ],
         "type": "bar",
         "xaxis": "x2",
         "yaxis": "y2"
        },
        {
         "legendgroup": "False",
         "marker": {
          "color": "#EF553B"
         },
         "name": "False",
         "offsetgroup": "2",
         "orientation": "h",
         "showlegend": false,
         "text": [
          "19.1%",
          "40.0%",
          "20.0%",
          "15.3%"
         ],
         "textfont": {
          "color": "white"
         },
         "textposition": "inside",
         "x": [
          0.19148936170212766,
          0.4,
          0.2,
          0.15294117647058825
         ],
         "y": [
          "personal_status_sex_female : divorced/separated/married",
          "personal_status_sex_male : divorced/separated",
          "personal_status_sex_male : married/widowed",
          "personal_status_sex_male : single"
         ],
         "type": "bar",
         "xaxis": "x2",
         "yaxis": "y2"
        },
        {
         "base": [
          0.19148936170212766,
          0.4,
          0.2,
          0.15294117647058825
         ],
         "legendgroup": "True",
         "marker": {
          "color": "#00CC96"
         },
         "name": "True",
         "offsetgroup": "2",
         "orientation": "h",
         "showlegend": false,
         "text": [
          "80.9%",
          "60.0%",
          "80.0%",
          "84.7%"
         ],
         "textfont": {
          "color": "white"
         },
         "textposition": "inside",
         "x": [
          0.8085106382978724,
          0.6,
          0.8,
          0.8470588235294118
         ],
         "y": [
          "personal_status_sex_female : divorced/separated/married",
          "personal_status_sex_male : divorced/separated",
          "personal_status_sex_male : married/widowed",
          "personal_status_sex_male : single"
         ],
         "type": "bar",
         "xaxis": "x2",
         "yaxis": "y2"
        }
       ],
       "layout": {
        "template": {
         "data": {
          "histogram2dcontour": [
           {
            "type": "histogram2dcontour",
            "colorbar": {
             "outlinewidth": 0,
             "ticks": ""
            },
            "colorscale": [
             [
              0.0,
              "#0d0887"
             ],
             [
              0.1111111111111111,
              "#46039f"
             ],
             [
              0.2222222222222222,
              "#7201a8"
             ],
             [
              0.3333333333333333,
              "#9c179e"
             ],
             [
              0.4444444444444444,
              "#bd3786"
             ],
             [
              0.5555555555555556,
              "#d8576b"
             ],
             [
              0.6666666666666666,
              "#ed7953"
             ],
             [
              0.7777777777777778,
              "#fb9f3a"
             ],
             [
              0.8888888888888888,
              "#fdca26"
             ],
             [
              1.0,
              "#f0f921"
             ]
            ]
           }
          ],
          "choropleth": [
           {
            "type": "choropleth",
            "colorbar": {
             "outlinewidth": 0,
             "ticks": ""
            }
           }
          ],
          "histogram2d": [
           {
            "type": "histogram2d",
            "colorbar": {
             "outlinewidth": 0,
             "ticks": ""
            },
            "colorscale": [
             [
              0.0,
              "#0d0887"
             ],
             [
              0.1111111111111111,
              "#46039f"
             ],
             [
              0.2222222222222222,
              "#7201a8"
             ],
             [
              0.3333333333333333,
              "#9c179e"
             ],
             [
              0.4444444444444444,
              "#bd3786"
             ],
             [
              0.5555555555555556,
              "#d8576b"
             ],
             [
              0.6666666666666666,
              "#ed7953"
             ],
             [
              0.7777777777777778,
              "#fb9f3a"
             ],
             [
              0.8888888888888888,
              "#fdca26"
             ],
             [
              1.0,
              "#f0f921"
             ]
            ]
           }
          ],
          "heatmap": [
           {
            "type": "heatmap",
            "colorbar": {
             "outlinewidth": 0,
             "ticks": ""
            },
            "colorscale": [
             [
              0.0,
              "#0d0887"
             ],
             [
              0.1111111111111111,
              "#46039f"
             ],
             [
              0.2222222222222222,
              "#7201a8"
             ],
             [
              0.3333333333333333,
              "#9c179e"
             ],
             [
              0.4444444444444444,
              "#bd3786"
             ],
             [
              0.5555555555555556,
              "#d8576b"
             ],
             [
              0.6666666666666666,
              "#ed7953"
             ],
             [
              0.7777777777777778,
              "#fb9f3a"
             ],
             [
              0.8888888888888888,
              "#fdca26"
             ],
             [
              1.0,
              "#f0f921"
             ]
            ]
           }
          ],
          "heatmapgl": [
           {
            "type": "heatmapgl",
            "colorbar": {
             "outlinewidth": 0,
             "ticks": ""
            },
            "colorscale": [
             [
              0.0,
              "#0d0887"
             ],
             [
              0.1111111111111111,
              "#46039f"
             ],
             [
              0.2222222222222222,
              "#7201a8"
             ],
             [
              0.3333333333333333,
              "#9c179e"
             ],
             [
              0.4444444444444444,
              "#bd3786"
             ],
             [
              0.5555555555555556,
              "#d8576b"
             ],
             [
              0.6666666666666666,
              "#ed7953"
             ],
             [
              0.7777777777777778,
              "#fb9f3a"
             ],
             [
              0.8888888888888888,
              "#fdca26"
             ],
             [
              1.0,
              "#f0f921"
             ]
            ]
           }
          ],
          "contourcarpet": [
           {
            "type": "contourcarpet",
            "colorbar": {
             "outlinewidth": 0,
             "ticks": ""
            }
           }
          ],
          "contour": [
           {
            "type": "contour",
            "colorbar": {
             "outlinewidth": 0,
             "ticks": ""
            },
            "colorscale": [
             [
              0.0,
              "#0d0887"
             ],
             [
              0.1111111111111111,
              "#46039f"
             ],
             [
              0.2222222222222222,
              "#7201a8"
             ],
             [
              0.3333333333333333,
              "#9c179e"
             ],
             [
              0.4444444444444444,
              "#bd3786"
             ],
             [
              0.5555555555555556,
              "#d8576b"
             ],
             [
              0.6666666666666666,
              "#ed7953"
             ],
             [
              0.7777777777777778,
              "#fb9f3a"
             ],
             [
              0.8888888888888888,
              "#fdca26"
             ],
             [
              1.0,
              "#f0f921"
             ]
            ]
           }
          ],
          "surface": [
           {
            "type": "surface",
            "colorbar": {
             "outlinewidth": 0,
             "ticks": ""
            },
            "colorscale": [
             [
              0.0,
              "#0d0887"
             ],
             [
              0.1111111111111111,
              "#46039f"
             ],
             [
              0.2222222222222222,
              "#7201a8"
             ],
             [
              0.3333333333333333,
              "#9c179e"
             ],
             [
              0.4444444444444444,
              "#bd3786"
             ],
             [
              0.5555555555555556,
              "#d8576b"
             ],
             [
              0.6666666666666666,
              "#ed7953"
             ],
             [
              0.7777777777777778,
              "#fb9f3a"
             ],
             [
              0.8888888888888888,
              "#fdca26"
             ],
             [
              1.0,
              "#f0f921"
             ]
            ]
           }
          ],
          "mesh3d": [
           {
            "type": "mesh3d",
            "colorbar": {
             "outlinewidth": 0,
             "ticks": ""
            }
           }
          ],
          "scatter": [
           {
            "marker": {
             "line": {
              "color": "#283442"
             }
            },
            "type": "scatter"
           }
          ],
          "parcoords": [
           {
            "type": "parcoords",
            "line": {
             "colorbar": {
              "outlinewidth": 0,
              "ticks": ""
             }
            }
           }
          ],
          "scatterpolargl": [
           {
            "type": "scatterpolargl",
            "marker": {
             "colorbar": {
              "outlinewidth": 0,
              "ticks": ""
             }
            }
           }
          ],
          "bar": [
           {
            "error_x": {
             "color": "#f2f5fa"
            },
            "error_y": {
             "color": "#f2f5fa"
            },
            "marker": {
             "line": {
              "color": "rgb(17,17,17)",
              "width": 0.5
             },
             "pattern": {
              "fillmode": "overlay",
              "size": 10,
              "solidity": 0.2
             }
            },
            "type": "bar"
           }
          ],
          "scattergeo": [
           {
            "type": "scattergeo",
            "marker": {
             "colorbar": {
              "outlinewidth": 0,
              "ticks": ""
             }
            }
           }
          ],
          "scatterpolar": [
           {
            "type": "scatterpolar",
            "marker": {
             "colorbar": {
              "outlinewidth": 0,
              "ticks": ""
             }
            }
           }
          ],
          "histogram": [
           {
            "marker": {
             "pattern": {
              "fillmode": "overlay",
              "size": 10,
              "solidity": 0.2
             }
            },
            "type": "histogram"
           }
          ],
          "scattergl": [
           {
            "marker": {
             "line": {
              "color": "#283442"
             }
            },
            "type": "scattergl"
           }
          ],
          "scatter3d": [
           {
            "type": "scatter3d",
            "line": {
             "colorbar": {
              "outlinewidth": 0,
              "ticks": ""
             }
            },
            "marker": {
             "colorbar": {
              "outlinewidth": 0,
              "ticks": ""
             }
            }
           }
          ],
          "scattermapbox": [
           {
            "type": "scattermapbox",
            "marker": {
             "colorbar": {
              "outlinewidth": 0,
              "ticks": ""
             }
            }
           }
          ],
          "scatterternary": [
           {
            "type": "scatterternary",
            "marker": {
             "colorbar": {
              "outlinewidth": 0,
              "ticks": ""
             }
            }
           }
          ],
          "scattercarpet": [
           {
            "type": "scattercarpet",
            "marker": {
             "colorbar": {
              "outlinewidth": 0,
              "ticks": ""
             }
            }
           }
          ],
          "carpet": [
           {
            "aaxis": {
             "endlinecolor": "#A2B1C6",
             "gridcolor": "#506784",
             "linecolor": "#506784",
             "minorgridcolor": "#506784",
             "startlinecolor": "#A2B1C6"
            },
            "baxis": {
             "endlinecolor": "#A2B1C6",
             "gridcolor": "#506784",
             "linecolor": "#506784",
             "minorgridcolor": "#506784",
             "startlinecolor": "#A2B1C6"
            },
            "type": "carpet"
           }
          ],
          "table": [
           {
            "cells": {
             "fill": {
              "color": "#506784"
             },
             "line": {
              "color": "rgb(17,17,17)"
             }
            },
            "header": {
             "fill": {
              "color": "#2a3f5f"
             },
             "line": {
              "color": "rgb(17,17,17)"
             }
            },
            "type": "table"
           }
          ],
          "barpolar": [
           {
            "marker": {
             "line": {
              "color": "rgb(17,17,17)",
              "width": 0.5
             },
             "pattern": {
              "fillmode": "overlay",
              "size": 10,
              "solidity": 0.2
             }
            },
            "type": "barpolar"
           }
          ],
          "pie": [
           {
            "automargin": true,
            "type": "pie"
           }
          ]
         },
         "layout": {
          "autotypenumbers": "strict",
          "colorway": [
           "#636efa",
           "#EF553B",
           "#00cc96",
           "#ab63fa",
           "#FFA15A",
           "#19d3f3",
           "#FF6692",
           "#B6E880",
           "#FF97FF",
           "#FECB52"
          ],
          "font": {
           "color": "#f2f5fa"
          },
          "hovermode": "closest",
          "hoverlabel": {
           "align": "left"
          },
          "paper_bgcolor": "rgb(17,17,17)",
          "plot_bgcolor": "rgb(17,17,17)",
          "polar": {
           "bgcolor": "rgb(17,17,17)",
           "angularaxis": {
            "gridcolor": "#506784",
            "linecolor": "#506784",
            "ticks": ""
           },
           "radialaxis": {
            "gridcolor": "#506784",
            "linecolor": "#506784",
            "ticks": ""
           }
          },
          "ternary": {
           "bgcolor": "rgb(17,17,17)",
           "aaxis": {
            "gridcolor": "#506784",
            "linecolor": "#506784",
            "ticks": ""
           },
           "baxis": {
            "gridcolor": "#506784",
            "linecolor": "#506784",
            "ticks": ""
           },
           "caxis": {
            "gridcolor": "#506784",
            "linecolor": "#506784",
            "ticks": ""
           }
          },
          "coloraxis": {
           "colorbar": {
            "outlinewidth": 0,
            "ticks": ""
           }
          },
          "colorscale": {
           "sequential": [
            [
             0.0,
             "#0d0887"
            ],
            [
             0.1111111111111111,
             "#46039f"
            ],
            [
             0.2222222222222222,
             "#7201a8"
            ],
            [
             0.3333333333333333,
             "#9c179e"
            ],
            [
             0.4444444444444444,
             "#bd3786"
            ],
            [
             0.5555555555555556,
             "#d8576b"
            ],
            [
             0.6666666666666666,
             "#ed7953"
            ],
            [
             0.7777777777777778,
             "#fb9f3a"
            ],
            [
             0.8888888888888888,
             "#fdca26"
            ],
            [
             1.0,
             "#f0f921"
            ]
           ],
           "sequentialminus": [
            [
             0.0,
             "#0d0887"
            ],
            [
             0.1111111111111111,
             "#46039f"
            ],
            [
             0.2222222222222222,
             "#7201a8"
            ],
            [
             0.3333333333333333,
             "#9c179e"
            ],
            [
             0.4444444444444444,
             "#bd3786"
            ],
            [
             0.5555555555555556,
             "#d8576b"
            ],
            [
             0.6666666666666666,
             "#ed7953"
            ],
            [
             0.7777777777777778,
             "#fb9f3a"
            ],
            [
             0.8888888888888888,
             "#fdca26"
            ],
            [
             1.0,
             "#f0f921"
            ]
           ],
           "diverging": [
            [
             0,
             "#8e0152"
            ],
            [
             0.1,
             "#c51b7d"
            ],
            [
             0.2,
             "#de77ae"
            ],
            [
             0.3,
             "#f1b6da"
            ],
            [
             0.4,
             "#fde0ef"
            ],
            [
             0.5,
             "#f7f7f7"
            ],
            [
             0.6,
             "#e6f5d0"
            ],
            [
             0.7,
             "#b8e186"
            ],
            [
             0.8,
             "#7fbc41"
            ],
            [
             0.9,
             "#4d9221"
            ],
            [
             1,
             "#276419"
            ]
           ]
          },
          "xaxis": {
           "gridcolor": "#283442",
           "linecolor": "#506784",
           "ticks": "",
           "title": {
            "standoff": 15
           },
           "zerolinecolor": "#283442",
           "automargin": true,
           "zerolinewidth": 2
          },
          "yaxis": {
           "gridcolor": "#283442",
           "linecolor": "#506784",
           "ticks": "",
           "title": {
            "standoff": 15
           },
           "zerolinecolor": "#283442",
           "automargin": true,
           "zerolinewidth": 2
          },
          "scene": {
           "xaxis": {
            "backgroundcolor": "rgb(17,17,17)",
            "gridcolor": "#506784",
            "linecolor": "#506784",
            "showbackground": true,
            "ticks": "",
            "zerolinecolor": "#C8D4E3",
            "gridwidth": 2
           },
           "yaxis": {
            "backgroundcolor": "rgb(17,17,17)",
            "gridcolor": "#506784",
            "linecolor": "#506784",
            "showbackground": true,
            "ticks": "",
            "zerolinecolor": "#C8D4E3",
            "gridwidth": 2
           },
           "zaxis": {
            "backgroundcolor": "rgb(17,17,17)",
            "gridcolor": "#506784",
            "linecolor": "#506784",
            "showbackground": true,
            "ticks": "",
            "zerolinecolor": "#C8D4E3",
            "gridwidth": 2
           }
          },
          "shapedefaults": {
           "line": {
            "color": "#f2f5fa"
           }
          },
          "annotationdefaults": {
           "arrowcolor": "#f2f5fa",
           "arrowhead": 0,
           "arrowwidth": 1
          },
          "geo": {
           "bgcolor": "rgb(17,17,17)",
           "landcolor": "rgb(17,17,17)",
           "subunitcolor": "#506784",
           "showland": true,
           "showlakes": true,
           "lakecolor": "rgb(17,17,17)"
          },
          "title": {
           "x": 0.05
          },
          "updatemenudefaults": {
           "bgcolor": "#506784",
           "borderwidth": 0
          },
          "sliderdefaults": {
           "bgcolor": "#C8D4E3",
           "borderwidth": 1,
           "bordercolor": "rgb(17,17,17)",
           "tickwidth": 0
          },
          "mapbox": {
           "style": "dark"
          }
         }
        },
        "xaxis": {
         "anchor": "y",
         "domain": [
          0.0,
          1.0
         ],
         "range": [
          0,
          1
         ],
         "tickformat": ".0%",
         "showgrid": false
        },
        "yaxis": {
         "anchor": "x",
         "domain": [
          0.575,
          1.0
         ],
         "tickfont": {
          "size": 12
         },
         "showgrid": false
        },
        "xaxis2": {
         "anchor": "y2",
         "domain": [
          0.0,
          1.0
         ],
         "range": [
          0,
          1
         ],
         "tickformat": ".0%",
         "showgrid": false
        },
        "yaxis2": {
         "anchor": "x2",
         "domain": [
          0.0,
          0.425
         ],
         "tickfont": {
          "size": 12
         },
         "showgrid": false
        },
        "annotations": [
         {
          "font": {
           "size": 16
          },
          "showarrow": false,
          "text": "<b>age</b> protected attribute",
          "x": 0.5,
          "xanchor": "center",
          "xref": "paper",
          "y": 1.0,
          "yanchor": "bottom",
          "yref": "paper"
         },
         {
          "font": {
           "size": 16
          },
          "showarrow": false,
          "text": "<b>personal_status_sex</b> protected attribute",
          "x": 0.5,
          "xanchor": "center",
          "xref": "paper",
          "y": 0.425,
          "yanchor": "bottom",
          "yref": "paper"
         },
         {
          "font": {
           "size": 10
          },
          "showarrow": false,
          "text": "<b>Class 1</b>",
          "x": 1.01,
          "xanchor": "left",
          "xref": "x",
          "y": 0.15,
          "yref": "y"
         },
         {
          "font": {
           "size": 10
          },
          "showarrow": false,
          "text": "<b>Class 0</b>",
          "x": 1.01,
          "xanchor": "left",
          "xref": "x",
          "y": -0.15,
          "yref": "y"
         },
         {
          "font": {
           "size": 10
          },
          "showarrow": false,
          "text": "<b>Class 1</b>",
          "x": 1.01,
          "xanchor": "left",
          "xref": "x2",
          "y": 0.15,
          "yref": "y2"
         },
         {
          "font": {
           "size": 10
          },
          "showarrow": false,
          "text": "<b>Class 0</b>",
          "x": 1.01,
          "xanchor": "left",
          "xref": "x2",
          "y": -0.15,
          "yref": "y2"
         },
         {
          "font": {
           "size": 10
          },
          "showarrow": false,
          "text": "<b>Class 1</b>",
          "x": 1.01,
          "xanchor": "left",
          "xref": "x2",
          "y": 1.15,
          "yref": "y2"
         },
         {
          "font": {
           "size": 10
          },
          "showarrow": false,
          "text": "<b>Class 0</b>",
          "x": 1.01,
          "xanchor": "left",
          "xref": "x2",
          "y": 0.85,
          "yref": "y2"
         },
         {
          "font": {
           "size": 10
          },
          "showarrow": false,
          "text": "<b>Class 1</b>",
          "x": 1.01,
          "xanchor": "left",
          "xref": "x2",
          "y": 2.15,
          "yref": "y2"
         },
         {
          "font": {
           "size": 10
          },
          "showarrow": false,
          "text": "<b>Class 0</b>",
          "x": 1.01,
          "xanchor": "left",
          "xref": "x2",
          "y": 1.85,
          "yref": "y2"
         },
         {
          "font": {
           "size": 10
          },
          "showarrow": false,
          "text": "<b>Class 1</b>",
          "x": 1.01,
          "xanchor": "left",
          "xref": "x2",
          "y": 3.15,
          "yref": "y2"
         },
         {
          "font": {
           "size": 10
          },
          "showarrow": false,
          "text": "<b>Class 0</b>",
          "x": 1.01,
          "xanchor": "left",
          "xref": "x2",
          "y": 2.85,
          "yref": "y2"
         }
        ],
        "title": {
         "text": "True/False Positive/Negative rates by Protected Attribute"
        },
        "legend": {
         "title": {
          "text": "Classification Accuracy:"
         },
         "orientation": "h",
         "yanchor": "bottom",
         "y": 1.02,
         "xanchor": "right",
         "x": 1
        },
        "margin": {
         "l": 150,
         "r": 150
        },
        "barmode": "group",
        "height": 800,
        "plot_bgcolor": "white",
        "bargap": 0.4,
        "bargroupgap": 0.18
       },
       "config": {
        "plotlyServerURL": "https://plot.ly"
       }
      },
      "text/html": [
       "<div>                            <div id=\"d36428cf-3f3d-430d-b4d0-bde267810c63\" class=\"plotly-graph-div\" style=\"height:800px; width:100%;\"></div>            <script type=\"text/javascript\">                require([\"plotly\"], function(Plotly) {                    window.PLOTLYENV=window.PLOTLYENV || {};                                    if (document.getElementById(\"d36428cf-3f3d-430d-b4d0-bde267810c63\")) {                    Plotly.newPlot(                        \"d36428cf-3f3d-430d-b4d0-bde267810c63\",                        [{\"legendgroup\":\"False\",\"marker\":{\"color\":\"#EF553B\"},\"name\":\"False\",\"offsetgroup\":\"1\",\"orientation\":\"h\",\"showlegend\":true,\"text\":[\"55.2%\"],\"textfont\":{\"color\":\"white\"},\"textposition\":\"inside\",\"x\":[0.5517241379310345],\"y\":[\"age\"],\"type\":\"bar\",\"xaxis\":\"x\",\"yaxis\":\"y\"},{\"base\":[0.5517241379310345],\"legendgroup\":\"True\",\"marker\":{\"color\":\"#00CC96\"},\"name\":\"True\",\"offsetgroup\":\"1\",\"orientation\":\"h\",\"showlegend\":true,\"text\":[\"44.8%\"],\"textfont\":{\"color\":\"white\"},\"textposition\":\"inside\",\"x\":[0.4482758620689655],\"y\":[\"age\"],\"type\":\"bar\",\"xaxis\":\"x\",\"yaxis\":\"y\"},{\"legendgroup\":\"False\",\"marker\":{\"color\":\"#EF553B\"},\"name\":\"False\",\"offsetgroup\":\"2\",\"orientation\":\"h\",\"showlegend\":false,\"text\":[\"17.6%\"],\"textfont\":{\"color\":\"white\"},\"textposition\":\"inside\",\"x\":[0.176056338028169],\"y\":[\"age\"],\"type\":\"bar\",\"xaxis\":\"x\",\"yaxis\":\"y\"},{\"base\":[0.176056338028169],\"legendgroup\":\"True\",\"marker\":{\"color\":\"#00CC96\"},\"name\":\"True\",\"offsetgroup\":\"2\",\"orientation\":\"h\",\"showlegend\":false,\"text\":[\"82.4%\"],\"textfont\":{\"color\":\"white\"},\"textposition\":\"inside\",\"x\":[0.823943661971831],\"y\":[\"age\"],\"type\":\"bar\",\"xaxis\":\"x\",\"yaxis\":\"y\"},{\"legendgroup\":\"False\",\"marker\":{\"color\":\"#EF553B\"},\"name\":\"False\",\"offsetgroup\":\"1\",\"orientation\":\"h\",\"showlegend\":false,\"text\":[\"48.0%\",\"50.0%\",\"75.0%\",\"59.3%\"],\"textfont\":{\"color\":\"white\"},\"textposition\":\"inside\",\"x\":[0.48,0.5,0.75,0.5925925925925926],\"y\":[\"personal_status_sex_female : divorced\\u002fseparated\\u002fmarried\",\"personal_status_sex_male : divorced\\u002fseparated\",\"personal_status_sex_male : married\\u002fwidowed\",\"personal_status_sex_male : single\"],\"type\":\"bar\",\"xaxis\":\"x2\",\"yaxis\":\"y2\"},{\"base\":[0.48,0.5,0.75,0.5925925925925926],\"legendgroup\":\"True\",\"marker\":{\"color\":\"#00CC96\"},\"name\":\"True\",\"offsetgroup\":\"1\",\"orientation\":\"h\",\"showlegend\":false,\"text\":[\"52.0%\",\"50.0%\",\"25.0%\",\"40.7%\"],\"textfont\":{\"color\":\"white\"},\"textposition\":\"inside\",\"x\":[0.52,0.5,0.25,0.40740740740740744],\"y\":[\"personal_status_sex_female : divorced\\u002fseparated\\u002fmarried\",\"personal_status_sex_male : divorced\\u002fseparated\",\"personal_status_sex_male : married\\u002fwidowed\",\"personal_status_sex_male : single\"],\"type\":\"bar\",\"xaxis\":\"x2\",\"yaxis\":\"y2\"},{\"legendgroup\":\"False\",\"marker\":{\"color\":\"#EF553B\"},\"name\":\"False\",\"offsetgroup\":\"2\",\"orientation\":\"h\",\"showlegend\":false,\"text\":[\"19.1%\",\"40.0%\",\"20.0%\",\"15.3%\"],\"textfont\":{\"color\":\"white\"},\"textposition\":\"inside\",\"x\":[0.19148936170212766,0.4,0.2,0.15294117647058825],\"y\":[\"personal_status_sex_female : divorced\\u002fseparated\\u002fmarried\",\"personal_status_sex_male : divorced\\u002fseparated\",\"personal_status_sex_male : married\\u002fwidowed\",\"personal_status_sex_male : single\"],\"type\":\"bar\",\"xaxis\":\"x2\",\"yaxis\":\"y2\"},{\"base\":[0.19148936170212766,0.4,0.2,0.15294117647058825],\"legendgroup\":\"True\",\"marker\":{\"color\":\"#00CC96\"},\"name\":\"True\",\"offsetgroup\":\"2\",\"orientation\":\"h\",\"showlegend\":false,\"text\":[\"80.9%\",\"60.0%\",\"80.0%\",\"84.7%\"],\"textfont\":{\"color\":\"white\"},\"textposition\":\"inside\",\"x\":[0.8085106382978724,0.6,0.8,0.8470588235294118],\"y\":[\"personal_status_sex_female : divorced\\u002fseparated\\u002fmarried\",\"personal_status_sex_male : divorced\\u002fseparated\",\"personal_status_sex_male : married\\u002fwidowed\",\"personal_status_sex_male : single\"],\"type\":\"bar\",\"xaxis\":\"x2\",\"yaxis\":\"y2\"}],                        {\"template\":{\"data\":{\"histogram2dcontour\":[{\"type\":\"histogram2dcontour\",\"colorbar\":{\"outlinewidth\":0,\"ticks\":\"\"},\"colorscale\":[[0.0,\"#0d0887\"],[0.1111111111111111,\"#46039f\"],[0.2222222222222222,\"#7201a8\"],[0.3333333333333333,\"#9c179e\"],[0.4444444444444444,\"#bd3786\"],[0.5555555555555556,\"#d8576b\"],[0.6666666666666666,\"#ed7953\"],[0.7777777777777778,\"#fb9f3a\"],[0.8888888888888888,\"#fdca26\"],[1.0,\"#f0f921\"]]}],\"choropleth\":[{\"type\":\"choropleth\",\"colorbar\":{\"outlinewidth\":0,\"ticks\":\"\"}}],\"histogram2d\":[{\"type\":\"histogram2d\",\"colorbar\":{\"outlinewidth\":0,\"ticks\":\"\"},\"colorscale\":[[0.0,\"#0d0887\"],[0.1111111111111111,\"#46039f\"],[0.2222222222222222,\"#7201a8\"],[0.3333333333333333,\"#9c179e\"],[0.4444444444444444,\"#bd3786\"],[0.5555555555555556,\"#d8576b\"],[0.6666666666666666,\"#ed7953\"],[0.7777777777777778,\"#fb9f3a\"],[0.8888888888888888,\"#fdca26\"],[1.0,\"#f0f921\"]]}],\"heatmap\":[{\"type\":\"heatmap\",\"colorbar\":{\"outlinewidth\":0,\"ticks\":\"\"},\"colorscale\":[[0.0,\"#0d0887\"],[0.1111111111111111,\"#46039f\"],[0.2222222222222222,\"#7201a8\"],[0.3333333333333333,\"#9c179e\"],[0.4444444444444444,\"#bd3786\"],[0.5555555555555556,\"#d8576b\"],[0.6666666666666666,\"#ed7953\"],[0.7777777777777778,\"#fb9f3a\"],[0.8888888888888888,\"#fdca26\"],[1.0,\"#f0f921\"]]}],\"heatmapgl\":[{\"type\":\"heatmapgl\",\"colorbar\":{\"outlinewidth\":0,\"ticks\":\"\"},\"colorscale\":[[0.0,\"#0d0887\"],[0.1111111111111111,\"#46039f\"],[0.2222222222222222,\"#7201a8\"],[0.3333333333333333,\"#9c179e\"],[0.4444444444444444,\"#bd3786\"],[0.5555555555555556,\"#d8576b\"],[0.6666666666666666,\"#ed7953\"],[0.7777777777777778,\"#fb9f3a\"],[0.8888888888888888,\"#fdca26\"],[1.0,\"#f0f921\"]]}],\"contourcarpet\":[{\"type\":\"contourcarpet\",\"colorbar\":{\"outlinewidth\":0,\"ticks\":\"\"}}],\"contour\":[{\"type\":\"contour\",\"colorbar\":{\"outlinewidth\":0,\"ticks\":\"\"},\"colorscale\":[[0.0,\"#0d0887\"],[0.1111111111111111,\"#46039f\"],[0.2222222222222222,\"#7201a8\"],[0.3333333333333333,\"#9c179e\"],[0.4444444444444444,\"#bd3786\"],[0.5555555555555556,\"#d8576b\"],[0.6666666666666666,\"#ed7953\"],[0.7777777777777778,\"#fb9f3a\"],[0.8888888888888888,\"#fdca26\"],[1.0,\"#f0f921\"]]}],\"surface\":[{\"type\":\"surface\",\"colorbar\":{\"outlinewidth\":0,\"ticks\":\"\"},\"colorscale\":[[0.0,\"#0d0887\"],[0.1111111111111111,\"#46039f\"],[0.2222222222222222,\"#7201a8\"],[0.3333333333333333,\"#9c179e\"],[0.4444444444444444,\"#bd3786\"],[0.5555555555555556,\"#d8576b\"],[0.6666666666666666,\"#ed7953\"],[0.7777777777777778,\"#fb9f3a\"],[0.8888888888888888,\"#fdca26\"],[1.0,\"#f0f921\"]]}],\"mesh3d\":[{\"type\":\"mesh3d\",\"colorbar\":{\"outlinewidth\":0,\"ticks\":\"\"}}],\"scatter\":[{\"marker\":{\"line\":{\"color\":\"#283442\"}},\"type\":\"scatter\"}],\"parcoords\":[{\"type\":\"parcoords\",\"line\":{\"colorbar\":{\"outlinewidth\":0,\"ticks\":\"\"}}}],\"scatterpolargl\":[{\"type\":\"scatterpolargl\",\"marker\":{\"colorbar\":{\"outlinewidth\":0,\"ticks\":\"\"}}}],\"bar\":[{\"error_x\":{\"color\":\"#f2f5fa\"},\"error_y\":{\"color\":\"#f2f5fa\"},\"marker\":{\"line\":{\"color\":\"rgb(17,17,17)\",\"width\":0.5},\"pattern\":{\"fillmode\":\"overlay\",\"size\":10,\"solidity\":0.2}},\"type\":\"bar\"}],\"scattergeo\":[{\"type\":\"scattergeo\",\"marker\":{\"colorbar\":{\"outlinewidth\":0,\"ticks\":\"\"}}}],\"scatterpolar\":[{\"type\":\"scatterpolar\",\"marker\":{\"colorbar\":{\"outlinewidth\":0,\"ticks\":\"\"}}}],\"histogram\":[{\"marker\":{\"pattern\":{\"fillmode\":\"overlay\",\"size\":10,\"solidity\":0.2}},\"type\":\"histogram\"}],\"scattergl\":[{\"marker\":{\"line\":{\"color\":\"#283442\"}},\"type\":\"scattergl\"}],\"scatter3d\":[{\"type\":\"scatter3d\",\"line\":{\"colorbar\":{\"outlinewidth\":0,\"ticks\":\"\"}},\"marker\":{\"colorbar\":{\"outlinewidth\":0,\"ticks\":\"\"}}}],\"scattermapbox\":[{\"type\":\"scattermapbox\",\"marker\":{\"colorbar\":{\"outlinewidth\":0,\"ticks\":\"\"}}}],\"scatterternary\":[{\"type\":\"scatterternary\",\"marker\":{\"colorbar\":{\"outlinewidth\":0,\"ticks\":\"\"}}}],\"scattercarpet\":[{\"type\":\"scattercarpet\",\"marker\":{\"colorbar\":{\"outlinewidth\":0,\"ticks\":\"\"}}}],\"carpet\":[{\"aaxis\":{\"endlinecolor\":\"#A2B1C6\",\"gridcolor\":\"#506784\",\"linecolor\":\"#506784\",\"minorgridcolor\":\"#506784\",\"startlinecolor\":\"#A2B1C6\"},\"baxis\":{\"endlinecolor\":\"#A2B1C6\",\"gridcolor\":\"#506784\",\"linecolor\":\"#506784\",\"minorgridcolor\":\"#506784\",\"startlinecolor\":\"#A2B1C6\"},\"type\":\"carpet\"}],\"table\":[{\"cells\":{\"fill\":{\"color\":\"#506784\"},\"line\":{\"color\":\"rgb(17,17,17)\"}},\"header\":{\"fill\":{\"color\":\"#2a3f5f\"},\"line\":{\"color\":\"rgb(17,17,17)\"}},\"type\":\"table\"}],\"barpolar\":[{\"marker\":{\"line\":{\"color\":\"rgb(17,17,17)\",\"width\":0.5},\"pattern\":{\"fillmode\":\"overlay\",\"size\":10,\"solidity\":0.2}},\"type\":\"barpolar\"}],\"pie\":[{\"automargin\":true,\"type\":\"pie\"}]},\"layout\":{\"autotypenumbers\":\"strict\",\"colorway\":[\"#636efa\",\"#EF553B\",\"#00cc96\",\"#ab63fa\",\"#FFA15A\",\"#19d3f3\",\"#FF6692\",\"#B6E880\",\"#FF97FF\",\"#FECB52\"],\"font\":{\"color\":\"#f2f5fa\"},\"hovermode\":\"closest\",\"hoverlabel\":{\"align\":\"left\"},\"paper_bgcolor\":\"rgb(17,17,17)\",\"plot_bgcolor\":\"rgb(17,17,17)\",\"polar\":{\"bgcolor\":\"rgb(17,17,17)\",\"angularaxis\":{\"gridcolor\":\"#506784\",\"linecolor\":\"#506784\",\"ticks\":\"\"},\"radialaxis\":{\"gridcolor\":\"#506784\",\"linecolor\":\"#506784\",\"ticks\":\"\"}},\"ternary\":{\"bgcolor\":\"rgb(17,17,17)\",\"aaxis\":{\"gridcolor\":\"#506784\",\"linecolor\":\"#506784\",\"ticks\":\"\"},\"baxis\":{\"gridcolor\":\"#506784\",\"linecolor\":\"#506784\",\"ticks\":\"\"},\"caxis\":{\"gridcolor\":\"#506784\",\"linecolor\":\"#506784\",\"ticks\":\"\"}},\"coloraxis\":{\"colorbar\":{\"outlinewidth\":0,\"ticks\":\"\"}},\"colorscale\":{\"sequential\":[[0.0,\"#0d0887\"],[0.1111111111111111,\"#46039f\"],[0.2222222222222222,\"#7201a8\"],[0.3333333333333333,\"#9c179e\"],[0.4444444444444444,\"#bd3786\"],[0.5555555555555556,\"#d8576b\"],[0.6666666666666666,\"#ed7953\"],[0.7777777777777778,\"#fb9f3a\"],[0.8888888888888888,\"#fdca26\"],[1.0,\"#f0f921\"]],\"sequentialminus\":[[0.0,\"#0d0887\"],[0.1111111111111111,\"#46039f\"],[0.2222222222222222,\"#7201a8\"],[0.3333333333333333,\"#9c179e\"],[0.4444444444444444,\"#bd3786\"],[0.5555555555555556,\"#d8576b\"],[0.6666666666666666,\"#ed7953\"],[0.7777777777777778,\"#fb9f3a\"],[0.8888888888888888,\"#fdca26\"],[1.0,\"#f0f921\"]],\"diverging\":[[0,\"#8e0152\"],[0.1,\"#c51b7d\"],[0.2,\"#de77ae\"],[0.3,\"#f1b6da\"],[0.4,\"#fde0ef\"],[0.5,\"#f7f7f7\"],[0.6,\"#e6f5d0\"],[0.7,\"#b8e186\"],[0.8,\"#7fbc41\"],[0.9,\"#4d9221\"],[1,\"#276419\"]]},\"xaxis\":{\"gridcolor\":\"#283442\",\"linecolor\":\"#506784\",\"ticks\":\"\",\"title\":{\"standoff\":15},\"zerolinecolor\":\"#283442\",\"automargin\":true,\"zerolinewidth\":2},\"yaxis\":{\"gridcolor\":\"#283442\",\"linecolor\":\"#506784\",\"ticks\":\"\",\"title\":{\"standoff\":15},\"zerolinecolor\":\"#283442\",\"automargin\":true,\"zerolinewidth\":2},\"scene\":{\"xaxis\":{\"backgroundcolor\":\"rgb(17,17,17)\",\"gridcolor\":\"#506784\",\"linecolor\":\"#506784\",\"showbackground\":true,\"ticks\":\"\",\"zerolinecolor\":\"#C8D4E3\",\"gridwidth\":2},\"yaxis\":{\"backgroundcolor\":\"rgb(17,17,17)\",\"gridcolor\":\"#506784\",\"linecolor\":\"#506784\",\"showbackground\":true,\"ticks\":\"\",\"zerolinecolor\":\"#C8D4E3\",\"gridwidth\":2},\"zaxis\":{\"backgroundcolor\":\"rgb(17,17,17)\",\"gridcolor\":\"#506784\",\"linecolor\":\"#506784\",\"showbackground\":true,\"ticks\":\"\",\"zerolinecolor\":\"#C8D4E3\",\"gridwidth\":2}},\"shapedefaults\":{\"line\":{\"color\":\"#f2f5fa\"}},\"annotationdefaults\":{\"arrowcolor\":\"#f2f5fa\",\"arrowhead\":0,\"arrowwidth\":1},\"geo\":{\"bgcolor\":\"rgb(17,17,17)\",\"landcolor\":\"rgb(17,17,17)\",\"subunitcolor\":\"#506784\",\"showland\":true,\"showlakes\":true,\"lakecolor\":\"rgb(17,17,17)\"},\"title\":{\"x\":0.05},\"updatemenudefaults\":{\"bgcolor\":\"#506784\",\"borderwidth\":0},\"sliderdefaults\":{\"bgcolor\":\"#C8D4E3\",\"borderwidth\":1,\"bordercolor\":\"rgb(17,17,17)\",\"tickwidth\":0},\"mapbox\":{\"style\":\"dark\"}}},\"xaxis\":{\"anchor\":\"y\",\"domain\":[0.0,1.0],\"range\":[0,1],\"tickformat\":\".0%\",\"showgrid\":false},\"yaxis\":{\"anchor\":\"x\",\"domain\":[0.575,1.0],\"tickfont\":{\"size\":12},\"showgrid\":false},\"xaxis2\":{\"anchor\":\"y2\",\"domain\":[0.0,1.0],\"range\":[0,1],\"tickformat\":\".0%\",\"showgrid\":false},\"yaxis2\":{\"anchor\":\"x2\",\"domain\":[0.0,0.425],\"tickfont\":{\"size\":12},\"showgrid\":false},\"annotations\":[{\"font\":{\"size\":16},\"showarrow\":false,\"text\":\"\\u003cb\\u003eage\\u003c\\u002fb\\u003e protected attribute\",\"x\":0.5,\"xanchor\":\"center\",\"xref\":\"paper\",\"y\":1.0,\"yanchor\":\"bottom\",\"yref\":\"paper\"},{\"font\":{\"size\":16},\"showarrow\":false,\"text\":\"\\u003cb\\u003epersonal_status_sex\\u003c\\u002fb\\u003e protected attribute\",\"x\":0.5,\"xanchor\":\"center\",\"xref\":\"paper\",\"y\":0.425,\"yanchor\":\"bottom\",\"yref\":\"paper\"},{\"font\":{\"size\":10},\"showarrow\":false,\"text\":\"\\u003cb\\u003eClass 1\\u003c\\u002fb\\u003e\",\"x\":1.01,\"xanchor\":\"left\",\"xref\":\"x\",\"y\":0.15,\"yref\":\"y\"},{\"font\":{\"size\":10},\"showarrow\":false,\"text\":\"\\u003cb\\u003eClass 0\\u003c\\u002fb\\u003e\",\"x\":1.01,\"xanchor\":\"left\",\"xref\":\"x\",\"y\":-0.15,\"yref\":\"y\"},{\"font\":{\"size\":10},\"showarrow\":false,\"text\":\"\\u003cb\\u003eClass 1\\u003c\\u002fb\\u003e\",\"x\":1.01,\"xanchor\":\"left\",\"xref\":\"x2\",\"y\":0.15,\"yref\":\"y2\"},{\"font\":{\"size\":10},\"showarrow\":false,\"text\":\"\\u003cb\\u003eClass 0\\u003c\\u002fb\\u003e\",\"x\":1.01,\"xanchor\":\"left\",\"xref\":\"x2\",\"y\":-0.15,\"yref\":\"y2\"},{\"font\":{\"size\":10},\"showarrow\":false,\"text\":\"\\u003cb\\u003eClass 1\\u003c\\u002fb\\u003e\",\"x\":1.01,\"xanchor\":\"left\",\"xref\":\"x2\",\"y\":1.15,\"yref\":\"y2\"},{\"font\":{\"size\":10},\"showarrow\":false,\"text\":\"\\u003cb\\u003eClass 0\\u003c\\u002fb\\u003e\",\"x\":1.01,\"xanchor\":\"left\",\"xref\":\"x2\",\"y\":0.85,\"yref\":\"y2\"},{\"font\":{\"size\":10},\"showarrow\":false,\"text\":\"\\u003cb\\u003eClass 1\\u003c\\u002fb\\u003e\",\"x\":1.01,\"xanchor\":\"left\",\"xref\":\"x2\",\"y\":2.15,\"yref\":\"y2\"},{\"font\":{\"size\":10},\"showarrow\":false,\"text\":\"\\u003cb\\u003eClass 0\\u003c\\u002fb\\u003e\",\"x\":1.01,\"xanchor\":\"left\",\"xref\":\"x2\",\"y\":1.85,\"yref\":\"y2\"},{\"font\":{\"size\":10},\"showarrow\":false,\"text\":\"\\u003cb\\u003eClass 1\\u003c\\u002fb\\u003e\",\"x\":1.01,\"xanchor\":\"left\",\"xref\":\"x2\",\"y\":3.15,\"yref\":\"y2\"},{\"font\":{\"size\":10},\"showarrow\":false,\"text\":\"\\u003cb\\u003eClass 0\\u003c\\u002fb\\u003e\",\"x\":1.01,\"xanchor\":\"left\",\"xref\":\"x2\",\"y\":2.85,\"yref\":\"y2\"}],\"title\":{\"text\":\"True\\u002fFalse Positive\\u002fNegative rates by Protected Attribute\"},\"legend\":{\"title\":{\"text\":\"Classification Accuracy:\"},\"orientation\":\"h\",\"yanchor\":\"bottom\",\"y\":1.02,\"xanchor\":\"right\",\"x\":1},\"margin\":{\"l\":150,\"r\":150},\"barmode\":\"group\",\"height\":800,\"plot_bgcolor\":\"white\",\"bargap\":0.4,\"bargroupgap\":0.18},                        {\"responsive\": true}                    ).then(function(){\n",
       "                            \n",
       "var gd = document.getElementById('d36428cf-3f3d-430d-b4d0-bde267810c63');\n",
       "var x = new MutationObserver(function (mutations, observer) {{\n",
       "        var display = window.getComputedStyle(gd).display;\n",
       "        if (!display || display === 'none') {{\n",
       "            console.log([gd, 'removed!']);\n",
       "            Plotly.purge(gd);\n",
       "            observer.disconnect();\n",
       "        }}\n",
       "}});\n",
       "\n",
       "// Listen for the removal of the full notebook cells\n",
       "var notebookContainer = gd.closest('#notebook-container');\n",
       "if (notebookContainer) {{\n",
       "    x.observe(notebookContainer, {childList: true});\n",
       "}}\n",
       "\n",
       "// Listen for the clearing of the current output cell\n",
       "var outputEl = gd.closest('.output');\n",
       "if (outputEl) {{\n",
       "    x.observe(outputEl, {childList: true});\n",
       "}}\n",
       "\n",
       "                        })                };                });            </script>        </div>"
      ]
     },
     "metadata": {},
     "output_type": "display_data"
    }
   ],
   "execution_count": 242
  },
  {
   "metadata": {},
   "cell_type": "markdown",
   "source": [
    "2. Top Correlation with Protected Values\n",
    "    This boxplot visualizes how strongly each feature correlates with protected attributes (e.g., gender, race, age).\n",
    "    - **Values near** ±1 → Indicate a strong correlation, meaning the feature is highly influenced by the protected attribute.\n",
    "    - **Values around 0** → Indicate weak correlation, meaning the feature is independent of the protected attribute.\n",
    "    ##### What to look for & why:\n",
    "    - **Features with extreme correlation (close to -1 or +1)** → Suggest that protected attributes may be indirectly influencing predictions, which can introduce bias.\n",
    "    - **High correlation for non-sensitive attributes** → Could indicate proxy bias, where a seemingly neutral attribute is actually a disguised version of a protected feature.\n",
    "    - **Balanced, low correlations (closer to 0)** → Suggest a more fairness-aligned dataset, as predictions are less likely to be skewed by sensitive variables.\n",
    "    💡 Takeaway: If a protected attribute has a strong correlation with key features, consider removing proxy attributes, reweighting data, or using fairness-aware modeling techniques to mitigate bias.\n"
   ],
   "id": "d5cd917eac3c4c6"
  },
  {
   "metadata": {
    "ExecuteTime": {
     "end_time": "2025-02-26T14:22:46.204734Z",
     "start_time": "2025-02-26T14:22:46.201625Z"
    }
   },
   "cell_type": "code",
   "source": "corr_fig.show()",
   "id": "67f5be244a339eaa",
   "outputs": [
    {
     "data": {
      "application/vnd.plotly.v1+json": {
       "data": [
        {
         "hoverinfo": "text+x",
         "marker": {
          "color": [
           0.10384108545739777,
           0.07297732191730764
          ],
          "colorscale": [
           [
            0.0,
            "rgb(0,0,255)"
           ],
           [
            1.0,
            "rgb(255,0,0)"
           ]
          ],
          "line": {
           "color": "DarkSlateGrey",
           "width": 1.5
          }
         },
         "text": [
          "Correlation: 0.10",
          "Correlation: 0.07"
         ],
         "textfont": {
          "color": "black"
         },
         "textposition": "outside",
         "x": [
          "age",
          "personal_status_sex"
         ],
         "y": [
          0.10384108545739777,
          0.07297732191730764
         ],
         "type": "bar"
        }
       ],
       "layout": {
        "template": {
         "data": {
          "histogram2dcontour": [
           {
            "type": "histogram2dcontour",
            "colorbar": {
             "outlinewidth": 0,
             "ticks": ""
            },
            "colorscale": [
             [
              0.0,
              "#0d0887"
             ],
             [
              0.1111111111111111,
              "#46039f"
             ],
             [
              0.2222222222222222,
              "#7201a8"
             ],
             [
              0.3333333333333333,
              "#9c179e"
             ],
             [
              0.4444444444444444,
              "#bd3786"
             ],
             [
              0.5555555555555556,
              "#d8576b"
             ],
             [
              0.6666666666666666,
              "#ed7953"
             ],
             [
              0.7777777777777778,
              "#fb9f3a"
             ],
             [
              0.8888888888888888,
              "#fdca26"
             ],
             [
              1.0,
              "#f0f921"
             ]
            ]
           }
          ],
          "choropleth": [
           {
            "type": "choropleth",
            "colorbar": {
             "outlinewidth": 0,
             "ticks": ""
            }
           }
          ],
          "histogram2d": [
           {
            "type": "histogram2d",
            "colorbar": {
             "outlinewidth": 0,
             "ticks": ""
            },
            "colorscale": [
             [
              0.0,
              "#0d0887"
             ],
             [
              0.1111111111111111,
              "#46039f"
             ],
             [
              0.2222222222222222,
              "#7201a8"
             ],
             [
              0.3333333333333333,
              "#9c179e"
             ],
             [
              0.4444444444444444,
              "#bd3786"
             ],
             [
              0.5555555555555556,
              "#d8576b"
             ],
             [
              0.6666666666666666,
              "#ed7953"
             ],
             [
              0.7777777777777778,
              "#fb9f3a"
             ],
             [
              0.8888888888888888,
              "#fdca26"
             ],
             [
              1.0,
              "#f0f921"
             ]
            ]
           }
          ],
          "heatmap": [
           {
            "type": "heatmap",
            "colorbar": {
             "outlinewidth": 0,
             "ticks": ""
            },
            "colorscale": [
             [
              0.0,
              "#0d0887"
             ],
             [
              0.1111111111111111,
              "#46039f"
             ],
             [
              0.2222222222222222,
              "#7201a8"
             ],
             [
              0.3333333333333333,
              "#9c179e"
             ],
             [
              0.4444444444444444,
              "#bd3786"
             ],
             [
              0.5555555555555556,
              "#d8576b"
             ],
             [
              0.6666666666666666,
              "#ed7953"
             ],
             [
              0.7777777777777778,
              "#fb9f3a"
             ],
             [
              0.8888888888888888,
              "#fdca26"
             ],
             [
              1.0,
              "#f0f921"
             ]
            ]
           }
          ],
          "heatmapgl": [
           {
            "type": "heatmapgl",
            "colorbar": {
             "outlinewidth": 0,
             "ticks": ""
            },
            "colorscale": [
             [
              0.0,
              "#0d0887"
             ],
             [
              0.1111111111111111,
              "#46039f"
             ],
             [
              0.2222222222222222,
              "#7201a8"
             ],
             [
              0.3333333333333333,
              "#9c179e"
             ],
             [
              0.4444444444444444,
              "#bd3786"
             ],
             [
              0.5555555555555556,
              "#d8576b"
             ],
             [
              0.6666666666666666,
              "#ed7953"
             ],
             [
              0.7777777777777778,
              "#fb9f3a"
             ],
             [
              0.8888888888888888,
              "#fdca26"
             ],
             [
              1.0,
              "#f0f921"
             ]
            ]
           }
          ],
          "contourcarpet": [
           {
            "type": "contourcarpet",
            "colorbar": {
             "outlinewidth": 0,
             "ticks": ""
            }
           }
          ],
          "contour": [
           {
            "type": "contour",
            "colorbar": {
             "outlinewidth": 0,
             "ticks": ""
            },
            "colorscale": [
             [
              0.0,
              "#0d0887"
             ],
             [
              0.1111111111111111,
              "#46039f"
             ],
             [
              0.2222222222222222,
              "#7201a8"
             ],
             [
              0.3333333333333333,
              "#9c179e"
             ],
             [
              0.4444444444444444,
              "#bd3786"
             ],
             [
              0.5555555555555556,
              "#d8576b"
             ],
             [
              0.6666666666666666,
              "#ed7953"
             ],
             [
              0.7777777777777778,
              "#fb9f3a"
             ],
             [
              0.8888888888888888,
              "#fdca26"
             ],
             [
              1.0,
              "#f0f921"
             ]
            ]
           }
          ],
          "surface": [
           {
            "type": "surface",
            "colorbar": {
             "outlinewidth": 0,
             "ticks": ""
            },
            "colorscale": [
             [
              0.0,
              "#0d0887"
             ],
             [
              0.1111111111111111,
              "#46039f"
             ],
             [
              0.2222222222222222,
              "#7201a8"
             ],
             [
              0.3333333333333333,
              "#9c179e"
             ],
             [
              0.4444444444444444,
              "#bd3786"
             ],
             [
              0.5555555555555556,
              "#d8576b"
             ],
             [
              0.6666666666666666,
              "#ed7953"
             ],
             [
              0.7777777777777778,
              "#fb9f3a"
             ],
             [
              0.8888888888888888,
              "#fdca26"
             ],
             [
              1.0,
              "#f0f921"
             ]
            ]
           }
          ],
          "mesh3d": [
           {
            "type": "mesh3d",
            "colorbar": {
             "outlinewidth": 0,
             "ticks": ""
            }
           }
          ],
          "scatter": [
           {
            "marker": {
             "line": {
              "color": "#283442"
             }
            },
            "type": "scatter"
           }
          ],
          "parcoords": [
           {
            "type": "parcoords",
            "line": {
             "colorbar": {
              "outlinewidth": 0,
              "ticks": ""
             }
            }
           }
          ],
          "scatterpolargl": [
           {
            "type": "scatterpolargl",
            "marker": {
             "colorbar": {
              "outlinewidth": 0,
              "ticks": ""
             }
            }
           }
          ],
          "bar": [
           {
            "error_x": {
             "color": "#f2f5fa"
            },
            "error_y": {
             "color": "#f2f5fa"
            },
            "marker": {
             "line": {
              "color": "rgb(17,17,17)",
              "width": 0.5
             },
             "pattern": {
              "fillmode": "overlay",
              "size": 10,
              "solidity": 0.2
             }
            },
            "type": "bar"
           }
          ],
          "scattergeo": [
           {
            "type": "scattergeo",
            "marker": {
             "colorbar": {
              "outlinewidth": 0,
              "ticks": ""
             }
            }
           }
          ],
          "scatterpolar": [
           {
            "type": "scatterpolar",
            "marker": {
             "colorbar": {
              "outlinewidth": 0,
              "ticks": ""
             }
            }
           }
          ],
          "histogram": [
           {
            "marker": {
             "pattern": {
              "fillmode": "overlay",
              "size": 10,
              "solidity": 0.2
             }
            },
            "type": "histogram"
           }
          ],
          "scattergl": [
           {
            "marker": {
             "line": {
              "color": "#283442"
             }
            },
            "type": "scattergl"
           }
          ],
          "scatter3d": [
           {
            "type": "scatter3d",
            "line": {
             "colorbar": {
              "outlinewidth": 0,
              "ticks": ""
             }
            },
            "marker": {
             "colorbar": {
              "outlinewidth": 0,
              "ticks": ""
             }
            }
           }
          ],
          "scattermapbox": [
           {
            "type": "scattermapbox",
            "marker": {
             "colorbar": {
              "outlinewidth": 0,
              "ticks": ""
             }
            }
           }
          ],
          "scatterternary": [
           {
            "type": "scatterternary",
            "marker": {
             "colorbar": {
              "outlinewidth": 0,
              "ticks": ""
             }
            }
           }
          ],
          "scattercarpet": [
           {
            "type": "scattercarpet",
            "marker": {
             "colorbar": {
              "outlinewidth": 0,
              "ticks": ""
             }
            }
           }
          ],
          "carpet": [
           {
            "aaxis": {
             "endlinecolor": "#A2B1C6",
             "gridcolor": "#506784",
             "linecolor": "#506784",
             "minorgridcolor": "#506784",
             "startlinecolor": "#A2B1C6"
            },
            "baxis": {
             "endlinecolor": "#A2B1C6",
             "gridcolor": "#506784",
             "linecolor": "#506784",
             "minorgridcolor": "#506784",
             "startlinecolor": "#A2B1C6"
            },
            "type": "carpet"
           }
          ],
          "table": [
           {
            "cells": {
             "fill": {
              "color": "#506784"
             },
             "line": {
              "color": "rgb(17,17,17)"
             }
            },
            "header": {
             "fill": {
              "color": "#2a3f5f"
             },
             "line": {
              "color": "rgb(17,17,17)"
             }
            },
            "type": "table"
           }
          ],
          "barpolar": [
           {
            "marker": {
             "line": {
              "color": "rgb(17,17,17)",
              "width": 0.5
             },
             "pattern": {
              "fillmode": "overlay",
              "size": 10,
              "solidity": 0.2
             }
            },
            "type": "barpolar"
           }
          ],
          "pie": [
           {
            "automargin": true,
            "type": "pie"
           }
          ]
         },
         "layout": {
          "autotypenumbers": "strict",
          "colorway": [
           "#636efa",
           "#EF553B",
           "#00cc96",
           "#ab63fa",
           "#FFA15A",
           "#19d3f3",
           "#FF6692",
           "#B6E880",
           "#FF97FF",
           "#FECB52"
          ],
          "font": {
           "color": "#f2f5fa"
          },
          "hovermode": "closest",
          "hoverlabel": {
           "align": "left"
          },
          "paper_bgcolor": "rgb(17,17,17)",
          "plot_bgcolor": "rgb(17,17,17)",
          "polar": {
           "bgcolor": "rgb(17,17,17)",
           "angularaxis": {
            "gridcolor": "#506784",
            "linecolor": "#506784",
            "ticks": ""
           },
           "radialaxis": {
            "gridcolor": "#506784",
            "linecolor": "#506784",
            "ticks": ""
           }
          },
          "ternary": {
           "bgcolor": "rgb(17,17,17)",
           "aaxis": {
            "gridcolor": "#506784",
            "linecolor": "#506784",
            "ticks": ""
           },
           "baxis": {
            "gridcolor": "#506784",
            "linecolor": "#506784",
            "ticks": ""
           },
           "caxis": {
            "gridcolor": "#506784",
            "linecolor": "#506784",
            "ticks": ""
           }
          },
          "coloraxis": {
           "colorbar": {
            "outlinewidth": 0,
            "ticks": ""
           }
          },
          "colorscale": {
           "sequential": [
            [
             0.0,
             "#0d0887"
            ],
            [
             0.1111111111111111,
             "#46039f"
            ],
            [
             0.2222222222222222,
             "#7201a8"
            ],
            [
             0.3333333333333333,
             "#9c179e"
            ],
            [
             0.4444444444444444,
             "#bd3786"
            ],
            [
             0.5555555555555556,
             "#d8576b"
            ],
            [
             0.6666666666666666,
             "#ed7953"
            ],
            [
             0.7777777777777778,
             "#fb9f3a"
            ],
            [
             0.8888888888888888,
             "#fdca26"
            ],
            [
             1.0,
             "#f0f921"
            ]
           ],
           "sequentialminus": [
            [
             0.0,
             "#0d0887"
            ],
            [
             0.1111111111111111,
             "#46039f"
            ],
            [
             0.2222222222222222,
             "#7201a8"
            ],
            [
             0.3333333333333333,
             "#9c179e"
            ],
            [
             0.4444444444444444,
             "#bd3786"
            ],
            [
             0.5555555555555556,
             "#d8576b"
            ],
            [
             0.6666666666666666,
             "#ed7953"
            ],
            [
             0.7777777777777778,
             "#fb9f3a"
            ],
            [
             0.8888888888888888,
             "#fdca26"
            ],
            [
             1.0,
             "#f0f921"
            ]
           ],
           "diverging": [
            [
             0,
             "#8e0152"
            ],
            [
             0.1,
             "#c51b7d"
            ],
            [
             0.2,
             "#de77ae"
            ],
            [
             0.3,
             "#f1b6da"
            ],
            [
             0.4,
             "#fde0ef"
            ],
            [
             0.5,
             "#f7f7f7"
            ],
            [
             0.6,
             "#e6f5d0"
            ],
            [
             0.7,
             "#b8e186"
            ],
            [
             0.8,
             "#7fbc41"
            ],
            [
             0.9,
             "#4d9221"
            ],
            [
             1,
             "#276419"
            ]
           ]
          },
          "xaxis": {
           "gridcolor": "#283442",
           "linecolor": "#506784",
           "ticks": "",
           "title": {
            "standoff": 15
           },
           "zerolinecolor": "#283442",
           "automargin": true,
           "zerolinewidth": 2
          },
          "yaxis": {
           "gridcolor": "#283442",
           "linecolor": "#506784",
           "ticks": "",
           "title": {
            "standoff": 15
           },
           "zerolinecolor": "#283442",
           "automargin": true,
           "zerolinewidth": 2
          },
          "scene": {
           "xaxis": {
            "backgroundcolor": "rgb(17,17,17)",
            "gridcolor": "#506784",
            "linecolor": "#506784",
            "showbackground": true,
            "ticks": "",
            "zerolinecolor": "#C8D4E3",
            "gridwidth": 2
           },
           "yaxis": {
            "backgroundcolor": "rgb(17,17,17)",
            "gridcolor": "#506784",
            "linecolor": "#506784",
            "showbackground": true,
            "ticks": "",
            "zerolinecolor": "#C8D4E3",
            "gridwidth": 2
           },
           "zaxis": {
            "backgroundcolor": "rgb(17,17,17)",
            "gridcolor": "#506784",
            "linecolor": "#506784",
            "showbackground": true,
            "ticks": "",
            "zerolinecolor": "#C8D4E3",
            "gridwidth": 2
           }
          },
          "shapedefaults": {
           "line": {
            "color": "#f2f5fa"
           }
          },
          "annotationdefaults": {
           "arrowcolor": "#f2f5fa",
           "arrowhead": 0,
           "arrowwidth": 1
          },
          "geo": {
           "bgcolor": "rgb(17,17,17)",
           "landcolor": "rgb(17,17,17)",
           "subunitcolor": "#506784",
           "showland": true,
           "showlakes": true,
           "lakecolor": "rgb(17,17,17)"
          },
          "title": {
           "x": 0.05
          },
          "updatemenudefaults": {
           "bgcolor": "#506784",
           "borderwidth": 0
          },
          "sliderdefaults": {
           "bgcolor": "#C8D4E3",
           "borderwidth": 1,
           "bordercolor": "rgb(17,17,17)",
           "tickwidth": 0
          },
          "mapbox": {
           "style": "dark"
          }
         }
        },
        "shapes": [
         {
          "line": {
           "color": "green",
           "dash": "dash"
          },
          "type": "line",
          "x0": 0,
          "x1": 1,
          "xref": "x domain",
          "y0": 0.0,
          "y1": 0.0,
          "yref": "y"
         },
         {
          "line": {
           "color": "orange",
           "dash": "dot"
          },
          "type": "line",
          "x0": 0,
          "x1": 1,
          "xref": "x domain",
          "y0": 0.5,
          "y1": 0.5,
          "yref": "y"
         },
         {
          "line": {
           "color": "purple",
           "dash": "dot"
          },
          "type": "line",
          "x0": 0,
          "x1": 1,
          "xref": "x domain",
          "y0": -0.5,
          "y1": -0.5,
          "yref": "y"
         }
        ],
        "annotations": [
         {
          "showarrow": false,
          "text": "Neutral Correlation",
          "x": 1,
          "xanchor": "left",
          "xref": "x domain",
          "y": 0.0,
          "yanchor": "middle",
          "yref": "y"
         },
         {
          "showarrow": false,
          "text": "Strong Positive",
          "x": 1,
          "xanchor": "left",
          "xref": "x domain",
          "y": 0.5,
          "yanchor": "middle",
          "yref": "y"
         },
         {
          "showarrow": false,
          "text": "Strong Negative",
          "x": 1,
          "xanchor": "left",
          "xref": "x domain",
          "y": -0.5,
          "yanchor": "middle",
          "yref": "y"
         },
         {
          "align": "center",
          "font": {
           "color": "#666666"
          },
          "showarrow": false,
          "text": "Interpretation Guide:<br>• Values near ±1 indicate strong relationships<br>• Values near 0 suggest weak relationships, which is the target",
          "x": 0.5,
          "xref": "paper",
          "y": -0.15,
          "yanchor": "top",
          "yref": "paper"
         }
        ],
        "title": {
         "font": {
          "size": 20
         },
         "text": "Top Correlations with Prediction Values",
         "x": 0.0
        },
        "xaxis": {
         "title": {
          "text": "Categories"
         },
         "tickangle": 45,
         "gridcolor": "lightgray",
         "domain": [
          0.2,
          0.8
         ]
        },
        "yaxis": {
         "title": {
          "text": "Correlation Strength"
         },
         "range": [
          -1.1,
          1.1
         ],
         "gridcolor": "lightgray",
         "zerolinecolor": "black",
         "domain": [
          0.1,
          0.9
         ]
        },
        "hoverlabel": {
         "font": {
          "size": 12
         },
         "bgcolor": "white"
        },
        "margin": {
         "l": 50,
         "r": 50,
         "t": 50,
         "b": 100
        },
        "plot_bgcolor": "white"
       },
       "config": {
        "plotlyServerURL": "https://plot.ly"
       }
      },
      "text/html": [
       "<div>                            <div id=\"a64c46b3-a399-453d-91c9-7300d0c8d2b9\" class=\"plotly-graph-div\" style=\"height:525px; width:100%;\"></div>            <script type=\"text/javascript\">                require([\"plotly\"], function(Plotly) {                    window.PLOTLYENV=window.PLOTLYENV || {};                                    if (document.getElementById(\"a64c46b3-a399-453d-91c9-7300d0c8d2b9\")) {                    Plotly.newPlot(                        \"a64c46b3-a399-453d-91c9-7300d0c8d2b9\",                        [{\"hoverinfo\":\"text+x\",\"marker\":{\"color\":[0.10384108545739777,0.07297732191730764],\"colorscale\":[[0.0,\"rgb(0,0,255)\"],[1.0,\"rgb(255,0,0)\"]],\"line\":{\"color\":\"DarkSlateGrey\",\"width\":1.5}},\"text\":[\"Correlation: 0.10\",\"Correlation: 0.07\"],\"textfont\":{\"color\":\"black\"},\"textposition\":\"outside\",\"x\":[\"age\",\"personal_status_sex\"],\"y\":[0.10384108545739777,0.07297732191730764],\"type\":\"bar\"}],                        {\"template\":{\"data\":{\"histogram2dcontour\":[{\"type\":\"histogram2dcontour\",\"colorbar\":{\"outlinewidth\":0,\"ticks\":\"\"},\"colorscale\":[[0.0,\"#0d0887\"],[0.1111111111111111,\"#46039f\"],[0.2222222222222222,\"#7201a8\"],[0.3333333333333333,\"#9c179e\"],[0.4444444444444444,\"#bd3786\"],[0.5555555555555556,\"#d8576b\"],[0.6666666666666666,\"#ed7953\"],[0.7777777777777778,\"#fb9f3a\"],[0.8888888888888888,\"#fdca26\"],[1.0,\"#f0f921\"]]}],\"choropleth\":[{\"type\":\"choropleth\",\"colorbar\":{\"outlinewidth\":0,\"ticks\":\"\"}}],\"histogram2d\":[{\"type\":\"histogram2d\",\"colorbar\":{\"outlinewidth\":0,\"ticks\":\"\"},\"colorscale\":[[0.0,\"#0d0887\"],[0.1111111111111111,\"#46039f\"],[0.2222222222222222,\"#7201a8\"],[0.3333333333333333,\"#9c179e\"],[0.4444444444444444,\"#bd3786\"],[0.5555555555555556,\"#d8576b\"],[0.6666666666666666,\"#ed7953\"],[0.7777777777777778,\"#fb9f3a\"],[0.8888888888888888,\"#fdca26\"],[1.0,\"#f0f921\"]]}],\"heatmap\":[{\"type\":\"heatmap\",\"colorbar\":{\"outlinewidth\":0,\"ticks\":\"\"},\"colorscale\":[[0.0,\"#0d0887\"],[0.1111111111111111,\"#46039f\"],[0.2222222222222222,\"#7201a8\"],[0.3333333333333333,\"#9c179e\"],[0.4444444444444444,\"#bd3786\"],[0.5555555555555556,\"#d8576b\"],[0.6666666666666666,\"#ed7953\"],[0.7777777777777778,\"#fb9f3a\"],[0.8888888888888888,\"#fdca26\"],[1.0,\"#f0f921\"]]}],\"heatmapgl\":[{\"type\":\"heatmapgl\",\"colorbar\":{\"outlinewidth\":0,\"ticks\":\"\"},\"colorscale\":[[0.0,\"#0d0887\"],[0.1111111111111111,\"#46039f\"],[0.2222222222222222,\"#7201a8\"],[0.3333333333333333,\"#9c179e\"],[0.4444444444444444,\"#bd3786\"],[0.5555555555555556,\"#d8576b\"],[0.6666666666666666,\"#ed7953\"],[0.7777777777777778,\"#fb9f3a\"],[0.8888888888888888,\"#fdca26\"],[1.0,\"#f0f921\"]]}],\"contourcarpet\":[{\"type\":\"contourcarpet\",\"colorbar\":{\"outlinewidth\":0,\"ticks\":\"\"}}],\"contour\":[{\"type\":\"contour\",\"colorbar\":{\"outlinewidth\":0,\"ticks\":\"\"},\"colorscale\":[[0.0,\"#0d0887\"],[0.1111111111111111,\"#46039f\"],[0.2222222222222222,\"#7201a8\"],[0.3333333333333333,\"#9c179e\"],[0.4444444444444444,\"#bd3786\"],[0.5555555555555556,\"#d8576b\"],[0.6666666666666666,\"#ed7953\"],[0.7777777777777778,\"#fb9f3a\"],[0.8888888888888888,\"#fdca26\"],[1.0,\"#f0f921\"]]}],\"surface\":[{\"type\":\"surface\",\"colorbar\":{\"outlinewidth\":0,\"ticks\":\"\"},\"colorscale\":[[0.0,\"#0d0887\"],[0.1111111111111111,\"#46039f\"],[0.2222222222222222,\"#7201a8\"],[0.3333333333333333,\"#9c179e\"],[0.4444444444444444,\"#bd3786\"],[0.5555555555555556,\"#d8576b\"],[0.6666666666666666,\"#ed7953\"],[0.7777777777777778,\"#fb9f3a\"],[0.8888888888888888,\"#fdca26\"],[1.0,\"#f0f921\"]]}],\"mesh3d\":[{\"type\":\"mesh3d\",\"colorbar\":{\"outlinewidth\":0,\"ticks\":\"\"}}],\"scatter\":[{\"marker\":{\"line\":{\"color\":\"#283442\"}},\"type\":\"scatter\"}],\"parcoords\":[{\"type\":\"parcoords\",\"line\":{\"colorbar\":{\"outlinewidth\":0,\"ticks\":\"\"}}}],\"scatterpolargl\":[{\"type\":\"scatterpolargl\",\"marker\":{\"colorbar\":{\"outlinewidth\":0,\"ticks\":\"\"}}}],\"bar\":[{\"error_x\":{\"color\":\"#f2f5fa\"},\"error_y\":{\"color\":\"#f2f5fa\"},\"marker\":{\"line\":{\"color\":\"rgb(17,17,17)\",\"width\":0.5},\"pattern\":{\"fillmode\":\"overlay\",\"size\":10,\"solidity\":0.2}},\"type\":\"bar\"}],\"scattergeo\":[{\"type\":\"scattergeo\",\"marker\":{\"colorbar\":{\"outlinewidth\":0,\"ticks\":\"\"}}}],\"scatterpolar\":[{\"type\":\"scatterpolar\",\"marker\":{\"colorbar\":{\"outlinewidth\":0,\"ticks\":\"\"}}}],\"histogram\":[{\"marker\":{\"pattern\":{\"fillmode\":\"overlay\",\"size\":10,\"solidity\":0.2}},\"type\":\"histogram\"}],\"scattergl\":[{\"marker\":{\"line\":{\"color\":\"#283442\"}},\"type\":\"scattergl\"}],\"scatter3d\":[{\"type\":\"scatter3d\",\"line\":{\"colorbar\":{\"outlinewidth\":0,\"ticks\":\"\"}},\"marker\":{\"colorbar\":{\"outlinewidth\":0,\"ticks\":\"\"}}}],\"scattermapbox\":[{\"type\":\"scattermapbox\",\"marker\":{\"colorbar\":{\"outlinewidth\":0,\"ticks\":\"\"}}}],\"scatterternary\":[{\"type\":\"scatterternary\",\"marker\":{\"colorbar\":{\"outlinewidth\":0,\"ticks\":\"\"}}}],\"scattercarpet\":[{\"type\":\"scattercarpet\",\"marker\":{\"colorbar\":{\"outlinewidth\":0,\"ticks\":\"\"}}}],\"carpet\":[{\"aaxis\":{\"endlinecolor\":\"#A2B1C6\",\"gridcolor\":\"#506784\",\"linecolor\":\"#506784\",\"minorgridcolor\":\"#506784\",\"startlinecolor\":\"#A2B1C6\"},\"baxis\":{\"endlinecolor\":\"#A2B1C6\",\"gridcolor\":\"#506784\",\"linecolor\":\"#506784\",\"minorgridcolor\":\"#506784\",\"startlinecolor\":\"#A2B1C6\"},\"type\":\"carpet\"}],\"table\":[{\"cells\":{\"fill\":{\"color\":\"#506784\"},\"line\":{\"color\":\"rgb(17,17,17)\"}},\"header\":{\"fill\":{\"color\":\"#2a3f5f\"},\"line\":{\"color\":\"rgb(17,17,17)\"}},\"type\":\"table\"}],\"barpolar\":[{\"marker\":{\"line\":{\"color\":\"rgb(17,17,17)\",\"width\":0.5},\"pattern\":{\"fillmode\":\"overlay\",\"size\":10,\"solidity\":0.2}},\"type\":\"barpolar\"}],\"pie\":[{\"automargin\":true,\"type\":\"pie\"}]},\"layout\":{\"autotypenumbers\":\"strict\",\"colorway\":[\"#636efa\",\"#EF553B\",\"#00cc96\",\"#ab63fa\",\"#FFA15A\",\"#19d3f3\",\"#FF6692\",\"#B6E880\",\"#FF97FF\",\"#FECB52\"],\"font\":{\"color\":\"#f2f5fa\"},\"hovermode\":\"closest\",\"hoverlabel\":{\"align\":\"left\"},\"paper_bgcolor\":\"rgb(17,17,17)\",\"plot_bgcolor\":\"rgb(17,17,17)\",\"polar\":{\"bgcolor\":\"rgb(17,17,17)\",\"angularaxis\":{\"gridcolor\":\"#506784\",\"linecolor\":\"#506784\",\"ticks\":\"\"},\"radialaxis\":{\"gridcolor\":\"#506784\",\"linecolor\":\"#506784\",\"ticks\":\"\"}},\"ternary\":{\"bgcolor\":\"rgb(17,17,17)\",\"aaxis\":{\"gridcolor\":\"#506784\",\"linecolor\":\"#506784\",\"ticks\":\"\"},\"baxis\":{\"gridcolor\":\"#506784\",\"linecolor\":\"#506784\",\"ticks\":\"\"},\"caxis\":{\"gridcolor\":\"#506784\",\"linecolor\":\"#506784\",\"ticks\":\"\"}},\"coloraxis\":{\"colorbar\":{\"outlinewidth\":0,\"ticks\":\"\"}},\"colorscale\":{\"sequential\":[[0.0,\"#0d0887\"],[0.1111111111111111,\"#46039f\"],[0.2222222222222222,\"#7201a8\"],[0.3333333333333333,\"#9c179e\"],[0.4444444444444444,\"#bd3786\"],[0.5555555555555556,\"#d8576b\"],[0.6666666666666666,\"#ed7953\"],[0.7777777777777778,\"#fb9f3a\"],[0.8888888888888888,\"#fdca26\"],[1.0,\"#f0f921\"]],\"sequentialminus\":[[0.0,\"#0d0887\"],[0.1111111111111111,\"#46039f\"],[0.2222222222222222,\"#7201a8\"],[0.3333333333333333,\"#9c179e\"],[0.4444444444444444,\"#bd3786\"],[0.5555555555555556,\"#d8576b\"],[0.6666666666666666,\"#ed7953\"],[0.7777777777777778,\"#fb9f3a\"],[0.8888888888888888,\"#fdca26\"],[1.0,\"#f0f921\"]],\"diverging\":[[0,\"#8e0152\"],[0.1,\"#c51b7d\"],[0.2,\"#de77ae\"],[0.3,\"#f1b6da\"],[0.4,\"#fde0ef\"],[0.5,\"#f7f7f7\"],[0.6,\"#e6f5d0\"],[0.7,\"#b8e186\"],[0.8,\"#7fbc41\"],[0.9,\"#4d9221\"],[1,\"#276419\"]]},\"xaxis\":{\"gridcolor\":\"#283442\",\"linecolor\":\"#506784\",\"ticks\":\"\",\"title\":{\"standoff\":15},\"zerolinecolor\":\"#283442\",\"automargin\":true,\"zerolinewidth\":2},\"yaxis\":{\"gridcolor\":\"#283442\",\"linecolor\":\"#506784\",\"ticks\":\"\",\"title\":{\"standoff\":15},\"zerolinecolor\":\"#283442\",\"automargin\":true,\"zerolinewidth\":2},\"scene\":{\"xaxis\":{\"backgroundcolor\":\"rgb(17,17,17)\",\"gridcolor\":\"#506784\",\"linecolor\":\"#506784\",\"showbackground\":true,\"ticks\":\"\",\"zerolinecolor\":\"#C8D4E3\",\"gridwidth\":2},\"yaxis\":{\"backgroundcolor\":\"rgb(17,17,17)\",\"gridcolor\":\"#506784\",\"linecolor\":\"#506784\",\"showbackground\":true,\"ticks\":\"\",\"zerolinecolor\":\"#C8D4E3\",\"gridwidth\":2},\"zaxis\":{\"backgroundcolor\":\"rgb(17,17,17)\",\"gridcolor\":\"#506784\",\"linecolor\":\"#506784\",\"showbackground\":true,\"ticks\":\"\",\"zerolinecolor\":\"#C8D4E3\",\"gridwidth\":2}},\"shapedefaults\":{\"line\":{\"color\":\"#f2f5fa\"}},\"annotationdefaults\":{\"arrowcolor\":\"#f2f5fa\",\"arrowhead\":0,\"arrowwidth\":1},\"geo\":{\"bgcolor\":\"rgb(17,17,17)\",\"landcolor\":\"rgb(17,17,17)\",\"subunitcolor\":\"#506784\",\"showland\":true,\"showlakes\":true,\"lakecolor\":\"rgb(17,17,17)\"},\"title\":{\"x\":0.05},\"updatemenudefaults\":{\"bgcolor\":\"#506784\",\"borderwidth\":0},\"sliderdefaults\":{\"bgcolor\":\"#C8D4E3\",\"borderwidth\":1,\"bordercolor\":\"rgb(17,17,17)\",\"tickwidth\":0},\"mapbox\":{\"style\":\"dark\"}}},\"shapes\":[{\"line\":{\"color\":\"green\",\"dash\":\"dash\"},\"type\":\"line\",\"x0\":0,\"x1\":1,\"xref\":\"x domain\",\"y0\":0.0,\"y1\":0.0,\"yref\":\"y\"},{\"line\":{\"color\":\"orange\",\"dash\":\"dot\"},\"type\":\"line\",\"x0\":0,\"x1\":1,\"xref\":\"x domain\",\"y0\":0.5,\"y1\":0.5,\"yref\":\"y\"},{\"line\":{\"color\":\"purple\",\"dash\":\"dot\"},\"type\":\"line\",\"x0\":0,\"x1\":1,\"xref\":\"x domain\",\"y0\":-0.5,\"y1\":-0.5,\"yref\":\"y\"}],\"annotations\":[{\"showarrow\":false,\"text\":\"Neutral Correlation\",\"x\":1,\"xanchor\":\"left\",\"xref\":\"x domain\",\"y\":0.0,\"yanchor\":\"middle\",\"yref\":\"y\"},{\"showarrow\":false,\"text\":\"Strong Positive\",\"x\":1,\"xanchor\":\"left\",\"xref\":\"x domain\",\"y\":0.5,\"yanchor\":\"middle\",\"yref\":\"y\"},{\"showarrow\":false,\"text\":\"Strong Negative\",\"x\":1,\"xanchor\":\"left\",\"xref\":\"x domain\",\"y\":-0.5,\"yanchor\":\"middle\",\"yref\":\"y\"},{\"align\":\"center\",\"font\":{\"color\":\"#666666\"},\"showarrow\":false,\"text\":\"Interpretation Guide:\\u003cbr\\u003e\\u2022 Values near \\u00b11 indicate strong relationships\\u003cbr\\u003e\\u2022 Values near 0 suggest weak relationships, which is the target\",\"x\":0.5,\"xref\":\"paper\",\"y\":-0.15,\"yanchor\":\"top\",\"yref\":\"paper\"}],\"title\":{\"font\":{\"size\":20},\"text\":\"Top Correlations with Prediction Values\",\"x\":0.0},\"xaxis\":{\"title\":{\"text\":\"Categories\"},\"tickangle\":45,\"gridcolor\":\"lightgray\",\"domain\":[0.2,0.8]},\"yaxis\":{\"title\":{\"text\":\"Correlation Strength\"},\"range\":[-1.1,1.1],\"gridcolor\":\"lightgray\",\"zerolinecolor\":\"black\",\"domain\":[0.1,0.9]},\"hoverlabel\":{\"font\":{\"size\":12},\"bgcolor\":\"white\"},\"margin\":{\"l\":50,\"r\":50,\"t\":50,\"b\":100},\"plot_bgcolor\":\"white\"},                        {\"responsive\": true}                    ).then(function(){\n",
       "                            \n",
       "var gd = document.getElementById('a64c46b3-a399-453d-91c9-7300d0c8d2b9');\n",
       "var x = new MutationObserver(function (mutations, observer) {{\n",
       "        var display = window.getComputedStyle(gd).display;\n",
       "        if (!display || display === 'none') {{\n",
       "            console.log([gd, 'removed!']);\n",
       "            Plotly.purge(gd);\n",
       "            observer.disconnect();\n",
       "        }}\n",
       "}});\n",
       "\n",
       "// Listen for the removal of the full notebook cells\n",
       "var notebookContainer = gd.closest('#notebook-container');\n",
       "if (notebookContainer) {{\n",
       "    x.observe(notebookContainer, {childList: true});\n",
       "}}\n",
       "\n",
       "// Listen for the clearing of the current output cell\n",
       "var outputEl = gd.closest('.output');\n",
       "if (outputEl) {{\n",
       "    x.observe(outputEl, {childList: true});\n",
       "}}\n",
       "\n",
       "                        })                };                });            </script>        </div>"
      ]
     },
     "metadata": {},
     "output_type": "display_data"
    }
   ],
   "execution_count": 243
  },
  {
   "metadata": {},
   "cell_type": "markdown",
   "source": [
    "3. Fairness Analytics: Statistical Parity Difference\n",
    "    This visualization evaluates fairness using Statistical Parity Difference (SPD):\n",
    "    - **Attributes within the green threshold** → The model treats groups fairly, as the difference in selection rates between groups is within an acceptable range.\n",
    "    - **Attributes outside the threshold (red areas)** → Indicate bias, meaning certain groups are significantly more or less likely to receive positive predictions.\n",
    "    ##### What to look for & why:\n",
    "    - **Green attributes (fair predictions)** → Suggests the model does not favor one group disproportionately.\n",
    "    - **Red attributes (bias detected)** → Indicate that a protected group is being disadvantaged or privileged unfairly. This may be due to dataset imbalance or model bias.\n",
    "    - **The further from the threshold, the more severe the bias** → Large deviations mean the model's decisions are disproportionately influenced by a sensitive attribute.\n",
    "    💡 Takeaway: If an attribute is flagged red, interventions like rebalancing the dataset, adjusting prediction thresholds, or applying fairness constraints may be necessary to reduce discrimination."
   ],
   "id": "9e4cf82a6c4b6514"
  },
  {
   "metadata": {
    "ExecuteTime": {
     "end_time": "2025-02-26T14:22:46.290339Z",
     "start_time": "2025-02-26T14:22:46.286374Z"
    }
   },
   "cell_type": "code",
   "source": "parity_fig.show()",
   "id": "45f57e9c965ddd71",
   "outputs": [
    {
     "data": {
      "application/vnd.plotly.v1+json": {
       "data": [
        {
         "hovertemplate": "<b>%{y}</b><br>Parity: %{x:.4f}<extra></extra>",
         "marker": {
          "color": [
           "rgb(255, 0, 0)",
           "#2ECC71"
          ]
         },
         "orientation": "h",
         "x": [
          0.22499999999999998,
          0.0
         ],
         "y": [
          "age",
          "personal_status_sex"
         ],
         "type": "bar"
        }
       ],
       "layout": {
        "template": {
         "data": {
          "histogram2dcontour": [
           {
            "type": "histogram2dcontour",
            "colorbar": {
             "outlinewidth": 0,
             "ticks": ""
            },
            "colorscale": [
             [
              0.0,
              "#0d0887"
             ],
             [
              0.1111111111111111,
              "#46039f"
             ],
             [
              0.2222222222222222,
              "#7201a8"
             ],
             [
              0.3333333333333333,
              "#9c179e"
             ],
             [
              0.4444444444444444,
              "#bd3786"
             ],
             [
              0.5555555555555556,
              "#d8576b"
             ],
             [
              0.6666666666666666,
              "#ed7953"
             ],
             [
              0.7777777777777778,
              "#fb9f3a"
             ],
             [
              0.8888888888888888,
              "#fdca26"
             ],
             [
              1.0,
              "#f0f921"
             ]
            ]
           }
          ],
          "choropleth": [
           {
            "type": "choropleth",
            "colorbar": {
             "outlinewidth": 0,
             "ticks": ""
            }
           }
          ],
          "histogram2d": [
           {
            "type": "histogram2d",
            "colorbar": {
             "outlinewidth": 0,
             "ticks": ""
            },
            "colorscale": [
             [
              0.0,
              "#0d0887"
             ],
             [
              0.1111111111111111,
              "#46039f"
             ],
             [
              0.2222222222222222,
              "#7201a8"
             ],
             [
              0.3333333333333333,
              "#9c179e"
             ],
             [
              0.4444444444444444,
              "#bd3786"
             ],
             [
              0.5555555555555556,
              "#d8576b"
             ],
             [
              0.6666666666666666,
              "#ed7953"
             ],
             [
              0.7777777777777778,
              "#fb9f3a"
             ],
             [
              0.8888888888888888,
              "#fdca26"
             ],
             [
              1.0,
              "#f0f921"
             ]
            ]
           }
          ],
          "heatmap": [
           {
            "type": "heatmap",
            "colorbar": {
             "outlinewidth": 0,
             "ticks": ""
            },
            "colorscale": [
             [
              0.0,
              "#0d0887"
             ],
             [
              0.1111111111111111,
              "#46039f"
             ],
             [
              0.2222222222222222,
              "#7201a8"
             ],
             [
              0.3333333333333333,
              "#9c179e"
             ],
             [
              0.4444444444444444,
              "#bd3786"
             ],
             [
              0.5555555555555556,
              "#d8576b"
             ],
             [
              0.6666666666666666,
              "#ed7953"
             ],
             [
              0.7777777777777778,
              "#fb9f3a"
             ],
             [
              0.8888888888888888,
              "#fdca26"
             ],
             [
              1.0,
              "#f0f921"
             ]
            ]
           }
          ],
          "heatmapgl": [
           {
            "type": "heatmapgl",
            "colorbar": {
             "outlinewidth": 0,
             "ticks": ""
            },
            "colorscale": [
             [
              0.0,
              "#0d0887"
             ],
             [
              0.1111111111111111,
              "#46039f"
             ],
             [
              0.2222222222222222,
              "#7201a8"
             ],
             [
              0.3333333333333333,
              "#9c179e"
             ],
             [
              0.4444444444444444,
              "#bd3786"
             ],
             [
              0.5555555555555556,
              "#d8576b"
             ],
             [
              0.6666666666666666,
              "#ed7953"
             ],
             [
              0.7777777777777778,
              "#fb9f3a"
             ],
             [
              0.8888888888888888,
              "#fdca26"
             ],
             [
              1.0,
              "#f0f921"
             ]
            ]
           }
          ],
          "contourcarpet": [
           {
            "type": "contourcarpet",
            "colorbar": {
             "outlinewidth": 0,
             "ticks": ""
            }
           }
          ],
          "contour": [
           {
            "type": "contour",
            "colorbar": {
             "outlinewidth": 0,
             "ticks": ""
            },
            "colorscale": [
             [
              0.0,
              "#0d0887"
             ],
             [
              0.1111111111111111,
              "#46039f"
             ],
             [
              0.2222222222222222,
              "#7201a8"
             ],
             [
              0.3333333333333333,
              "#9c179e"
             ],
             [
              0.4444444444444444,
              "#bd3786"
             ],
             [
              0.5555555555555556,
              "#d8576b"
             ],
             [
              0.6666666666666666,
              "#ed7953"
             ],
             [
              0.7777777777777778,
              "#fb9f3a"
             ],
             [
              0.8888888888888888,
              "#fdca26"
             ],
             [
              1.0,
              "#f0f921"
             ]
            ]
           }
          ],
          "surface": [
           {
            "type": "surface",
            "colorbar": {
             "outlinewidth": 0,
             "ticks": ""
            },
            "colorscale": [
             [
              0.0,
              "#0d0887"
             ],
             [
              0.1111111111111111,
              "#46039f"
             ],
             [
              0.2222222222222222,
              "#7201a8"
             ],
             [
              0.3333333333333333,
              "#9c179e"
             ],
             [
              0.4444444444444444,
              "#bd3786"
             ],
             [
              0.5555555555555556,
              "#d8576b"
             ],
             [
              0.6666666666666666,
              "#ed7953"
             ],
             [
              0.7777777777777778,
              "#fb9f3a"
             ],
             [
              0.8888888888888888,
              "#fdca26"
             ],
             [
              1.0,
              "#f0f921"
             ]
            ]
           }
          ],
          "mesh3d": [
           {
            "type": "mesh3d",
            "colorbar": {
             "outlinewidth": 0,
             "ticks": ""
            }
           }
          ],
          "scatter": [
           {
            "marker": {
             "line": {
              "color": "#283442"
             }
            },
            "type": "scatter"
           }
          ],
          "parcoords": [
           {
            "type": "parcoords",
            "line": {
             "colorbar": {
              "outlinewidth": 0,
              "ticks": ""
             }
            }
           }
          ],
          "scatterpolargl": [
           {
            "type": "scatterpolargl",
            "marker": {
             "colorbar": {
              "outlinewidth": 0,
              "ticks": ""
             }
            }
           }
          ],
          "bar": [
           {
            "error_x": {
             "color": "#f2f5fa"
            },
            "error_y": {
             "color": "#f2f5fa"
            },
            "marker": {
             "line": {
              "color": "rgb(17,17,17)",
              "width": 0.5
             },
             "pattern": {
              "fillmode": "overlay",
              "size": 10,
              "solidity": 0.2
             }
            },
            "type": "bar"
           }
          ],
          "scattergeo": [
           {
            "type": "scattergeo",
            "marker": {
             "colorbar": {
              "outlinewidth": 0,
              "ticks": ""
             }
            }
           }
          ],
          "scatterpolar": [
           {
            "type": "scatterpolar",
            "marker": {
             "colorbar": {
              "outlinewidth": 0,
              "ticks": ""
             }
            }
           }
          ],
          "histogram": [
           {
            "marker": {
             "pattern": {
              "fillmode": "overlay",
              "size": 10,
              "solidity": 0.2
             }
            },
            "type": "histogram"
           }
          ],
          "scattergl": [
           {
            "marker": {
             "line": {
              "color": "#283442"
             }
            },
            "type": "scattergl"
           }
          ],
          "scatter3d": [
           {
            "type": "scatter3d",
            "line": {
             "colorbar": {
              "outlinewidth": 0,
              "ticks": ""
             }
            },
            "marker": {
             "colorbar": {
              "outlinewidth": 0,
              "ticks": ""
             }
            }
           }
          ],
          "scattermapbox": [
           {
            "type": "scattermapbox",
            "marker": {
             "colorbar": {
              "outlinewidth": 0,
              "ticks": ""
             }
            }
           }
          ],
          "scatterternary": [
           {
            "type": "scatterternary",
            "marker": {
             "colorbar": {
              "outlinewidth": 0,
              "ticks": ""
             }
            }
           }
          ],
          "scattercarpet": [
           {
            "type": "scattercarpet",
            "marker": {
             "colorbar": {
              "outlinewidth": 0,
              "ticks": ""
             }
            }
           }
          ],
          "carpet": [
           {
            "aaxis": {
             "endlinecolor": "#A2B1C6",
             "gridcolor": "#506784",
             "linecolor": "#506784",
             "minorgridcolor": "#506784",
             "startlinecolor": "#A2B1C6"
            },
            "baxis": {
             "endlinecolor": "#A2B1C6",
             "gridcolor": "#506784",
             "linecolor": "#506784",
             "minorgridcolor": "#506784",
             "startlinecolor": "#A2B1C6"
            },
            "type": "carpet"
           }
          ],
          "table": [
           {
            "cells": {
             "fill": {
              "color": "#506784"
             },
             "line": {
              "color": "rgb(17,17,17)"
             }
            },
            "header": {
             "fill": {
              "color": "#2a3f5f"
             },
             "line": {
              "color": "rgb(17,17,17)"
             }
            },
            "type": "table"
           }
          ],
          "barpolar": [
           {
            "marker": {
             "line": {
              "color": "rgb(17,17,17)",
              "width": 0.5
             },
             "pattern": {
              "fillmode": "overlay",
              "size": 10,
              "solidity": 0.2
             }
            },
            "type": "barpolar"
           }
          ],
          "pie": [
           {
            "automargin": true,
            "type": "pie"
           }
          ]
         },
         "layout": {
          "autotypenumbers": "strict",
          "colorway": [
           "#636efa",
           "#EF553B",
           "#00cc96",
           "#ab63fa",
           "#FFA15A",
           "#19d3f3",
           "#FF6692",
           "#B6E880",
           "#FF97FF",
           "#FECB52"
          ],
          "font": {
           "color": "#f2f5fa"
          },
          "hovermode": "closest",
          "hoverlabel": {
           "align": "left"
          },
          "paper_bgcolor": "rgb(17,17,17)",
          "plot_bgcolor": "rgb(17,17,17)",
          "polar": {
           "bgcolor": "rgb(17,17,17)",
           "angularaxis": {
            "gridcolor": "#506784",
            "linecolor": "#506784",
            "ticks": ""
           },
           "radialaxis": {
            "gridcolor": "#506784",
            "linecolor": "#506784",
            "ticks": ""
           }
          },
          "ternary": {
           "bgcolor": "rgb(17,17,17)",
           "aaxis": {
            "gridcolor": "#506784",
            "linecolor": "#506784",
            "ticks": ""
           },
           "baxis": {
            "gridcolor": "#506784",
            "linecolor": "#506784",
            "ticks": ""
           },
           "caxis": {
            "gridcolor": "#506784",
            "linecolor": "#506784",
            "ticks": ""
           }
          },
          "coloraxis": {
           "colorbar": {
            "outlinewidth": 0,
            "ticks": ""
           }
          },
          "colorscale": {
           "sequential": [
            [
             0.0,
             "#0d0887"
            ],
            [
             0.1111111111111111,
             "#46039f"
            ],
            [
             0.2222222222222222,
             "#7201a8"
            ],
            [
             0.3333333333333333,
             "#9c179e"
            ],
            [
             0.4444444444444444,
             "#bd3786"
            ],
            [
             0.5555555555555556,
             "#d8576b"
            ],
            [
             0.6666666666666666,
             "#ed7953"
            ],
            [
             0.7777777777777778,
             "#fb9f3a"
            ],
            [
             0.8888888888888888,
             "#fdca26"
            ],
            [
             1.0,
             "#f0f921"
            ]
           ],
           "sequentialminus": [
            [
             0.0,
             "#0d0887"
            ],
            [
             0.1111111111111111,
             "#46039f"
            ],
            [
             0.2222222222222222,
             "#7201a8"
            ],
            [
             0.3333333333333333,
             "#9c179e"
            ],
            [
             0.4444444444444444,
             "#bd3786"
            ],
            [
             0.5555555555555556,
             "#d8576b"
            ],
            [
             0.6666666666666666,
             "#ed7953"
            ],
            [
             0.7777777777777778,
             "#fb9f3a"
            ],
            [
             0.8888888888888888,
             "#fdca26"
            ],
            [
             1.0,
             "#f0f921"
            ]
           ],
           "diverging": [
            [
             0,
             "#8e0152"
            ],
            [
             0.1,
             "#c51b7d"
            ],
            [
             0.2,
             "#de77ae"
            ],
            [
             0.3,
             "#f1b6da"
            ],
            [
             0.4,
             "#fde0ef"
            ],
            [
             0.5,
             "#f7f7f7"
            ],
            [
             0.6,
             "#e6f5d0"
            ],
            [
             0.7,
             "#b8e186"
            ],
            [
             0.8,
             "#7fbc41"
            ],
            [
             0.9,
             "#4d9221"
            ],
            [
             1,
             "#276419"
            ]
           ]
          },
          "xaxis": {
           "gridcolor": "#283442",
           "linecolor": "#506784",
           "ticks": "",
           "title": {
            "standoff": 15
           },
           "zerolinecolor": "#283442",
           "automargin": true,
           "zerolinewidth": 2
          },
          "yaxis": {
           "gridcolor": "#283442",
           "linecolor": "#506784",
           "ticks": "",
           "title": {
            "standoff": 15
           },
           "zerolinecolor": "#283442",
           "automargin": true,
           "zerolinewidth": 2
          },
          "scene": {
           "xaxis": {
            "backgroundcolor": "rgb(17,17,17)",
            "gridcolor": "#506784",
            "linecolor": "#506784",
            "showbackground": true,
            "ticks": "",
            "zerolinecolor": "#C8D4E3",
            "gridwidth": 2
           },
           "yaxis": {
            "backgroundcolor": "rgb(17,17,17)",
            "gridcolor": "#506784",
            "linecolor": "#506784",
            "showbackground": true,
            "ticks": "",
            "zerolinecolor": "#C8D4E3",
            "gridwidth": 2
           },
           "zaxis": {
            "backgroundcolor": "rgb(17,17,17)",
            "gridcolor": "#506784",
            "linecolor": "#506784",
            "showbackground": true,
            "ticks": "",
            "zerolinecolor": "#C8D4E3",
            "gridwidth": 2
           }
          },
          "shapedefaults": {
           "line": {
            "color": "#f2f5fa"
           }
          },
          "annotationdefaults": {
           "arrowcolor": "#f2f5fa",
           "arrowhead": 0,
           "arrowwidth": 1
          },
          "geo": {
           "bgcolor": "rgb(17,17,17)",
           "landcolor": "rgb(17,17,17)",
           "subunitcolor": "#506784",
           "showland": true,
           "showlakes": true,
           "lakecolor": "rgb(17,17,17)"
          },
          "title": {
           "x": 0.05
          },
          "updatemenudefaults": {
           "bgcolor": "#506784",
           "borderwidth": 0
          },
          "sliderdefaults": {
           "bgcolor": "#C8D4E3",
           "borderwidth": 1,
           "bordercolor": "rgb(17,17,17)",
           "tickwidth": 0
          },
          "mapbox": {
           "style": "dark"
          }
         }
        },
        "shapes": [
         {
          "line": {
           "color": "green",
           "dash": "dash",
           "width": 2
          },
          "type": "line",
          "x0": 0,
          "x1": 0,
          "xref": "x",
          "y0": 0,
          "y1": 1,
          "yref": "y domain"
         },
         {
          "fillcolor": "lightgreen",
          "layer": "below",
          "line": {
           "width": 0
          },
          "opacity": 0.2,
          "type": "rect",
          "x0": -0.1,
          "x1": 0.1,
          "xref": "x",
          "y0": 0,
          "y1": 1,
          "yref": "y domain"
         }
        ],
        "annotations": [
         {
          "showarrow": false,
          "text": "Optimal value",
          "x": 0,
          "xanchor": "left",
          "xref": "x",
          "y": 1,
          "yanchor": "top",
          "yref": "y domain"
         },
         {
          "font": {
           "color": "gray",
           "size": 12
          },
          "showarrow": false,
          "text": "Ideal fairness occurs at 0 (green line)<br>Values between -0.1 and 0.1 (green area) are generally considered acceptable",
          "x": 0.5,
          "xref": "paper",
          "y": -0.2,
          "yref": "paper"
         }
        ],
        "hoverlabel": {
         "font": {
          "size": 12
         },
         "bgcolor": "white"
        },
        "margin": {
         "l": 150,
         "r": 50,
         "b": 100
        },
        "title": {
         "text": "Fairness Analysis: Statistical Parity Differences"
        },
        "xaxis": {
         "title": {
          "text": "Statistical Parity Difference<br>(<span style='color:#E74C3C'>↑ Favors Privileged</span> / <span style='color:#3498DB'>↓ Disfavors Privileged</span>)"
         }
        },
        "yaxis": {
         "title": {
          "text": "Features"
         }
        },
        "height": 640,
        "showlegend": false
       },
       "config": {
        "plotlyServerURL": "https://plot.ly"
       }
      },
      "text/html": [
       "<div>                            <div id=\"8216d3d2-62a5-47fa-944c-59a6542ffd8e\" class=\"plotly-graph-div\" style=\"height:640px; width:100%;\"></div>            <script type=\"text/javascript\">                require([\"plotly\"], function(Plotly) {                    window.PLOTLYENV=window.PLOTLYENV || {};                                    if (document.getElementById(\"8216d3d2-62a5-47fa-944c-59a6542ffd8e\")) {                    Plotly.newPlot(                        \"8216d3d2-62a5-47fa-944c-59a6542ffd8e\",                        [{\"hovertemplate\":\"\\u003cb\\u003e%{y}\\u003c\\u002fb\\u003e\\u003cbr\\u003eParity: %{x:.4f}\\u003cextra\\u003e\\u003c\\u002fextra\\u003e\",\"marker\":{\"color\":[\"rgb(255, 0, 0)\",\"#2ECC71\"]},\"orientation\":\"h\",\"x\":[0.22499999999999998,0.0],\"y\":[\"age\",\"personal_status_sex\"],\"type\":\"bar\"}],                        {\"template\":{\"data\":{\"histogram2dcontour\":[{\"type\":\"histogram2dcontour\",\"colorbar\":{\"outlinewidth\":0,\"ticks\":\"\"},\"colorscale\":[[0.0,\"#0d0887\"],[0.1111111111111111,\"#46039f\"],[0.2222222222222222,\"#7201a8\"],[0.3333333333333333,\"#9c179e\"],[0.4444444444444444,\"#bd3786\"],[0.5555555555555556,\"#d8576b\"],[0.6666666666666666,\"#ed7953\"],[0.7777777777777778,\"#fb9f3a\"],[0.8888888888888888,\"#fdca26\"],[1.0,\"#f0f921\"]]}],\"choropleth\":[{\"type\":\"choropleth\",\"colorbar\":{\"outlinewidth\":0,\"ticks\":\"\"}}],\"histogram2d\":[{\"type\":\"histogram2d\",\"colorbar\":{\"outlinewidth\":0,\"ticks\":\"\"},\"colorscale\":[[0.0,\"#0d0887\"],[0.1111111111111111,\"#46039f\"],[0.2222222222222222,\"#7201a8\"],[0.3333333333333333,\"#9c179e\"],[0.4444444444444444,\"#bd3786\"],[0.5555555555555556,\"#d8576b\"],[0.6666666666666666,\"#ed7953\"],[0.7777777777777778,\"#fb9f3a\"],[0.8888888888888888,\"#fdca26\"],[1.0,\"#f0f921\"]]}],\"heatmap\":[{\"type\":\"heatmap\",\"colorbar\":{\"outlinewidth\":0,\"ticks\":\"\"},\"colorscale\":[[0.0,\"#0d0887\"],[0.1111111111111111,\"#46039f\"],[0.2222222222222222,\"#7201a8\"],[0.3333333333333333,\"#9c179e\"],[0.4444444444444444,\"#bd3786\"],[0.5555555555555556,\"#d8576b\"],[0.6666666666666666,\"#ed7953\"],[0.7777777777777778,\"#fb9f3a\"],[0.8888888888888888,\"#fdca26\"],[1.0,\"#f0f921\"]]}],\"heatmapgl\":[{\"type\":\"heatmapgl\",\"colorbar\":{\"outlinewidth\":0,\"ticks\":\"\"},\"colorscale\":[[0.0,\"#0d0887\"],[0.1111111111111111,\"#46039f\"],[0.2222222222222222,\"#7201a8\"],[0.3333333333333333,\"#9c179e\"],[0.4444444444444444,\"#bd3786\"],[0.5555555555555556,\"#d8576b\"],[0.6666666666666666,\"#ed7953\"],[0.7777777777777778,\"#fb9f3a\"],[0.8888888888888888,\"#fdca26\"],[1.0,\"#f0f921\"]]}],\"contourcarpet\":[{\"type\":\"contourcarpet\",\"colorbar\":{\"outlinewidth\":0,\"ticks\":\"\"}}],\"contour\":[{\"type\":\"contour\",\"colorbar\":{\"outlinewidth\":0,\"ticks\":\"\"},\"colorscale\":[[0.0,\"#0d0887\"],[0.1111111111111111,\"#46039f\"],[0.2222222222222222,\"#7201a8\"],[0.3333333333333333,\"#9c179e\"],[0.4444444444444444,\"#bd3786\"],[0.5555555555555556,\"#d8576b\"],[0.6666666666666666,\"#ed7953\"],[0.7777777777777778,\"#fb9f3a\"],[0.8888888888888888,\"#fdca26\"],[1.0,\"#f0f921\"]]}],\"surface\":[{\"type\":\"surface\",\"colorbar\":{\"outlinewidth\":0,\"ticks\":\"\"},\"colorscale\":[[0.0,\"#0d0887\"],[0.1111111111111111,\"#46039f\"],[0.2222222222222222,\"#7201a8\"],[0.3333333333333333,\"#9c179e\"],[0.4444444444444444,\"#bd3786\"],[0.5555555555555556,\"#d8576b\"],[0.6666666666666666,\"#ed7953\"],[0.7777777777777778,\"#fb9f3a\"],[0.8888888888888888,\"#fdca26\"],[1.0,\"#f0f921\"]]}],\"mesh3d\":[{\"type\":\"mesh3d\",\"colorbar\":{\"outlinewidth\":0,\"ticks\":\"\"}}],\"scatter\":[{\"marker\":{\"line\":{\"color\":\"#283442\"}},\"type\":\"scatter\"}],\"parcoords\":[{\"type\":\"parcoords\",\"line\":{\"colorbar\":{\"outlinewidth\":0,\"ticks\":\"\"}}}],\"scatterpolargl\":[{\"type\":\"scatterpolargl\",\"marker\":{\"colorbar\":{\"outlinewidth\":0,\"ticks\":\"\"}}}],\"bar\":[{\"error_x\":{\"color\":\"#f2f5fa\"},\"error_y\":{\"color\":\"#f2f5fa\"},\"marker\":{\"line\":{\"color\":\"rgb(17,17,17)\",\"width\":0.5},\"pattern\":{\"fillmode\":\"overlay\",\"size\":10,\"solidity\":0.2}},\"type\":\"bar\"}],\"scattergeo\":[{\"type\":\"scattergeo\",\"marker\":{\"colorbar\":{\"outlinewidth\":0,\"ticks\":\"\"}}}],\"scatterpolar\":[{\"type\":\"scatterpolar\",\"marker\":{\"colorbar\":{\"outlinewidth\":0,\"ticks\":\"\"}}}],\"histogram\":[{\"marker\":{\"pattern\":{\"fillmode\":\"overlay\",\"size\":10,\"solidity\":0.2}},\"type\":\"histogram\"}],\"scattergl\":[{\"marker\":{\"line\":{\"color\":\"#283442\"}},\"type\":\"scattergl\"}],\"scatter3d\":[{\"type\":\"scatter3d\",\"line\":{\"colorbar\":{\"outlinewidth\":0,\"ticks\":\"\"}},\"marker\":{\"colorbar\":{\"outlinewidth\":0,\"ticks\":\"\"}}}],\"scattermapbox\":[{\"type\":\"scattermapbox\",\"marker\":{\"colorbar\":{\"outlinewidth\":0,\"ticks\":\"\"}}}],\"scatterternary\":[{\"type\":\"scatterternary\",\"marker\":{\"colorbar\":{\"outlinewidth\":0,\"ticks\":\"\"}}}],\"scattercarpet\":[{\"type\":\"scattercarpet\",\"marker\":{\"colorbar\":{\"outlinewidth\":0,\"ticks\":\"\"}}}],\"carpet\":[{\"aaxis\":{\"endlinecolor\":\"#A2B1C6\",\"gridcolor\":\"#506784\",\"linecolor\":\"#506784\",\"minorgridcolor\":\"#506784\",\"startlinecolor\":\"#A2B1C6\"},\"baxis\":{\"endlinecolor\":\"#A2B1C6\",\"gridcolor\":\"#506784\",\"linecolor\":\"#506784\",\"minorgridcolor\":\"#506784\",\"startlinecolor\":\"#A2B1C6\"},\"type\":\"carpet\"}],\"table\":[{\"cells\":{\"fill\":{\"color\":\"#506784\"},\"line\":{\"color\":\"rgb(17,17,17)\"}},\"header\":{\"fill\":{\"color\":\"#2a3f5f\"},\"line\":{\"color\":\"rgb(17,17,17)\"}},\"type\":\"table\"}],\"barpolar\":[{\"marker\":{\"line\":{\"color\":\"rgb(17,17,17)\",\"width\":0.5},\"pattern\":{\"fillmode\":\"overlay\",\"size\":10,\"solidity\":0.2}},\"type\":\"barpolar\"}],\"pie\":[{\"automargin\":true,\"type\":\"pie\"}]},\"layout\":{\"autotypenumbers\":\"strict\",\"colorway\":[\"#636efa\",\"#EF553B\",\"#00cc96\",\"#ab63fa\",\"#FFA15A\",\"#19d3f3\",\"#FF6692\",\"#B6E880\",\"#FF97FF\",\"#FECB52\"],\"font\":{\"color\":\"#f2f5fa\"},\"hovermode\":\"closest\",\"hoverlabel\":{\"align\":\"left\"},\"paper_bgcolor\":\"rgb(17,17,17)\",\"plot_bgcolor\":\"rgb(17,17,17)\",\"polar\":{\"bgcolor\":\"rgb(17,17,17)\",\"angularaxis\":{\"gridcolor\":\"#506784\",\"linecolor\":\"#506784\",\"ticks\":\"\"},\"radialaxis\":{\"gridcolor\":\"#506784\",\"linecolor\":\"#506784\",\"ticks\":\"\"}},\"ternary\":{\"bgcolor\":\"rgb(17,17,17)\",\"aaxis\":{\"gridcolor\":\"#506784\",\"linecolor\":\"#506784\",\"ticks\":\"\"},\"baxis\":{\"gridcolor\":\"#506784\",\"linecolor\":\"#506784\",\"ticks\":\"\"},\"caxis\":{\"gridcolor\":\"#506784\",\"linecolor\":\"#506784\",\"ticks\":\"\"}},\"coloraxis\":{\"colorbar\":{\"outlinewidth\":0,\"ticks\":\"\"}},\"colorscale\":{\"sequential\":[[0.0,\"#0d0887\"],[0.1111111111111111,\"#46039f\"],[0.2222222222222222,\"#7201a8\"],[0.3333333333333333,\"#9c179e\"],[0.4444444444444444,\"#bd3786\"],[0.5555555555555556,\"#d8576b\"],[0.6666666666666666,\"#ed7953\"],[0.7777777777777778,\"#fb9f3a\"],[0.8888888888888888,\"#fdca26\"],[1.0,\"#f0f921\"]],\"sequentialminus\":[[0.0,\"#0d0887\"],[0.1111111111111111,\"#46039f\"],[0.2222222222222222,\"#7201a8\"],[0.3333333333333333,\"#9c179e\"],[0.4444444444444444,\"#bd3786\"],[0.5555555555555556,\"#d8576b\"],[0.6666666666666666,\"#ed7953\"],[0.7777777777777778,\"#fb9f3a\"],[0.8888888888888888,\"#fdca26\"],[1.0,\"#f0f921\"]],\"diverging\":[[0,\"#8e0152\"],[0.1,\"#c51b7d\"],[0.2,\"#de77ae\"],[0.3,\"#f1b6da\"],[0.4,\"#fde0ef\"],[0.5,\"#f7f7f7\"],[0.6,\"#e6f5d0\"],[0.7,\"#b8e186\"],[0.8,\"#7fbc41\"],[0.9,\"#4d9221\"],[1,\"#276419\"]]},\"xaxis\":{\"gridcolor\":\"#283442\",\"linecolor\":\"#506784\",\"ticks\":\"\",\"title\":{\"standoff\":15},\"zerolinecolor\":\"#283442\",\"automargin\":true,\"zerolinewidth\":2},\"yaxis\":{\"gridcolor\":\"#283442\",\"linecolor\":\"#506784\",\"ticks\":\"\",\"title\":{\"standoff\":15},\"zerolinecolor\":\"#283442\",\"automargin\":true,\"zerolinewidth\":2},\"scene\":{\"xaxis\":{\"backgroundcolor\":\"rgb(17,17,17)\",\"gridcolor\":\"#506784\",\"linecolor\":\"#506784\",\"showbackground\":true,\"ticks\":\"\",\"zerolinecolor\":\"#C8D4E3\",\"gridwidth\":2},\"yaxis\":{\"backgroundcolor\":\"rgb(17,17,17)\",\"gridcolor\":\"#506784\",\"linecolor\":\"#506784\",\"showbackground\":true,\"ticks\":\"\",\"zerolinecolor\":\"#C8D4E3\",\"gridwidth\":2},\"zaxis\":{\"backgroundcolor\":\"rgb(17,17,17)\",\"gridcolor\":\"#506784\",\"linecolor\":\"#506784\",\"showbackground\":true,\"ticks\":\"\",\"zerolinecolor\":\"#C8D4E3\",\"gridwidth\":2}},\"shapedefaults\":{\"line\":{\"color\":\"#f2f5fa\"}},\"annotationdefaults\":{\"arrowcolor\":\"#f2f5fa\",\"arrowhead\":0,\"arrowwidth\":1},\"geo\":{\"bgcolor\":\"rgb(17,17,17)\",\"landcolor\":\"rgb(17,17,17)\",\"subunitcolor\":\"#506784\",\"showland\":true,\"showlakes\":true,\"lakecolor\":\"rgb(17,17,17)\"},\"title\":{\"x\":0.05},\"updatemenudefaults\":{\"bgcolor\":\"#506784\",\"borderwidth\":0},\"sliderdefaults\":{\"bgcolor\":\"#C8D4E3\",\"borderwidth\":1,\"bordercolor\":\"rgb(17,17,17)\",\"tickwidth\":0},\"mapbox\":{\"style\":\"dark\"}}},\"shapes\":[{\"line\":{\"color\":\"green\",\"dash\":\"dash\",\"width\":2},\"type\":\"line\",\"x0\":0,\"x1\":0,\"xref\":\"x\",\"y0\":0,\"y1\":1,\"yref\":\"y domain\"},{\"fillcolor\":\"lightgreen\",\"layer\":\"below\",\"line\":{\"width\":0},\"opacity\":0.2,\"type\":\"rect\",\"x0\":-0.1,\"x1\":0.1,\"xref\":\"x\",\"y0\":0,\"y1\":1,\"yref\":\"y domain\"}],\"annotations\":[{\"showarrow\":false,\"text\":\"Optimal value\",\"x\":0,\"xanchor\":\"left\",\"xref\":\"x\",\"y\":1,\"yanchor\":\"top\",\"yref\":\"y domain\"},{\"font\":{\"color\":\"gray\",\"size\":12},\"showarrow\":false,\"text\":\"Ideal fairness occurs at 0 (green line)\\u003cbr\\u003eValues between -0.1 and 0.1 (green area) are generally considered acceptable\",\"x\":0.5,\"xref\":\"paper\",\"y\":-0.2,\"yref\":\"paper\"}],\"hoverlabel\":{\"font\":{\"size\":12},\"bgcolor\":\"white\"},\"margin\":{\"l\":150,\"r\":50,\"b\":100},\"title\":{\"text\":\"Fairness Analysis: Statistical Parity Differences\"},\"xaxis\":{\"title\":{\"text\":\"Statistical Parity Difference\\u003cbr\\u003e(\\u003cspan style='color:#E74C3C'\\u003e\\u2191 Favors Privileged\\u003c\\u002fspan\\u003e \\u002f \\u003cspan style='color:#3498DB'\\u003e\\u2193 Disfavors Privileged\\u003c\\u002fspan\\u003e)\"}},\"yaxis\":{\"title\":{\"text\":\"Features\"}},\"height\":640,\"showlegend\":false},                        {\"responsive\": true}                    ).then(function(){\n",
       "                            \n",
       "var gd = document.getElementById('8216d3d2-62a5-47fa-944c-59a6542ffd8e');\n",
       "var x = new MutationObserver(function (mutations, observer) {{\n",
       "        var display = window.getComputedStyle(gd).display;\n",
       "        if (!display || display === 'none') {{\n",
       "            console.log([gd, 'removed!']);\n",
       "            Plotly.purge(gd);\n",
       "            observer.disconnect();\n",
       "        }}\n",
       "}});\n",
       "\n",
       "// Listen for the removal of the full notebook cells\n",
       "var notebookContainer = gd.closest('#notebook-container');\n",
       "if (notebookContainer) {{\n",
       "    x.observe(notebookContainer, {childList: true});\n",
       "}}\n",
       "\n",
       "// Listen for the clearing of the current output cell\n",
       "var outputEl = gd.closest('.output');\n",
       "if (outputEl) {{\n",
       "    x.observe(outputEl, {childList: true});\n",
       "}}\n",
       "\n",
       "                        })                };                });            </script>        </div>"
      ]
     },
     "metadata": {},
     "output_type": "display_data"
    }
   ],
   "execution_count": 244
  },
  {
   "metadata": {},
   "cell_type": "markdown",
   "source": [
    "# Summary & Next Steps\n",
    "This report provides a detailed fairness analysis of your dataset and model. By examining prediction patterns, class performance, feature correlations and fairness metrics, you can identify and mitigate biases before deploying your model.\n",
    "\n",
    "##### Key takeaways:\n",
    "- ✅ Balanced numerical and categorical distributions lead to more reliable models.\n",
    "- 🚨 High correlation between sensitive attributes and predictions may indicate bias.\n",
    "- ⚖️ Unequal accuracy or statistical parity differences suggest fairness adjustments may be needed.\n",
    "\n",
    "For best results, consider rebalancing data, adjusting thresholds, or applying fairness-aware techniques based on these insights.\n",
    "\n",
    "🔗 GitHub Repository (fork it): https://github.com/Bence749/FairnessLens\n",
    "Thank you for using FairnessLens—helping make AI more transparent, ethical, and fair! 🚀"
   ],
   "id": "fe92c2ef3d1dbbd2"
  }
 ],
 "metadata": {
  "kernelspec": {
   "display_name": "Python 3 (ipykernel)",
   "language": "python",
   "name": "python3"
  },
  "language_info": {
   "codemirror_mode": {
    "name": "ipython",
    "version": 3
   },
   "file_extension": ".py",
   "mimetype": "text/x-python",
   "name": "python",
   "nbconvert_exporter": "python",
   "pygments_lexer": "ipython3",
   "version": "3.12.8"
  }
 },
 "nbformat": 4,
 "nbformat_minor": 5
}
